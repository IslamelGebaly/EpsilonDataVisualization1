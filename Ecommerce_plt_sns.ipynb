{
  "cells": [
    {
      "cell_type": "markdown",
      "metadata": {
        "id": "view-in-github",
        "colab_type": "text"
      },
      "source": [
        "<a href=\"https://colab.research.google.com/github/IslamelGebaly/EpsilonDataVisualization1/blob/main/Ecommerce_plt_sns.ipynb\" target=\"_parent\"><img src=\"https://colab.research.google.com/assets/colab-badge.svg\" alt=\"Open In Colab\"/></a>"
      ]
    },
    {
      "cell_type": "code",
      "execution_count": null,
      "metadata": {
        "id": "z9wEGyAimyzn"
      },
      "outputs": [],
      "source": [
        "import pandas as pd\n",
        "import numpy as np\n",
        "import datetime as dt\n",
        "import plotly.express as px\n",
        "import plotly.io as pio\n",
        "import plotly.figure_factory as ff\n",
        "import matplotlib.pyplot as plt\n",
        "import seaborn as sns\n",
        "from scipy import stats\n",
        "sns.set(rc={'figure.figsize':(20,18)})\n",
        "\n",
        "pio.templates.default = \"plotly_dark\"\n",
        "import warnings\n",
        "warnings.filterwarnings('ignore')"
      ]
    },
    {
      "cell_type": "code",
      "execution_count": null,
      "metadata": {
        "colab": {
          "base_uri": "https://localhost:8080/",
          "height": 354
        },
        "id": "zn7_ICHtvYUV",
        "outputId": "263de4c1-efa6-43b6-d6d9-f6f8596f927b"
      },
      "outputs": [
        {
          "data": {
            "text/html": [
              "<div>\n",
              "<style scoped>\n",
              "    .dataframe tbody tr th:only-of-type {\n",
              "        vertical-align: middle;\n",
              "    }\n",
              "\n",
              "    .dataframe tbody tr th {\n",
              "        vertical-align: top;\n",
              "    }\n",
              "\n",
              "    .dataframe thead th {\n",
              "        text-align: right;\n",
              "    }\n",
              "</style>\n",
              "<table border=\"1\" class=\"dataframe\">\n",
              "  <thead>\n",
              "    <tr style=\"text-align: right;\">\n",
              "      <th></th>\n",
              "      <th>InvoiceNo</th>\n",
              "      <th>UnitPrice</th>\n",
              "      <th>OrderValue</th>\n",
              "      <th>Quantit</th>\n",
              "      <th>Country</th>\n",
              "      <th>InvoiceDate</th>\n",
              "      <th>InvoiceTime</th>\n",
              "      <th>Year-Month</th>\n",
              "      <th>Major Category</th>\n",
              "      <th>Minor Category</th>\n",
              "      <th>Description</th>\n",
              "    </tr>\n",
              "  </thead>\n",
              "  <tbody>\n",
              "    <tr>\n",
              "      <th>0</th>\n",
              "      <td>549185</td>\n",
              "      <td>0.85</td>\n",
              "      <td>10.20</td>\n",
              "      <td>12</td>\n",
              "      <td>United Kingdom</td>\n",
              "      <td>7/4/11</td>\n",
              "      <td>09:35</td>\n",
              "      <td>2011-04</td>\n",
              "      <td>Clothes</td>\n",
              "      <td>Tops</td>\n",
              "      <td>PACK OF 20 NAPKINS PANTRY DESIGN</td>\n",
              "    </tr>\n",
              "    <tr>\n",
              "      <th>1</th>\n",
              "      <td>576381</td>\n",
              "      <td>2.95</td>\n",
              "      <td>35.40</td>\n",
              "      <td>12</td>\n",
              "      <td>United Kingdom</td>\n",
              "      <td>15/11/11</td>\n",
              "      <td>09:26</td>\n",
              "      <td>2011-11</td>\n",
              "      <td>Clothes</td>\n",
              "      <td>Shoes</td>\n",
              "      <td>NATURAL SLATE HEART CHALKBOARD</td>\n",
              "    </tr>\n",
              "    <tr>\n",
              "      <th>2</th>\n",
              "      <td>551192</td>\n",
              "      <td>1.25</td>\n",
              "      <td>20.00</td>\n",
              "      <td>16</td>\n",
              "      <td>United Kingdom</td>\n",
              "      <td>27/4/11</td>\n",
              "      <td>10:54</td>\n",
              "      <td>2011-04</td>\n",
              "      <td>Kitchen</td>\n",
              "      <td>Cutlery</td>\n",
              "      <td>36 PENCILS TUBE SKULLS</td>\n",
              "    </tr>\n",
              "    <tr>\n",
              "      <th>3</th>\n",
              "      <td>573553</td>\n",
              "      <td>7.46</td>\n",
              "      <td>7.46</td>\n",
              "      <td>1</td>\n",
              "      <td>United Kingdom</td>\n",
              "      <td>31/10/11</td>\n",
              "      <td>13:48</td>\n",
              "      <td>2011-10</td>\n",
              "      <td>Garden</td>\n",
              "      <td>Turf</td>\n",
              "      <td>SET 6 SCHOOL MILK BOTTLES IN CRATE</td>\n",
              "    </tr>\n",
              "    <tr>\n",
              "      <th>4</th>\n",
              "      <td>539436</td>\n",
              "      <td>2.51</td>\n",
              "      <td>2.51</td>\n",
              "      <td>1</td>\n",
              "      <td>United Kingdom</td>\n",
              "      <td>17/12/10</td>\n",
              "      <td>14:49</td>\n",
              "      <td>2010-12</td>\n",
              "      <td>Garden</td>\n",
              "      <td>Hoses</td>\n",
              "      <td>FINE WICKER HEART</td>\n",
              "    </tr>\n",
              "    <tr>\n",
              "      <th>5</th>\n",
              "      <td>580893</td>\n",
              "      <td>3.95</td>\n",
              "      <td>3.95</td>\n",
              "      <td>1</td>\n",
              "      <td>United Kingdom</td>\n",
              "      <td>6/12/11</td>\n",
              "      <td>12:38</td>\n",
              "      <td>2011-12</td>\n",
              "      <td>Garden</td>\n",
              "      <td>Hoses</td>\n",
              "      <td>SEWING BOX RETROSPOT DESIGN</td>\n",
              "    </tr>\n",
              "    <tr>\n",
              "      <th>6</th>\n",
              "      <td>568321</td>\n",
              "      <td>2.10</td>\n",
              "      <td>12.60</td>\n",
              "      <td>6</td>\n",
              "      <td>United Kingdom</td>\n",
              "      <td>26/9/11</td>\n",
              "      <td>13:36</td>\n",
              "      <td>2011-09</td>\n",
              "      <td>Clothes</td>\n",
              "      <td>Hats</td>\n",
              "      <td>3 TRADITIONAl BISCUIT CUTTERS  SET</td>\n",
              "    </tr>\n",
              "    <tr>\n",
              "      <th>7</th>\n",
              "      <td>552949</td>\n",
              "      <td>4.95</td>\n",
              "      <td>29.70</td>\n",
              "      <td>6</td>\n",
              "      <td>United Kingdom</td>\n",
              "      <td>12/5/11</td>\n",
              "      <td>12:01</td>\n",
              "      <td>2011-05</td>\n",
              "      <td>Clothes</td>\n",
              "      <td>Tops</td>\n",
              "      <td>BULL DOG BOTTLE OPENER</td>\n",
              "    </tr>\n",
              "    <tr>\n",
              "      <th>8</th>\n",
              "      <td>567461</td>\n",
              "      <td>2.46</td>\n",
              "      <td>44.28</td>\n",
              "      <td>18</td>\n",
              "      <td>United Kingdom</td>\n",
              "      <td>20/9/11</td>\n",
              "      <td>12:31</td>\n",
              "      <td>2011-09</td>\n",
              "      <td>Household</td>\n",
              "      <td>Curtains</td>\n",
              "      <td>STRAWBERRY CHARLOTTE BAG</td>\n",
              "    </tr>\n",
              "    <tr>\n",
              "      <th>9</th>\n",
              "      <td>542121</td>\n",
              "      <td>1.69</td>\n",
              "      <td>3.38</td>\n",
              "      <td>2</td>\n",
              "      <td>United Kingdom</td>\n",
              "      <td>25/1/11</td>\n",
              "      <td>14:33</td>\n",
              "      <td>2011-01</td>\n",
              "      <td>Household</td>\n",
              "      <td>Lamps</td>\n",
              "      <td>FAIRY SOAP SOAP HOLDER</td>\n",
              "    </tr>\n",
              "  </tbody>\n",
              "</table>\n",
              "</div>"
            ],
            "text/plain": [
              "   InvoiceNo  UnitPrice  OrderValue  Quantit         Country InvoiceDate  \\\n",
              "0     549185       0.85       10.20       12  United Kingdom      7/4/11   \n",
              "1     576381       2.95       35.40       12  United Kingdom    15/11/11   \n",
              "2     551192       1.25       20.00       16  United Kingdom     27/4/11   \n",
              "3     573553       7.46        7.46        1  United Kingdom    31/10/11   \n",
              "4     539436       2.51        2.51        1  United Kingdom    17/12/10   \n",
              "5     580893       3.95        3.95        1  United Kingdom     6/12/11   \n",
              "6     568321       2.10       12.60        6  United Kingdom     26/9/11   \n",
              "7     552949       4.95       29.70        6  United Kingdom     12/5/11   \n",
              "8     567461       2.46       44.28       18  United Kingdom     20/9/11   \n",
              "9     542121       1.69        3.38        2  United Kingdom     25/1/11   \n",
              "\n",
              "  InvoiceTime Year-Month Major Category Minor Category  \\\n",
              "0       09:35    2011-04        Clothes           Tops   \n",
              "1       09:26    2011-11        Clothes          Shoes   \n",
              "2       10:54    2011-04        Kitchen        Cutlery   \n",
              "3       13:48    2011-10         Garden           Turf   \n",
              "4       14:49    2010-12         Garden          Hoses   \n",
              "5       12:38    2011-12         Garden          Hoses   \n",
              "6       13:36    2011-09        Clothes           Hats   \n",
              "7       12:01    2011-05        Clothes           Tops   \n",
              "8       12:31    2011-09      Household       Curtains   \n",
              "9       14:33    2011-01      Household          Lamps   \n",
              "\n",
              "                          Description  \n",
              "0    PACK OF 20 NAPKINS PANTRY DESIGN  \n",
              "1      NATURAL SLATE HEART CHALKBOARD  \n",
              "2              36 PENCILS TUBE SKULLS  \n",
              "3  SET 6 SCHOOL MILK BOTTLES IN CRATE  \n",
              "4                   FINE WICKER HEART  \n",
              "5         SEWING BOX RETROSPOT DESIGN  \n",
              "6  3 TRADITIONAl BISCUIT CUTTERS  SET  \n",
              "7              BULL DOG BOTTLE OPENER  \n",
              "8            STRAWBERRY CHARLOTTE BAG  \n",
              "9              FAIRY SOAP SOAP HOLDER  "
            ]
          },
          "execution_count": 43,
          "metadata": {},
          "output_type": "execute_result"
        }
      ],
      "source": [
        "df = pd.read_csv('ecommerce.csv')\n",
        "df = df.apply(lambda x: x.str.strip() if x.dtype == \"object\" else x)\n",
        "df.columns = df.columns.str.strip()\n",
        "df.head(10)"
      ]
    },
    {
      "cell_type": "markdown",
      "metadata": {
        "id": "uvt_QCeJIgcy"
      },
      "source": [
        "## Create at least 10 charts to help you analyze the data, it should reflects all kind of analysis (e.g.: univariate, bivariate,...etc.)\n",
        "note: you will need to clean data!"
      ]
    },
    {
      "cell_type": "code",
      "execution_count": null,
      "metadata": {
        "id": "EcZDI1cqcYaW",
        "outputId": "61987ebb-d9d3-4939-fb72-2ad228efd7ce"
      },
      "outputs": [
        {
          "data": {
            "text/html": [
              "<div>\n",
              "<style scoped>\n",
              "    .dataframe tbody tr th:only-of-type {\n",
              "        vertical-align: middle;\n",
              "    }\n",
              "\n",
              "    .dataframe tbody tr th {\n",
              "        vertical-align: top;\n",
              "    }\n",
              "\n",
              "    .dataframe thead th {\n",
              "        text-align: right;\n",
              "    }\n",
              "</style>\n",
              "<table border=\"1\" class=\"dataframe\">\n",
              "  <thead>\n",
              "    <tr style=\"text-align: right;\">\n",
              "      <th></th>\n",
              "      <th>InvoiceNo</th>\n",
              "      <th>UnitPrice</th>\n",
              "      <th>OrderValue</th>\n",
              "      <th>Quantit</th>\n",
              "      <th>Country</th>\n",
              "      <th>InvoiceDate</th>\n",
              "      <th>InvoiceTime</th>\n",
              "      <th>Year-Month</th>\n",
              "      <th>Major Category</th>\n",
              "      <th>Minor Category</th>\n",
              "      <th>Description</th>\n",
              "      <th>Hour</th>\n",
              "      <th>Year</th>\n",
              "    </tr>\n",
              "  </thead>\n",
              "  <tbody>\n",
              "    <tr>\n",
              "      <th>0</th>\n",
              "      <td>549185</td>\n",
              "      <td>0.85</td>\n",
              "      <td>10.20</td>\n",
              "      <td>12</td>\n",
              "      <td>United Kingdom</td>\n",
              "      <td>2011-07-04</td>\n",
              "      <td>2023-06-09 09:35:00</td>\n",
              "      <td>2011-04</td>\n",
              "      <td>Clothes</td>\n",
              "      <td>Tops</td>\n",
              "      <td>PACK OF 20 NAPKINS PANTRY DESIGN</td>\n",
              "      <td>9</td>\n",
              "      <td>2011</td>\n",
              "    </tr>\n",
              "    <tr>\n",
              "      <th>1</th>\n",
              "      <td>576381</td>\n",
              "      <td>2.95</td>\n",
              "      <td>35.40</td>\n",
              "      <td>12</td>\n",
              "      <td>United Kingdom</td>\n",
              "      <td>2011-11-15</td>\n",
              "      <td>2023-06-09 09:26:00</td>\n",
              "      <td>2011-11</td>\n",
              "      <td>Clothes</td>\n",
              "      <td>Shoes</td>\n",
              "      <td>NATURAL SLATE HEART CHALKBOARD</td>\n",
              "      <td>9</td>\n",
              "      <td>2011</td>\n",
              "    </tr>\n",
              "    <tr>\n",
              "      <th>2</th>\n",
              "      <td>551192</td>\n",
              "      <td>1.25</td>\n",
              "      <td>20.00</td>\n",
              "      <td>16</td>\n",
              "      <td>United Kingdom</td>\n",
              "      <td>2011-04-27</td>\n",
              "      <td>2023-06-09 10:54:00</td>\n",
              "      <td>2011-04</td>\n",
              "      <td>Kitchen</td>\n",
              "      <td>Cutlery</td>\n",
              "      <td>36 PENCILS TUBE SKULLS</td>\n",
              "      <td>10</td>\n",
              "      <td>2011</td>\n",
              "    </tr>\n",
              "    <tr>\n",
              "      <th>3</th>\n",
              "      <td>573553</td>\n",
              "      <td>7.46</td>\n",
              "      <td>7.46</td>\n",
              "      <td>1</td>\n",
              "      <td>United Kingdom</td>\n",
              "      <td>2011-10-31</td>\n",
              "      <td>2023-06-09 13:48:00</td>\n",
              "      <td>2011-10</td>\n",
              "      <td>Garden</td>\n",
              "      <td>Turf</td>\n",
              "      <td>SET 6 SCHOOL MILK BOTTLES IN CRATE</td>\n",
              "      <td>13</td>\n",
              "      <td>2011</td>\n",
              "    </tr>\n",
              "    <tr>\n",
              "      <th>4</th>\n",
              "      <td>539436</td>\n",
              "      <td>2.51</td>\n",
              "      <td>2.51</td>\n",
              "      <td>1</td>\n",
              "      <td>United Kingdom</td>\n",
              "      <td>2010-12-17</td>\n",
              "      <td>2023-06-09 14:49:00</td>\n",
              "      <td>2010-12</td>\n",
              "      <td>Garden</td>\n",
              "      <td>Hoses</td>\n",
              "      <td>FINE WICKER HEART</td>\n",
              "      <td>14</td>\n",
              "      <td>2010</td>\n",
              "    </tr>\n",
              "  </tbody>\n",
              "</table>\n",
              "</div>"
            ],
            "text/plain": [
              "   InvoiceNo  UnitPrice  OrderValue  Quantit         Country InvoiceDate  \\\n",
              "0     549185       0.85       10.20       12  United Kingdom  2011-07-04   \n",
              "1     576381       2.95       35.40       12  United Kingdom  2011-11-15   \n",
              "2     551192       1.25       20.00       16  United Kingdom  2011-04-27   \n",
              "3     573553       7.46        7.46        1  United Kingdom  2011-10-31   \n",
              "4     539436       2.51        2.51        1  United Kingdom  2010-12-17   \n",
              "\n",
              "          InvoiceTime Year-Month Major Category Minor Category  \\\n",
              "0 2023-06-09 09:35:00    2011-04        Clothes           Tops   \n",
              "1 2023-06-09 09:26:00    2011-11        Clothes          Shoes   \n",
              "2 2023-06-09 10:54:00    2011-04        Kitchen        Cutlery   \n",
              "3 2023-06-09 13:48:00    2011-10         Garden           Turf   \n",
              "4 2023-06-09 14:49:00    2010-12         Garden          Hoses   \n",
              "\n",
              "                          Description  Hour  Year  \n",
              "0    PACK OF 20 NAPKINS PANTRY DESIGN     9  2011  \n",
              "1      NATURAL SLATE HEART CHALKBOARD     9  2011  \n",
              "2              36 PENCILS TUBE SKULLS    10  2011  \n",
              "3  SET 6 SCHOOL MILK BOTTLES IN CRATE    13  2011  \n",
              "4                   FINE WICKER HEART    14  2010  "
            ]
          },
          "execution_count": 44,
          "metadata": {},
          "output_type": "execute_result"
        }
      ],
      "source": [
        "df[\"InvoiceDate\"] = pd.to_datetime(df[\"InvoiceDate\"])\n",
        "df[\"InvoiceTime\"] = pd.to_datetime(df[\"InvoiceTime\"])\n",
        "df[\"Hour\"] = df[\"InvoiceTime\"].dt.hour\n",
        "df[\"Year\"] = df[\"Year-Month\"].apply(lambda x : x.split(\"-\")[0])\n",
        "\n",
        "df.head()"
      ]
    },
    {
      "cell_type": "code",
      "execution_count": null,
      "metadata": {
        "id": "9S0MPenC_fy2",
        "outputId": "f2f9854c-6cdf-4026-ed46-9dfbe163d645"
      },
      "outputs": [
        {
          "data": {
            "application/vnd.plotly.v1+json": {
              "config": {
                "plotlyServerURL": "https://plot.ly"
              },
              "data": [
                {
                  "alignmentgroup": "True",
                  "hovertemplate": "Year=2011<br>Country=%{x}<br>OrderValue=%{y}<extra></extra>",
                  "legendgroup": "2011",
                  "marker": {
                    "color": "#636efa"
                  },
                  "name": "2011",
                  "notched": false,
                  "offsetgroup": "2011",
                  "orientation": "v",
                  "showlegend": true,
                  "type": "box",
                  "x": [
                    "United Kingdom",
                    "United Kingdom",
                    "United Kingdom",
                    "United Kingdom",
                    "United Kingdom",
                    "United Kingdom",
                    "United Kingdom",
                    "United Kingdom",
                    "United Kingdom",
                    "United Kingdom",
                    "United Kingdom",
                    "United Kingdom",
                    "United Kingdom",
                    "United Kingdom",
                    "United Kingdom",
                    "United Kingdom",
                    "United Kingdom",
                    "United Kingdom",
                    "United Kingdom",
                    "United Kingdom",
                    "United Kingdom",
                    "United Kingdom",
                    "United Kingdom",
                    "United Kingdom",
                    "United Kingdom",
                    "United Kingdom",
                    "United Kingdom",
                    "United Kingdom",
                    "United Kingdom",
                    "United Kingdom",
                    "United Kingdom",
                    "United Kingdom",
                    "United Kingdom",
                    "United Kingdom",
                    "United Kingdom",
                    "United Kingdom",
                    "United Kingdom",
                    "United Kingdom",
                    "United Kingdom",
                    "United Kingdom",
                    "United Kingdom",
                    "United Kingdom",
                    "United Kingdom",
                    "United Kingdom",
                    "United Kingdom",
                    "United Kingdom",
                    "United Kingdom",
                    "United Kingdom",
                    "United Kingdom",
                    "United Kingdom",
                    "United Kingdom",
                    "United Kingdom",
                    "United Kingdom",
                    "United Kingdom",
                    "United Kingdom",
                    "United Kingdom",
                    "United Kingdom",
                    "United Kingdom",
                    "United Kingdom",
                    "United Kingdom",
                    "United Kingdom",
                    "United Kingdom",
                    "United Kingdom",
                    "United Kingdom",
                    "United Kingdom",
                    "United Kingdom",
                    "United Kingdom",
                    "United Kingdom",
                    "United Kingdom",
                    "United Kingdom",
                    "United Kingdom",
                    "United Kingdom",
                    "United Kingdom",
                    "United Kingdom",
                    "United Kingdom",
                    "United Kingdom",
                    "United Kingdom",
                    "United Kingdom",
                    "United Kingdom",
                    "United Kingdom",
                    "United Kingdom",
                    "United Kingdom",
                    "United Kingdom",
                    "United Kingdom",
                    "United Kingdom",
                    "United Kingdom",
                    "United Kingdom",
                    "United Kingdom",
                    "United Kingdom",
                    "United Kingdom",
                    "United Kingdom",
                    "United Kingdom",
                    "United Kingdom",
                    "United Kingdom",
                    "United Kingdom",
                    "United Kingdom",
                    "United Kingdom",
                    "United Kingdom",
                    "United Kingdom",
                    "United Kingdom",
                    "United Kingdom",
                    "United Kingdom",
                    "United Kingdom",
                    "United Kingdom",
                    "United Kingdom",
                    "United Kingdom",
                    "United Kingdom",
                    "United Kingdom",
                    "United Kingdom",
                    "United Kingdom",
                    "United Kingdom",
                    "United Kingdom",
                    "United Kingdom",
                    "United Kingdom",
                    "United Kingdom",
                    "United Kingdom",
                    "United Kingdom",
                    "United Kingdom",
                    "United Kingdom",
                    "United Kingdom",
                    "United Kingdom",
                    "United Kingdom",
                    "United Kingdom",
                    "United Kingdom",
                    "United Kingdom",
                    "United Kingdom",
                    "United Kingdom",
                    "United Kingdom",
                    "United Kingdom",
                    "United Kingdom",
                    "United Kingdom",
                    "United Kingdom",
                    "United Kingdom",
                    "United Kingdom",
                    "United Kingdom",
                    "United Kingdom",
                    "United Kingdom",
                    "United Kingdom",
                    "United Kingdom",
                    "United Kingdom",
                    "United Kingdom",
                    "United Kingdom",
                    "United Kingdom",
                    "United Kingdom",
                    "United Kingdom",
                    "United Kingdom",
                    "United Kingdom",
                    "United Kingdom",
                    "United Kingdom",
                    "United Kingdom",
                    "United Kingdom",
                    "United Kingdom",
                    "United Kingdom",
                    "United Kingdom",
                    "United Kingdom",
                    "United Kingdom",
                    "United Kingdom",
                    "United Kingdom",
                    "United Kingdom",
                    "United Kingdom",
                    "United Kingdom",
                    "United Kingdom",
                    "United Kingdom",
                    "United Kingdom",
                    "United Kingdom",
                    "United Kingdom",
                    "United Kingdom",
                    "United Kingdom",
                    "United Kingdom",
                    "United Kingdom",
                    "United Kingdom",
                    "United Kingdom",
                    "United Kingdom",
                    "United Kingdom",
                    "United Kingdom",
                    "United Kingdom",
                    "United Kingdom",
                    "United Kingdom",
                    "United Kingdom",
                    "United Kingdom",
                    "United Kingdom",
                    "United Kingdom",
                    "United Kingdom",
                    "United Kingdom",
                    "United Kingdom",
                    "United Kingdom",
                    "United Kingdom",
                    "United Kingdom",
                    "United Kingdom",
                    "United Kingdom",
                    "United Kingdom",
                    "United Kingdom",
                    "United Kingdom",
                    "United Kingdom",
                    "United Kingdom",
                    "United Kingdom",
                    "United Kingdom",
                    "United Kingdom",
                    "United Kingdom",
                    "United Kingdom",
                    "United Kingdom",
                    "United Kingdom",
                    "United Kingdom",
                    "United Kingdom",
                    "United Kingdom",
                    "United Kingdom",
                    "United Kingdom",
                    "United Kingdom",
                    "United Kingdom",
                    "United Kingdom",
                    "United Kingdom",
                    "United Kingdom",
                    "United Kingdom",
                    "United Kingdom",
                    "United Kingdom",
                    "United Kingdom",
                    "United Kingdom",
                    "United Kingdom",
                    "United Kingdom",
                    "United Kingdom",
                    "United Kingdom",
                    "United Kingdom",
                    "United Kingdom",
                    "United Kingdom",
                    "United Kingdom",
                    "United Kingdom",
                    "United Kingdom",
                    "United Kingdom",
                    "United Kingdom",
                    "United Kingdom",
                    "United Kingdom",
                    "United Kingdom",
                    "United Kingdom",
                    "United Kingdom",
                    "United Kingdom",
                    "United Kingdom",
                    "United Kingdom",
                    "United Kingdom",
                    "United Kingdom",
                    "United Kingdom",
                    "United Kingdom",
                    "United Kingdom",
                    "United Kingdom",
                    "United Kingdom",
                    "United Kingdom",
                    "United Kingdom",
                    "United Kingdom",
                    "United Kingdom",
                    "United Kingdom",
                    "United Kingdom",
                    "United Kingdom",
                    "United Kingdom",
                    "United Kingdom",
                    "United Kingdom",
                    "United Kingdom",
                    "United Kingdom",
                    "United Kingdom",
                    "United Kingdom",
                    "United Kingdom",
                    "United Kingdom",
                    "United Kingdom",
                    "United Kingdom",
                    "United Kingdom",
                    "Germany",
                    "Germany",
                    "Germany",
                    "Germany",
                    "Germany",
                    "Germany",
                    "Germany",
                    "Germany",
                    "Germany",
                    "Germany",
                    "Germany",
                    "Germany",
                    "Germany",
                    "Germany",
                    "Germany",
                    "Germany",
                    "Germany",
                    "Germany",
                    "Germany",
                    "Germany",
                    "Germany",
                    "Germany",
                    "Germany",
                    "Germany",
                    "Germany",
                    "Germany",
                    "Germany",
                    "Germany",
                    "Germany",
                    "Germany",
                    "Germany",
                    "Germany",
                    "Germany",
                    "Germany",
                    "Germany",
                    "Germany",
                    "Germany",
                    "Germany",
                    "Germany",
                    "Germany",
                    "Germany",
                    "Germany",
                    "Germany",
                    "Germany",
                    "Germany",
                    "Germany",
                    "Germany",
                    "Germany",
                    "Germany",
                    "Germany",
                    "Germany",
                    "Germany",
                    "Germany",
                    "Germany",
                    "Germany",
                    "Germany",
                    "Germany",
                    "Germany",
                    "Germany",
                    "Germany",
                    "Germany",
                    "Germany",
                    "Germany",
                    "Germany",
                    "Germany",
                    "Germany",
                    "Germany",
                    "Germany",
                    "Germany",
                    "Germany",
                    "Germany",
                    "Germany",
                    "Germany",
                    "Germany",
                    "Germany",
                    "Germany",
                    "Germany",
                    "Germany",
                    "Germany",
                    "Germany",
                    "Germany",
                    "Germany",
                    "Germany",
                    "Germany",
                    "Germany",
                    "Germany",
                    "Germany",
                    "Germany",
                    "Germany",
                    "France",
                    "France",
                    "France",
                    "France",
                    "France",
                    "France",
                    "France",
                    "France",
                    "France",
                    "France",
                    "France",
                    "France",
                    "France",
                    "France",
                    "France",
                    "France",
                    "France",
                    "France",
                    "France",
                    "France",
                    "France",
                    "France",
                    "France",
                    "France",
                    "France",
                    "France",
                    "France",
                    "France",
                    "France",
                    "France",
                    "France",
                    "France",
                    "France",
                    "France",
                    "France",
                    "France",
                    "France",
                    "France",
                    "France",
                    "France",
                    "France",
                    "France",
                    "France",
                    "France",
                    "France",
                    "France",
                    "France",
                    "France",
                    "France",
                    "France",
                    "France",
                    "France",
                    "France",
                    "France",
                    "France",
                    "France",
                    "France",
                    "France",
                    "France",
                    "France",
                    "France",
                    "France",
                    "France",
                    "France",
                    "France",
                    "France",
                    "France",
                    "France",
                    "France",
                    "France",
                    "France",
                    "France",
                    "France",
                    "France",
                    "France",
                    "France",
                    "France",
                    "France",
                    "France",
                    "France",
                    "France",
                    "France",
                    "France",
                    "France",
                    "France",
                    "France",
                    "France",
                    "France",
                    "France",
                    "France",
                    "France",
                    "France",
                    "France",
                    "France",
                    "France",
                    "France",
                    "France",
                    "France",
                    "France",
                    "France",
                    "France",
                    "France",
                    "France",
                    "France",
                    "France",
                    "France",
                    "France",
                    "France",
                    "France",
                    "France",
                    "France",
                    "France",
                    "France",
                    "France",
                    "France",
                    "France",
                    "France",
                    "France",
                    "France",
                    "France",
                    "France",
                    "France",
                    "France",
                    "France",
                    "France",
                    "France",
                    "France",
                    "France",
                    "France",
                    "France",
                    "France",
                    "France",
                    "France",
                    "France",
                    "France",
                    "France",
                    "France",
                    "France",
                    "France",
                    "France",
                    "France",
                    "France",
                    "France",
                    "France",
                    "France",
                    "France",
                    "France",
                    "France",
                    "France",
                    "France",
                    "France",
                    "France",
                    "France",
                    "France",
                    "France",
                    "France",
                    "France",
                    "France",
                    "France",
                    "France",
                    "France",
                    "France",
                    "France",
                    "France",
                    "France",
                    "France",
                    "France",
                    "France",
                    "France",
                    "France",
                    "France",
                    "France",
                    "France",
                    "France",
                    "France",
                    "Australia",
                    "Australia",
                    "Australia",
                    "Australia",
                    "Australia",
                    "Australia",
                    "Australia",
                    "Australia",
                    "Australia",
                    "Australia",
                    "Australia",
                    "Australia",
                    "Australia",
                    "Australia",
                    "Australia",
                    "Australia",
                    "Australia",
                    "Australia",
                    "Australia",
                    "Hong Kong",
                    "Hong Kong",
                    "Hong Kong",
                    "Hong Kong",
                    "Hong Kong",
                    "Hong Kong",
                    "Hong Kong",
                    "Hong Kong",
                    "Hong Kong",
                    "Hong Kong",
                    "Hong Kong",
                    "Hong Kong",
                    "Hong Kong",
                    "Hong Kong",
                    "Hong Kong",
                    "Hong Kong",
                    "Hong Kong",
                    "Hong Kong",
                    "Hong Kong",
                    "Hong Kong",
                    "Hong Kong",
                    "Hong Kong",
                    "Hong Kong",
                    "Hong Kong",
                    "Hong Kong",
                    "Hong Kong",
                    "Hong Kong",
                    "Hong Kong",
                    "Hong Kong",
                    "Hong Kong",
                    "Hong Kong",
                    "Hong Kong",
                    "Hong Kong",
                    "Hong Kong",
                    "Hong Kong",
                    "Hong Kong",
                    "Hong Kong",
                    "Hong Kong",
                    "Hong Kong",
                    "Hong Kong",
                    "Hong Kong",
                    "Hong Kong"
                  ],
                  "x0": " ",
                  "xaxis": "x",
                  "y": [
                    10.2,
                    35.4,
                    20,
                    7.46,
                    3.95,
                    12.6,
                    29.7,
                    44.28,
                    3.38,
                    1.56,
                    0.55,
                    30,
                    16.5,
                    1.65,
                    25.2,
                    25.5,
                    34.8,
                    3.29,
                    2.46,
                    9.9,
                    15,
                    10.2,
                    0.83,
                    7.95,
                    12.6,
                    6.3,
                    2.95,
                    19.8,
                    3.29,
                    9.78,
                    2.95,
                    15.9,
                    19.8,
                    4.25,
                    6.96,
                    15.9,
                    8.29,
                    15,
                    20.8,
                    0.83,
                    9.9,
                    2.9,
                    11.8,
                    13.2,
                    17.7,
                    4.13,
                    7.46,
                    3.95,
                    70.8,
                    15.6,
                    5.79,
                    8.32,
                    15,
                    3.3,
                    8.5,
                    59.4,
                    2.25,
                    7.47,
                    14.96,
                    8.5,
                    8.29,
                    9.9,
                    2.08,
                    17.4,
                    12.75,
                    5.79,
                    4.16,
                    52.11,
                    1.63,
                    20.8,
                    0.85,
                    10.5,
                    4.95,
                    10.2,
                    5.78,
                    1.25,
                    10.79,
                    2.46,
                    3.29,
                    20.65,
                    6.6,
                    9,
                    1.95,
                    7.95,
                    1.25,
                    7.38,
                    7.44,
                    4.95,
                    22.14,
                    9.9,
                    15,
                    6.3,
                    7.46,
                    15.9,
                    0.29,
                    4.95,
                    3.9,
                    10.5,
                    5.85,
                    1.25,
                    20.8,
                    0.83,
                    1.63,
                    29.7,
                    7.5,
                    9.48,
                    3.75,
                    3.29,
                    10.79,
                    3.75,
                    15,
                    2.9,
                    4.92,
                    9.9,
                    4.13,
                    24.96,
                    2.46,
                    13.2,
                    34.8,
                    35.4,
                    2.55,
                    1.65,
                    10.5,
                    2.95,
                    4.25,
                    20.8,
                    15,
                    9.36,
                    4.13,
                    14.85,
                    11.8,
                    0.83,
                    7.5,
                    3.16,
                    39.9,
                    19.8,
                    1.66,
                    4.98,
                    17.85,
                    39.6,
                    29.84,
                    3.29,
                    0.84,
                    1.1,
                    2.5,
                    16.5,
                    8.5,
                    1.63,
                    2.46,
                    1.45,
                    10.2,
                    12.46,
                    31.8,
                    4.13,
                    1.25,
                    1.45,
                    4.95,
                    10.2,
                    5.95,
                    15.3,
                    16.5,
                    44.55,
                    29.7,
                    15,
                    25,
                    15.8,
                    1.52,
                    19.8,
                    3.3,
                    1.65,
                    0.84,
                    20.8,
                    17.7,
                    4.89,
                    2.51,
                    4.16,
                    9.95,
                    19.8,
                    8.29,
                    34.74,
                    1.45,
                    4.16,
                    22.5,
                    13.52,
                    2.5,
                    11.25,
                    0.84,
                    9.92,
                    19.8,
                    2.1,
                    19.84,
                    22.5,
                    15.9,
                    8.5,
                    39.6,
                    12.5,
                    4.95,
                    1.7,
                    2.95,
                    79.56,
                    19.8,
                    1.68,
                    1.45,
                    1.25,
                    35.7,
                    16.5,
                    2.95,
                    20.8,
                    4.96,
                    25,
                    1.66,
                    2.95,
                    15,
                    35.4,
                    1.45,
                    16.52,
                    23,
                    39.8,
                    1.74,
                    35.4,
                    5.79,
                    4.25,
                    34.8,
                    7.65,
                    1.63,
                    4.13,
                    15.8,
                    6.58,
                    1.17,
                    6.38,
                    0.55,
                    5.81,
                    51,
                    14.7,
                    15,
                    30,
                    12.5,
                    323.7,
                    12.6,
                    20.8,
                    0.38,
                    2.25,
                    8.29,
                    69.44,
                    11.58,
                    2.51,
                    1.25,
                    19.8,
                    2.55,
                    5.04,
                    11.9,
                    4.95,
                    10.08,
                    4.15,
                    13.2,
                    3.4,
                    9.36,
                    39.6,
                    5.04,
                    7.5,
                    3.75,
                    17.7,
                    1.66,
                    7.8,
                    25.2,
                    15,
                    8.5,
                    50.4,
                    34,
                    15.9,
                    14.85,
                    10.5,
                    4.68,
                    10.2,
                    19.8,
                    33,
                    35.7,
                    15.9,
                    10.5,
                    17,
                    144,
                    17.7,
                    10.5,
                    37.44,
                    10.5,
                    15,
                    19.8,
                    16.35,
                    10.2,
                    19.8,
                    15.9,
                    20.8,
                    22.5,
                    12.48,
                    17.4,
                    15.9,
                    16.6,
                    15,
                    19.8,
                    15.3,
                    17.7,
                    19.8,
                    20.8,
                    20.4,
                    8.5,
                    17.7,
                    30,
                    15,
                    23.4,
                    12.75,
                    4.68,
                    65.7,
                    6.96,
                    15.3,
                    17.4,
                    7.8,
                    14.75,
                    30.6,
                    15,
                    44.55,
                    17.7,
                    15,
                    13.2,
                    14.85,
                    19.5,
                    14.85,
                    12.48,
                    20.4,
                    72,
                    15,
                    19.9,
                    16.5,
                    16.5,
                    39.6,
                    17,
                    19.8,
                    10.2,
                    68,
                    15,
                    8.4,
                    14.85,
                    17.4,
                    24.96,
                    19.8,
                    10.95,
                    24,
                    36,
                    35.4,
                    23.6,
                    7.8,
                    10.08,
                    10.2,
                    13.2,
                    10.2,
                    12.5,
                    10.08,
                    16.5,
                    6.72,
                    7.8,
                    30.6,
                    17.85,
                    30,
                    70.8,
                    17.7,
                    4.68,
                    7.65,
                    53.1,
                    12.6,
                    1.65,
                    51,
                    12.5,
                    6.64,
                    15,
                    63,
                    30,
                    19.5,
                    19.5,
                    15.6,
                    30,
                    15,
                    18,
                    10.5,
                    10.2,
                    19.8,
                    14.85,
                    30,
                    19.8,
                    8.5,
                    15,
                    61.2,
                    10.2,
                    10.5,
                    15.6,
                    15.6,
                    15,
                    15.6,
                    108,
                    15,
                    19.8,
                    44.25,
                    10.2,
                    15.6,
                    13.2,
                    26.4,
                    54,
                    17.4,
                    15.3,
                    16.5,
                    39.6,
                    13.2,
                    10.2,
                    16.5,
                    15,
                    19.8,
                    9.9,
                    12.48,
                    19.8,
                    10.5,
                    16.6,
                    7.8,
                    30,
                    5.04,
                    10,
                    44.55,
                    9.36,
                    17,
                    2.5,
                    10.5,
                    36,
                    20.4,
                    8.25,
                    18,
                    24.96,
                    9.96,
                    17.7,
                    30,
                    15,
                    10.2,
                    19.5,
                    20.8,
                    39.6,
                    16.5,
                    30,
                    14.3,
                    24.9,
                    35.4,
                    16.6,
                    19.8,
                    39.6,
                    10.08,
                    25.2,
                    16.6,
                    8.5,
                    20.4,
                    15,
                    14.85,
                    33.2,
                    12.6,
                    17.7,
                    20,
                    25.2,
                    20.4,
                    5.04,
                    4.95,
                    72,
                    8.5,
                    33.2,
                    35.7,
                    30,
                    14.85,
                    8.2,
                    0.36,
                    17,
                    9.96,
                    0.42,
                    16.5,
                    44.75,
                    15.3,
                    49.5,
                    5.04,
                    12.5,
                    18,
                    10,
                    4.68,
                    25.2,
                    30.6,
                    10,
                    20.4,
                    30.6,
                    16.5,
                    15.9,
                    20.8,
                    17,
                    2.5,
                    19.8,
                    20.8,
                    15,
                    18,
                    5.04,
                    13.5,
                    10,
                    20.8,
                    67.5,
                    15,
                    15.6,
                    16.6,
                    7.8,
                    16.6,
                    19.5,
                    18,
                    10.5,
                    5.04,
                    72,
                    8.4,
                    46.8,
                    19.5,
                    30,
                    19.8,
                    15.3,
                    19.8,
                    17,
                    17.7,
                    15,
                    17.7,
                    5.04,
                    4.68,
                    23.9,
                    17.7,
                    39.6,
                    16.5,
                    67.5,
                    15.9,
                    14.85,
                    15.9,
                    19.8,
                    30.6,
                    27,
                    52.02,
                    13,
                    16.6,
                    41.6,
                    53.1,
                    20.8,
                    47.6,
                    16.5,
                    23.4,
                    11.8,
                    11.8,
                    11.7,
                    17.85,
                    99.6,
                    45,
                    15,
                    14.85,
                    66,
                    15,
                    10.08,
                    39.6,
                    20,
                    52.5,
                    19.5,
                    13.2,
                    10.2,
                    43.8,
                    30,
                    12.6,
                    19.8,
                    12.5,
                    13.2,
                    10.2,
                    31.6,
                    15.6,
                    8.5,
                    8.5,
                    11.7,
                    16.5,
                    53.1,
                    15,
                    19.5,
                    15.3,
                    90,
                    19.8,
                    12.5,
                    66,
                    20,
                    13.2,
                    29.7,
                    20
                  ],
                  "y0": " ",
                  "yaxis": "y"
                },
                {
                  "alignmentgroup": "True",
                  "hovertemplate": "Year=2010<br>Country=%{x}<br>OrderValue=%{y}<extra></extra>",
                  "legendgroup": "2010",
                  "marker": {
                    "color": "#EF553B"
                  },
                  "name": "2010",
                  "notched": false,
                  "offsetgroup": "2010",
                  "orientation": "v",
                  "showlegend": true,
                  "type": "box",
                  "x": [
                    "United Kingdom",
                    "United Kingdom",
                    "United Kingdom",
                    "United Kingdom",
                    "United Kingdom",
                    "United Kingdom",
                    "United Kingdom",
                    "United Kingdom",
                    "United Kingdom",
                    "United Kingdom",
                    "United Kingdom",
                    "United Kingdom",
                    "United Kingdom",
                    "United Kingdom",
                    "United Kingdom",
                    "United Kingdom",
                    "United Kingdom",
                    "United Kingdom",
                    "United Kingdom",
                    "United Kingdom",
                    "United Kingdom",
                    "United Kingdom",
                    "United Kingdom",
                    "United Kingdom",
                    "United Kingdom",
                    "Germany",
                    "Germany",
                    "Germany",
                    "Germany",
                    "France",
                    "France",
                    "France",
                    "France",
                    "France",
                    "France",
                    "France",
                    "France",
                    "France"
                  ],
                  "x0": " ",
                  "xaxis": "x",
                  "y": [
                    2.51,
                    25.5,
                    4.25,
                    1.28,
                    2.95,
                    25,
                    23.64,
                    25.2,
                    1.7,
                    8.85,
                    17,
                    23.52,
                    26,
                    3.75,
                    25.49,
                    6.64,
                    4.95,
                    2.55,
                    4.24,
                    3.32,
                    13.2,
                    10.12,
                    17.7,
                    4.95,
                    7.5,
                    20.4,
                    15.6,
                    20.4,
                    89.7,
                    30,
                    15,
                    2.1,
                    10.08,
                    21.9,
                    18,
                    1.25,
                    19.8,
                    10.2
                  ],
                  "y0": " ",
                  "yaxis": "y"
                }
              ],
              "layout": {
                "boxmode": "group",
                "legend": {
                  "title": {
                    "text": "Year"
                  },
                  "tracegroupgap": 0
                },
                "margin": {
                  "t": 60
                },
                "template": {
                  "data": {
                    "bar": [
                      {
                        "error_x": {
                          "color": "#f2f5fa"
                        },
                        "error_y": {
                          "color": "#f2f5fa"
                        },
                        "marker": {
                          "line": {
                            "color": "rgb(17,17,17)",
                            "width": 0.5
                          },
                          "pattern": {
                            "fillmode": "overlay",
                            "size": 10,
                            "solidity": 0.2
                          }
                        },
                        "type": "bar"
                      }
                    ],
                    "barpolar": [
                      {
                        "marker": {
                          "line": {
                            "color": "rgb(17,17,17)",
                            "width": 0.5
                          },
                          "pattern": {
                            "fillmode": "overlay",
                            "size": 10,
                            "solidity": 0.2
                          }
                        },
                        "type": "barpolar"
                      }
                    ],
                    "carpet": [
                      {
                        "aaxis": {
                          "endlinecolor": "#A2B1C6",
                          "gridcolor": "#506784",
                          "linecolor": "#506784",
                          "minorgridcolor": "#506784",
                          "startlinecolor": "#A2B1C6"
                        },
                        "baxis": {
                          "endlinecolor": "#A2B1C6",
                          "gridcolor": "#506784",
                          "linecolor": "#506784",
                          "minorgridcolor": "#506784",
                          "startlinecolor": "#A2B1C6"
                        },
                        "type": "carpet"
                      }
                    ],
                    "choropleth": [
                      {
                        "colorbar": {
                          "outlinewidth": 0,
                          "ticks": ""
                        },
                        "type": "choropleth"
                      }
                    ],
                    "contour": [
                      {
                        "colorbar": {
                          "outlinewidth": 0,
                          "ticks": ""
                        },
                        "colorscale": [
                          [
                            0,
                            "#0d0887"
                          ],
                          [
                            0.1111111111111111,
                            "#46039f"
                          ],
                          [
                            0.2222222222222222,
                            "#7201a8"
                          ],
                          [
                            0.3333333333333333,
                            "#9c179e"
                          ],
                          [
                            0.4444444444444444,
                            "#bd3786"
                          ],
                          [
                            0.5555555555555556,
                            "#d8576b"
                          ],
                          [
                            0.6666666666666666,
                            "#ed7953"
                          ],
                          [
                            0.7777777777777778,
                            "#fb9f3a"
                          ],
                          [
                            0.8888888888888888,
                            "#fdca26"
                          ],
                          [
                            1,
                            "#f0f921"
                          ]
                        ],
                        "type": "contour"
                      }
                    ],
                    "contourcarpet": [
                      {
                        "colorbar": {
                          "outlinewidth": 0,
                          "ticks": ""
                        },
                        "type": "contourcarpet"
                      }
                    ],
                    "heatmap": [
                      {
                        "colorbar": {
                          "outlinewidth": 0,
                          "ticks": ""
                        },
                        "colorscale": [
                          [
                            0,
                            "#0d0887"
                          ],
                          [
                            0.1111111111111111,
                            "#46039f"
                          ],
                          [
                            0.2222222222222222,
                            "#7201a8"
                          ],
                          [
                            0.3333333333333333,
                            "#9c179e"
                          ],
                          [
                            0.4444444444444444,
                            "#bd3786"
                          ],
                          [
                            0.5555555555555556,
                            "#d8576b"
                          ],
                          [
                            0.6666666666666666,
                            "#ed7953"
                          ],
                          [
                            0.7777777777777778,
                            "#fb9f3a"
                          ],
                          [
                            0.8888888888888888,
                            "#fdca26"
                          ],
                          [
                            1,
                            "#f0f921"
                          ]
                        ],
                        "type": "heatmap"
                      }
                    ],
                    "heatmapgl": [
                      {
                        "colorbar": {
                          "outlinewidth": 0,
                          "ticks": ""
                        },
                        "colorscale": [
                          [
                            0,
                            "#0d0887"
                          ],
                          [
                            0.1111111111111111,
                            "#46039f"
                          ],
                          [
                            0.2222222222222222,
                            "#7201a8"
                          ],
                          [
                            0.3333333333333333,
                            "#9c179e"
                          ],
                          [
                            0.4444444444444444,
                            "#bd3786"
                          ],
                          [
                            0.5555555555555556,
                            "#d8576b"
                          ],
                          [
                            0.6666666666666666,
                            "#ed7953"
                          ],
                          [
                            0.7777777777777778,
                            "#fb9f3a"
                          ],
                          [
                            0.8888888888888888,
                            "#fdca26"
                          ],
                          [
                            1,
                            "#f0f921"
                          ]
                        ],
                        "type": "heatmapgl"
                      }
                    ],
                    "histogram": [
                      {
                        "marker": {
                          "pattern": {
                            "fillmode": "overlay",
                            "size": 10,
                            "solidity": 0.2
                          }
                        },
                        "type": "histogram"
                      }
                    ],
                    "histogram2d": [
                      {
                        "colorbar": {
                          "outlinewidth": 0,
                          "ticks": ""
                        },
                        "colorscale": [
                          [
                            0,
                            "#0d0887"
                          ],
                          [
                            0.1111111111111111,
                            "#46039f"
                          ],
                          [
                            0.2222222222222222,
                            "#7201a8"
                          ],
                          [
                            0.3333333333333333,
                            "#9c179e"
                          ],
                          [
                            0.4444444444444444,
                            "#bd3786"
                          ],
                          [
                            0.5555555555555556,
                            "#d8576b"
                          ],
                          [
                            0.6666666666666666,
                            "#ed7953"
                          ],
                          [
                            0.7777777777777778,
                            "#fb9f3a"
                          ],
                          [
                            0.8888888888888888,
                            "#fdca26"
                          ],
                          [
                            1,
                            "#f0f921"
                          ]
                        ],
                        "type": "histogram2d"
                      }
                    ],
                    "histogram2dcontour": [
                      {
                        "colorbar": {
                          "outlinewidth": 0,
                          "ticks": ""
                        },
                        "colorscale": [
                          [
                            0,
                            "#0d0887"
                          ],
                          [
                            0.1111111111111111,
                            "#46039f"
                          ],
                          [
                            0.2222222222222222,
                            "#7201a8"
                          ],
                          [
                            0.3333333333333333,
                            "#9c179e"
                          ],
                          [
                            0.4444444444444444,
                            "#bd3786"
                          ],
                          [
                            0.5555555555555556,
                            "#d8576b"
                          ],
                          [
                            0.6666666666666666,
                            "#ed7953"
                          ],
                          [
                            0.7777777777777778,
                            "#fb9f3a"
                          ],
                          [
                            0.8888888888888888,
                            "#fdca26"
                          ],
                          [
                            1,
                            "#f0f921"
                          ]
                        ],
                        "type": "histogram2dcontour"
                      }
                    ],
                    "mesh3d": [
                      {
                        "colorbar": {
                          "outlinewidth": 0,
                          "ticks": ""
                        },
                        "type": "mesh3d"
                      }
                    ],
                    "parcoords": [
                      {
                        "line": {
                          "colorbar": {
                            "outlinewidth": 0,
                            "ticks": ""
                          }
                        },
                        "type": "parcoords"
                      }
                    ],
                    "pie": [
                      {
                        "automargin": true,
                        "type": "pie"
                      }
                    ],
                    "scatter": [
                      {
                        "marker": {
                          "line": {
                            "color": "#283442"
                          }
                        },
                        "type": "scatter"
                      }
                    ],
                    "scatter3d": [
                      {
                        "line": {
                          "colorbar": {
                            "outlinewidth": 0,
                            "ticks": ""
                          }
                        },
                        "marker": {
                          "colorbar": {
                            "outlinewidth": 0,
                            "ticks": ""
                          }
                        },
                        "type": "scatter3d"
                      }
                    ],
                    "scattercarpet": [
                      {
                        "marker": {
                          "colorbar": {
                            "outlinewidth": 0,
                            "ticks": ""
                          }
                        },
                        "type": "scattercarpet"
                      }
                    ],
                    "scattergeo": [
                      {
                        "marker": {
                          "colorbar": {
                            "outlinewidth": 0,
                            "ticks": ""
                          }
                        },
                        "type": "scattergeo"
                      }
                    ],
                    "scattergl": [
                      {
                        "marker": {
                          "line": {
                            "color": "#283442"
                          }
                        },
                        "type": "scattergl"
                      }
                    ],
                    "scattermapbox": [
                      {
                        "marker": {
                          "colorbar": {
                            "outlinewidth": 0,
                            "ticks": ""
                          }
                        },
                        "type": "scattermapbox"
                      }
                    ],
                    "scatterpolar": [
                      {
                        "marker": {
                          "colorbar": {
                            "outlinewidth": 0,
                            "ticks": ""
                          }
                        },
                        "type": "scatterpolar"
                      }
                    ],
                    "scatterpolargl": [
                      {
                        "marker": {
                          "colorbar": {
                            "outlinewidth": 0,
                            "ticks": ""
                          }
                        },
                        "type": "scatterpolargl"
                      }
                    ],
                    "scatterternary": [
                      {
                        "marker": {
                          "colorbar": {
                            "outlinewidth": 0,
                            "ticks": ""
                          }
                        },
                        "type": "scatterternary"
                      }
                    ],
                    "surface": [
                      {
                        "colorbar": {
                          "outlinewidth": 0,
                          "ticks": ""
                        },
                        "colorscale": [
                          [
                            0,
                            "#0d0887"
                          ],
                          [
                            0.1111111111111111,
                            "#46039f"
                          ],
                          [
                            0.2222222222222222,
                            "#7201a8"
                          ],
                          [
                            0.3333333333333333,
                            "#9c179e"
                          ],
                          [
                            0.4444444444444444,
                            "#bd3786"
                          ],
                          [
                            0.5555555555555556,
                            "#d8576b"
                          ],
                          [
                            0.6666666666666666,
                            "#ed7953"
                          ],
                          [
                            0.7777777777777778,
                            "#fb9f3a"
                          ],
                          [
                            0.8888888888888888,
                            "#fdca26"
                          ],
                          [
                            1,
                            "#f0f921"
                          ]
                        ],
                        "type": "surface"
                      }
                    ],
                    "table": [
                      {
                        "cells": {
                          "fill": {
                            "color": "#506784"
                          },
                          "line": {
                            "color": "rgb(17,17,17)"
                          }
                        },
                        "header": {
                          "fill": {
                            "color": "#2a3f5f"
                          },
                          "line": {
                            "color": "rgb(17,17,17)"
                          }
                        },
                        "type": "table"
                      }
                    ]
                  },
                  "layout": {
                    "annotationdefaults": {
                      "arrowcolor": "#f2f5fa",
                      "arrowhead": 0,
                      "arrowwidth": 1
                    },
                    "autotypenumbers": "strict",
                    "coloraxis": {
                      "colorbar": {
                        "outlinewidth": 0,
                        "ticks": ""
                      }
                    },
                    "colorscale": {
                      "diverging": [
                        [
                          0,
                          "#8e0152"
                        ],
                        [
                          0.1,
                          "#c51b7d"
                        ],
                        [
                          0.2,
                          "#de77ae"
                        ],
                        [
                          0.3,
                          "#f1b6da"
                        ],
                        [
                          0.4,
                          "#fde0ef"
                        ],
                        [
                          0.5,
                          "#f7f7f7"
                        ],
                        [
                          0.6,
                          "#e6f5d0"
                        ],
                        [
                          0.7,
                          "#b8e186"
                        ],
                        [
                          0.8,
                          "#7fbc41"
                        ],
                        [
                          0.9,
                          "#4d9221"
                        ],
                        [
                          1,
                          "#276419"
                        ]
                      ],
                      "sequential": [
                        [
                          0,
                          "#0d0887"
                        ],
                        [
                          0.1111111111111111,
                          "#46039f"
                        ],
                        [
                          0.2222222222222222,
                          "#7201a8"
                        ],
                        [
                          0.3333333333333333,
                          "#9c179e"
                        ],
                        [
                          0.4444444444444444,
                          "#bd3786"
                        ],
                        [
                          0.5555555555555556,
                          "#d8576b"
                        ],
                        [
                          0.6666666666666666,
                          "#ed7953"
                        ],
                        [
                          0.7777777777777778,
                          "#fb9f3a"
                        ],
                        [
                          0.8888888888888888,
                          "#fdca26"
                        ],
                        [
                          1,
                          "#f0f921"
                        ]
                      ],
                      "sequentialminus": [
                        [
                          0,
                          "#0d0887"
                        ],
                        [
                          0.1111111111111111,
                          "#46039f"
                        ],
                        [
                          0.2222222222222222,
                          "#7201a8"
                        ],
                        [
                          0.3333333333333333,
                          "#9c179e"
                        ],
                        [
                          0.4444444444444444,
                          "#bd3786"
                        ],
                        [
                          0.5555555555555556,
                          "#d8576b"
                        ],
                        [
                          0.6666666666666666,
                          "#ed7953"
                        ],
                        [
                          0.7777777777777778,
                          "#fb9f3a"
                        ],
                        [
                          0.8888888888888888,
                          "#fdca26"
                        ],
                        [
                          1,
                          "#f0f921"
                        ]
                      ]
                    },
                    "colorway": [
                      "#636efa",
                      "#EF553B",
                      "#00cc96",
                      "#ab63fa",
                      "#FFA15A",
                      "#19d3f3",
                      "#FF6692",
                      "#B6E880",
                      "#FF97FF",
                      "#FECB52"
                    ],
                    "font": {
                      "color": "#f2f5fa"
                    },
                    "geo": {
                      "bgcolor": "rgb(17,17,17)",
                      "lakecolor": "rgb(17,17,17)",
                      "landcolor": "rgb(17,17,17)",
                      "showlakes": true,
                      "showland": true,
                      "subunitcolor": "#506784"
                    },
                    "hoverlabel": {
                      "align": "left"
                    },
                    "hovermode": "closest",
                    "mapbox": {
                      "style": "dark"
                    },
                    "paper_bgcolor": "rgb(17,17,17)",
                    "plot_bgcolor": "rgb(17,17,17)",
                    "polar": {
                      "angularaxis": {
                        "gridcolor": "#506784",
                        "linecolor": "#506784",
                        "ticks": ""
                      },
                      "bgcolor": "rgb(17,17,17)",
                      "radialaxis": {
                        "gridcolor": "#506784",
                        "linecolor": "#506784",
                        "ticks": ""
                      }
                    },
                    "scene": {
                      "xaxis": {
                        "backgroundcolor": "rgb(17,17,17)",
                        "gridcolor": "#506784",
                        "gridwidth": 2,
                        "linecolor": "#506784",
                        "showbackground": true,
                        "ticks": "",
                        "zerolinecolor": "#C8D4E3"
                      },
                      "yaxis": {
                        "backgroundcolor": "rgb(17,17,17)",
                        "gridcolor": "#506784",
                        "gridwidth": 2,
                        "linecolor": "#506784",
                        "showbackground": true,
                        "ticks": "",
                        "zerolinecolor": "#C8D4E3"
                      },
                      "zaxis": {
                        "backgroundcolor": "rgb(17,17,17)",
                        "gridcolor": "#506784",
                        "gridwidth": 2,
                        "linecolor": "#506784",
                        "showbackground": true,
                        "ticks": "",
                        "zerolinecolor": "#C8D4E3"
                      }
                    },
                    "shapedefaults": {
                      "line": {
                        "color": "#f2f5fa"
                      }
                    },
                    "sliderdefaults": {
                      "bgcolor": "#C8D4E3",
                      "bordercolor": "rgb(17,17,17)",
                      "borderwidth": 1,
                      "tickwidth": 0
                    },
                    "ternary": {
                      "aaxis": {
                        "gridcolor": "#506784",
                        "linecolor": "#506784",
                        "ticks": ""
                      },
                      "baxis": {
                        "gridcolor": "#506784",
                        "linecolor": "#506784",
                        "ticks": ""
                      },
                      "bgcolor": "rgb(17,17,17)",
                      "caxis": {
                        "gridcolor": "#506784",
                        "linecolor": "#506784",
                        "ticks": ""
                      }
                    },
                    "title": {
                      "x": 0.05
                    },
                    "updatemenudefaults": {
                      "bgcolor": "#506784",
                      "borderwidth": 0
                    },
                    "xaxis": {
                      "automargin": true,
                      "gridcolor": "#283442",
                      "linecolor": "#506784",
                      "ticks": "",
                      "title": {
                        "standoff": 15
                      },
                      "zerolinecolor": "#283442",
                      "zerolinewidth": 2
                    },
                    "yaxis": {
                      "automargin": true,
                      "gridcolor": "#283442",
                      "linecolor": "#506784",
                      "ticks": "",
                      "title": {
                        "standoff": 15
                      },
                      "zerolinecolor": "#283442",
                      "zerolinewidth": 2
                    }
                  }
                },
                "xaxis": {
                  "anchor": "y",
                  "domain": [
                    0,
                    1
                  ],
                  "title": {
                    "text": "Country"
                  }
                },
                "yaxis": {
                  "anchor": "x",
                  "domain": [
                    0,
                    1
                  ],
                  "title": {
                    "text": "OrderValue"
                  }
                }
              }
            },
            "text/html": [
              "<div>                            <div id=\"731374b0-646d-4997-b3c0-7e1593a08b00\" class=\"plotly-graph-div\" style=\"height:525px; width:100%;\"></div>            <script type=\"text/javascript\">                require([\"plotly\"], function(Plotly) {                    window.PLOTLYENV=window.PLOTLYENV || {};                                    if (document.getElementById(\"731374b0-646d-4997-b3c0-7e1593a08b00\")) {                    Plotly.newPlot(                        \"731374b0-646d-4997-b3c0-7e1593a08b00\",                        [{\"alignmentgroup\":\"True\",\"hovertemplate\":\"Year=2011<br>Country=%{x}<br>OrderValue=%{y}<extra></extra>\",\"legendgroup\":\"2011\",\"marker\":{\"color\":\"#636efa\"},\"name\":\"2011\",\"notched\":false,\"offsetgroup\":\"2011\",\"orientation\":\"v\",\"showlegend\":true,\"x\":[\"United Kingdom\",\"United Kingdom\",\"United Kingdom\",\"United Kingdom\",\"United Kingdom\",\"United Kingdom\",\"United Kingdom\",\"United Kingdom\",\"United Kingdom\",\"United Kingdom\",\"United Kingdom\",\"United Kingdom\",\"United Kingdom\",\"United Kingdom\",\"United Kingdom\",\"United Kingdom\",\"United Kingdom\",\"United Kingdom\",\"United Kingdom\",\"United Kingdom\",\"United Kingdom\",\"United Kingdom\",\"United Kingdom\",\"United Kingdom\",\"United Kingdom\",\"United Kingdom\",\"United Kingdom\",\"United Kingdom\",\"United Kingdom\",\"United Kingdom\",\"United Kingdom\",\"United Kingdom\",\"United Kingdom\",\"United Kingdom\",\"United Kingdom\",\"United Kingdom\",\"United Kingdom\",\"United Kingdom\",\"United Kingdom\",\"United Kingdom\",\"United Kingdom\",\"United Kingdom\",\"United Kingdom\",\"United Kingdom\",\"United Kingdom\",\"United Kingdom\",\"United Kingdom\",\"United Kingdom\",\"United Kingdom\",\"United Kingdom\",\"United Kingdom\",\"United Kingdom\",\"United Kingdom\",\"United Kingdom\",\"United Kingdom\",\"United Kingdom\",\"United Kingdom\",\"United Kingdom\",\"United Kingdom\",\"United Kingdom\",\"United Kingdom\",\"United Kingdom\",\"United Kingdom\",\"United Kingdom\",\"United Kingdom\",\"United Kingdom\",\"United Kingdom\",\"United Kingdom\",\"United Kingdom\",\"United Kingdom\",\"United Kingdom\",\"United Kingdom\",\"United Kingdom\",\"United Kingdom\",\"United Kingdom\",\"United Kingdom\",\"United Kingdom\",\"United Kingdom\",\"United Kingdom\",\"United Kingdom\",\"United Kingdom\",\"United Kingdom\",\"United Kingdom\",\"United Kingdom\",\"United Kingdom\",\"United Kingdom\",\"United Kingdom\",\"United Kingdom\",\"United Kingdom\",\"United Kingdom\",\"United Kingdom\",\"United Kingdom\",\"United Kingdom\",\"United Kingdom\",\"United Kingdom\",\"United Kingdom\",\"United Kingdom\",\"United Kingdom\",\"United Kingdom\",\"United Kingdom\",\"United Kingdom\",\"United Kingdom\",\"United Kingdom\",\"United Kingdom\",\"United Kingdom\",\"United Kingdom\",\"United Kingdom\",\"United Kingdom\",\"United Kingdom\",\"United Kingdom\",\"United Kingdom\",\"United Kingdom\",\"United Kingdom\",\"United Kingdom\",\"United Kingdom\",\"United Kingdom\",\"United Kingdom\",\"United Kingdom\",\"United Kingdom\",\"United Kingdom\",\"United Kingdom\",\"United Kingdom\",\"United Kingdom\",\"United Kingdom\",\"United Kingdom\",\"United Kingdom\",\"United Kingdom\",\"United Kingdom\",\"United Kingdom\",\"United Kingdom\",\"United Kingdom\",\"United Kingdom\",\"United Kingdom\",\"United Kingdom\",\"United Kingdom\",\"United Kingdom\",\"United Kingdom\",\"United Kingdom\",\"United Kingdom\",\"United Kingdom\",\"United Kingdom\",\"United Kingdom\",\"United Kingdom\",\"United Kingdom\",\"United Kingdom\",\"United Kingdom\",\"United Kingdom\",\"United Kingdom\",\"United Kingdom\",\"United Kingdom\",\"United Kingdom\",\"United Kingdom\",\"United Kingdom\",\"United Kingdom\",\"United Kingdom\",\"United Kingdom\",\"United Kingdom\",\"United Kingdom\",\"United Kingdom\",\"United Kingdom\",\"United Kingdom\",\"United Kingdom\",\"United Kingdom\",\"United Kingdom\",\"United Kingdom\",\"United Kingdom\",\"United Kingdom\",\"United Kingdom\",\"United Kingdom\",\"United Kingdom\",\"United Kingdom\",\"United Kingdom\",\"United Kingdom\",\"United Kingdom\",\"United Kingdom\",\"United Kingdom\",\"United Kingdom\",\"United Kingdom\",\"United Kingdom\",\"United Kingdom\",\"United Kingdom\",\"United Kingdom\",\"United Kingdom\",\"United Kingdom\",\"United Kingdom\",\"United Kingdom\",\"United Kingdom\",\"United Kingdom\",\"United Kingdom\",\"United Kingdom\",\"United Kingdom\",\"United Kingdom\",\"United Kingdom\",\"United Kingdom\",\"United Kingdom\",\"United Kingdom\",\"United Kingdom\",\"United Kingdom\",\"United Kingdom\",\"United Kingdom\",\"United Kingdom\",\"United Kingdom\",\"United Kingdom\",\"United Kingdom\",\"United Kingdom\",\"United Kingdom\",\"United Kingdom\",\"United Kingdom\",\"United Kingdom\",\"United Kingdom\",\"United Kingdom\",\"United Kingdom\",\"United Kingdom\",\"United Kingdom\",\"United Kingdom\",\"United Kingdom\",\"United Kingdom\",\"United Kingdom\",\"United Kingdom\",\"United Kingdom\",\"United Kingdom\",\"United Kingdom\",\"United Kingdom\",\"United Kingdom\",\"United Kingdom\",\"United Kingdom\",\"United Kingdom\",\"United Kingdom\",\"United Kingdom\",\"United Kingdom\",\"United Kingdom\",\"United Kingdom\",\"United Kingdom\",\"United Kingdom\",\"United Kingdom\",\"United Kingdom\",\"United Kingdom\",\"United Kingdom\",\"United Kingdom\",\"United Kingdom\",\"United Kingdom\",\"United Kingdom\",\"United Kingdom\",\"United Kingdom\",\"United Kingdom\",\"United Kingdom\",\"United Kingdom\",\"United Kingdom\",\"United Kingdom\",\"United Kingdom\",\"United Kingdom\",\"United Kingdom\",\"United Kingdom\",\"United Kingdom\",\"United Kingdom\",\"United Kingdom\",\"United Kingdom\",\"United Kingdom\",\"United Kingdom\",\"United Kingdom\",\"United Kingdom\",\"United Kingdom\",\"United Kingdom\",\"Germany\",\"Germany\",\"Germany\",\"Germany\",\"Germany\",\"Germany\",\"Germany\",\"Germany\",\"Germany\",\"Germany\",\"Germany\",\"Germany\",\"Germany\",\"Germany\",\"Germany\",\"Germany\",\"Germany\",\"Germany\",\"Germany\",\"Germany\",\"Germany\",\"Germany\",\"Germany\",\"Germany\",\"Germany\",\"Germany\",\"Germany\",\"Germany\",\"Germany\",\"Germany\",\"Germany\",\"Germany\",\"Germany\",\"Germany\",\"Germany\",\"Germany\",\"Germany\",\"Germany\",\"Germany\",\"Germany\",\"Germany\",\"Germany\",\"Germany\",\"Germany\",\"Germany\",\"Germany\",\"Germany\",\"Germany\",\"Germany\",\"Germany\",\"Germany\",\"Germany\",\"Germany\",\"Germany\",\"Germany\",\"Germany\",\"Germany\",\"Germany\",\"Germany\",\"Germany\",\"Germany\",\"Germany\",\"Germany\",\"Germany\",\"Germany\",\"Germany\",\"Germany\",\"Germany\",\"Germany\",\"Germany\",\"Germany\",\"Germany\",\"Germany\",\"Germany\",\"Germany\",\"Germany\",\"Germany\",\"Germany\",\"Germany\",\"Germany\",\"Germany\",\"Germany\",\"Germany\",\"Germany\",\"Germany\",\"Germany\",\"Germany\",\"Germany\",\"Germany\",\"France\",\"France\",\"France\",\"France\",\"France\",\"France\",\"France\",\"France\",\"France\",\"France\",\"France\",\"France\",\"France\",\"France\",\"France\",\"France\",\"France\",\"France\",\"France\",\"France\",\"France\",\"France\",\"France\",\"France\",\"France\",\"France\",\"France\",\"France\",\"France\",\"France\",\"France\",\"France\",\"France\",\"France\",\"France\",\"France\",\"France\",\"France\",\"France\",\"France\",\"France\",\"France\",\"France\",\"France\",\"France\",\"France\",\"France\",\"France\",\"France\",\"France\",\"France\",\"France\",\"France\",\"France\",\"France\",\"France\",\"France\",\"France\",\"France\",\"France\",\"France\",\"France\",\"France\",\"France\",\"France\",\"France\",\"France\",\"France\",\"France\",\"France\",\"France\",\"France\",\"France\",\"France\",\"France\",\"France\",\"France\",\"France\",\"France\",\"France\",\"France\",\"France\",\"France\",\"France\",\"France\",\"France\",\"France\",\"France\",\"France\",\"France\",\"France\",\"France\",\"France\",\"France\",\"France\",\"France\",\"France\",\"France\",\"France\",\"France\",\"France\",\"France\",\"France\",\"France\",\"France\",\"France\",\"France\",\"France\",\"France\",\"France\",\"France\",\"France\",\"France\",\"France\",\"France\",\"France\",\"France\",\"France\",\"France\",\"France\",\"France\",\"France\",\"France\",\"France\",\"France\",\"France\",\"France\",\"France\",\"France\",\"France\",\"France\",\"France\",\"France\",\"France\",\"France\",\"France\",\"France\",\"France\",\"France\",\"France\",\"France\",\"France\",\"France\",\"France\",\"France\",\"France\",\"France\",\"France\",\"France\",\"France\",\"France\",\"France\",\"France\",\"France\",\"France\",\"France\",\"France\",\"France\",\"France\",\"France\",\"France\",\"France\",\"France\",\"France\",\"France\",\"France\",\"France\",\"France\",\"France\",\"France\",\"France\",\"France\",\"France\",\"France\",\"France\",\"Australia\",\"Australia\",\"Australia\",\"Australia\",\"Australia\",\"Australia\",\"Australia\",\"Australia\",\"Australia\",\"Australia\",\"Australia\",\"Australia\",\"Australia\",\"Australia\",\"Australia\",\"Australia\",\"Australia\",\"Australia\",\"Australia\",\"Hong Kong\",\"Hong Kong\",\"Hong Kong\",\"Hong Kong\",\"Hong Kong\",\"Hong Kong\",\"Hong Kong\",\"Hong Kong\",\"Hong Kong\",\"Hong Kong\",\"Hong Kong\",\"Hong Kong\",\"Hong Kong\",\"Hong Kong\",\"Hong Kong\",\"Hong Kong\",\"Hong Kong\",\"Hong Kong\",\"Hong Kong\",\"Hong Kong\",\"Hong Kong\",\"Hong Kong\",\"Hong Kong\",\"Hong Kong\",\"Hong Kong\",\"Hong Kong\",\"Hong Kong\",\"Hong Kong\",\"Hong Kong\",\"Hong Kong\",\"Hong Kong\",\"Hong Kong\",\"Hong Kong\",\"Hong Kong\",\"Hong Kong\",\"Hong Kong\",\"Hong Kong\",\"Hong Kong\",\"Hong Kong\",\"Hong Kong\",\"Hong Kong\",\"Hong Kong\"],\"x0\":\" \",\"xaxis\":\"x\",\"y\":[10.2,35.4,20.0,7.46,3.95,12.6,29.7,44.28,3.38,1.56,0.55,30.0,16.5,1.65,25.2,25.5,34.8,3.29,2.46,9.9,15.0,10.2,0.83,7.95,12.6,6.3,2.95,19.8,3.29,9.78,2.95,15.9,19.8,4.25,6.96,15.9,8.29,15.0,20.8,0.83,9.9,2.9,11.8,13.2,17.7,4.13,7.46,3.95,70.8,15.6,5.79,8.32,15.0,3.3,8.5,59.4,2.25,7.47,14.96,8.5,8.29,9.9,2.08,17.4,12.75,5.79,4.16,52.11,1.63,20.8,0.85,10.5,4.95,10.2,5.78,1.25,10.79,2.46,3.29,20.65,6.6,9.0,1.95,7.95,1.25,7.38,7.44,4.95,22.14,9.9,15.0,6.3,7.46,15.9,0.29,4.95,3.9,10.5,5.85,1.25,20.8,0.83,1.63,29.7,7.5,9.48,3.75,3.29,10.79,3.75,15.0,2.9,4.92,9.9,4.13,24.96,2.46,13.2,34.8,35.4,2.55,1.65,10.5,2.95,4.25,20.8,15.0,9.36,4.13,14.85,11.8,0.83,7.5,3.16,39.9,19.8,1.66,4.98,17.85,39.6,29.84,3.29,0.84,1.1,2.5,16.5,8.5,1.63,2.46,1.45,10.2,12.46,31.8,4.13,1.25,1.45,4.95,10.2,5.95,15.3,16.5,44.55,29.7,15.0,25.0,15.8,1.52,19.8,3.3,1.65,0.84,20.8,17.7,4.89,2.51,4.16,9.95,19.8,8.29,34.74,1.45,4.16,22.5,13.52,2.5,11.25,0.84,9.92,19.8,2.1,19.84,22.5,15.9,8.5,39.6,12.5,4.95,1.7,2.95,79.56,19.8,1.68,1.45,1.25,35.7,16.5,2.95,20.8,4.96,25.0,1.66,2.95,15.0,35.4,1.45,16.52,23.0,39.8,1.74,35.4,5.79,4.25,34.8,7.65,1.63,4.13,15.8,6.58,1.17,6.38,0.55,5.81,51.0,14.7,15.0,30.0,12.5,323.7,12.6,20.8,0.38,2.25,8.29,69.44,11.58,2.51,1.25,19.8,2.55,5.04,11.9,4.95,10.08,4.15,13.2,3.4,9.36,39.6,5.04,7.5,3.75,17.7,1.66,7.8,25.2,15.0,8.5,50.4,34.0,15.9,14.85,10.5,4.68,10.2,19.8,33.0,35.7,15.9,10.5,17.0,144.0,17.7,10.5,37.44,10.5,15.0,19.8,16.35,10.2,19.8,15.9,20.8,22.5,12.48,17.4,15.9,16.6,15.0,19.8,15.3,17.7,19.8,20.8,20.4,8.5,17.7,30.0,15.0,23.4,12.75,4.68,65.7,6.96,15.3,17.4,7.8,14.75,30.6,15.0,44.55,17.7,15.0,13.2,14.85,19.5,14.85,12.48,20.4,72.0,15.0,19.9,16.5,16.5,39.6,17.0,19.8,10.2,68.0,15.0,8.4,14.85,17.4,24.96,19.8,10.95,24.0,36.0,35.4,23.6,7.8,10.08,10.2,13.2,10.2,12.5,10.08,16.5,6.72,7.8,30.6,17.85,30.0,70.8,17.7,4.68,7.65,53.1,12.6,1.65,51.0,12.5,6.64,15.0,63.0,30.0,19.5,19.5,15.6,30.0,15.0,18.0,10.5,10.2,19.8,14.85,30.0,19.8,8.5,15.0,61.2,10.2,10.5,15.6,15.6,15.0,15.6,108.0,15.0,19.8,44.25,10.2,15.6,13.2,26.4,54.0,17.4,15.3,16.5,39.6,13.2,10.2,16.5,15.0,19.8,9.9,12.48,19.8,10.5,16.6,7.8,30.0,5.04,10.0,44.55,9.36,17.0,2.5,10.5,36.0,20.4,8.25,18.0,24.96,9.96,17.7,30.0,15.0,10.2,19.5,20.8,39.6,16.5,30.0,14.3,24.9,35.4,16.6,19.8,39.6,10.08,25.2,16.6,8.5,20.4,15.0,14.85,33.2,12.6,17.7,20.0,25.2,20.4,5.04,4.95,72.0,8.5,33.2,35.7,30.0,14.85,8.2,0.36,17.0,9.96,0.42,16.5,44.75,15.3,49.5,5.04,12.5,18.0,10.0,4.68,25.2,30.6,10.0,20.4,30.6,16.5,15.9,20.8,17.0,2.5,19.8,20.8,15.0,18.0,5.04,13.5,10.0,20.8,67.5,15.0,15.6,16.6,7.8,16.6,19.5,18.0,10.5,5.04,72.0,8.4,46.8,19.5,30.0,19.8,15.3,19.8,17.0,17.7,15.0,17.7,5.04,4.68,23.9,17.7,39.6,16.5,67.5,15.9,14.85,15.9,19.8,30.6,27.0,52.02,13.0,16.6,41.6,53.1,20.8,47.6,16.5,23.4,11.8,11.8,11.7,17.85,99.6,45.0,15.0,14.85,66.0,15.0,10.08,39.6,20.0,52.5,19.5,13.2,10.2,43.8,30.0,12.6,19.8,12.5,13.2,10.2,31.6,15.6,8.5,8.5,11.7,16.5,53.1,15.0,19.5,15.3,90.0,19.8,12.5,66.0,20.0,13.2,29.7,20.0],\"y0\":\" \",\"yaxis\":\"y\",\"type\":\"box\"},{\"alignmentgroup\":\"True\",\"hovertemplate\":\"Year=2010<br>Country=%{x}<br>OrderValue=%{y}<extra></extra>\",\"legendgroup\":\"2010\",\"marker\":{\"color\":\"#EF553B\"},\"name\":\"2010\",\"notched\":false,\"offsetgroup\":\"2010\",\"orientation\":\"v\",\"showlegend\":true,\"x\":[\"United Kingdom\",\"United Kingdom\",\"United Kingdom\",\"United Kingdom\",\"United Kingdom\",\"United Kingdom\",\"United Kingdom\",\"United Kingdom\",\"United Kingdom\",\"United Kingdom\",\"United Kingdom\",\"United Kingdom\",\"United Kingdom\",\"United Kingdom\",\"United Kingdom\",\"United Kingdom\",\"United Kingdom\",\"United Kingdom\",\"United Kingdom\",\"United Kingdom\",\"United Kingdom\",\"United Kingdom\",\"United Kingdom\",\"United Kingdom\",\"United Kingdom\",\"Germany\",\"Germany\",\"Germany\",\"Germany\",\"France\",\"France\",\"France\",\"France\",\"France\",\"France\",\"France\",\"France\",\"France\"],\"x0\":\" \",\"xaxis\":\"x\",\"y\":[2.51,25.5,4.25,1.28,2.95,25.0,23.64,25.2,1.7,8.85,17.0,23.52,26.0,3.75,25.49,6.64,4.95,2.55,4.24,3.32,13.2,10.12,17.7,4.95,7.5,20.4,15.6,20.4,89.7,30.0,15.0,2.1,10.08,21.9,18.0,1.25,19.8,10.2],\"y0\":\" \",\"yaxis\":\"y\",\"type\":\"box\"}],                        {\"template\":{\"data\":{\"histogram2dcontour\":[{\"type\":\"histogram2dcontour\",\"colorbar\":{\"outlinewidth\":0,\"ticks\":\"\"},\"colorscale\":[[0.0,\"#0d0887\"],[0.1111111111111111,\"#46039f\"],[0.2222222222222222,\"#7201a8\"],[0.3333333333333333,\"#9c179e\"],[0.4444444444444444,\"#bd3786\"],[0.5555555555555556,\"#d8576b\"],[0.6666666666666666,\"#ed7953\"],[0.7777777777777778,\"#fb9f3a\"],[0.8888888888888888,\"#fdca26\"],[1.0,\"#f0f921\"]]}],\"choropleth\":[{\"type\":\"choropleth\",\"colorbar\":{\"outlinewidth\":0,\"ticks\":\"\"}}],\"histogram2d\":[{\"type\":\"histogram2d\",\"colorbar\":{\"outlinewidth\":0,\"ticks\":\"\"},\"colorscale\":[[0.0,\"#0d0887\"],[0.1111111111111111,\"#46039f\"],[0.2222222222222222,\"#7201a8\"],[0.3333333333333333,\"#9c179e\"],[0.4444444444444444,\"#bd3786\"],[0.5555555555555556,\"#d8576b\"],[0.6666666666666666,\"#ed7953\"],[0.7777777777777778,\"#fb9f3a\"],[0.8888888888888888,\"#fdca26\"],[1.0,\"#f0f921\"]]}],\"heatmap\":[{\"type\":\"heatmap\",\"colorbar\":{\"outlinewidth\":0,\"ticks\":\"\"},\"colorscale\":[[0.0,\"#0d0887\"],[0.1111111111111111,\"#46039f\"],[0.2222222222222222,\"#7201a8\"],[0.3333333333333333,\"#9c179e\"],[0.4444444444444444,\"#bd3786\"],[0.5555555555555556,\"#d8576b\"],[0.6666666666666666,\"#ed7953\"],[0.7777777777777778,\"#fb9f3a\"],[0.8888888888888888,\"#fdca26\"],[1.0,\"#f0f921\"]]}],\"heatmapgl\":[{\"type\":\"heatmapgl\",\"colorbar\":{\"outlinewidth\":0,\"ticks\":\"\"},\"colorscale\":[[0.0,\"#0d0887\"],[0.1111111111111111,\"#46039f\"],[0.2222222222222222,\"#7201a8\"],[0.3333333333333333,\"#9c179e\"],[0.4444444444444444,\"#bd3786\"],[0.5555555555555556,\"#d8576b\"],[0.6666666666666666,\"#ed7953\"],[0.7777777777777778,\"#fb9f3a\"],[0.8888888888888888,\"#fdca26\"],[1.0,\"#f0f921\"]]}],\"contourcarpet\":[{\"type\":\"contourcarpet\",\"colorbar\":{\"outlinewidth\":0,\"ticks\":\"\"}}],\"contour\":[{\"type\":\"contour\",\"colorbar\":{\"outlinewidth\":0,\"ticks\":\"\"},\"colorscale\":[[0.0,\"#0d0887\"],[0.1111111111111111,\"#46039f\"],[0.2222222222222222,\"#7201a8\"],[0.3333333333333333,\"#9c179e\"],[0.4444444444444444,\"#bd3786\"],[0.5555555555555556,\"#d8576b\"],[0.6666666666666666,\"#ed7953\"],[0.7777777777777778,\"#fb9f3a\"],[0.8888888888888888,\"#fdca26\"],[1.0,\"#f0f921\"]]}],\"surface\":[{\"type\":\"surface\",\"colorbar\":{\"outlinewidth\":0,\"ticks\":\"\"},\"colorscale\":[[0.0,\"#0d0887\"],[0.1111111111111111,\"#46039f\"],[0.2222222222222222,\"#7201a8\"],[0.3333333333333333,\"#9c179e\"],[0.4444444444444444,\"#bd3786\"],[0.5555555555555556,\"#d8576b\"],[0.6666666666666666,\"#ed7953\"],[0.7777777777777778,\"#fb9f3a\"],[0.8888888888888888,\"#fdca26\"],[1.0,\"#f0f921\"]]}],\"mesh3d\":[{\"type\":\"mesh3d\",\"colorbar\":{\"outlinewidth\":0,\"ticks\":\"\"}}],\"scatter\":[{\"marker\":{\"line\":{\"color\":\"#283442\"}},\"type\":\"scatter\"}],\"parcoords\":[{\"type\":\"parcoords\",\"line\":{\"colorbar\":{\"outlinewidth\":0,\"ticks\":\"\"}}}],\"scatterpolargl\":[{\"type\":\"scatterpolargl\",\"marker\":{\"colorbar\":{\"outlinewidth\":0,\"ticks\":\"\"}}}],\"bar\":[{\"error_x\":{\"color\":\"#f2f5fa\"},\"error_y\":{\"color\":\"#f2f5fa\"},\"marker\":{\"line\":{\"color\":\"rgb(17,17,17)\",\"width\":0.5},\"pattern\":{\"fillmode\":\"overlay\",\"size\":10,\"solidity\":0.2}},\"type\":\"bar\"}],\"scattergeo\":[{\"type\":\"scattergeo\",\"marker\":{\"colorbar\":{\"outlinewidth\":0,\"ticks\":\"\"}}}],\"scatterpolar\":[{\"type\":\"scatterpolar\",\"marker\":{\"colorbar\":{\"outlinewidth\":0,\"ticks\":\"\"}}}],\"histogram\":[{\"marker\":{\"pattern\":{\"fillmode\":\"overlay\",\"size\":10,\"solidity\":0.2}},\"type\":\"histogram\"}],\"scattergl\":[{\"marker\":{\"line\":{\"color\":\"#283442\"}},\"type\":\"scattergl\"}],\"scatter3d\":[{\"type\":\"scatter3d\",\"line\":{\"colorbar\":{\"outlinewidth\":0,\"ticks\":\"\"}},\"marker\":{\"colorbar\":{\"outlinewidth\":0,\"ticks\":\"\"}}}],\"scattermapbox\":[{\"type\":\"scattermapbox\",\"marker\":{\"colorbar\":{\"outlinewidth\":0,\"ticks\":\"\"}}}],\"scatterternary\":[{\"type\":\"scatterternary\",\"marker\":{\"colorbar\":{\"outlinewidth\":0,\"ticks\":\"\"}}}],\"scattercarpet\":[{\"type\":\"scattercarpet\",\"marker\":{\"colorbar\":{\"outlinewidth\":0,\"ticks\":\"\"}}}],\"carpet\":[{\"aaxis\":{\"endlinecolor\":\"#A2B1C6\",\"gridcolor\":\"#506784\",\"linecolor\":\"#506784\",\"minorgridcolor\":\"#506784\",\"startlinecolor\":\"#A2B1C6\"},\"baxis\":{\"endlinecolor\":\"#A2B1C6\",\"gridcolor\":\"#506784\",\"linecolor\":\"#506784\",\"minorgridcolor\":\"#506784\",\"startlinecolor\":\"#A2B1C6\"},\"type\":\"carpet\"}],\"table\":[{\"cells\":{\"fill\":{\"color\":\"#506784\"},\"line\":{\"color\":\"rgb(17,17,17)\"}},\"header\":{\"fill\":{\"color\":\"#2a3f5f\"},\"line\":{\"color\":\"rgb(17,17,17)\"}},\"type\":\"table\"}],\"barpolar\":[{\"marker\":{\"line\":{\"color\":\"rgb(17,17,17)\",\"width\":0.5},\"pattern\":{\"fillmode\":\"overlay\",\"size\":10,\"solidity\":0.2}},\"type\":\"barpolar\"}],\"pie\":[{\"automargin\":true,\"type\":\"pie\"}]},\"layout\":{\"autotypenumbers\":\"strict\",\"colorway\":[\"#636efa\",\"#EF553B\",\"#00cc96\",\"#ab63fa\",\"#FFA15A\",\"#19d3f3\",\"#FF6692\",\"#B6E880\",\"#FF97FF\",\"#FECB52\"],\"font\":{\"color\":\"#f2f5fa\"},\"hovermode\":\"closest\",\"hoverlabel\":{\"align\":\"left\"},\"paper_bgcolor\":\"rgb(17,17,17)\",\"plot_bgcolor\":\"rgb(17,17,17)\",\"polar\":{\"bgcolor\":\"rgb(17,17,17)\",\"angularaxis\":{\"gridcolor\":\"#506784\",\"linecolor\":\"#506784\",\"ticks\":\"\"},\"radialaxis\":{\"gridcolor\":\"#506784\",\"linecolor\":\"#506784\",\"ticks\":\"\"}},\"ternary\":{\"bgcolor\":\"rgb(17,17,17)\",\"aaxis\":{\"gridcolor\":\"#506784\",\"linecolor\":\"#506784\",\"ticks\":\"\"},\"baxis\":{\"gridcolor\":\"#506784\",\"linecolor\":\"#506784\",\"ticks\":\"\"},\"caxis\":{\"gridcolor\":\"#506784\",\"linecolor\":\"#506784\",\"ticks\":\"\"}},\"coloraxis\":{\"colorbar\":{\"outlinewidth\":0,\"ticks\":\"\"}},\"colorscale\":{\"sequential\":[[0.0,\"#0d0887\"],[0.1111111111111111,\"#46039f\"],[0.2222222222222222,\"#7201a8\"],[0.3333333333333333,\"#9c179e\"],[0.4444444444444444,\"#bd3786\"],[0.5555555555555556,\"#d8576b\"],[0.6666666666666666,\"#ed7953\"],[0.7777777777777778,\"#fb9f3a\"],[0.8888888888888888,\"#fdca26\"],[1.0,\"#f0f921\"]],\"sequentialminus\":[[0.0,\"#0d0887\"],[0.1111111111111111,\"#46039f\"],[0.2222222222222222,\"#7201a8\"],[0.3333333333333333,\"#9c179e\"],[0.4444444444444444,\"#bd3786\"],[0.5555555555555556,\"#d8576b\"],[0.6666666666666666,\"#ed7953\"],[0.7777777777777778,\"#fb9f3a\"],[0.8888888888888888,\"#fdca26\"],[1.0,\"#f0f921\"]],\"diverging\":[[0,\"#8e0152\"],[0.1,\"#c51b7d\"],[0.2,\"#de77ae\"],[0.3,\"#f1b6da\"],[0.4,\"#fde0ef\"],[0.5,\"#f7f7f7\"],[0.6,\"#e6f5d0\"],[0.7,\"#b8e186\"],[0.8,\"#7fbc41\"],[0.9,\"#4d9221\"],[1,\"#276419\"]]},\"xaxis\":{\"gridcolor\":\"#283442\",\"linecolor\":\"#506784\",\"ticks\":\"\",\"title\":{\"standoff\":15},\"zerolinecolor\":\"#283442\",\"automargin\":true,\"zerolinewidth\":2},\"yaxis\":{\"gridcolor\":\"#283442\",\"linecolor\":\"#506784\",\"ticks\":\"\",\"title\":{\"standoff\":15},\"zerolinecolor\":\"#283442\",\"automargin\":true,\"zerolinewidth\":2},\"scene\":{\"xaxis\":{\"backgroundcolor\":\"rgb(17,17,17)\",\"gridcolor\":\"#506784\",\"linecolor\":\"#506784\",\"showbackground\":true,\"ticks\":\"\",\"zerolinecolor\":\"#C8D4E3\",\"gridwidth\":2},\"yaxis\":{\"backgroundcolor\":\"rgb(17,17,17)\",\"gridcolor\":\"#506784\",\"linecolor\":\"#506784\",\"showbackground\":true,\"ticks\":\"\",\"zerolinecolor\":\"#C8D4E3\",\"gridwidth\":2},\"zaxis\":{\"backgroundcolor\":\"rgb(17,17,17)\",\"gridcolor\":\"#506784\",\"linecolor\":\"#506784\",\"showbackground\":true,\"ticks\":\"\",\"zerolinecolor\":\"#C8D4E3\",\"gridwidth\":2}},\"shapedefaults\":{\"line\":{\"color\":\"#f2f5fa\"}},\"annotationdefaults\":{\"arrowcolor\":\"#f2f5fa\",\"arrowhead\":0,\"arrowwidth\":1},\"geo\":{\"bgcolor\":\"rgb(17,17,17)\",\"landcolor\":\"rgb(17,17,17)\",\"subunitcolor\":\"#506784\",\"showland\":true,\"showlakes\":true,\"lakecolor\":\"rgb(17,17,17)\"},\"title\":{\"x\":0.05},\"updatemenudefaults\":{\"bgcolor\":\"#506784\",\"borderwidth\":0},\"sliderdefaults\":{\"bgcolor\":\"#C8D4E3\",\"borderwidth\":1,\"bordercolor\":\"rgb(17,17,17)\",\"tickwidth\":0},\"mapbox\":{\"style\":\"dark\"}}},\"xaxis\":{\"anchor\":\"y\",\"domain\":[0.0,1.0],\"title\":{\"text\":\"Country\"}},\"yaxis\":{\"anchor\":\"x\",\"domain\":[0.0,1.0],\"title\":{\"text\":\"OrderValue\"}},\"legend\":{\"title\":{\"text\":\"Year\"},\"tracegroupgap\":0},\"margin\":{\"t\":60},\"boxmode\":\"group\"},                        {\"responsive\": true}                    ).then(function(){\n",
              "                            \n",
              "var gd = document.getElementById('731374b0-646d-4997-b3c0-7e1593a08b00');\n",
              "var x = new MutationObserver(function (mutations, observer) {{\n",
              "        var display = window.getComputedStyle(gd).display;\n",
              "        if (!display || display === 'none') {{\n",
              "            console.log([gd, 'removed!']);\n",
              "            Plotly.purge(gd);\n",
              "            observer.disconnect();\n",
              "        }}\n",
              "}});\n",
              "\n",
              "// Listen for the removal of the full notebook cells\n",
              "var notebookContainer = gd.closest('#notebook-container');\n",
              "if (notebookContainer) {{\n",
              "    x.observe(notebookContainer, {childList: true});\n",
              "}}\n",
              "\n",
              "// Listen for the clearing of the current output cell\n",
              "var outputEl = gd.closest('.output');\n",
              "if (outputEl) {{\n",
              "    x.observe(outputEl, {childList: true});\n",
              "}}\n",
              "\n",
              "                        })                };                });            </script>        </div>"
            ]
          },
          "metadata": {},
          "output_type": "display_data"
        }
      ],
      "source": [
        "px.box(data_frame=df, x = \"Country\", y = \"OrderValue\", color= \"Year\")"
      ]
    },
    {
      "cell_type": "code",
      "execution_count": null,
      "metadata": {
        "id": "XXipMCxE_fy3",
        "outputId": "2ef24c50-e6f4-4197-824b-1c096cbe66c3"
      },
      "outputs": [
        {
          "data": {
            "application/vnd.plotly.v1+json": {
              "config": {
                "plotlyServerURL": "https://plot.ly"
              },
              "data": [
                {
                  "alignmentgroup": "True",
                  "bingroup": "x",
                  "hovertemplate": "OrderValue=%{x}<br>count=%{y}<extra></extra>",
                  "legendgroup": "",
                  "marker": {
                    "color": "#636efa",
                    "pattern": {
                      "shape": ""
                    }
                  },
                  "name": "",
                  "offsetgroup": "",
                  "orientation": "v",
                  "showlegend": false,
                  "type": "histogram",
                  "x": [
                    10.2,
                    35.4,
                    20,
                    7.46,
                    2.51,
                    3.95,
                    12.6,
                    29.7,
                    44.28,
                    3.38,
                    1.56,
                    0.55,
                    25.5,
                    30,
                    16.5,
                    1.65,
                    4.25,
                    25.2,
                    25.5,
                    1.28,
                    2.95,
                    34.8,
                    3.29,
                    2.46,
                    9.9,
                    15,
                    10.2,
                    0.83,
                    7.95,
                    12.6,
                    424.8,
                    6.3,
                    2.95,
                    19.8,
                    3.29,
                    9.78,
                    25,
                    2.95,
                    15.9,
                    19.8,
                    4.25,
                    6.96,
                    15.9,
                    8.29,
                    15,
                    20.8,
                    0.83,
                    9.9,
                    2.9,
                    11.8,
                    13.2,
                    17.7,
                    23.64,
                    4.13,
                    7.46,
                    3.95,
                    70.8,
                    15.6,
                    25.2,
                    5.79,
                    8.32,
                    15,
                    3.3,
                    8.5,
                    59.4,
                    2.25,
                    7.47,
                    1.7,
                    14.96,
                    8.5,
                    8.85,
                    8.29,
                    9.9,
                    2.08,
                    17.4,
                    12.75,
                    5.79,
                    4.16,
                    52.11,
                    52.5,
                    1.63,
                    20.8,
                    17,
                    0.85,
                    202.42,
                    10.5,
                    4.95,
                    23.52,
                    10.2,
                    5.78,
                    1.25,
                    10.79,
                    2.46,
                    3.29,
                    20.65,
                    6.6,
                    9,
                    1.95,
                    7.95,
                    1.25,
                    7.38,
                    7.44,
                    4.95,
                    22.14,
                    9.9,
                    15,
                    6.3,
                    7.46,
                    15.9,
                    0.29,
                    4.95,
                    3.9,
                    10.5,
                    5.85,
                    1.25,
                    20.8,
                    26,
                    0.83,
                    1.63,
                    29.7,
                    7.5,
                    9.48,
                    3.75,
                    3.29,
                    10.79,
                    3.75,
                    3.75,
                    15,
                    39.6,
                    2.9,
                    4.92,
                    9.9,
                    4.13,
                    24.96,
                    2.46,
                    13.2,
                    34.8,
                    35.4,
                    25.49,
                    2.55,
                    1.65,
                    10.5,
                    2.95,
                    4.25,
                    20.8,
                    15,
                    9.36,
                    4.13,
                    14.85,
                    11.8,
                    0.83,
                    7.5,
                    3.16,
                    39.9,
                    19.8,
                    1.66,
                    4.98,
                    17.85,
                    39.6,
                    6.64,
                    29.84,
                    3.29,
                    0.84,
                    1.1,
                    79.2,
                    4.95,
                    2.5,
                    16.5,
                    8.5,
                    1.63,
                    2.46,
                    1.45,
                    10.2,
                    12.46,
                    31.8,
                    4.13,
                    1.25,
                    1.45,
                    4.95,
                    10.2,
                    5.95,
                    15.3,
                    16.5,
                    44.55,
                    29.7,
                    15,
                    25,
                    15.8,
                    1.52,
                    19.8,
                    3.3,
                    75.6,
                    1.65,
                    0.84,
                    20.8,
                    17.7,
                    4.89,
                    2.51,
                    4.16,
                    2.55,
                    9.95,
                    19.8,
                    81.6,
                    8.29,
                    34.74,
                    1.45,
                    4.16,
                    22.5,
                    13.52,
                    2.5,
                    11.25,
                    0.84,
                    9.92,
                    4.24,
                    19.8,
                    2.1,
                    19.84,
                    85.8,
                    22.5,
                    15.9,
                    8.5,
                    39.6,
                    12.5,
                    4.95,
                    1.7,
                    2.95,
                    79.56,
                    19.8,
                    1.68,
                    1.45,
                    1.25,
                    35.7,
                    3.32,
                    16.5,
                    2.95,
                    20.8,
                    4.96,
                    25,
                    1.66,
                    2.95,
                    15,
                    35.4,
                    1.45,
                    14.04,
                    16.52,
                    23,
                    39.8,
                    1.74,
                    35.4,
                    5.79,
                    13.2,
                    4.25,
                    34.8,
                    7.65,
                    1.63,
                    4.13,
                    15.8,
                    6.58,
                    163.2,
                    1.17,
                    6.38,
                    0.55,
                    5.81,
                    445.2,
                    51,
                    14.7,
                    15,
                    30,
                    12.5,
                    10.12,
                    323.7,
                    12.6,
                    20.8,
                    0.38,
                    17.7,
                    2.25,
                    8.29,
                    69.44,
                    11.58,
                    2.51,
                    4.95,
                    1.25,
                    7.5,
                    19.8,
                    2.55,
                    5.04,
                    99,
                    11.9,
                    4.95,
                    10.08,
                    4.15,
                    13.2,
                    3.4,
                    9.36,
                    39.6,
                    5.04,
                    7.5,
                    3.75,
                    17.7,
                    1.66,
                    7.8,
                    25.2,
                    15,
                    8.5,
                    50.4,
                    34,
                    23.4,
                    15.9,
                    14.85,
                    10.5,
                    4.68,
                    126,
                    390,
                    10.2,
                    20.4,
                    19.8,
                    33,
                    35.7,
                    15.9,
                    10.5,
                    17,
                    144,
                    17.7,
                    10.5,
                    37.44,
                    10.5,
                    15,
                    75,
                    19.8,
                    16.35,
                    10.2,
                    19.8,
                    15.9,
                    20.8,
                    22.5,
                    12.48,
                    17.4,
                    15.6,
                    15.9,
                    16.6,
                    15,
                    19.8,
                    15.3,
                    17.7,
                    19.8,
                    20.8,
                    20.4,
                    8.5,
                    17.7,
                    30,
                    15,
                    23.4,
                    12.75,
                    350.4,
                    4.68,
                    65.7,
                    6.96,
                    15.3,
                    17.4,
                    7.8,
                    14.75,
                    30.6,
                    15,
                    44.55,
                    17.7,
                    15,
                    13.2,
                    20.4,
                    81.6,
                    89.7,
                    14.85,
                    19.5,
                    14.85,
                    12.48,
                    20.4,
                    72,
                    15,
                    19.9,
                    16.5,
                    16.5,
                    39.6,
                    17,
                    19.8,
                    10.2,
                    68,
                    15,
                    8.4,
                    14.85,
                    69.6,
                    17.4,
                    24.96,
                    19.8,
                    10.95,
                    24,
                    36,
                    35.4,
                    23.6,
                    7.8,
                    10.08,
                    10.2,
                    13.2,
                    10.2,
                    30,
                    12.5,
                    10.08,
                    16.5,
                    6.72,
                    7.8,
                    30.6,
                    15,
                    17.85,
                    30,
                    70.8,
                    17.7,
                    4.68,
                    7.65,
                    53.1,
                    12.6,
                    139.2,
                    1.65,
                    51,
                    12.5,
                    6.64,
                    15,
                    63,
                    30,
                    19.5,
                    19.5,
                    15.6,
                    30,
                    15,
                    18,
                    10.5,
                    59.76,
                    10.2,
                    19.8,
                    14.85,
                    30,
                    19.8,
                    8.5,
                    15,
                    61.2,
                    10.2,
                    10.5,
                    15.6,
                    15.6,
                    15,
                    2.1,
                    15.6,
                    128.88,
                    132.8,
                    108,
                    15,
                    19.8,
                    44.25,
                    10.2,
                    15.6,
                    13.2,
                    26.4,
                    54,
                    17.4,
                    15.3,
                    10.08,
                    16.5,
                    39.6,
                    31.2,
                    13.2,
                    10.2,
                    16.5,
                    15,
                    19.8,
                    9.9,
                    12.48,
                    19.8,
                    10.5,
                    21.9,
                    16.6,
                    7.8,
                    30,
                    5.04,
                    10,
                    44.55,
                    9.36,
                    17,
                    2.5,
                    10.5,
                    214.8,
                    36,
                    20.4,
                    8.25,
                    18,
                    24.96,
                    9.96,
                    17.7,
                    30,
                    15,
                    10.2,
                    19.5,
                    20.8,
                    39.6,
                    16.5,
                    60,
                    30,
                    14.3,
                    24.9,
                    35.4,
                    16.6,
                    19.8,
                    39.6,
                    10.08,
                    25.2,
                    16.6,
                    8.5,
                    20.4,
                    15,
                    14.85,
                    33.2,
                    12.6,
                    17.7,
                    515.52,
                    20,
                    25.2,
                    20.4,
                    18,
                    5.04,
                    4.95,
                    72,
                    8.5,
                    13.92,
                    33.2,
                    35.7,
                    30,
                    14.85,
                    8.2,
                    0.36,
                    75.6,
                    17,
                    9.96,
                    0.42,
                    40.8,
                    16.5,
                    44.75,
                    15.3,
                    49.5,
                    68.4,
                    5.04,
                    12.5,
                    18,
                    10,
                    4.68,
                    25.2,
                    30.6,
                    10,
                    20.4,
                    30.6,
                    1.25,
                    16.5,
                    15.9,
                    20.8,
                    17,
                    2.5,
                    19.8,
                    20.8,
                    15,
                    18,
                    5.04,
                    19.8,
                    10.2,
                    13.5,
                    10,
                    20.8,
                    67.5,
                    15,
                    15.6,
                    163.8,
                    16.6,
                    40.8,
                    244.8,
                    7.8,
                    16.6,
                    19.5,
                    18,
                    10.5,
                    5.04,
                    72,
                    8.4,
                    46.8,
                    19.5,
                    30,
                    19.8,
                    15.3,
                    19.8,
                    17,
                    17.7,
                    15,
                    17.7,
                    5.04,
                    51,
                    4.68,
                    23.9,
                    17.7,
                    39.6,
                    169.5,
                    16.5,
                    208.8,
                    67.5,
                    15.9,
                    14.85,
                    90,
                    15.9,
                    312,
                    399.36,
                    19.8,
                    30.6,
                    27,
                    68,
                    139.2,
                    36.48,
                    158.4,
                    633.6,
                    52.02,
                    510,
                    13,
                    51.84,
                    16.6,
                    41.6,
                    237.6,
                    69.6,
                    53.1,
                    69.12,
                    136,
                    271.2,
                    20.8,
                    18.24,
                    120,
                    147.5,
                    47.6,
                    16.5,
                    51.84,
                    237.6,
                    124.8,
                    488.16,
                    23.4,
                    222,
                    180,
                    44.4,
                    108,
                    178.2,
                    139.2,
                    179.28,
                    11.8,
                    11.8,
                    11.7,
                    17.85,
                    7.56,
                    99.6,
                    45,
                    59.4,
                    15,
                    14.85,
                    66,
                    15,
                    10.08,
                    39.6,
                    20,
                    52.5,
                    19.5,
                    13.2,
                    244.8,
                    10.2,
                    43.8,
                    30,
                    12.6,
                    19.8,
                    23.4,
                    12.5,
                    13.2,
                    10.2,
                    31.6,
                    15.6,
                    8.5,
                    8.5,
                    11.7,
                    16.5,
                    53.1,
                    15,
                    19.5,
                    15.3,
                    66,
                    90,
                    19.8,
                    122.4,
                    12.5,
                    66,
                    27.2,
                    20,
                    13.2,
                    29.7,
                    27.2,
                    20
                  ],
                  "xaxis": "x",
                  "yaxis": "y"
                }
              ],
              "layout": {
                "barmode": "relative",
                "legend": {
                  "tracegroupgap": 0
                },
                "margin": {
                  "t": 60
                },
                "template": {
                  "data": {
                    "bar": [
                      {
                        "error_x": {
                          "color": "#f2f5fa"
                        },
                        "error_y": {
                          "color": "#f2f5fa"
                        },
                        "marker": {
                          "line": {
                            "color": "rgb(17,17,17)",
                            "width": 0.5
                          },
                          "pattern": {
                            "fillmode": "overlay",
                            "size": 10,
                            "solidity": 0.2
                          }
                        },
                        "type": "bar"
                      }
                    ],
                    "barpolar": [
                      {
                        "marker": {
                          "line": {
                            "color": "rgb(17,17,17)",
                            "width": 0.5
                          },
                          "pattern": {
                            "fillmode": "overlay",
                            "size": 10,
                            "solidity": 0.2
                          }
                        },
                        "type": "barpolar"
                      }
                    ],
                    "carpet": [
                      {
                        "aaxis": {
                          "endlinecolor": "#A2B1C6",
                          "gridcolor": "#506784",
                          "linecolor": "#506784",
                          "minorgridcolor": "#506784",
                          "startlinecolor": "#A2B1C6"
                        },
                        "baxis": {
                          "endlinecolor": "#A2B1C6",
                          "gridcolor": "#506784",
                          "linecolor": "#506784",
                          "minorgridcolor": "#506784",
                          "startlinecolor": "#A2B1C6"
                        },
                        "type": "carpet"
                      }
                    ],
                    "choropleth": [
                      {
                        "colorbar": {
                          "outlinewidth": 0,
                          "ticks": ""
                        },
                        "type": "choropleth"
                      }
                    ],
                    "contour": [
                      {
                        "colorbar": {
                          "outlinewidth": 0,
                          "ticks": ""
                        },
                        "colorscale": [
                          [
                            0,
                            "#0d0887"
                          ],
                          [
                            0.1111111111111111,
                            "#46039f"
                          ],
                          [
                            0.2222222222222222,
                            "#7201a8"
                          ],
                          [
                            0.3333333333333333,
                            "#9c179e"
                          ],
                          [
                            0.4444444444444444,
                            "#bd3786"
                          ],
                          [
                            0.5555555555555556,
                            "#d8576b"
                          ],
                          [
                            0.6666666666666666,
                            "#ed7953"
                          ],
                          [
                            0.7777777777777778,
                            "#fb9f3a"
                          ],
                          [
                            0.8888888888888888,
                            "#fdca26"
                          ],
                          [
                            1,
                            "#f0f921"
                          ]
                        ],
                        "type": "contour"
                      }
                    ],
                    "contourcarpet": [
                      {
                        "colorbar": {
                          "outlinewidth": 0,
                          "ticks": ""
                        },
                        "type": "contourcarpet"
                      }
                    ],
                    "heatmap": [
                      {
                        "colorbar": {
                          "outlinewidth": 0,
                          "ticks": ""
                        },
                        "colorscale": [
                          [
                            0,
                            "#0d0887"
                          ],
                          [
                            0.1111111111111111,
                            "#46039f"
                          ],
                          [
                            0.2222222222222222,
                            "#7201a8"
                          ],
                          [
                            0.3333333333333333,
                            "#9c179e"
                          ],
                          [
                            0.4444444444444444,
                            "#bd3786"
                          ],
                          [
                            0.5555555555555556,
                            "#d8576b"
                          ],
                          [
                            0.6666666666666666,
                            "#ed7953"
                          ],
                          [
                            0.7777777777777778,
                            "#fb9f3a"
                          ],
                          [
                            0.8888888888888888,
                            "#fdca26"
                          ],
                          [
                            1,
                            "#f0f921"
                          ]
                        ],
                        "type": "heatmap"
                      }
                    ],
                    "heatmapgl": [
                      {
                        "colorbar": {
                          "outlinewidth": 0,
                          "ticks": ""
                        },
                        "colorscale": [
                          [
                            0,
                            "#0d0887"
                          ],
                          [
                            0.1111111111111111,
                            "#46039f"
                          ],
                          [
                            0.2222222222222222,
                            "#7201a8"
                          ],
                          [
                            0.3333333333333333,
                            "#9c179e"
                          ],
                          [
                            0.4444444444444444,
                            "#bd3786"
                          ],
                          [
                            0.5555555555555556,
                            "#d8576b"
                          ],
                          [
                            0.6666666666666666,
                            "#ed7953"
                          ],
                          [
                            0.7777777777777778,
                            "#fb9f3a"
                          ],
                          [
                            0.8888888888888888,
                            "#fdca26"
                          ],
                          [
                            1,
                            "#f0f921"
                          ]
                        ],
                        "type": "heatmapgl"
                      }
                    ],
                    "histogram": [
                      {
                        "marker": {
                          "pattern": {
                            "fillmode": "overlay",
                            "size": 10,
                            "solidity": 0.2
                          }
                        },
                        "type": "histogram"
                      }
                    ],
                    "histogram2d": [
                      {
                        "colorbar": {
                          "outlinewidth": 0,
                          "ticks": ""
                        },
                        "colorscale": [
                          [
                            0,
                            "#0d0887"
                          ],
                          [
                            0.1111111111111111,
                            "#46039f"
                          ],
                          [
                            0.2222222222222222,
                            "#7201a8"
                          ],
                          [
                            0.3333333333333333,
                            "#9c179e"
                          ],
                          [
                            0.4444444444444444,
                            "#bd3786"
                          ],
                          [
                            0.5555555555555556,
                            "#d8576b"
                          ],
                          [
                            0.6666666666666666,
                            "#ed7953"
                          ],
                          [
                            0.7777777777777778,
                            "#fb9f3a"
                          ],
                          [
                            0.8888888888888888,
                            "#fdca26"
                          ],
                          [
                            1,
                            "#f0f921"
                          ]
                        ],
                        "type": "histogram2d"
                      }
                    ],
                    "histogram2dcontour": [
                      {
                        "colorbar": {
                          "outlinewidth": 0,
                          "ticks": ""
                        },
                        "colorscale": [
                          [
                            0,
                            "#0d0887"
                          ],
                          [
                            0.1111111111111111,
                            "#46039f"
                          ],
                          [
                            0.2222222222222222,
                            "#7201a8"
                          ],
                          [
                            0.3333333333333333,
                            "#9c179e"
                          ],
                          [
                            0.4444444444444444,
                            "#bd3786"
                          ],
                          [
                            0.5555555555555556,
                            "#d8576b"
                          ],
                          [
                            0.6666666666666666,
                            "#ed7953"
                          ],
                          [
                            0.7777777777777778,
                            "#fb9f3a"
                          ],
                          [
                            0.8888888888888888,
                            "#fdca26"
                          ],
                          [
                            1,
                            "#f0f921"
                          ]
                        ],
                        "type": "histogram2dcontour"
                      }
                    ],
                    "mesh3d": [
                      {
                        "colorbar": {
                          "outlinewidth": 0,
                          "ticks": ""
                        },
                        "type": "mesh3d"
                      }
                    ],
                    "parcoords": [
                      {
                        "line": {
                          "colorbar": {
                            "outlinewidth": 0,
                            "ticks": ""
                          }
                        },
                        "type": "parcoords"
                      }
                    ],
                    "pie": [
                      {
                        "automargin": true,
                        "type": "pie"
                      }
                    ],
                    "scatter": [
                      {
                        "marker": {
                          "line": {
                            "color": "#283442"
                          }
                        },
                        "type": "scatter"
                      }
                    ],
                    "scatter3d": [
                      {
                        "line": {
                          "colorbar": {
                            "outlinewidth": 0,
                            "ticks": ""
                          }
                        },
                        "marker": {
                          "colorbar": {
                            "outlinewidth": 0,
                            "ticks": ""
                          }
                        },
                        "type": "scatter3d"
                      }
                    ],
                    "scattercarpet": [
                      {
                        "marker": {
                          "colorbar": {
                            "outlinewidth": 0,
                            "ticks": ""
                          }
                        },
                        "type": "scattercarpet"
                      }
                    ],
                    "scattergeo": [
                      {
                        "marker": {
                          "colorbar": {
                            "outlinewidth": 0,
                            "ticks": ""
                          }
                        },
                        "type": "scattergeo"
                      }
                    ],
                    "scattergl": [
                      {
                        "marker": {
                          "line": {
                            "color": "#283442"
                          }
                        },
                        "type": "scattergl"
                      }
                    ],
                    "scattermapbox": [
                      {
                        "marker": {
                          "colorbar": {
                            "outlinewidth": 0,
                            "ticks": ""
                          }
                        },
                        "type": "scattermapbox"
                      }
                    ],
                    "scatterpolar": [
                      {
                        "marker": {
                          "colorbar": {
                            "outlinewidth": 0,
                            "ticks": ""
                          }
                        },
                        "type": "scatterpolar"
                      }
                    ],
                    "scatterpolargl": [
                      {
                        "marker": {
                          "colorbar": {
                            "outlinewidth": 0,
                            "ticks": ""
                          }
                        },
                        "type": "scatterpolargl"
                      }
                    ],
                    "scatterternary": [
                      {
                        "marker": {
                          "colorbar": {
                            "outlinewidth": 0,
                            "ticks": ""
                          }
                        },
                        "type": "scatterternary"
                      }
                    ],
                    "surface": [
                      {
                        "colorbar": {
                          "outlinewidth": 0,
                          "ticks": ""
                        },
                        "colorscale": [
                          [
                            0,
                            "#0d0887"
                          ],
                          [
                            0.1111111111111111,
                            "#46039f"
                          ],
                          [
                            0.2222222222222222,
                            "#7201a8"
                          ],
                          [
                            0.3333333333333333,
                            "#9c179e"
                          ],
                          [
                            0.4444444444444444,
                            "#bd3786"
                          ],
                          [
                            0.5555555555555556,
                            "#d8576b"
                          ],
                          [
                            0.6666666666666666,
                            "#ed7953"
                          ],
                          [
                            0.7777777777777778,
                            "#fb9f3a"
                          ],
                          [
                            0.8888888888888888,
                            "#fdca26"
                          ],
                          [
                            1,
                            "#f0f921"
                          ]
                        ],
                        "type": "surface"
                      }
                    ],
                    "table": [
                      {
                        "cells": {
                          "fill": {
                            "color": "#506784"
                          },
                          "line": {
                            "color": "rgb(17,17,17)"
                          }
                        },
                        "header": {
                          "fill": {
                            "color": "#2a3f5f"
                          },
                          "line": {
                            "color": "rgb(17,17,17)"
                          }
                        },
                        "type": "table"
                      }
                    ]
                  },
                  "layout": {
                    "annotationdefaults": {
                      "arrowcolor": "#f2f5fa",
                      "arrowhead": 0,
                      "arrowwidth": 1
                    },
                    "autotypenumbers": "strict",
                    "coloraxis": {
                      "colorbar": {
                        "outlinewidth": 0,
                        "ticks": ""
                      }
                    },
                    "colorscale": {
                      "diverging": [
                        [
                          0,
                          "#8e0152"
                        ],
                        [
                          0.1,
                          "#c51b7d"
                        ],
                        [
                          0.2,
                          "#de77ae"
                        ],
                        [
                          0.3,
                          "#f1b6da"
                        ],
                        [
                          0.4,
                          "#fde0ef"
                        ],
                        [
                          0.5,
                          "#f7f7f7"
                        ],
                        [
                          0.6,
                          "#e6f5d0"
                        ],
                        [
                          0.7,
                          "#b8e186"
                        ],
                        [
                          0.8,
                          "#7fbc41"
                        ],
                        [
                          0.9,
                          "#4d9221"
                        ],
                        [
                          1,
                          "#276419"
                        ]
                      ],
                      "sequential": [
                        [
                          0,
                          "#0d0887"
                        ],
                        [
                          0.1111111111111111,
                          "#46039f"
                        ],
                        [
                          0.2222222222222222,
                          "#7201a8"
                        ],
                        [
                          0.3333333333333333,
                          "#9c179e"
                        ],
                        [
                          0.4444444444444444,
                          "#bd3786"
                        ],
                        [
                          0.5555555555555556,
                          "#d8576b"
                        ],
                        [
                          0.6666666666666666,
                          "#ed7953"
                        ],
                        [
                          0.7777777777777778,
                          "#fb9f3a"
                        ],
                        [
                          0.8888888888888888,
                          "#fdca26"
                        ],
                        [
                          1,
                          "#f0f921"
                        ]
                      ],
                      "sequentialminus": [
                        [
                          0,
                          "#0d0887"
                        ],
                        [
                          0.1111111111111111,
                          "#46039f"
                        ],
                        [
                          0.2222222222222222,
                          "#7201a8"
                        ],
                        [
                          0.3333333333333333,
                          "#9c179e"
                        ],
                        [
                          0.4444444444444444,
                          "#bd3786"
                        ],
                        [
                          0.5555555555555556,
                          "#d8576b"
                        ],
                        [
                          0.6666666666666666,
                          "#ed7953"
                        ],
                        [
                          0.7777777777777778,
                          "#fb9f3a"
                        ],
                        [
                          0.8888888888888888,
                          "#fdca26"
                        ],
                        [
                          1,
                          "#f0f921"
                        ]
                      ]
                    },
                    "colorway": [
                      "#636efa",
                      "#EF553B",
                      "#00cc96",
                      "#ab63fa",
                      "#FFA15A",
                      "#19d3f3",
                      "#FF6692",
                      "#B6E880",
                      "#FF97FF",
                      "#FECB52"
                    ],
                    "font": {
                      "color": "#f2f5fa"
                    },
                    "geo": {
                      "bgcolor": "rgb(17,17,17)",
                      "lakecolor": "rgb(17,17,17)",
                      "landcolor": "rgb(17,17,17)",
                      "showlakes": true,
                      "showland": true,
                      "subunitcolor": "#506784"
                    },
                    "hoverlabel": {
                      "align": "left"
                    },
                    "hovermode": "closest",
                    "mapbox": {
                      "style": "dark"
                    },
                    "paper_bgcolor": "rgb(17,17,17)",
                    "plot_bgcolor": "rgb(17,17,17)",
                    "polar": {
                      "angularaxis": {
                        "gridcolor": "#506784",
                        "linecolor": "#506784",
                        "ticks": ""
                      },
                      "bgcolor": "rgb(17,17,17)",
                      "radialaxis": {
                        "gridcolor": "#506784",
                        "linecolor": "#506784",
                        "ticks": ""
                      }
                    },
                    "scene": {
                      "xaxis": {
                        "backgroundcolor": "rgb(17,17,17)",
                        "gridcolor": "#506784",
                        "gridwidth": 2,
                        "linecolor": "#506784",
                        "showbackground": true,
                        "ticks": "",
                        "zerolinecolor": "#C8D4E3"
                      },
                      "yaxis": {
                        "backgroundcolor": "rgb(17,17,17)",
                        "gridcolor": "#506784",
                        "gridwidth": 2,
                        "linecolor": "#506784",
                        "showbackground": true,
                        "ticks": "",
                        "zerolinecolor": "#C8D4E3"
                      },
                      "zaxis": {
                        "backgroundcolor": "rgb(17,17,17)",
                        "gridcolor": "#506784",
                        "gridwidth": 2,
                        "linecolor": "#506784",
                        "showbackground": true,
                        "ticks": "",
                        "zerolinecolor": "#C8D4E3"
                      }
                    },
                    "shapedefaults": {
                      "line": {
                        "color": "#f2f5fa"
                      }
                    },
                    "sliderdefaults": {
                      "bgcolor": "#C8D4E3",
                      "bordercolor": "rgb(17,17,17)",
                      "borderwidth": 1,
                      "tickwidth": 0
                    },
                    "ternary": {
                      "aaxis": {
                        "gridcolor": "#506784",
                        "linecolor": "#506784",
                        "ticks": ""
                      },
                      "baxis": {
                        "gridcolor": "#506784",
                        "linecolor": "#506784",
                        "ticks": ""
                      },
                      "bgcolor": "rgb(17,17,17)",
                      "caxis": {
                        "gridcolor": "#506784",
                        "linecolor": "#506784",
                        "ticks": ""
                      }
                    },
                    "title": {
                      "x": 0.05
                    },
                    "updatemenudefaults": {
                      "bgcolor": "#506784",
                      "borderwidth": 0
                    },
                    "xaxis": {
                      "automargin": true,
                      "gridcolor": "#283442",
                      "linecolor": "#506784",
                      "ticks": "",
                      "title": {
                        "standoff": 15
                      },
                      "zerolinecolor": "#283442",
                      "zerolinewidth": 2
                    },
                    "yaxis": {
                      "automargin": true,
                      "gridcolor": "#283442",
                      "linecolor": "#506784",
                      "ticks": "",
                      "title": {
                        "standoff": 15
                      },
                      "zerolinecolor": "#283442",
                      "zerolinewidth": 2
                    }
                  }
                },
                "xaxis": {
                  "anchor": "y",
                  "domain": [
                    0,
                    1
                  ],
                  "title": {
                    "text": "OrderValue"
                  }
                },
                "yaxis": {
                  "anchor": "x",
                  "domain": [
                    0,
                    1
                  ],
                  "title": {
                    "text": "count"
                  }
                }
              }
            },
            "text/html": [
              "<div>                            <div id=\"ec6fb2f5-a7d7-478e-85dc-f429dc97ba17\" class=\"plotly-graph-div\" style=\"height:525px; width:100%;\"></div>            <script type=\"text/javascript\">                require([\"plotly\"], function(Plotly) {                    window.PLOTLYENV=window.PLOTLYENV || {};                                    if (document.getElementById(\"ec6fb2f5-a7d7-478e-85dc-f429dc97ba17\")) {                    Plotly.newPlot(                        \"ec6fb2f5-a7d7-478e-85dc-f429dc97ba17\",                        [{\"alignmentgroup\":\"True\",\"bingroup\":\"x\",\"hovertemplate\":\"OrderValue=%{x}<br>count=%{y}<extra></extra>\",\"legendgroup\":\"\",\"marker\":{\"color\":\"#636efa\",\"pattern\":{\"shape\":\"\"}},\"name\":\"\",\"offsetgroup\":\"\",\"orientation\":\"v\",\"showlegend\":false,\"x\":[10.2,35.4,20.0,7.46,2.51,3.95,12.6,29.7,44.28,3.38,1.56,0.55,25.5,30.0,16.5,1.65,4.25,25.2,25.5,1.28,2.95,34.8,3.29,2.46,9.9,15.0,10.2,0.83,7.95,12.6,424.8,6.3,2.95,19.8,3.29,9.78,25.0,2.95,15.9,19.8,4.25,6.96,15.9,8.29,15.0,20.8,0.83,9.9,2.9,11.8,13.2,17.7,23.64,4.13,7.46,3.95,70.8,15.6,25.2,5.79,8.32,15.0,3.3,8.5,59.4,2.25,7.47,1.7,14.96,8.5,8.85,8.29,9.9,2.08,17.4,12.75,5.79,4.16,52.11,52.5,1.63,20.8,17.0,0.85,202.42,10.5,4.95,23.52,10.2,5.78,1.25,10.79,2.46,3.29,20.65,6.6,9.0,1.95,7.95,1.25,7.38,7.44,4.95,22.14,9.9,15.0,6.3,7.46,15.9,0.29,4.95,3.9,10.5,5.85,1.25,20.8,26.0,0.83,1.63,29.7,7.5,9.48,3.75,3.29,10.79,3.75,3.75,15.0,39.6,2.9,4.92,9.9,4.13,24.96,2.46,13.2,34.8,35.4,25.49,2.55,1.65,10.5,2.95,4.25,20.8,15.0,9.36,4.13,14.85,11.8,0.83,7.5,3.16,39.9,19.8,1.66,4.98,17.85,39.6,6.64,29.84,3.29,0.84,1.1,79.2,4.95,2.5,16.5,8.5,1.63,2.46,1.45,10.2,12.46,31.8,4.13,1.25,1.45,4.95,10.2,5.95,15.3,16.5,44.55,29.7,15.0,25.0,15.8,1.52,19.8,3.3,75.6,1.65,0.84,20.8,17.7,4.89,2.51,4.16,2.55,9.95,19.8,81.6,8.29,34.74,1.45,4.16,22.5,13.52,2.5,11.25,0.84,9.92,4.24,19.8,2.1,19.84,85.8,22.5,15.9,8.5,39.6,12.5,4.95,1.7,2.95,79.56,19.8,1.68,1.45,1.25,35.7,3.32,16.5,2.95,20.8,4.96,25.0,1.66,2.95,15.0,35.4,1.45,14.04,16.52,23.0,39.8,1.74,35.4,5.79,13.2,4.25,34.8,7.65,1.63,4.13,15.8,6.58,163.2,1.17,6.38,0.55,5.81,445.2,51.0,14.7,15.0,30.0,12.5,10.12,323.7,12.6,20.8,0.38,17.7,2.25,8.29,69.44,11.58,2.51,4.95,1.25,7.5,19.8,2.55,5.04,99.0,11.9,4.95,10.08,4.15,13.2,3.4,9.36,39.6,5.04,7.5,3.75,17.7,1.66,7.8,25.2,15.0,8.5,50.4,34.0,23.4,15.9,14.85,10.5,4.68,126.0,390.0,10.2,20.4,19.8,33.0,35.7,15.9,10.5,17.0,144.0,17.7,10.5,37.44,10.5,15.0,75.0,19.8,16.35,10.2,19.8,15.9,20.8,22.5,12.48,17.4,15.6,15.9,16.6,15.0,19.8,15.3,17.7,19.8,20.8,20.4,8.5,17.7,30.0,15.0,23.4,12.75,350.4,4.68,65.7,6.96,15.3,17.4,7.8,14.75,30.6,15.0,44.55,17.7,15.0,13.2,20.4,81.6,89.7,14.85,19.5,14.85,12.48,20.4,72.0,15.0,19.9,16.5,16.5,39.6,17.0,19.8,10.2,68.0,15.0,8.4,14.85,69.6,17.4,24.96,19.8,10.95,24.0,36.0,35.4,23.6,7.8,10.08,10.2,13.2,10.2,30.0,12.5,10.08,16.5,6.72,7.8,30.6,15.0,17.85,30.0,70.8,17.7,4.68,7.65,53.1,12.6,139.2,1.65,51.0,12.5,6.64,15.0,63.0,30.0,19.5,19.5,15.6,30.0,15.0,18.0,10.5,59.76,10.2,19.8,14.85,30.0,19.8,8.5,15.0,61.2,10.2,10.5,15.6,15.6,15.0,2.1,15.6,128.88,132.8,108.0,15.0,19.8,44.25,10.2,15.6,13.2,26.4,54.0,17.4,15.3,10.08,16.5,39.6,31.2,13.2,10.2,16.5,15.0,19.8,9.9,12.48,19.8,10.5,21.9,16.6,7.8,30.0,5.04,10.0,44.55,9.36,17.0,2.5,10.5,214.8,36.0,20.4,8.25,18.0,24.96,9.96,17.7,30.0,15.0,10.2,19.5,20.8,39.6,16.5,60.0,30.0,14.3,24.9,35.4,16.6,19.8,39.6,10.08,25.2,16.6,8.5,20.4,15.0,14.85,33.2,12.6,17.7,515.52,20.0,25.2,20.4,18.0,5.04,4.95,72.0,8.5,13.92,33.2,35.7,30.0,14.85,8.2,0.36,75.6,17.0,9.96,0.42,40.8,16.5,44.75,15.3,49.5,68.4,5.04,12.5,18.0,10.0,4.68,25.2,30.6,10.0,20.4,30.6,1.25,16.5,15.9,20.8,17.0,2.5,19.8,20.8,15.0,18.0,5.04,19.8,10.2,13.5,10.0,20.8,67.5,15.0,15.6,163.8,16.6,40.8,244.8,7.8,16.6,19.5,18.0,10.5,5.04,72.0,8.4,46.8,19.5,30.0,19.8,15.3,19.8,17.0,17.7,15.0,17.7,5.04,51.0,4.68,23.9,17.7,39.6,169.5,16.5,208.8,67.5,15.9,14.85,90.0,15.9,312.0,399.36,19.8,30.6,27.0,68.0,139.2,36.48,158.4,633.6,52.02,510.0,13.0,51.84,16.6,41.6,237.6,69.6,53.1,69.12,136.0,271.2,20.8,18.24,120.0,147.5,47.6,16.5,51.84,237.6,124.8,488.16,23.4,222.0,180.0,44.4,108.0,178.2,139.2,179.28,11.8,11.8,11.7,17.85,7.56,99.6,45.0,59.4,15.0,14.85,66.0,15.0,10.08,39.6,20.0,52.5,19.5,13.2,244.8,10.2,43.8,30.0,12.6,19.8,23.4,12.5,13.2,10.2,31.6,15.6,8.5,8.5,11.7,16.5,53.1,15.0,19.5,15.3,66.0,90.0,19.8,122.4,12.5,66.0,27.2,20.0,13.2,29.7,27.2,20.0],\"xaxis\":\"x\",\"yaxis\":\"y\",\"type\":\"histogram\"}],                        {\"template\":{\"data\":{\"histogram2dcontour\":[{\"type\":\"histogram2dcontour\",\"colorbar\":{\"outlinewidth\":0,\"ticks\":\"\"},\"colorscale\":[[0.0,\"#0d0887\"],[0.1111111111111111,\"#46039f\"],[0.2222222222222222,\"#7201a8\"],[0.3333333333333333,\"#9c179e\"],[0.4444444444444444,\"#bd3786\"],[0.5555555555555556,\"#d8576b\"],[0.6666666666666666,\"#ed7953\"],[0.7777777777777778,\"#fb9f3a\"],[0.8888888888888888,\"#fdca26\"],[1.0,\"#f0f921\"]]}],\"choropleth\":[{\"type\":\"choropleth\",\"colorbar\":{\"outlinewidth\":0,\"ticks\":\"\"}}],\"histogram2d\":[{\"type\":\"histogram2d\",\"colorbar\":{\"outlinewidth\":0,\"ticks\":\"\"},\"colorscale\":[[0.0,\"#0d0887\"],[0.1111111111111111,\"#46039f\"],[0.2222222222222222,\"#7201a8\"],[0.3333333333333333,\"#9c179e\"],[0.4444444444444444,\"#bd3786\"],[0.5555555555555556,\"#d8576b\"],[0.6666666666666666,\"#ed7953\"],[0.7777777777777778,\"#fb9f3a\"],[0.8888888888888888,\"#fdca26\"],[1.0,\"#f0f921\"]]}],\"heatmap\":[{\"type\":\"heatmap\",\"colorbar\":{\"outlinewidth\":0,\"ticks\":\"\"},\"colorscale\":[[0.0,\"#0d0887\"],[0.1111111111111111,\"#46039f\"],[0.2222222222222222,\"#7201a8\"],[0.3333333333333333,\"#9c179e\"],[0.4444444444444444,\"#bd3786\"],[0.5555555555555556,\"#d8576b\"],[0.6666666666666666,\"#ed7953\"],[0.7777777777777778,\"#fb9f3a\"],[0.8888888888888888,\"#fdca26\"],[1.0,\"#f0f921\"]]}],\"heatmapgl\":[{\"type\":\"heatmapgl\",\"colorbar\":{\"outlinewidth\":0,\"ticks\":\"\"},\"colorscale\":[[0.0,\"#0d0887\"],[0.1111111111111111,\"#46039f\"],[0.2222222222222222,\"#7201a8\"],[0.3333333333333333,\"#9c179e\"],[0.4444444444444444,\"#bd3786\"],[0.5555555555555556,\"#d8576b\"],[0.6666666666666666,\"#ed7953\"],[0.7777777777777778,\"#fb9f3a\"],[0.8888888888888888,\"#fdca26\"],[1.0,\"#f0f921\"]]}],\"contourcarpet\":[{\"type\":\"contourcarpet\",\"colorbar\":{\"outlinewidth\":0,\"ticks\":\"\"}}],\"contour\":[{\"type\":\"contour\",\"colorbar\":{\"outlinewidth\":0,\"ticks\":\"\"},\"colorscale\":[[0.0,\"#0d0887\"],[0.1111111111111111,\"#46039f\"],[0.2222222222222222,\"#7201a8\"],[0.3333333333333333,\"#9c179e\"],[0.4444444444444444,\"#bd3786\"],[0.5555555555555556,\"#d8576b\"],[0.6666666666666666,\"#ed7953\"],[0.7777777777777778,\"#fb9f3a\"],[0.8888888888888888,\"#fdca26\"],[1.0,\"#f0f921\"]]}],\"surface\":[{\"type\":\"surface\",\"colorbar\":{\"outlinewidth\":0,\"ticks\":\"\"},\"colorscale\":[[0.0,\"#0d0887\"],[0.1111111111111111,\"#46039f\"],[0.2222222222222222,\"#7201a8\"],[0.3333333333333333,\"#9c179e\"],[0.4444444444444444,\"#bd3786\"],[0.5555555555555556,\"#d8576b\"],[0.6666666666666666,\"#ed7953\"],[0.7777777777777778,\"#fb9f3a\"],[0.8888888888888888,\"#fdca26\"],[1.0,\"#f0f921\"]]}],\"mesh3d\":[{\"type\":\"mesh3d\",\"colorbar\":{\"outlinewidth\":0,\"ticks\":\"\"}}],\"scatter\":[{\"marker\":{\"line\":{\"color\":\"#283442\"}},\"type\":\"scatter\"}],\"parcoords\":[{\"type\":\"parcoords\",\"line\":{\"colorbar\":{\"outlinewidth\":0,\"ticks\":\"\"}}}],\"scatterpolargl\":[{\"type\":\"scatterpolargl\",\"marker\":{\"colorbar\":{\"outlinewidth\":0,\"ticks\":\"\"}}}],\"bar\":[{\"error_x\":{\"color\":\"#f2f5fa\"},\"error_y\":{\"color\":\"#f2f5fa\"},\"marker\":{\"line\":{\"color\":\"rgb(17,17,17)\",\"width\":0.5},\"pattern\":{\"fillmode\":\"overlay\",\"size\":10,\"solidity\":0.2}},\"type\":\"bar\"}],\"scattergeo\":[{\"type\":\"scattergeo\",\"marker\":{\"colorbar\":{\"outlinewidth\":0,\"ticks\":\"\"}}}],\"scatterpolar\":[{\"type\":\"scatterpolar\",\"marker\":{\"colorbar\":{\"outlinewidth\":0,\"ticks\":\"\"}}}],\"histogram\":[{\"marker\":{\"pattern\":{\"fillmode\":\"overlay\",\"size\":10,\"solidity\":0.2}},\"type\":\"histogram\"}],\"scattergl\":[{\"marker\":{\"line\":{\"color\":\"#283442\"}},\"type\":\"scattergl\"}],\"scatter3d\":[{\"type\":\"scatter3d\",\"line\":{\"colorbar\":{\"outlinewidth\":0,\"ticks\":\"\"}},\"marker\":{\"colorbar\":{\"outlinewidth\":0,\"ticks\":\"\"}}}],\"scattermapbox\":[{\"type\":\"scattermapbox\",\"marker\":{\"colorbar\":{\"outlinewidth\":0,\"ticks\":\"\"}}}],\"scatterternary\":[{\"type\":\"scatterternary\",\"marker\":{\"colorbar\":{\"outlinewidth\":0,\"ticks\":\"\"}}}],\"scattercarpet\":[{\"type\":\"scattercarpet\",\"marker\":{\"colorbar\":{\"outlinewidth\":0,\"ticks\":\"\"}}}],\"carpet\":[{\"aaxis\":{\"endlinecolor\":\"#A2B1C6\",\"gridcolor\":\"#506784\",\"linecolor\":\"#506784\",\"minorgridcolor\":\"#506784\",\"startlinecolor\":\"#A2B1C6\"},\"baxis\":{\"endlinecolor\":\"#A2B1C6\",\"gridcolor\":\"#506784\",\"linecolor\":\"#506784\",\"minorgridcolor\":\"#506784\",\"startlinecolor\":\"#A2B1C6\"},\"type\":\"carpet\"}],\"table\":[{\"cells\":{\"fill\":{\"color\":\"#506784\"},\"line\":{\"color\":\"rgb(17,17,17)\"}},\"header\":{\"fill\":{\"color\":\"#2a3f5f\"},\"line\":{\"color\":\"rgb(17,17,17)\"}},\"type\":\"table\"}],\"barpolar\":[{\"marker\":{\"line\":{\"color\":\"rgb(17,17,17)\",\"width\":0.5},\"pattern\":{\"fillmode\":\"overlay\",\"size\":10,\"solidity\":0.2}},\"type\":\"barpolar\"}],\"pie\":[{\"automargin\":true,\"type\":\"pie\"}]},\"layout\":{\"autotypenumbers\":\"strict\",\"colorway\":[\"#636efa\",\"#EF553B\",\"#00cc96\",\"#ab63fa\",\"#FFA15A\",\"#19d3f3\",\"#FF6692\",\"#B6E880\",\"#FF97FF\",\"#FECB52\"],\"font\":{\"color\":\"#f2f5fa\"},\"hovermode\":\"closest\",\"hoverlabel\":{\"align\":\"left\"},\"paper_bgcolor\":\"rgb(17,17,17)\",\"plot_bgcolor\":\"rgb(17,17,17)\",\"polar\":{\"bgcolor\":\"rgb(17,17,17)\",\"angularaxis\":{\"gridcolor\":\"#506784\",\"linecolor\":\"#506784\",\"ticks\":\"\"},\"radialaxis\":{\"gridcolor\":\"#506784\",\"linecolor\":\"#506784\",\"ticks\":\"\"}},\"ternary\":{\"bgcolor\":\"rgb(17,17,17)\",\"aaxis\":{\"gridcolor\":\"#506784\",\"linecolor\":\"#506784\",\"ticks\":\"\"},\"baxis\":{\"gridcolor\":\"#506784\",\"linecolor\":\"#506784\",\"ticks\":\"\"},\"caxis\":{\"gridcolor\":\"#506784\",\"linecolor\":\"#506784\",\"ticks\":\"\"}},\"coloraxis\":{\"colorbar\":{\"outlinewidth\":0,\"ticks\":\"\"}},\"colorscale\":{\"sequential\":[[0.0,\"#0d0887\"],[0.1111111111111111,\"#46039f\"],[0.2222222222222222,\"#7201a8\"],[0.3333333333333333,\"#9c179e\"],[0.4444444444444444,\"#bd3786\"],[0.5555555555555556,\"#d8576b\"],[0.6666666666666666,\"#ed7953\"],[0.7777777777777778,\"#fb9f3a\"],[0.8888888888888888,\"#fdca26\"],[1.0,\"#f0f921\"]],\"sequentialminus\":[[0.0,\"#0d0887\"],[0.1111111111111111,\"#46039f\"],[0.2222222222222222,\"#7201a8\"],[0.3333333333333333,\"#9c179e\"],[0.4444444444444444,\"#bd3786\"],[0.5555555555555556,\"#d8576b\"],[0.6666666666666666,\"#ed7953\"],[0.7777777777777778,\"#fb9f3a\"],[0.8888888888888888,\"#fdca26\"],[1.0,\"#f0f921\"]],\"diverging\":[[0,\"#8e0152\"],[0.1,\"#c51b7d\"],[0.2,\"#de77ae\"],[0.3,\"#f1b6da\"],[0.4,\"#fde0ef\"],[0.5,\"#f7f7f7\"],[0.6,\"#e6f5d0\"],[0.7,\"#b8e186\"],[0.8,\"#7fbc41\"],[0.9,\"#4d9221\"],[1,\"#276419\"]]},\"xaxis\":{\"gridcolor\":\"#283442\",\"linecolor\":\"#506784\",\"ticks\":\"\",\"title\":{\"standoff\":15},\"zerolinecolor\":\"#283442\",\"automargin\":true,\"zerolinewidth\":2},\"yaxis\":{\"gridcolor\":\"#283442\",\"linecolor\":\"#506784\",\"ticks\":\"\",\"title\":{\"standoff\":15},\"zerolinecolor\":\"#283442\",\"automargin\":true,\"zerolinewidth\":2},\"scene\":{\"xaxis\":{\"backgroundcolor\":\"rgb(17,17,17)\",\"gridcolor\":\"#506784\",\"linecolor\":\"#506784\",\"showbackground\":true,\"ticks\":\"\",\"zerolinecolor\":\"#C8D4E3\",\"gridwidth\":2},\"yaxis\":{\"backgroundcolor\":\"rgb(17,17,17)\",\"gridcolor\":\"#506784\",\"linecolor\":\"#506784\",\"showbackground\":true,\"ticks\":\"\",\"zerolinecolor\":\"#C8D4E3\",\"gridwidth\":2},\"zaxis\":{\"backgroundcolor\":\"rgb(17,17,17)\",\"gridcolor\":\"#506784\",\"linecolor\":\"#506784\",\"showbackground\":true,\"ticks\":\"\",\"zerolinecolor\":\"#C8D4E3\",\"gridwidth\":2}},\"shapedefaults\":{\"line\":{\"color\":\"#f2f5fa\"}},\"annotationdefaults\":{\"arrowcolor\":\"#f2f5fa\",\"arrowhead\":0,\"arrowwidth\":1},\"geo\":{\"bgcolor\":\"rgb(17,17,17)\",\"landcolor\":\"rgb(17,17,17)\",\"subunitcolor\":\"#506784\",\"showland\":true,\"showlakes\":true,\"lakecolor\":\"rgb(17,17,17)\"},\"title\":{\"x\":0.05},\"updatemenudefaults\":{\"bgcolor\":\"#506784\",\"borderwidth\":0},\"sliderdefaults\":{\"bgcolor\":\"#C8D4E3\",\"borderwidth\":1,\"bordercolor\":\"rgb(17,17,17)\",\"tickwidth\":0},\"mapbox\":{\"style\":\"dark\"}}},\"xaxis\":{\"anchor\":\"y\",\"domain\":[0.0,1.0],\"title\":{\"text\":\"OrderValue\"}},\"yaxis\":{\"anchor\":\"x\",\"domain\":[0.0,1.0],\"title\":{\"text\":\"count\"}},\"legend\":{\"tracegroupgap\":0},\"margin\":{\"t\":60},\"barmode\":\"relative\"},                        {\"responsive\": true}                    ).then(function(){\n",
              "                            \n",
              "var gd = document.getElementById('ec6fb2f5-a7d7-478e-85dc-f429dc97ba17');\n",
              "var x = new MutationObserver(function (mutations, observer) {{\n",
              "        var display = window.getComputedStyle(gd).display;\n",
              "        if (!display || display === 'none') {{\n",
              "            console.log([gd, 'removed!']);\n",
              "            Plotly.purge(gd);\n",
              "            observer.disconnect();\n",
              "        }}\n",
              "}});\n",
              "\n",
              "// Listen for the removal of the full notebook cells\n",
              "var notebookContainer = gd.closest('#notebook-container');\n",
              "if (notebookContainer) {{\n",
              "    x.observe(notebookContainer, {childList: true});\n",
              "}}\n",
              "\n",
              "// Listen for the clearing of the current output cell\n",
              "var outputEl = gd.closest('.output');\n",
              "if (outputEl) {{\n",
              "    x.observe(outputEl, {childList: true});\n",
              "}}\n",
              "\n",
              "                        })                };                });            </script>        </div>"
            ]
          },
          "metadata": {},
          "output_type": "display_data"
        }
      ],
      "source": [
        "fig = px.histogram(data_frame=df, x = \"OrderValue\")\n",
        "fig.show()"
      ]
    },
    {
      "cell_type": "code",
      "execution_count": null,
      "metadata": {
        "id": "VvhJf0D1_fy3",
        "outputId": "93f46b12-0b5c-46a9-cece-a48bfe2b2ec4"
      },
      "outputs": [
        {
          "data": {
            "text/plain": [
              "['Clothes', 'Kitchen', 'Garden', 'Household']"
            ]
          },
          "execution_count": 47,
          "metadata": {},
          "output_type": "execute_result"
        }
      ],
      "source": [
        "df[\"Major Category\"].unique().tolist()"
      ]
    },
    {
      "cell_type": "code",
      "execution_count": null,
      "metadata": {
        "id": "VVM-T-Zb_fy3",
        "outputId": "879af395-65ac-4686-ebd6-4a30f206e8c5"
      },
      "outputs": [
        {
          "data": {
            "application/vnd.plotly.v1+json": {
              "config": {
                "plotlyServerURL": "https://plot.ly"
              },
              "data": [
                {
                  "autobinx": false,
                  "histnorm": "probability density",
                  "legendgroup": "UnitPrice",
                  "marker": {
                    "color": "rgb(31, 119, 180)"
                  },
                  "name": "UnitPrice",
                  "opacity": 0.7,
                  "type": "histogram",
                  "x": [
                    0.85,
                    2.95,
                    1.25,
                    7.46,
                    2.51,
                    3.95,
                    2.1,
                    4.95,
                    2.46,
                    1.69,
                    0.39,
                    0.55,
                    12.75,
                    1.25,
                    1.65,
                    1.65,
                    4.25,
                    2.1,
                    4.25,
                    1.28,
                    2.95,
                    1.45,
                    3.29,
                    2.46,
                    4.95,
                    1.25,
                    2.55,
                    0.83,
                    7.95,
                    2.1,
                    7.08,
                    0.21,
                    2.95,
                    1.65,
                    3.29,
                    1.63,
                    1.25,
                    2.95,
                    7.95,
                    1.65,
                    4.25,
                    0.29,
                    7.95,
                    8.29,
                    1.25,
                    2.08,
                    0.83,
                    1.65,
                    1.45,
                    2.95,
                    0.55,
                    2.95,
                    5.91,
                    4.13,
                    7.46,
                    3.95,
                    2.95,
                    1.95,
                    2.1,
                    5.79,
                    2.08,
                    3.75,
                    1.65,
                    0.85,
                    4.95,
                    2.25,
                    0.83,
                    0.85,
                    14.96,
                    8.5,
                    2.95,
                    8.29,
                    1.65,
                    2.08,
                    1.45,
                    4.25,
                    5.79,
                    2.08,
                    5.79,
                    1.25,
                    1.63,
                    2.08,
                    4.25,
                    0.85,
                    202.42,
                    0.42,
                    1.65,
                    3.36,
                    2.55,
                    2.89,
                    1.25,
                    10.79,
                    2.46,
                    3.29,
                    4.13,
                    1.65,
                    0.75,
                    1.95,
                    7.95,
                    1.25,
                    2.46,
                    0.62,
                    4.95,
                    2.46,
                    4.95,
                    3.75,
                    2.1,
                    7.46,
                    7.95,
                    0.29,
                    1.65,
                    0.65,
                    0.42,
                    1.95,
                    1.25,
                    2.08,
                    3.25,
                    0.83,
                    1.63,
                    4.95,
                    1.25,
                    0.79,
                    1.25,
                    3.29,
                    10.79,
                    3.75,
                    1.25,
                    1.25,
                    0.55,
                    1.45,
                    2.46,
                    4.95,
                    4.13,
                    2.08,
                    2.46,
                    0.55,
                    1.45,
                    2.95,
                    25.49,
                    0.85,
                    1.65,
                    0.42,
                    2.95,
                    4.25,
                    2.08,
                    1.25,
                    0.39,
                    4.13,
                    4.95,
                    2.95,
                    0.83,
                    1.25,
                    0.79,
                    19.95,
                    1.65,
                    0.83,
                    2.49,
                    5.95,
                    4.95,
                    1.66,
                    7.46,
                    3.29,
                    0.42,
                    0.55,
                    0.55,
                    4.95,
                    1.25,
                    1.65,
                    4.25,
                    1.63,
                    2.46,
                    1.45,
                    0.85,
                    12.46,
                    7.95,
                    4.13,
                    1.25,
                    1.45,
                    4.95,
                    0.85,
                    0.85,
                    2.55,
                    1.65,
                    4.95,
                    4.95,
                    3.75,
                    1.25,
                    0.79,
                    0.38,
                    1.65,
                    1.65,
                    2.1,
                    0.55,
                    0.42,
                    2.08,
                    2.95,
                    1.63,
                    2.51,
                    2.08,
                    2.55,
                    9.95,
                    1.65,
                    2.55,
                    8.29,
                    5.79,
                    1.45,
                    2.08,
                    3.75,
                    1.69,
                    1.25,
                    3.75,
                    0.42,
                    4.96,
                    4.24,
                    1.65,
                    2.1,
                    4.96,
                    0.55,
                    3.75,
                    7.95,
                    0.85,
                    1.65,
                    1.25,
                    4.95,
                    0.85,
                    2.95,
                    6.63,
                    1.65,
                    0.42,
                    1.45,
                    1.25,
                    5.95,
                    1.66,
                    8.25,
                    2.95,
                    2.08,
                    4.96,
                    1.25,
                    1.66,
                    2.95,
                    3.75,
                    2.95,
                    0.29,
                    0.39,
                    4.13,
                    5.75,
                    9.95,
                    0.29,
                    2.95,
                    5.79,
                    1.65,
                    4.25,
                    1.45,
                    2.55,
                    1.63,
                    4.13,
                    3.95,
                    3.29,
                    1.7,
                    0.39,
                    0.29,
                    0.55,
                    0.83,
                    1.06,
                    12.75,
                    2.1,
                    1.25,
                    1.25,
                    12.5,
                    5.06,
                    10.79,
                    2.1,
                    2.08,
                    0.19,
                    2.95,
                    2.25,
                    8.29,
                    4.96,
                    5.79,
                    2.51,
                    4.95,
                    1.25,
                    1.25,
                    1.65,
                    0.85,
                    0.42,
                    1.65,
                    5.95,
                    4.95,
                    0.42,
                    4.15,
                    0.55,
                    0.85,
                    0.39,
                    4.95,
                    0.42,
                    1.25,
                    1.25,
                    2.95,
                    0.83,
                    0.65,
                    2.1,
                    1.25,
                    0.85,
                    2.1,
                    8.5,
                    0.65,
                    7.95,
                    4.95,
                    0.42,
                    0.39,
                    2.1,
                    0.65,
                    0.85,
                    0.85,
                    1.65,
                    1.65,
                    5.95,
                    7.95,
                    0.42,
                    0.85,
                    18,
                    2.95,
                    0.42,
                    2.08,
                    0.42,
                    1.25,
                    1.25,
                    4.95,
                    5.45,
                    0.85,
                    1.65,
                    7.95,
                    2.08,
                    1.25,
                    2.08,
                    1.45,
                    1.95,
                    7.95,
                    4.15,
                    1.25,
                    4.95,
                    2.55,
                    2.95,
                    1.65,
                    2.08,
                    0.85,
                    0.85,
                    2.95,
                    3.75,
                    3.75,
                    1.95,
                    12.75,
                    10.95,
                    0.39,
                    10.95,
                    0.29,
                    2.55,
                    1.45,
                    0.65,
                    2.95,
                    2.55,
                    3.75,
                    4.95,
                    2.95,
                    1.25,
                    0.55,
                    0.85,
                    0.85,
                    14.95,
                    4.95,
                    3.25,
                    4.95,
                    2.08,
                    0.85,
                    18,
                    1.25,
                    9.95,
                    1.65,
                    1.65,
                    1.65,
                    4.25,
                    1.65,
                    0.85,
                    8.5,
                    1.25,
                    0.42,
                    4.95,
                    1.45,
                    1.45,
                    2.08,
                    1.65,
                    10.95,
                    1,
                    18,
                    2.95,
                    2.95,
                    0.65,
                    0.42,
                    0.85,
                    0.55,
                    0.85,
                    1.25,
                    12.5,
                    0.42,
                    1.65,
                    0.42,
                    0.65,
                    2.55,
                    1.25,
                    5.95,
                    1.25,
                    2.95,
                    2.95,
                    0.39,
                    2.55,
                    2.95,
                    2.1,
                    1.45,
                    1.65,
                    12.75,
                    1.25,
                    0.83,
                    3.75,
                    2.1,
                    1.25,
                    3.25,
                    3.25,
                    1.95,
                    1.25,
                    1.25,
                    18,
                    0.42,
                    0.83,
                    0.85,
                    1.65,
                    4.95,
                    1.25,
                    4.95,
                    0.85,
                    1.25,
                    2.55,
                    0.85,
                    0.42,
                    1.95,
                    0.65,
                    1.25,
                    2.1,
                    1.95,
                    1.79,
                    4.15,
                    18,
                    1.25,
                    1.65,
                    2.95,
                    0.85,
                    1.95,
                    0.55,
                    1.65,
                    18,
                    1.45,
                    2.55,
                    0.42,
                    1.65,
                    4.95,
                    0.65,
                    1.65,
                    0.85,
                    8.25,
                    3.75,
                    1.65,
                    1.65,
                    2.08,
                    1.65,
                    0.42,
                    10.95,
                    4.15,
                    0.65,
                    1.25,
                    0.42,
                    1.25,
                    4.95,
                    0.39,
                    0.85,
                    1.25,
                    0.42,
                    1.79,
                    18,
                    0.85,
                    8.25,
                    2.25,
                    2.08,
                    0.83,
                    2.95,
                    1.25,
                    1.25,
                    0.85,
                    3.25,
                    2.08,
                    1.65,
                    1.65,
                    1.25,
                    1.25,
                    0.65,
                    4.15,
                    2.95,
                    4.15,
                    4.95,
                    4.95,
                    0.42,
                    2.1,
                    4.15,
                    0.85,
                    0.85,
                    1.25,
                    4.95,
                    4.15,
                    2.1,
                    2.95,
                    1.79,
                    1.25,
                    2.1,
                    0.85,
                    18,
                    0.42,
                    1.65,
                    18,
                    0.85,
                    0.29,
                    4.15,
                    5.95,
                    1.25,
                    4.95,
                    0.82,
                    0.12,
                    2.1,
                    8.5,
                    0.83,
                    0.42,
                    0.85,
                    1.65,
                    8.95,
                    2.55,
                    1.65,
                    0.19,
                    0.42,
                    1.25,
                    18,
                    1.25,
                    0.39,
                    2.1,
                    2.55,
                    1.25,
                    0.85,
                    2.55,
                    1.25,
                    1.65,
                    7.95,
                    2.08,
                    0.85,
                    1.25,
                    1.65,
                    2.08,
                    1.25,
                    18,
                    0.21,
                    1.65,
                    0.85,
                    6.75,
                    1.25,
                    2.08,
                    6.75,
                    3.75,
                    0.65,
                    1.95,
                    4.15,
                    0.85,
                    2.55,
                    0.65,
                    4.15,
                    3.25,
                    18,
                    0.42,
                    0.42,
                    18,
                    0.42,
                    1.95,
                    1.95,
                    3.75,
                    1.65,
                    2.55,
                    1.65,
                    0.85,
                    2.95,
                    3.75,
                    2.95,
                    0.42,
                    0.85,
                    0.39,
                    11.95,
                    2.95,
                    1.65,
                    3.39,
                    1.65,
                    1.45,
                    6.75,
                    7.95,
                    4.95,
                    1.25,
                    7.95,
                    3.25,
                    1.04,
                    1.65,
                    2.55,
                    6.75,
                    0.34,
                    1.45,
                    0.38,
                    1.65,
                    0.55,
                    2.89,
                    4.25,
                    3.25,
                    0.36,
                    4.15,
                    2.08,
                    1.65,
                    1.45,
                    2.95,
                    0.72,
                    0.34,
                    3.39,
                    2.08,
                    0.19,
                    1.25,
                    2.95,
                    5.95,
                    1.65,
                    0.36,
                    1.65,
                    1.04,
                    3.39,
                    1.95,
                    1.85,
                    3.75,
                    0.37,
                    0.25,
                    4.95,
                    1.45,
                    2.49,
                    2.95,
                    2.95,
                    1.95,
                    5.95,
                    0.21,
                    4.15,
                    3.75,
                    1.65,
                    3.75,
                    4.95,
                    8.25,
                    3.75,
                    0.42,
                    4.95,
                    1.25,
                    2.1,
                    3.25,
                    0.55,
                    2.55,
                    0.85,
                    10.95,
                    1.25,
                    2.1,
                    1.65,
                    0.65,
                    1.25,
                    0.55,
                    0.85,
                    3.95,
                    1.95,
                    0.85,
                    0.85,
                    1.95,
                    1.65,
                    2.95,
                    15,
                    3.25,
                    2.55,
                    1.65,
                    3.75,
                    4.95,
                    2.55,
                    1.25,
                    8.25,
                    0.85,
                    1.25,
                    0.55,
                    4.95,
                    0.85,
                    1.25
                  ],
                  "xaxis": "x",
                  "xbins": {
                    "end": 202.42,
                    "size": 1,
                    "start": 0.12
                  },
                  "yaxis": "y"
                },
                {
                  "legendgroup": "UnitPrice",
                  "marker": {
                    "color": "rgb(31, 119, 180)"
                  },
                  "mode": "lines",
                  "name": "UnitPrice",
                  "showlegend": false,
                  "type": "scatter",
                  "x": [
                    0.12,
                    0.5246,
                    0.9291999999999999,
                    1.3338,
                    1.7384,
                    2.143,
                    2.5476,
                    2.9522,
                    3.3568,
                    3.7613999999999996,
                    4.1659999999999995,
                    4.5706,
                    4.9752,
                    5.3797999999999995,
                    5.7844,
                    6.188999999999999,
                    6.5935999999999995,
                    6.9982,
                    7.402799999999999,
                    7.8073999999999995,
                    8.211999999999998,
                    8.616599999999998,
                    9.021199999999999,
                    9.425799999999999,
                    9.8304,
                    10.235,
                    10.639599999999998,
                    11.044199999999998,
                    11.448799999999999,
                    11.853399999999999,
                    12.257999999999997,
                    12.662599999999998,
                    13.067199999999998,
                    13.471799999999998,
                    13.876399999999999,
                    14.280999999999997,
                    14.685599999999997,
                    15.090199999999998,
                    15.494799999999998,
                    15.899399999999996,
                    16.304,
                    16.7086,
                    17.1132,
                    17.5178,
                    17.9224,
                    18.327,
                    18.7316,
                    19.1362,
                    19.5408,
                    19.9454,
                    20.35,
                    20.7546,
                    21.1592,
                    21.5638,
                    21.9684,
                    22.372999999999998,
                    22.7776,
                    23.182199999999998,
                    23.5868,
                    23.9914,
                    24.395999999999997,
                    24.8006,
                    25.205199999999998,
                    25.6098,
                    26.0144,
                    26.418999999999997,
                    26.8236,
                    27.228199999999998,
                    27.6328,
                    28.037399999999998,
                    28.441999999999997,
                    28.8466,
                    29.251199999999997,
                    29.6558,
                    30.060399999999998,
                    30.464999999999996,
                    30.8696,
                    31.274199999999997,
                    31.678799999999995,
                    32.0834,
                    32.48799999999999,
                    32.892599999999995,
                    33.2972,
                    33.70179999999999,
                    34.106399999999994,
                    34.510999999999996,
                    34.9156,
                    35.32019999999999,
                    35.724799999999995,
                    36.12939999999999,
                    36.534,
                    36.938599999999994,
                    37.343199999999996,
                    37.74779999999999,
                    38.15239999999999,
                    38.556999999999995,
                    38.9616,
                    39.36619999999999,
                    39.770799999999994,
                    40.17539999999999,
                    40.58,
                    40.98459999999999,
                    41.389199999999995,
                    41.79379999999999,
                    42.19839999999999,
                    42.602999999999994,
                    43.0076,
                    43.41219999999999,
                    43.81679999999999,
                    44.22139999999999,
                    44.62599999999999,
                    45.03059999999999,
                    45.435199999999995,
                    45.83979999999999,
                    46.24439999999999,
                    46.64899999999999,
                    47.053599999999996,
                    47.4582,
                    47.86279999999999,
                    48.267399999999995,
                    48.67199999999999,
                    49.0766,
                    49.481199999999994,
                    49.885799999999996,
                    50.29039999999999,
                    50.69499999999999,
                    51.099599999999995,
                    51.5042,
                    51.90879999999999,
                    52.313399999999994,
                    52.71799999999999,
                    53.1226,
                    53.52719999999999,
                    53.931799999999996,
                    54.33639999999999,
                    54.74099999999999,
                    55.145599999999995,
                    55.5502,
                    55.95479999999999,
                    56.359399999999994,
                    56.76399999999999,
                    57.1686,
                    57.57319999999999,
                    57.977799999999995,
                    58.38239999999999,
                    58.78699999999999,
                    59.191599999999994,
                    59.596199999999996,
                    60.00079999999999,
                    60.40539999999999,
                    60.80999999999999,
                    61.21459999999999,
                    61.61919999999999,
                    62.023799999999994,
                    62.42839999999999,
                    62.83299999999999,
                    63.237599999999986,
                    63.642199999999995,
                    64.04679999999999,
                    64.45139999999999,
                    64.856,
                    65.2606,
                    65.6652,
                    66.06979999999999,
                    66.4744,
                    66.879,
                    67.28359999999999,
                    67.6882,
                    68.0928,
                    68.4974,
                    68.902,
                    69.30659999999999,
                    69.7112,
                    70.1158,
                    70.5204,
                    70.92500000000001,
                    71.3296,
                    71.7342,
                    72.13879999999999,
                    72.5434,
                    72.94800000000001,
                    73.3526,
                    73.7572,
                    74.1618,
                    74.5664,
                    74.971,
                    75.37559999999999,
                    75.78020000000001,
                    76.1848,
                    76.5894,
                    76.994,
                    77.3986,
                    77.8032,
                    78.20779999999999,
                    78.6124,
                    79.01700000000001,
                    79.4216,
                    79.8262,
                    80.23079999999999,
                    80.6354,
                    81.04,
                    81.4446,
                    81.8492,
                    82.2538,
                    82.6584,
                    83.063,
                    83.46759999999999,
                    83.8722,
                    84.2768,
                    84.6814,
                    85.086,
                    85.4906,
                    85.8952,
                    86.29979999999999,
                    86.70439999999999,
                    87.109,
                    87.5136,
                    87.9182,
                    88.32279999999999,
                    88.7274,
                    89.13199999999999,
                    89.53659999999999,
                    89.9412,
                    90.3458,
                    90.7504,
                    91.15499999999999,
                    91.55959999999999,
                    91.9642,
                    92.3688,
                    92.7734,
                    93.17799999999998,
                    93.5826,
                    93.9872,
                    94.39179999999999,
                    94.7964,
                    95.201,
                    95.6056,
                    96.0102,
                    96.4148,
                    96.8194,
                    97.22399999999999,
                    97.62859999999999,
                    98.03320000000001,
                    98.4378,
                    98.8424,
                    99.24699999999999,
                    99.6516,
                    100.0562,
                    100.46079999999999,
                    100.8654,
                    101.27,
                    101.6746,
                    102.0792,
                    102.48379999999999,
                    102.8884,
                    103.29299999999999,
                    103.6976,
                    104.1022,
                    104.5068,
                    104.9114,
                    105.31599999999999,
                    105.72059999999999,
                    106.1252,
                    106.5298,
                    106.9344,
                    107.33899999999998,
                    107.7436,
                    108.1482,
                    108.55279999999999,
                    108.95739999999999,
                    109.362,
                    109.7666,
                    110.1712,
                    110.57579999999999,
                    110.9804,
                    111.38499999999999,
                    111.7896,
                    112.1942,
                    112.5988,
                    113.0034,
                    113.40799999999999,
                    113.81259999999999,
                    114.2172,
                    114.6218,
                    115.0264,
                    115.43099999999998,
                    115.8356,
                    116.2402,
                    116.64479999999999,
                    117.0494,
                    117.454,
                    117.8586,
                    118.2632,
                    118.6678,
                    119.0724,
                    119.47699999999999,
                    119.88159999999999,
                    120.28620000000001,
                    120.6908,
                    121.0954,
                    121.49999999999999,
                    121.9046,
                    122.30919999999999,
                    122.71379999999999,
                    123.1184,
                    123.523,
                    123.9276,
                    124.33219999999999,
                    124.73679999999999,
                    125.1414,
                    125.54599999999999,
                    125.9506,
                    126.35519999999998,
                    126.7598,
                    127.1644,
                    127.56899999999999,
                    127.97359999999999,
                    128.3782,
                    128.78279999999998,
                    129.1874,
                    129.59199999999998,
                    129.9966,
                    130.4012,
                    130.8058,
                    131.2104,
                    131.615,
                    132.01959999999997,
                    132.42419999999998,
                    132.8288,
                    133.2334,
                    133.638,
                    134.0426,
                    134.44719999999998,
                    134.8518,
                    135.25639999999999,
                    135.661,
                    136.0656,
                    136.47019999999998,
                    136.8748,
                    137.2794,
                    137.684,
                    138.08859999999999,
                    138.49319999999997,
                    138.8978,
                    139.3024,
                    139.707,
                    140.11159999999998,
                    140.5162,
                    140.92079999999999,
                    141.3254,
                    141.73000000000002,
                    142.13459999999998,
                    142.5392,
                    142.94379999999998,
                    143.3484,
                    143.75300000000001,
                    144.15759999999997,
                    144.5622,
                    144.9668,
                    145.3714,
                    145.776,
                    146.18059999999997,
                    146.5852,
                    146.9898,
                    147.3944,
                    147.799,
                    148.2036,
                    148.60819999999998,
                    149.0128,
                    149.4174,
                    149.822,
                    150.2266,
                    150.63119999999998,
                    151.0358,
                    151.4404,
                    151.845,
                    152.2496,
                    152.65419999999997,
                    153.0588,
                    153.4634,
                    153.868,
                    154.27259999999998,
                    154.6772,
                    155.0818,
                    155.4864,
                    155.891,
                    156.29559999999998,
                    156.7002,
                    157.10479999999998,
                    157.5094,
                    157.91400000000002,
                    158.31859999999998,
                    158.7232,
                    159.12779999999998,
                    159.5324,
                    159.937,
                    160.34159999999997,
                    160.7462,
                    161.1508,
                    161.5554,
                    161.96,
                    162.36459999999997,
                    162.76919999999998,
                    163.1738,
                    163.5784,
                    163.983,
                    164.3876,
                    164.79219999999998,
                    165.1968,
                    165.6014,
                    166.006,
                    166.4106,
                    166.81519999999998,
                    167.2198,
                    167.6244,
                    168.029,
                    168.43359999999998,
                    168.8382,
                    169.2428,
                    169.6474,
                    170.052,
                    170.45659999999998,
                    170.8612,
                    171.26579999999998,
                    171.6704,
                    172.07500000000002,
                    172.47959999999998,
                    172.8842,
                    173.28879999999998,
                    173.6934,
                    174.09799999999998,
                    174.50259999999997,
                    174.9072,
                    175.3118,
                    175.7164,
                    176.12099999999998,
                    176.52559999999997,
                    176.93019999999999,
                    177.3348,
                    177.7394,
                    178.14399999999998,
                    178.5486,
                    178.95319999999998,
                    179.3578,
                    179.76239999999999,
                    180.16699999999997,
                    180.5716,
                    180.97619999999998,
                    181.3808,
                    181.7854,
                    182.18999999999997,
                    182.59459999999999,
                    182.99919999999997,
                    183.4038,
                    183.8084,
                    184.21299999999997,
                    184.61759999999998,
                    185.0222,
                    185.4268,
                    185.8314,
                    186.23599999999996,
                    186.64059999999998,
                    187.0452,
                    187.44979999999998,
                    187.8544,
                    188.259,
                    188.66359999999997,
                    189.0682,
                    189.4728,
                    189.8774,
                    190.28199999999998,
                    190.68659999999997,
                    191.0912,
                    191.4958,
                    191.9004,
                    192.30499999999998,
                    192.7096,
                    193.11419999999998,
                    193.5188,
                    193.9234,
                    194.32799999999997,
                    194.7326,
                    195.13719999999998,
                    195.5418,
                    195.9464,
                    196.35099999999997,
                    196.7556,
                    197.16019999999997,
                    197.5648,
                    197.9694,
                    198.37399999999997,
                    198.77859999999998,
                    199.1832,
                    199.5878,
                    199.9924,
                    200.39699999999996,
                    200.80159999999998,
                    201.2062,
                    201.61079999999998,
                    202.0154
                  ],
                  "xaxis": "x",
                  "y": [
                    0.10678857396553205,
                    0.117447080300459,
                    0.1258439189616439,
                    0.13146855916782885,
                    0.1340246410513788,
                    0.13345824623043917,
                    0.1299528077467625,
                    0.1238934053138833,
                    0.11580874514618653,
                    0.1063023494833277,
                    0.09598484443707045,
                    0.0854170541323062,
                    0.07506984720849899,
                    0.06530255092167518,
                    0.05635829591657729,
                    0.04837248379039222,
                    0.04138976787884481,
                    0.035385201045212894,
                    0.03028605977256285,
                    0.025991873932033994,
                    0.022391117369355677,
                    0.01937376642134149,
                    0.01683954134293262,
                    0.014702156725347347,
                    0.012890325906863257,
                    0.011346546320614744,
                    0.01002477942440333,
                    0.008888005867396003,
                    0.0079063211809265,
                    0.007055832852241431,
                    0.006318242063922806,
                    0.005680739427651073,
                    0.005135761474392482,
                    0.004680235171959815,
                    0.004314130904946842,
                    0.004038381919852834,
                    0.0038524462911633415,
                    0.0037519388421312283,
                    0.003726817154803982,
                    0.003760556469640661,
                    0.0038305966940993326,
                    0.003910111808400118,
                    0.003970878532029781,
                    0.0039867661694692625,
                    0.003937199282829464,
                    0.0038099134254032103,
                    0.0036024529019508538,
                    0.003322124057955223,
                    0.002984451057831442,
                    0.002610493914009884,
                    0.00222359800191433,
                    0.001846202097605189,
                    0.0014972382241198367,
                    0.0011904556396320747,
                    0.0009337621820128275,
                    0.0007294669098358683,
                    0.000575174211482086,
                    0.00046503490597162115,
                    0.0003910891941175214,
                    0.0003445080766999914,
                    0.0003166208290184502,
                    0.00029968268912009525,
                    0.0002873795990210492,
                    0.0002750883438661643,
                    0.0002599198179915634,
                    0.0002405794397704577,
                    0.0002170867092235666,
                    0.0001904050713242117,
                    0.00016203965620674562,
                    0.00013365974537428695,
                    0.00010679286146019969,
                    0.00008261954358928874,
                    0.0000618763641250597,
                    0.0000448548791925984,
                    0.00003147039783145369,
                    0.000021368844695180494,
                    0.000014042133888496175,
                    0.000008929979744129573,
                    0.000005495766125322858,
                    0.000003273131073499645,
                    0.0000018864880795704584,
                    0.0000010522019050814374,
                    5.679338137238256e-7,
                    2.966535428351672e-7,
                    1.499526818067766e-7,
                    7.335194618469798e-8,
                    3.472335161162989e-8,
                    1.5906848943278524e-8,
                    7.051786458898473e-9,
                    3.025287107927889e-9,
                    1.2559908370659148e-9,
                    5.046133829571049e-10,
                    1.9619298246270573e-10,
                    7.381771219252368e-11,
                    2.6877575907790224e-11,
                    9.47048052219863e-12,
                    3.2292846955333196e-12,
                    1.0655971584777377e-12,
                    3.402766690706321e-13,
                    1.0515349004835114e-13,
                    3.144615924589225e-14,
                    9.100472180971363e-15,
                    2.5486643400153275e-15,
                    6.907386502180606e-16,
                    1.81162068864076e-16,
                    4.598044654872736e-17,
                    1.1293576465036142e-17,
                    2.6843689554056278e-18,
                    6.174550080067685e-19,
                    1.3744243039539357e-19,
                    2.9606613476432286e-20,
                    6.171760157740659e-21,
                    1.2450355323469048e-21,
                    2.4305628212583887e-22,
                    4.591814698279696e-23,
                    8.394875431530158e-24,
                    1.4852397278557212e-24,
                    2.5429115685672368e-25,
                    4.213260935133001e-26,
                    6.755505542323418e-27,
                    1.0482135068227848e-27,
                    1.5739612909002502e-28,
                    2.2871294291439698e-29,
                    3.21617621483274e-30,
                    4.376645070551273e-31,
                    5.763618410131434e-32,
                    7.345164225879058e-33,
                    9.058581576858568e-34,
                    1.081113493830372e-34,
                    1.2486329037502056e-35,
                    1.3955669032191096e-36,
                    1.5094507459449806e-37,
                    1.57993649261538e-38,
                    1.600341668504931e-39,
                    1.5686938540178222e-40,
                    1.4880450371587804e-41,
                    1.3659863369646876e-42,
                    1.2134699721356953e-43,
                    1.04319167232774e-44,
                    8.67863828527776e-46,
                    6.987011583164755e-47,
                    5.44356906641185e-48,
                    4.104199004277271e-49,
                    2.994508035222444e-50,
                    2.1143406219583012e-51,
                    1.444697175602175e-52,
                    9.55280895832508e-54,
                    6.1127658495161144e-55,
                    3.7852696889147366e-56,
                    2.268340739098818e-57,
                    1.3154433726646962e-58,
                    7.382244428753932e-60,
                    4.0091941052105826e-61,
                    2.1070660249603443e-62,
                    1.0716466351984212e-63,
                    5.27445345058726e-65,
                    2.512208738398275e-66,
                    1.1579408596278606e-67,
                    5.164989403212751e-69,
                    2.2294867193210372e-70,
                    9.313067344635527e-72,
                    3.764722729844122e-73,
                    1.47273852552259e-74,
                    5.575331542733192e-76,
                    2.0425286063404858e-77,
                    7.241324273856368e-79,
                    2.484392693619524e-80,
                    8.248498306341755e-82,
                    2.650220046497275e-83,
                    8.240268800131196e-85,
                    2.479437821782807e-86,
                    7.219671937152812e-88,
                    2.0343894942227282e-89,
                    5.54757451230868e-91,
                    1.4639444004116238e-92,
                    3.738508913228305e-94,
                    9.238993401086295e-96,
                    2.2095472458476345e-97,
                    5.11368917360357e-99,
                    1.1452960422515605e-100,
                    2.4822961410789547e-102,
                    5.206451453370717e-104,
                    1.0567748116579519e-105,
                    2.0757520821301627e-107,
                    3.9456713655878557e-109,
                    7.258029631140787e-111,
                    1.2920191853658294e-112,
                    2.22572542684254e-114,
                    3.710450231937734e-116,
                    5.985963071554804e-118,
                    9.34531306476246e-120,
                    1.4119069466902504e-121,
                    2.0642899311231058e-123,
                    2.9207051228092383e-125,
                    3.999052719588607e-127,
                    5.298817299103476e-129,
                    6.794432061344584e-131,
                    8.431013297257366e-133,
                    1.0124155034568519e-134,
                    1.1764953059020108e-136,
                    1.3230431522799983e-138,
                    1.4398266869166836e-140,
                    1.5163478063584374e-142,
                    1.5453961810782627e-144,
                    1.5241694095970352e-146,
                    1.454718782431949e-148,
                    1.3436224459361873e-150,
                    1.2009580938184252e-152,
                    1.0387974034210202e-154,
                    8.695333755298245e-157,
                    7.043589804068042e-159,
                    5.521464126645523e-161,
                    4.1885803650264874e-163,
                    3.074906036880464e-165,
                    2.1844858938577077e-167,
                    1.5018239956557644e-169,
                    9.991742482281196e-172,
                    6.433033673233102e-174,
                    4.008139384617966e-176,
                    2.4166970168963087e-178,
                    1.4101132552508747e-180,
                    7.962293514984721e-183,
                    4.3508566026764216e-185,
                    2.3007199357674763e-187,
                    1.1773487861884878e-189,
                    5.8304076936096765e-192,
                    2.7941203386303945e-194,
                    1.295817044374396e-196,
                    5.815601882988754e-199,
                    2.5257947012195067e-201,
                    1.0615826843652831e-203,
                    4.317794842522717e-206,
                    1.6995055193049748e-208,
                    6.47344636934601e-211,
                    2.386167511178679e-213,
                    8.511746898112292e-216,
                    2.9382508665954333e-218,
                    9.815477765600292e-221,
                    3.1731193922186735e-223,
                    9.926903081083015e-226,
                    3.005339567701329e-228,
                    8.804926106964885e-231,
                    2.496377622525705e-233,
                    6.849316660275729e-236,
                    1.8185975777160794e-238,
                    4.672812665357828e-241,
                    1.1619101120035849e-243,
                    2.7958836298293705e-246,
                    6.510555569605899e-249,
                    1.4671327369115747e-251,
                    3.1994340650495846e-254,
                    6.751951594371264e-257,
                    1.378916202402658e-259,
                    2.7252028099612827e-262,
                    5.212093289834328e-265,
                    9.646681318906556e-268,
                    1.7278103925918116e-270,
                    2.9947917704310162e-273,
                    5.0233053592648865e-276,
                    8.153891459468398e-279,
                    1.2808334822044202e-281,
                    1.947030777930314e-284,
                    2.8642133224781186e-287,
                    4.07746557525548e-290,
                    5.617300337215393e-293,
                    7.488888855891972e-296,
                    9.661832954311485e-299,
                    1.2062964866344108e-301,
                    1.457474617845405e-304,
                    1.704120639178328e-307,
                    1.9281999686581e-310,
                    2.1113304221e-313,
                    2.23724085e-316,
                    2.29414e-319,
                    2.27e-322,
                    0,
                    0,
                    0,
                    0,
                    0,
                    0,
                    0,
                    0,
                    0,
                    0,
                    0,
                    0,
                    0,
                    0,
                    1.77e-321,
                    1.766695e-318,
                    1.706214014e-315,
                    1.5946241224e-312,
                    1.442233414617224e-309,
                    1.262307539361753e-306,
                    1.0691710671826288e-303,
                    8.763581268412587e-301,
                    6.951338510563441e-298,
                    5.33589968678452e-295,
                    3.9636862832706748e-292,
                    2.8493335385110445e-289,
                    1.9821645523765886e-286,
                    1.3344076387221043e-283,
                    8.693401393920205e-281,
                    5.4807923006129303e-278,
                    3.3438697715712374e-275,
                    1.9742755409364154e-272,
                    1.1280246078160435e-269,
                    6.237086706167105e-267,
                    3.3373164420397224e-264,
                    1.7280861663810662e-261,
                    8.659360057234064e-259,
                    4.1991230510098807e-256,
                    1.970533414566162e-253,
                    8.94873000072233e-251,
                    3.9327053133251474e-248,
                    1.6725295670024136e-245,
                    6.883488670108356e-243,
                    2.741547651078168e-240,
                    1.0566603093079997e-237,
                    3.941190155379937e-235,
                    1.4225638980534019e-232,
                    4.968995180265732e-230,
                    1.6796460268558104e-227,
                    5.494388410062877e-225,
                    1.739295393337495e-222,
                    5.328190390435774e-220,
                    1.5795687099288972e-217,
                    4.5315805927170974e-215,
                    1.2580945852795785e-212,
                    3.380097883680975e-210,
                    8.788154025396831e-208,
                    2.211151204054364e-205,
                    5.38383352431706e-203,
                    1.2685780775790708e-200,
                    2.8926452828620447e-198,
                    6.383010488069043e-196,
                    1.3630391636017403e-193,
                    2.8167189118428566e-191,
                    5.632887582054167e-189,
                    1.0901118410083632e-186,
                    2.0415660221396642e-184,
                    3.7000551734281525e-182,
                    6.489412335774239e-180,
                    1.1014250228657702e-177,
                    1.809076393443334e-175,
                    2.87548610444211e-173,
                    4.423011197325106e-171,
                    6.583808698071528e-169,
                    9.483939323406348e-167,
                    1.3220647599448497e-164,
                    1.7834834778547613e-162,
                    2.32829416947386e-160,
                    2.9414333334977723e-158,
                    3.5961066880261385e-156,
                    4.25459793241504e-154,
                    4.871210313889005e-152,
                    5.397189109757446e-150,
                    5.786964112335785e-148,
                    6.004631244795446e-146,
                    6.029402730946456e-144,
                    5.8588805505089546e-142,
                    5.509439180788397e-140,
                    5.013633014869021e-138,
                    4.415197028687138e-136,
                    3.7627038255642872e-134,
                    3.103147220795181e-132,
                    2.476607159470889e-130,
                    1.9127766740440851e-128,
                    1.4296305129720104e-126,
                    1.0340362157949756e-124,
                    7.23769185948274e-123,
                    4.902491258374836e-121,
                    3.21355668878892e-119,
                    2.038484914896463e-117,
                    1.2513576049938758e-115,
                    7.433746921269371e-114,
                    4.273527518633454e-112,
                    2.3774841867414667e-110,
                    1.2799740593326945e-108,
                    6.668637312604392e-107,
                    3.362214579025811e-105,
                    1.640461924696311e-103,
                    7.74567519717379e-102,
                    3.539197571142462e-100,
                    1.5649581632394958e-98,
                    6.696579905946286e-97,
                    2.773037724628431e-95,
                    1.1112477615495194e-93,
                    4.309415996632077e-92,
                    1.6172543897810638e-90,
                    5.873414577132498e-89,
                    2.064217111287751e-87,
                    7.020571872705051e-86,
                    2.3106917015760516e-84,
                    7.359764510086667e-83,
                    2.26849711455919e-81,
                    6.766513347684173e-80,
                    1.9531880270675338e-78,
                    5.4560150913911604e-77,
                    1.4748894575955746e-75,
                    3.858298096263568e-74,
                    9.767523952942035e-73,
                    2.3929057324671357e-71,
                    5.673082433661463e-70,
                    1.3015624094806708e-68,
                    2.889770139791109e-67,
                    6.20889049040666e-66,
                    1.2909728230758002e-64,
                    2.597601931310711e-63,
                    5.058019462853978e-62,
                    9.53105098370028e-61,
                    1.738014871286411e-59,
                    3.0670339443095385e-58,
                    5.237645200531455e-57,
                    8.655775185895595e-56,
                    1.3842937537040527e-54,
                    2.142411788357143e-53,
                    3.2087068271223053e-52,
                    4.650605771503125e-51,
                    6.522910401104568e-50,
                    8.853718279368486e-49,
                    1.1629535895820175e-47,
                    1.4782621837906067e-46,
                    1.818414767410326e-45,
                    2.1646457401985254e-44,
                    2.4936363005820936e-43,
                    2.779916752758846e-42,
                    2.999044217341579e-41,
                    3.131023635917608e-40,
                    3.1633134079870543e-39,
                    3.092790460383527e-38,
                    2.926248277166436e-37,
                    2.6793178894908486e-36,
                    2.3740492027218004e-35,
                    2.035670983426934e-34,
                    1.6891874876365766e-33,
                    1.356439800478085e-32,
                    1.0540848993075736e-31,
                    7.92689413341638e-31,
                    5.768766005607909e-30,
                    4.062704054408999e-29,
                    2.7688526889608634e-28,
                    1.8261519554057206e-27,
                    1.1655378288506001e-26,
                    7.198934688166302e-26,
                    4.302912277085228e-25,
                    2.4889097555970474e-24,
                    1.3931831288839803e-23,
                    7.546744765105516e-23,
                    3.956065892721897e-22,
                    2.006872445214921e-21,
                    9.852091176215934e-21,
                    4.680470082747992e-20,
                    2.151805056727976e-19,
                    9.573456600922774e-19,
                    4.1218010055623855e-18,
                    1.717345465779301e-17,
                    6.924377135120366e-17,
                    2.7018184211257143e-16,
                    1.0201969059879823e-15,
                    3.727899920183286e-15,
                    1.3182472870552556e-14,
                    4.511094518023306e-14,
                    1.4938925658287778e-13,
                    4.787504600996548e-13,
                    1.484743530416049e-12,
                    4.4560091885551275e-12,
                    1.2941753176856836e-11,
                    3.6374124315366165e-11,
                    9.893372920058543e-11,
                    2.6040457588136576e-10,
                    6.632927375821039e-10,
                    1.6349868795536584e-9,
                    3.900099621302128e-9,
                    9.00304722000868e-9,
                    2.0112022879990363e-8,
                    4.3478482696751126e-8,
                    9.09589428105651e-8,
                    1.8414877205285614e-7,
                    3.607818235397646e-7,
                    6.840264106055418e-7,
                    0.0000012550282172635215,
                    0.000002228365926914473,
                    0.00000382888151257226,
                    0.0000063666319406528155,
                    0.000010244716844678737,
                    0.000015953007667637902,
                    0.000024040172931803453,
                    0.00003505782750364721,
                    0.00004947488702208951,
                    0.00006756737103810973,
                    0.00008929797911526453,
                    0.00011420855550242664,
                    0.0001413539814850791,
                    0.00016930502631546152,
                    0.00019623842810517447,
                    0.00022011551755614408,
                    0.00023892943874968491,
                    0.0002509811266728658
                  ],
                  "yaxis": "y"
                },
                {
                  "legendgroup": "UnitPrice",
                  "marker": {
                    "color": "rgb(31, 119, 180)",
                    "symbol": "line-ns-open"
                  },
                  "mode": "markers",
                  "name": "UnitPrice",
                  "showlegend": false,
                  "type": "scatter",
                  "x": [
                    0.85,
                    2.95,
                    1.25,
                    7.46,
                    2.51,
                    3.95,
                    2.1,
                    4.95,
                    2.46,
                    1.69,
                    0.39,
                    0.55,
                    12.75,
                    1.25,
                    1.65,
                    1.65,
                    4.25,
                    2.1,
                    4.25,
                    1.28,
                    2.95,
                    1.45,
                    3.29,
                    2.46,
                    4.95,
                    1.25,
                    2.55,
                    0.83,
                    7.95,
                    2.1,
                    7.08,
                    0.21,
                    2.95,
                    1.65,
                    3.29,
                    1.63,
                    1.25,
                    2.95,
                    7.95,
                    1.65,
                    4.25,
                    0.29,
                    7.95,
                    8.29,
                    1.25,
                    2.08,
                    0.83,
                    1.65,
                    1.45,
                    2.95,
                    0.55,
                    2.95,
                    5.91,
                    4.13,
                    7.46,
                    3.95,
                    2.95,
                    1.95,
                    2.1,
                    5.79,
                    2.08,
                    3.75,
                    1.65,
                    0.85,
                    4.95,
                    2.25,
                    0.83,
                    0.85,
                    14.96,
                    8.5,
                    2.95,
                    8.29,
                    1.65,
                    2.08,
                    1.45,
                    4.25,
                    5.79,
                    2.08,
                    5.79,
                    1.25,
                    1.63,
                    2.08,
                    4.25,
                    0.85,
                    202.42,
                    0.42,
                    1.65,
                    3.36,
                    2.55,
                    2.89,
                    1.25,
                    10.79,
                    2.46,
                    3.29,
                    4.13,
                    1.65,
                    0.75,
                    1.95,
                    7.95,
                    1.25,
                    2.46,
                    0.62,
                    4.95,
                    2.46,
                    4.95,
                    3.75,
                    2.1,
                    7.46,
                    7.95,
                    0.29,
                    1.65,
                    0.65,
                    0.42,
                    1.95,
                    1.25,
                    2.08,
                    3.25,
                    0.83,
                    1.63,
                    4.95,
                    1.25,
                    0.79,
                    1.25,
                    3.29,
                    10.79,
                    3.75,
                    1.25,
                    1.25,
                    0.55,
                    1.45,
                    2.46,
                    4.95,
                    4.13,
                    2.08,
                    2.46,
                    0.55,
                    1.45,
                    2.95,
                    25.49,
                    0.85,
                    1.65,
                    0.42,
                    2.95,
                    4.25,
                    2.08,
                    1.25,
                    0.39,
                    4.13,
                    4.95,
                    2.95,
                    0.83,
                    1.25,
                    0.79,
                    19.95,
                    1.65,
                    0.83,
                    2.49,
                    5.95,
                    4.95,
                    1.66,
                    7.46,
                    3.29,
                    0.42,
                    0.55,
                    0.55,
                    4.95,
                    1.25,
                    1.65,
                    4.25,
                    1.63,
                    2.46,
                    1.45,
                    0.85,
                    12.46,
                    7.95,
                    4.13,
                    1.25,
                    1.45,
                    4.95,
                    0.85,
                    0.85,
                    2.55,
                    1.65,
                    4.95,
                    4.95,
                    3.75,
                    1.25,
                    0.79,
                    0.38,
                    1.65,
                    1.65,
                    2.1,
                    0.55,
                    0.42,
                    2.08,
                    2.95,
                    1.63,
                    2.51,
                    2.08,
                    2.55,
                    9.95,
                    1.65,
                    2.55,
                    8.29,
                    5.79,
                    1.45,
                    2.08,
                    3.75,
                    1.69,
                    1.25,
                    3.75,
                    0.42,
                    4.96,
                    4.24,
                    1.65,
                    2.1,
                    4.96,
                    0.55,
                    3.75,
                    7.95,
                    0.85,
                    1.65,
                    1.25,
                    4.95,
                    0.85,
                    2.95,
                    6.63,
                    1.65,
                    0.42,
                    1.45,
                    1.25,
                    5.95,
                    1.66,
                    8.25,
                    2.95,
                    2.08,
                    4.96,
                    1.25,
                    1.66,
                    2.95,
                    3.75,
                    2.95,
                    0.29,
                    0.39,
                    4.13,
                    5.75,
                    9.95,
                    0.29,
                    2.95,
                    5.79,
                    1.65,
                    4.25,
                    1.45,
                    2.55,
                    1.63,
                    4.13,
                    3.95,
                    3.29,
                    1.7,
                    0.39,
                    0.29,
                    0.55,
                    0.83,
                    1.06,
                    12.75,
                    2.1,
                    1.25,
                    1.25,
                    12.5,
                    5.06,
                    10.79,
                    2.1,
                    2.08,
                    0.19,
                    2.95,
                    2.25,
                    8.29,
                    4.96,
                    5.79,
                    2.51,
                    4.95,
                    1.25,
                    1.25,
                    1.65,
                    0.85,
                    0.42,
                    1.65,
                    5.95,
                    4.95,
                    0.42,
                    4.15,
                    0.55,
                    0.85,
                    0.39,
                    4.95,
                    0.42,
                    1.25,
                    1.25,
                    2.95,
                    0.83,
                    0.65,
                    2.1,
                    1.25,
                    0.85,
                    2.1,
                    8.5,
                    0.65,
                    7.95,
                    4.95,
                    0.42,
                    0.39,
                    2.1,
                    0.65,
                    0.85,
                    0.85,
                    1.65,
                    1.65,
                    5.95,
                    7.95,
                    0.42,
                    0.85,
                    18,
                    2.95,
                    0.42,
                    2.08,
                    0.42,
                    1.25,
                    1.25,
                    4.95,
                    5.45,
                    0.85,
                    1.65,
                    7.95,
                    2.08,
                    1.25,
                    2.08,
                    1.45,
                    1.95,
                    7.95,
                    4.15,
                    1.25,
                    4.95,
                    2.55,
                    2.95,
                    1.65,
                    2.08,
                    0.85,
                    0.85,
                    2.95,
                    3.75,
                    3.75,
                    1.95,
                    12.75,
                    10.95,
                    0.39,
                    10.95,
                    0.29,
                    2.55,
                    1.45,
                    0.65,
                    2.95,
                    2.55,
                    3.75,
                    4.95,
                    2.95,
                    1.25,
                    0.55,
                    0.85,
                    0.85,
                    14.95,
                    4.95,
                    3.25,
                    4.95,
                    2.08,
                    0.85,
                    18,
                    1.25,
                    9.95,
                    1.65,
                    1.65,
                    1.65,
                    4.25,
                    1.65,
                    0.85,
                    8.5,
                    1.25,
                    0.42,
                    4.95,
                    1.45,
                    1.45,
                    2.08,
                    1.65,
                    10.95,
                    1,
                    18,
                    2.95,
                    2.95,
                    0.65,
                    0.42,
                    0.85,
                    0.55,
                    0.85,
                    1.25,
                    12.5,
                    0.42,
                    1.65,
                    0.42,
                    0.65,
                    2.55,
                    1.25,
                    5.95,
                    1.25,
                    2.95,
                    2.95,
                    0.39,
                    2.55,
                    2.95,
                    2.1,
                    1.45,
                    1.65,
                    12.75,
                    1.25,
                    0.83,
                    3.75,
                    2.1,
                    1.25,
                    3.25,
                    3.25,
                    1.95,
                    1.25,
                    1.25,
                    18,
                    0.42,
                    0.83,
                    0.85,
                    1.65,
                    4.95,
                    1.25,
                    4.95,
                    0.85,
                    1.25,
                    2.55,
                    0.85,
                    0.42,
                    1.95,
                    0.65,
                    1.25,
                    2.1,
                    1.95,
                    1.79,
                    4.15,
                    18,
                    1.25,
                    1.65,
                    2.95,
                    0.85,
                    1.95,
                    0.55,
                    1.65,
                    18,
                    1.45,
                    2.55,
                    0.42,
                    1.65,
                    4.95,
                    0.65,
                    1.65,
                    0.85,
                    8.25,
                    3.75,
                    1.65,
                    1.65,
                    2.08,
                    1.65,
                    0.42,
                    10.95,
                    4.15,
                    0.65,
                    1.25,
                    0.42,
                    1.25,
                    4.95,
                    0.39,
                    0.85,
                    1.25,
                    0.42,
                    1.79,
                    18,
                    0.85,
                    8.25,
                    2.25,
                    2.08,
                    0.83,
                    2.95,
                    1.25,
                    1.25,
                    0.85,
                    3.25,
                    2.08,
                    1.65,
                    1.65,
                    1.25,
                    1.25,
                    0.65,
                    4.15,
                    2.95,
                    4.15,
                    4.95,
                    4.95,
                    0.42,
                    2.1,
                    4.15,
                    0.85,
                    0.85,
                    1.25,
                    4.95,
                    4.15,
                    2.1,
                    2.95,
                    1.79,
                    1.25,
                    2.1,
                    0.85,
                    18,
                    0.42,
                    1.65,
                    18,
                    0.85,
                    0.29,
                    4.15,
                    5.95,
                    1.25,
                    4.95,
                    0.82,
                    0.12,
                    2.1,
                    8.5,
                    0.83,
                    0.42,
                    0.85,
                    1.65,
                    8.95,
                    2.55,
                    1.65,
                    0.19,
                    0.42,
                    1.25,
                    18,
                    1.25,
                    0.39,
                    2.1,
                    2.55,
                    1.25,
                    0.85,
                    2.55,
                    1.25,
                    1.65,
                    7.95,
                    2.08,
                    0.85,
                    1.25,
                    1.65,
                    2.08,
                    1.25,
                    18,
                    0.21,
                    1.65,
                    0.85,
                    6.75,
                    1.25,
                    2.08,
                    6.75,
                    3.75,
                    0.65,
                    1.95,
                    4.15,
                    0.85,
                    2.55,
                    0.65,
                    4.15,
                    3.25,
                    18,
                    0.42,
                    0.42,
                    18,
                    0.42,
                    1.95,
                    1.95,
                    3.75,
                    1.65,
                    2.55,
                    1.65,
                    0.85,
                    2.95,
                    3.75,
                    2.95,
                    0.42,
                    0.85,
                    0.39,
                    11.95,
                    2.95,
                    1.65,
                    3.39,
                    1.65,
                    1.45,
                    6.75,
                    7.95,
                    4.95,
                    1.25,
                    7.95,
                    3.25,
                    1.04,
                    1.65,
                    2.55,
                    6.75,
                    0.34,
                    1.45,
                    0.38,
                    1.65,
                    0.55,
                    2.89,
                    4.25,
                    3.25,
                    0.36,
                    4.15,
                    2.08,
                    1.65,
                    1.45,
                    2.95,
                    0.72,
                    0.34,
                    3.39,
                    2.08,
                    0.19,
                    1.25,
                    2.95,
                    5.95,
                    1.65,
                    0.36,
                    1.65,
                    1.04,
                    3.39,
                    1.95,
                    1.85,
                    3.75,
                    0.37,
                    0.25,
                    4.95,
                    1.45,
                    2.49,
                    2.95,
                    2.95,
                    1.95,
                    5.95,
                    0.21,
                    4.15,
                    3.75,
                    1.65,
                    3.75,
                    4.95,
                    8.25,
                    3.75,
                    0.42,
                    4.95,
                    1.25,
                    2.1,
                    3.25,
                    0.55,
                    2.55,
                    0.85,
                    10.95,
                    1.25,
                    2.1,
                    1.65,
                    0.65,
                    1.25,
                    0.55,
                    0.85,
                    3.95,
                    1.95,
                    0.85,
                    0.85,
                    1.95,
                    1.65,
                    2.95,
                    15,
                    3.25,
                    2.55,
                    1.65,
                    3.75,
                    4.95,
                    2.55,
                    1.25,
                    8.25,
                    0.85,
                    1.25,
                    0.55,
                    4.95,
                    0.85,
                    1.25
                  ],
                  "xaxis": "x",
                  "y": [
                    "UnitPrice",
                    "UnitPrice",
                    "UnitPrice",
                    "UnitPrice",
                    "UnitPrice",
                    "UnitPrice",
                    "UnitPrice",
                    "UnitPrice",
                    "UnitPrice",
                    "UnitPrice",
                    "UnitPrice",
                    "UnitPrice",
                    "UnitPrice",
                    "UnitPrice",
                    "UnitPrice",
                    "UnitPrice",
                    "UnitPrice",
                    "UnitPrice",
                    "UnitPrice",
                    "UnitPrice",
                    "UnitPrice",
                    "UnitPrice",
                    "UnitPrice",
                    "UnitPrice",
                    "UnitPrice",
                    "UnitPrice",
                    "UnitPrice",
                    "UnitPrice",
                    "UnitPrice",
                    "UnitPrice",
                    "UnitPrice",
                    "UnitPrice",
                    "UnitPrice",
                    "UnitPrice",
                    "UnitPrice",
                    "UnitPrice",
                    "UnitPrice",
                    "UnitPrice",
                    "UnitPrice",
                    "UnitPrice",
                    "UnitPrice",
                    "UnitPrice",
                    "UnitPrice",
                    "UnitPrice",
                    "UnitPrice",
                    "UnitPrice",
                    "UnitPrice",
                    "UnitPrice",
                    "UnitPrice",
                    "UnitPrice",
                    "UnitPrice",
                    "UnitPrice",
                    "UnitPrice",
                    "UnitPrice",
                    "UnitPrice",
                    "UnitPrice",
                    "UnitPrice",
                    "UnitPrice",
                    "UnitPrice",
                    "UnitPrice",
                    "UnitPrice",
                    "UnitPrice",
                    "UnitPrice",
                    "UnitPrice",
                    "UnitPrice",
                    "UnitPrice",
                    "UnitPrice",
                    "UnitPrice",
                    "UnitPrice",
                    "UnitPrice",
                    "UnitPrice",
                    "UnitPrice",
                    "UnitPrice",
                    "UnitPrice",
                    "UnitPrice",
                    "UnitPrice",
                    "UnitPrice",
                    "UnitPrice",
                    "UnitPrice",
                    "UnitPrice",
                    "UnitPrice",
                    "UnitPrice",
                    "UnitPrice",
                    "UnitPrice",
                    "UnitPrice",
                    "UnitPrice",
                    "UnitPrice",
                    "UnitPrice",
                    "UnitPrice",
                    "UnitPrice",
                    "UnitPrice",
                    "UnitPrice",
                    "UnitPrice",
                    "UnitPrice",
                    "UnitPrice",
                    "UnitPrice",
                    "UnitPrice",
                    "UnitPrice",
                    "UnitPrice",
                    "UnitPrice",
                    "UnitPrice",
                    "UnitPrice",
                    "UnitPrice",
                    "UnitPrice",
                    "UnitPrice",
                    "UnitPrice",
                    "UnitPrice",
                    "UnitPrice",
                    "UnitPrice",
                    "UnitPrice",
                    "UnitPrice",
                    "UnitPrice",
                    "UnitPrice",
                    "UnitPrice",
                    "UnitPrice",
                    "UnitPrice",
                    "UnitPrice",
                    "UnitPrice",
                    "UnitPrice",
                    "UnitPrice",
                    "UnitPrice",
                    "UnitPrice",
                    "UnitPrice",
                    "UnitPrice",
                    "UnitPrice",
                    "UnitPrice",
                    "UnitPrice",
                    "UnitPrice",
                    "UnitPrice",
                    "UnitPrice",
                    "UnitPrice",
                    "UnitPrice",
                    "UnitPrice",
                    "UnitPrice",
                    "UnitPrice",
                    "UnitPrice",
                    "UnitPrice",
                    "UnitPrice",
                    "UnitPrice",
                    "UnitPrice",
                    "UnitPrice",
                    "UnitPrice",
                    "UnitPrice",
                    "UnitPrice",
                    "UnitPrice",
                    "UnitPrice",
                    "UnitPrice",
                    "UnitPrice",
                    "UnitPrice",
                    "UnitPrice",
                    "UnitPrice",
                    "UnitPrice",
                    "UnitPrice",
                    "UnitPrice",
                    "UnitPrice",
                    "UnitPrice",
                    "UnitPrice",
                    "UnitPrice",
                    "UnitPrice",
                    "UnitPrice",
                    "UnitPrice",
                    "UnitPrice",
                    "UnitPrice",
                    "UnitPrice",
                    "UnitPrice",
                    "UnitPrice",
                    "UnitPrice",
                    "UnitPrice",
                    "UnitPrice",
                    "UnitPrice",
                    "UnitPrice",
                    "UnitPrice",
                    "UnitPrice",
                    "UnitPrice",
                    "UnitPrice",
                    "UnitPrice",
                    "UnitPrice",
                    "UnitPrice",
                    "UnitPrice",
                    "UnitPrice",
                    "UnitPrice",
                    "UnitPrice",
                    "UnitPrice",
                    "UnitPrice",
                    "UnitPrice",
                    "UnitPrice",
                    "UnitPrice",
                    "UnitPrice",
                    "UnitPrice",
                    "UnitPrice",
                    "UnitPrice",
                    "UnitPrice",
                    "UnitPrice",
                    "UnitPrice",
                    "UnitPrice",
                    "UnitPrice",
                    "UnitPrice",
                    "UnitPrice",
                    "UnitPrice",
                    "UnitPrice",
                    "UnitPrice",
                    "UnitPrice",
                    "UnitPrice",
                    "UnitPrice",
                    "UnitPrice",
                    "UnitPrice",
                    "UnitPrice",
                    "UnitPrice",
                    "UnitPrice",
                    "UnitPrice",
                    "UnitPrice",
                    "UnitPrice",
                    "UnitPrice",
                    "UnitPrice",
                    "UnitPrice",
                    "UnitPrice",
                    "UnitPrice",
                    "UnitPrice",
                    "UnitPrice",
                    "UnitPrice",
                    "UnitPrice",
                    "UnitPrice",
                    "UnitPrice",
                    "UnitPrice",
                    "UnitPrice",
                    "UnitPrice",
                    "UnitPrice",
                    "UnitPrice",
                    "UnitPrice",
                    "UnitPrice",
                    "UnitPrice",
                    "UnitPrice",
                    "UnitPrice",
                    "UnitPrice",
                    "UnitPrice",
                    "UnitPrice",
                    "UnitPrice",
                    "UnitPrice",
                    "UnitPrice",
                    "UnitPrice",
                    "UnitPrice",
                    "UnitPrice",
                    "UnitPrice",
                    "UnitPrice",
                    "UnitPrice",
                    "UnitPrice",
                    "UnitPrice",
                    "UnitPrice",
                    "UnitPrice",
                    "UnitPrice",
                    "UnitPrice",
                    "UnitPrice",
                    "UnitPrice",
                    "UnitPrice",
                    "UnitPrice",
                    "UnitPrice",
                    "UnitPrice",
                    "UnitPrice",
                    "UnitPrice",
                    "UnitPrice",
                    "UnitPrice",
                    "UnitPrice",
                    "UnitPrice",
                    "UnitPrice",
                    "UnitPrice",
                    "UnitPrice",
                    "UnitPrice",
                    "UnitPrice",
                    "UnitPrice",
                    "UnitPrice",
                    "UnitPrice",
                    "UnitPrice",
                    "UnitPrice",
                    "UnitPrice",
                    "UnitPrice",
                    "UnitPrice",
                    "UnitPrice",
                    "UnitPrice",
                    "UnitPrice",
                    "UnitPrice",
                    "UnitPrice",
                    "UnitPrice",
                    "UnitPrice",
                    "UnitPrice",
                    "UnitPrice",
                    "UnitPrice",
                    "UnitPrice",
                    "UnitPrice",
                    "UnitPrice",
                    "UnitPrice",
                    "UnitPrice",
                    "UnitPrice",
                    "UnitPrice",
                    "UnitPrice",
                    "UnitPrice",
                    "UnitPrice",
                    "UnitPrice",
                    "UnitPrice",
                    "UnitPrice",
                    "UnitPrice",
                    "UnitPrice",
                    "UnitPrice",
                    "UnitPrice",
                    "UnitPrice",
                    "UnitPrice",
                    "UnitPrice",
                    "UnitPrice",
                    "UnitPrice",
                    "UnitPrice",
                    "UnitPrice",
                    "UnitPrice",
                    "UnitPrice",
                    "UnitPrice",
                    "UnitPrice",
                    "UnitPrice",
                    "UnitPrice",
                    "UnitPrice",
                    "UnitPrice",
                    "UnitPrice",
                    "UnitPrice",
                    "UnitPrice",
                    "UnitPrice",
                    "UnitPrice",
                    "UnitPrice",
                    "UnitPrice",
                    "UnitPrice",
                    "UnitPrice",
                    "UnitPrice",
                    "UnitPrice",
                    "UnitPrice",
                    "UnitPrice",
                    "UnitPrice",
                    "UnitPrice",
                    "UnitPrice",
                    "UnitPrice",
                    "UnitPrice",
                    "UnitPrice",
                    "UnitPrice",
                    "UnitPrice",
                    "UnitPrice",
                    "UnitPrice",
                    "UnitPrice",
                    "UnitPrice",
                    "UnitPrice",
                    "UnitPrice",
                    "UnitPrice",
                    "UnitPrice",
                    "UnitPrice",
                    "UnitPrice",
                    "UnitPrice",
                    "UnitPrice",
                    "UnitPrice",
                    "UnitPrice",
                    "UnitPrice",
                    "UnitPrice",
                    "UnitPrice",
                    "UnitPrice",
                    "UnitPrice",
                    "UnitPrice",
                    "UnitPrice",
                    "UnitPrice",
                    "UnitPrice",
                    "UnitPrice",
                    "UnitPrice",
                    "UnitPrice",
                    "UnitPrice",
                    "UnitPrice",
                    "UnitPrice",
                    "UnitPrice",
                    "UnitPrice",
                    "UnitPrice",
                    "UnitPrice",
                    "UnitPrice",
                    "UnitPrice",
                    "UnitPrice",
                    "UnitPrice",
                    "UnitPrice",
                    "UnitPrice",
                    "UnitPrice",
                    "UnitPrice",
                    "UnitPrice",
                    "UnitPrice",
                    "UnitPrice",
                    "UnitPrice",
                    "UnitPrice",
                    "UnitPrice",
                    "UnitPrice",
                    "UnitPrice",
                    "UnitPrice",
                    "UnitPrice",
                    "UnitPrice",
                    "UnitPrice",
                    "UnitPrice",
                    "UnitPrice",
                    "UnitPrice",
                    "UnitPrice",
                    "UnitPrice",
                    "UnitPrice",
                    "UnitPrice",
                    "UnitPrice",
                    "UnitPrice",
                    "UnitPrice",
                    "UnitPrice",
                    "UnitPrice",
                    "UnitPrice",
                    "UnitPrice",
                    "UnitPrice",
                    "UnitPrice",
                    "UnitPrice",
                    "UnitPrice",
                    "UnitPrice",
                    "UnitPrice",
                    "UnitPrice",
                    "UnitPrice",
                    "UnitPrice",
                    "UnitPrice",
                    "UnitPrice",
                    "UnitPrice",
                    "UnitPrice",
                    "UnitPrice",
                    "UnitPrice",
                    "UnitPrice",
                    "UnitPrice",
                    "UnitPrice",
                    "UnitPrice",
                    "UnitPrice",
                    "UnitPrice",
                    "UnitPrice",
                    "UnitPrice",
                    "UnitPrice",
                    "UnitPrice",
                    "UnitPrice",
                    "UnitPrice",
                    "UnitPrice",
                    "UnitPrice",
                    "UnitPrice",
                    "UnitPrice",
                    "UnitPrice",
                    "UnitPrice",
                    "UnitPrice",
                    "UnitPrice",
                    "UnitPrice",
                    "UnitPrice",
                    "UnitPrice",
                    "UnitPrice",
                    "UnitPrice",
                    "UnitPrice",
                    "UnitPrice",
                    "UnitPrice",
                    "UnitPrice",
                    "UnitPrice",
                    "UnitPrice",
                    "UnitPrice",
                    "UnitPrice",
                    "UnitPrice",
                    "UnitPrice",
                    "UnitPrice",
                    "UnitPrice",
                    "UnitPrice",
                    "UnitPrice",
                    "UnitPrice",
                    "UnitPrice",
                    "UnitPrice",
                    "UnitPrice",
                    "UnitPrice",
                    "UnitPrice",
                    "UnitPrice",
                    "UnitPrice",
                    "UnitPrice",
                    "UnitPrice",
                    "UnitPrice",
                    "UnitPrice",
                    "UnitPrice",
                    "UnitPrice",
                    "UnitPrice",
                    "UnitPrice",
                    "UnitPrice",
                    "UnitPrice",
                    "UnitPrice",
                    "UnitPrice",
                    "UnitPrice",
                    "UnitPrice",
                    "UnitPrice",
                    "UnitPrice",
                    "UnitPrice",
                    "UnitPrice",
                    "UnitPrice",
                    "UnitPrice",
                    "UnitPrice",
                    "UnitPrice",
                    "UnitPrice",
                    "UnitPrice",
                    "UnitPrice",
                    "UnitPrice",
                    "UnitPrice",
                    "UnitPrice",
                    "UnitPrice",
                    "UnitPrice",
                    "UnitPrice",
                    "UnitPrice",
                    "UnitPrice",
                    "UnitPrice",
                    "UnitPrice",
                    "UnitPrice",
                    "UnitPrice",
                    "UnitPrice",
                    "UnitPrice",
                    "UnitPrice",
                    "UnitPrice",
                    "UnitPrice",
                    "UnitPrice",
                    "UnitPrice",
                    "UnitPrice",
                    "UnitPrice",
                    "UnitPrice",
                    "UnitPrice",
                    "UnitPrice",
                    "UnitPrice",
                    "UnitPrice",
                    "UnitPrice",
                    "UnitPrice",
                    "UnitPrice",
                    "UnitPrice",
                    "UnitPrice",
                    "UnitPrice",
                    "UnitPrice",
                    "UnitPrice",
                    "UnitPrice",
                    "UnitPrice",
                    "UnitPrice",
                    "UnitPrice",
                    "UnitPrice",
                    "UnitPrice",
                    "UnitPrice",
                    "UnitPrice",
                    "UnitPrice",
                    "UnitPrice",
                    "UnitPrice",
                    "UnitPrice",
                    "UnitPrice",
                    "UnitPrice",
                    "UnitPrice",
                    "UnitPrice",
                    "UnitPrice",
                    "UnitPrice",
                    "UnitPrice",
                    "UnitPrice",
                    "UnitPrice",
                    "UnitPrice",
                    "UnitPrice",
                    "UnitPrice",
                    "UnitPrice",
                    "UnitPrice",
                    "UnitPrice",
                    "UnitPrice",
                    "UnitPrice",
                    "UnitPrice",
                    "UnitPrice",
                    "UnitPrice",
                    "UnitPrice",
                    "UnitPrice",
                    "UnitPrice",
                    "UnitPrice",
                    "UnitPrice",
                    "UnitPrice",
                    "UnitPrice",
                    "UnitPrice",
                    "UnitPrice",
                    "UnitPrice",
                    "UnitPrice",
                    "UnitPrice",
                    "UnitPrice",
                    "UnitPrice",
                    "UnitPrice",
                    "UnitPrice",
                    "UnitPrice",
                    "UnitPrice",
                    "UnitPrice",
                    "UnitPrice",
                    "UnitPrice",
                    "UnitPrice",
                    "UnitPrice",
                    "UnitPrice",
                    "UnitPrice",
                    "UnitPrice",
                    "UnitPrice",
                    "UnitPrice",
                    "UnitPrice",
                    "UnitPrice",
                    "UnitPrice",
                    "UnitPrice",
                    "UnitPrice",
                    "UnitPrice",
                    "UnitPrice",
                    "UnitPrice",
                    "UnitPrice",
                    "UnitPrice",
                    "UnitPrice",
                    "UnitPrice",
                    "UnitPrice",
                    "UnitPrice",
                    "UnitPrice",
                    "UnitPrice",
                    "UnitPrice",
                    "UnitPrice",
                    "UnitPrice",
                    "UnitPrice",
                    "UnitPrice",
                    "UnitPrice",
                    "UnitPrice",
                    "UnitPrice",
                    "UnitPrice",
                    "UnitPrice",
                    "UnitPrice",
                    "UnitPrice",
                    "UnitPrice",
                    "UnitPrice",
                    "UnitPrice",
                    "UnitPrice",
                    "UnitPrice",
                    "UnitPrice",
                    "UnitPrice",
                    "UnitPrice",
                    "UnitPrice",
                    "UnitPrice",
                    "UnitPrice",
                    "UnitPrice",
                    "UnitPrice",
                    "UnitPrice",
                    "UnitPrice",
                    "UnitPrice",
                    "UnitPrice",
                    "UnitPrice",
                    "UnitPrice",
                    "UnitPrice",
                    "UnitPrice",
                    "UnitPrice",
                    "UnitPrice",
                    "UnitPrice",
                    "UnitPrice",
                    "UnitPrice",
                    "UnitPrice",
                    "UnitPrice",
                    "UnitPrice",
                    "UnitPrice",
                    "UnitPrice",
                    "UnitPrice",
                    "UnitPrice",
                    "UnitPrice",
                    "UnitPrice",
                    "UnitPrice",
                    "UnitPrice",
                    "UnitPrice",
                    "UnitPrice",
                    "UnitPrice",
                    "UnitPrice",
                    "UnitPrice",
                    "UnitPrice",
                    "UnitPrice",
                    "UnitPrice",
                    "UnitPrice",
                    "UnitPrice",
                    "UnitPrice",
                    "UnitPrice",
                    "UnitPrice",
                    "UnitPrice",
                    "UnitPrice",
                    "UnitPrice",
                    "UnitPrice",
                    "UnitPrice",
                    "UnitPrice",
                    "UnitPrice",
                    "UnitPrice",
                    "UnitPrice",
                    "UnitPrice",
                    "UnitPrice",
                    "UnitPrice",
                    "UnitPrice",
                    "UnitPrice",
                    "UnitPrice",
                    "UnitPrice",
                    "UnitPrice",
                    "UnitPrice",
                    "UnitPrice",
                    "UnitPrice",
                    "UnitPrice",
                    "UnitPrice",
                    "UnitPrice",
                    "UnitPrice",
                    "UnitPrice",
                    "UnitPrice",
                    "UnitPrice",
                    "UnitPrice",
                    "UnitPrice",
                    "UnitPrice",
                    "UnitPrice",
                    "UnitPrice",
                    "UnitPrice",
                    "UnitPrice",
                    "UnitPrice"
                  ],
                  "yaxis": "y2"
                }
              ],
              "layout": {
                "barmode": "overlay",
                "hovermode": "closest",
                "legend": {
                  "traceorder": "reversed"
                },
                "template": {
                  "data": {
                    "bar": [
                      {
                        "error_x": {
                          "color": "#f2f5fa"
                        },
                        "error_y": {
                          "color": "#f2f5fa"
                        },
                        "marker": {
                          "line": {
                            "color": "rgb(17,17,17)",
                            "width": 0.5
                          },
                          "pattern": {
                            "fillmode": "overlay",
                            "size": 10,
                            "solidity": 0.2
                          }
                        },
                        "type": "bar"
                      }
                    ],
                    "barpolar": [
                      {
                        "marker": {
                          "line": {
                            "color": "rgb(17,17,17)",
                            "width": 0.5
                          },
                          "pattern": {
                            "fillmode": "overlay",
                            "size": 10,
                            "solidity": 0.2
                          }
                        },
                        "type": "barpolar"
                      }
                    ],
                    "carpet": [
                      {
                        "aaxis": {
                          "endlinecolor": "#A2B1C6",
                          "gridcolor": "#506784",
                          "linecolor": "#506784",
                          "minorgridcolor": "#506784",
                          "startlinecolor": "#A2B1C6"
                        },
                        "baxis": {
                          "endlinecolor": "#A2B1C6",
                          "gridcolor": "#506784",
                          "linecolor": "#506784",
                          "minorgridcolor": "#506784",
                          "startlinecolor": "#A2B1C6"
                        },
                        "type": "carpet"
                      }
                    ],
                    "choropleth": [
                      {
                        "colorbar": {
                          "outlinewidth": 0,
                          "ticks": ""
                        },
                        "type": "choropleth"
                      }
                    ],
                    "contour": [
                      {
                        "colorbar": {
                          "outlinewidth": 0,
                          "ticks": ""
                        },
                        "colorscale": [
                          [
                            0,
                            "#0d0887"
                          ],
                          [
                            0.1111111111111111,
                            "#46039f"
                          ],
                          [
                            0.2222222222222222,
                            "#7201a8"
                          ],
                          [
                            0.3333333333333333,
                            "#9c179e"
                          ],
                          [
                            0.4444444444444444,
                            "#bd3786"
                          ],
                          [
                            0.5555555555555556,
                            "#d8576b"
                          ],
                          [
                            0.6666666666666666,
                            "#ed7953"
                          ],
                          [
                            0.7777777777777778,
                            "#fb9f3a"
                          ],
                          [
                            0.8888888888888888,
                            "#fdca26"
                          ],
                          [
                            1,
                            "#f0f921"
                          ]
                        ],
                        "type": "contour"
                      }
                    ],
                    "contourcarpet": [
                      {
                        "colorbar": {
                          "outlinewidth": 0,
                          "ticks": ""
                        },
                        "type": "contourcarpet"
                      }
                    ],
                    "heatmap": [
                      {
                        "colorbar": {
                          "outlinewidth": 0,
                          "ticks": ""
                        },
                        "colorscale": [
                          [
                            0,
                            "#0d0887"
                          ],
                          [
                            0.1111111111111111,
                            "#46039f"
                          ],
                          [
                            0.2222222222222222,
                            "#7201a8"
                          ],
                          [
                            0.3333333333333333,
                            "#9c179e"
                          ],
                          [
                            0.4444444444444444,
                            "#bd3786"
                          ],
                          [
                            0.5555555555555556,
                            "#d8576b"
                          ],
                          [
                            0.6666666666666666,
                            "#ed7953"
                          ],
                          [
                            0.7777777777777778,
                            "#fb9f3a"
                          ],
                          [
                            0.8888888888888888,
                            "#fdca26"
                          ],
                          [
                            1,
                            "#f0f921"
                          ]
                        ],
                        "type": "heatmap"
                      }
                    ],
                    "heatmapgl": [
                      {
                        "colorbar": {
                          "outlinewidth": 0,
                          "ticks": ""
                        },
                        "colorscale": [
                          [
                            0,
                            "#0d0887"
                          ],
                          [
                            0.1111111111111111,
                            "#46039f"
                          ],
                          [
                            0.2222222222222222,
                            "#7201a8"
                          ],
                          [
                            0.3333333333333333,
                            "#9c179e"
                          ],
                          [
                            0.4444444444444444,
                            "#bd3786"
                          ],
                          [
                            0.5555555555555556,
                            "#d8576b"
                          ],
                          [
                            0.6666666666666666,
                            "#ed7953"
                          ],
                          [
                            0.7777777777777778,
                            "#fb9f3a"
                          ],
                          [
                            0.8888888888888888,
                            "#fdca26"
                          ],
                          [
                            1,
                            "#f0f921"
                          ]
                        ],
                        "type": "heatmapgl"
                      }
                    ],
                    "histogram": [
                      {
                        "marker": {
                          "pattern": {
                            "fillmode": "overlay",
                            "size": 10,
                            "solidity": 0.2
                          }
                        },
                        "type": "histogram"
                      }
                    ],
                    "histogram2d": [
                      {
                        "colorbar": {
                          "outlinewidth": 0,
                          "ticks": ""
                        },
                        "colorscale": [
                          [
                            0,
                            "#0d0887"
                          ],
                          [
                            0.1111111111111111,
                            "#46039f"
                          ],
                          [
                            0.2222222222222222,
                            "#7201a8"
                          ],
                          [
                            0.3333333333333333,
                            "#9c179e"
                          ],
                          [
                            0.4444444444444444,
                            "#bd3786"
                          ],
                          [
                            0.5555555555555556,
                            "#d8576b"
                          ],
                          [
                            0.6666666666666666,
                            "#ed7953"
                          ],
                          [
                            0.7777777777777778,
                            "#fb9f3a"
                          ],
                          [
                            0.8888888888888888,
                            "#fdca26"
                          ],
                          [
                            1,
                            "#f0f921"
                          ]
                        ],
                        "type": "histogram2d"
                      }
                    ],
                    "histogram2dcontour": [
                      {
                        "colorbar": {
                          "outlinewidth": 0,
                          "ticks": ""
                        },
                        "colorscale": [
                          [
                            0,
                            "#0d0887"
                          ],
                          [
                            0.1111111111111111,
                            "#46039f"
                          ],
                          [
                            0.2222222222222222,
                            "#7201a8"
                          ],
                          [
                            0.3333333333333333,
                            "#9c179e"
                          ],
                          [
                            0.4444444444444444,
                            "#bd3786"
                          ],
                          [
                            0.5555555555555556,
                            "#d8576b"
                          ],
                          [
                            0.6666666666666666,
                            "#ed7953"
                          ],
                          [
                            0.7777777777777778,
                            "#fb9f3a"
                          ],
                          [
                            0.8888888888888888,
                            "#fdca26"
                          ],
                          [
                            1,
                            "#f0f921"
                          ]
                        ],
                        "type": "histogram2dcontour"
                      }
                    ],
                    "mesh3d": [
                      {
                        "colorbar": {
                          "outlinewidth": 0,
                          "ticks": ""
                        },
                        "type": "mesh3d"
                      }
                    ],
                    "parcoords": [
                      {
                        "line": {
                          "colorbar": {
                            "outlinewidth": 0,
                            "ticks": ""
                          }
                        },
                        "type": "parcoords"
                      }
                    ],
                    "pie": [
                      {
                        "automargin": true,
                        "type": "pie"
                      }
                    ],
                    "scatter": [
                      {
                        "marker": {
                          "line": {
                            "color": "#283442"
                          }
                        },
                        "type": "scatter"
                      }
                    ],
                    "scatter3d": [
                      {
                        "line": {
                          "colorbar": {
                            "outlinewidth": 0,
                            "ticks": ""
                          }
                        },
                        "marker": {
                          "colorbar": {
                            "outlinewidth": 0,
                            "ticks": ""
                          }
                        },
                        "type": "scatter3d"
                      }
                    ],
                    "scattercarpet": [
                      {
                        "marker": {
                          "colorbar": {
                            "outlinewidth": 0,
                            "ticks": ""
                          }
                        },
                        "type": "scattercarpet"
                      }
                    ],
                    "scattergeo": [
                      {
                        "marker": {
                          "colorbar": {
                            "outlinewidth": 0,
                            "ticks": ""
                          }
                        },
                        "type": "scattergeo"
                      }
                    ],
                    "scattergl": [
                      {
                        "marker": {
                          "line": {
                            "color": "#283442"
                          }
                        },
                        "type": "scattergl"
                      }
                    ],
                    "scattermapbox": [
                      {
                        "marker": {
                          "colorbar": {
                            "outlinewidth": 0,
                            "ticks": ""
                          }
                        },
                        "type": "scattermapbox"
                      }
                    ],
                    "scatterpolar": [
                      {
                        "marker": {
                          "colorbar": {
                            "outlinewidth": 0,
                            "ticks": ""
                          }
                        },
                        "type": "scatterpolar"
                      }
                    ],
                    "scatterpolargl": [
                      {
                        "marker": {
                          "colorbar": {
                            "outlinewidth": 0,
                            "ticks": ""
                          }
                        },
                        "type": "scatterpolargl"
                      }
                    ],
                    "scatterternary": [
                      {
                        "marker": {
                          "colorbar": {
                            "outlinewidth": 0,
                            "ticks": ""
                          }
                        },
                        "type": "scatterternary"
                      }
                    ],
                    "surface": [
                      {
                        "colorbar": {
                          "outlinewidth": 0,
                          "ticks": ""
                        },
                        "colorscale": [
                          [
                            0,
                            "#0d0887"
                          ],
                          [
                            0.1111111111111111,
                            "#46039f"
                          ],
                          [
                            0.2222222222222222,
                            "#7201a8"
                          ],
                          [
                            0.3333333333333333,
                            "#9c179e"
                          ],
                          [
                            0.4444444444444444,
                            "#bd3786"
                          ],
                          [
                            0.5555555555555556,
                            "#d8576b"
                          ],
                          [
                            0.6666666666666666,
                            "#ed7953"
                          ],
                          [
                            0.7777777777777778,
                            "#fb9f3a"
                          ],
                          [
                            0.8888888888888888,
                            "#fdca26"
                          ],
                          [
                            1,
                            "#f0f921"
                          ]
                        ],
                        "type": "surface"
                      }
                    ],
                    "table": [
                      {
                        "cells": {
                          "fill": {
                            "color": "#506784"
                          },
                          "line": {
                            "color": "rgb(17,17,17)"
                          }
                        },
                        "header": {
                          "fill": {
                            "color": "#2a3f5f"
                          },
                          "line": {
                            "color": "rgb(17,17,17)"
                          }
                        },
                        "type": "table"
                      }
                    ]
                  },
                  "layout": {
                    "annotationdefaults": {
                      "arrowcolor": "#f2f5fa",
                      "arrowhead": 0,
                      "arrowwidth": 1
                    },
                    "autotypenumbers": "strict",
                    "coloraxis": {
                      "colorbar": {
                        "outlinewidth": 0,
                        "ticks": ""
                      }
                    },
                    "colorscale": {
                      "diverging": [
                        [
                          0,
                          "#8e0152"
                        ],
                        [
                          0.1,
                          "#c51b7d"
                        ],
                        [
                          0.2,
                          "#de77ae"
                        ],
                        [
                          0.3,
                          "#f1b6da"
                        ],
                        [
                          0.4,
                          "#fde0ef"
                        ],
                        [
                          0.5,
                          "#f7f7f7"
                        ],
                        [
                          0.6,
                          "#e6f5d0"
                        ],
                        [
                          0.7,
                          "#b8e186"
                        ],
                        [
                          0.8,
                          "#7fbc41"
                        ],
                        [
                          0.9,
                          "#4d9221"
                        ],
                        [
                          1,
                          "#276419"
                        ]
                      ],
                      "sequential": [
                        [
                          0,
                          "#0d0887"
                        ],
                        [
                          0.1111111111111111,
                          "#46039f"
                        ],
                        [
                          0.2222222222222222,
                          "#7201a8"
                        ],
                        [
                          0.3333333333333333,
                          "#9c179e"
                        ],
                        [
                          0.4444444444444444,
                          "#bd3786"
                        ],
                        [
                          0.5555555555555556,
                          "#d8576b"
                        ],
                        [
                          0.6666666666666666,
                          "#ed7953"
                        ],
                        [
                          0.7777777777777778,
                          "#fb9f3a"
                        ],
                        [
                          0.8888888888888888,
                          "#fdca26"
                        ],
                        [
                          1,
                          "#f0f921"
                        ]
                      ],
                      "sequentialminus": [
                        [
                          0,
                          "#0d0887"
                        ],
                        [
                          0.1111111111111111,
                          "#46039f"
                        ],
                        [
                          0.2222222222222222,
                          "#7201a8"
                        ],
                        [
                          0.3333333333333333,
                          "#9c179e"
                        ],
                        [
                          0.4444444444444444,
                          "#bd3786"
                        ],
                        [
                          0.5555555555555556,
                          "#d8576b"
                        ],
                        [
                          0.6666666666666666,
                          "#ed7953"
                        ],
                        [
                          0.7777777777777778,
                          "#fb9f3a"
                        ],
                        [
                          0.8888888888888888,
                          "#fdca26"
                        ],
                        [
                          1,
                          "#f0f921"
                        ]
                      ]
                    },
                    "colorway": [
                      "#636efa",
                      "#EF553B",
                      "#00cc96",
                      "#ab63fa",
                      "#FFA15A",
                      "#19d3f3",
                      "#FF6692",
                      "#B6E880",
                      "#FF97FF",
                      "#FECB52"
                    ],
                    "font": {
                      "color": "#f2f5fa"
                    },
                    "geo": {
                      "bgcolor": "rgb(17,17,17)",
                      "lakecolor": "rgb(17,17,17)",
                      "landcolor": "rgb(17,17,17)",
                      "showlakes": true,
                      "showland": true,
                      "subunitcolor": "#506784"
                    },
                    "hoverlabel": {
                      "align": "left"
                    },
                    "hovermode": "closest",
                    "mapbox": {
                      "style": "dark"
                    },
                    "paper_bgcolor": "rgb(17,17,17)",
                    "plot_bgcolor": "rgb(17,17,17)",
                    "polar": {
                      "angularaxis": {
                        "gridcolor": "#506784",
                        "linecolor": "#506784",
                        "ticks": ""
                      },
                      "bgcolor": "rgb(17,17,17)",
                      "radialaxis": {
                        "gridcolor": "#506784",
                        "linecolor": "#506784",
                        "ticks": ""
                      }
                    },
                    "scene": {
                      "xaxis": {
                        "backgroundcolor": "rgb(17,17,17)",
                        "gridcolor": "#506784",
                        "gridwidth": 2,
                        "linecolor": "#506784",
                        "showbackground": true,
                        "ticks": "",
                        "zerolinecolor": "#C8D4E3"
                      },
                      "yaxis": {
                        "backgroundcolor": "rgb(17,17,17)",
                        "gridcolor": "#506784",
                        "gridwidth": 2,
                        "linecolor": "#506784",
                        "showbackground": true,
                        "ticks": "",
                        "zerolinecolor": "#C8D4E3"
                      },
                      "zaxis": {
                        "backgroundcolor": "rgb(17,17,17)",
                        "gridcolor": "#506784",
                        "gridwidth": 2,
                        "linecolor": "#506784",
                        "showbackground": true,
                        "ticks": "",
                        "zerolinecolor": "#C8D4E3"
                      }
                    },
                    "shapedefaults": {
                      "line": {
                        "color": "#f2f5fa"
                      }
                    },
                    "sliderdefaults": {
                      "bgcolor": "#C8D4E3",
                      "bordercolor": "rgb(17,17,17)",
                      "borderwidth": 1,
                      "tickwidth": 0
                    },
                    "ternary": {
                      "aaxis": {
                        "gridcolor": "#506784",
                        "linecolor": "#506784",
                        "ticks": ""
                      },
                      "baxis": {
                        "gridcolor": "#506784",
                        "linecolor": "#506784",
                        "ticks": ""
                      },
                      "bgcolor": "rgb(17,17,17)",
                      "caxis": {
                        "gridcolor": "#506784",
                        "linecolor": "#506784",
                        "ticks": ""
                      }
                    },
                    "title": {
                      "x": 0.05
                    },
                    "updatemenudefaults": {
                      "bgcolor": "#506784",
                      "borderwidth": 0
                    },
                    "xaxis": {
                      "automargin": true,
                      "gridcolor": "#283442",
                      "linecolor": "#506784",
                      "ticks": "",
                      "title": {
                        "standoff": 15
                      },
                      "zerolinecolor": "#283442",
                      "zerolinewidth": 2
                    },
                    "yaxis": {
                      "automargin": true,
                      "gridcolor": "#283442",
                      "linecolor": "#506784",
                      "ticks": "",
                      "title": {
                        "standoff": 15
                      },
                      "zerolinecolor": "#283442",
                      "zerolinewidth": 2
                    }
                  }
                },
                "xaxis": {
                  "anchor": "y2",
                  "domain": [
                    0,
                    1
                  ],
                  "zeroline": false
                },
                "yaxis": {
                  "anchor": "free",
                  "domain": [
                    0.35,
                    1
                  ],
                  "position": 0
                },
                "yaxis2": {
                  "anchor": "x",
                  "domain": [
                    0,
                    0.25
                  ],
                  "dtick": 1,
                  "showticklabels": false
                }
              }
            },
            "text/html": [
              "<div>                            <div id=\"9816f251-fbb0-4285-a915-e576340c937c\" class=\"plotly-graph-div\" style=\"height:525px; width:100%;\"></div>            <script type=\"text/javascript\">                require([\"plotly\"], function(Plotly) {                    window.PLOTLYENV=window.PLOTLYENV || {};                                    if (document.getElementById(\"9816f251-fbb0-4285-a915-e576340c937c\")) {                    Plotly.newPlot(                        \"9816f251-fbb0-4285-a915-e576340c937c\",                        [{\"autobinx\":false,\"histnorm\":\"probability density\",\"legendgroup\":\"UnitPrice\",\"marker\":{\"color\":\"rgb(31, 119, 180)\"},\"name\":\"UnitPrice\",\"opacity\":0.7,\"x\":[0.85,2.95,1.25,7.46,2.51,3.95,2.1,4.95,2.46,1.69,0.39,0.55,12.75,1.25,1.65,1.65,4.25,2.1,4.25,1.28,2.95,1.45,3.29,2.46,4.95,1.25,2.55,0.83,7.95,2.1,7.08,0.21,2.95,1.65,3.29,1.63,1.25,2.95,7.95,1.65,4.25,0.29,7.95,8.29,1.25,2.08,0.83,1.65,1.45,2.95,0.55,2.95,5.91,4.13,7.46,3.95,2.95,1.95,2.1,5.79,2.08,3.75,1.65,0.85,4.95,2.25,0.83,0.85,14.96,8.5,2.95,8.29,1.65,2.08,1.45,4.25,5.79,2.08,5.79,1.25,1.63,2.08,4.25,0.85,202.42,0.42,1.65,3.36,2.55,2.89,1.25,10.79,2.46,3.29,4.13,1.65,0.75,1.95,7.95,1.25,2.46,0.62,4.95,2.46,4.95,3.75,2.1,7.46,7.95,0.29,1.65,0.65,0.42,1.95,1.25,2.08,3.25,0.83,1.63,4.95,1.25,0.79,1.25,3.29,10.79,3.75,1.25,1.25,0.55,1.45,2.46,4.95,4.13,2.08,2.46,0.55,1.45,2.95,25.49,0.85,1.65,0.42,2.95,4.25,2.08,1.25,0.39,4.13,4.95,2.95,0.83,1.25,0.79,19.95,1.65,0.83,2.49,5.95,4.95,1.66,7.46,3.29,0.42,0.55,0.55,4.95,1.25,1.65,4.25,1.63,2.46,1.45,0.85,12.46,7.95,4.13,1.25,1.45,4.95,0.85,0.85,2.55,1.65,4.95,4.95,3.75,1.25,0.79,0.38,1.65,1.65,2.1,0.55,0.42,2.08,2.95,1.63,2.51,2.08,2.55,9.95,1.65,2.55,8.29,5.79,1.45,2.08,3.75,1.69,1.25,3.75,0.42,4.96,4.24,1.65,2.1,4.96,0.55,3.75,7.95,0.85,1.65,1.25,4.95,0.85,2.95,6.63,1.65,0.42,1.45,1.25,5.95,1.66,8.25,2.95,2.08,4.96,1.25,1.66,2.95,3.75,2.95,0.29,0.39,4.13,5.75,9.95,0.29,2.95,5.79,1.65,4.25,1.45,2.55,1.63,4.13,3.95,3.29,1.7,0.39,0.29,0.55,0.83,1.06,12.75,2.1,1.25,1.25,12.5,5.06,10.79,2.1,2.08,0.19,2.95,2.25,8.29,4.96,5.79,2.51,4.95,1.25,1.25,1.65,0.85,0.42,1.65,5.95,4.95,0.42,4.15,0.55,0.85,0.39,4.95,0.42,1.25,1.25,2.95,0.83,0.65,2.1,1.25,0.85,2.1,8.5,0.65,7.95,4.95,0.42,0.39,2.1,0.65,0.85,0.85,1.65,1.65,5.95,7.95,0.42,0.85,18.0,2.95,0.42,2.08,0.42,1.25,1.25,4.95,5.45,0.85,1.65,7.95,2.08,1.25,2.08,1.45,1.95,7.95,4.15,1.25,4.95,2.55,2.95,1.65,2.08,0.85,0.85,2.95,3.75,3.75,1.95,12.75,10.95,0.39,10.95,0.29,2.55,1.45,0.65,2.95,2.55,3.75,4.95,2.95,1.25,0.55,0.85,0.85,14.95,4.95,3.25,4.95,2.08,0.85,18.0,1.25,9.95,1.65,1.65,1.65,4.25,1.65,0.85,8.5,1.25,0.42,4.95,1.45,1.45,2.08,1.65,10.95,1.0,18.0,2.95,2.95,0.65,0.42,0.85,0.55,0.85,1.25,12.5,0.42,1.65,0.42,0.65,2.55,1.25,5.95,1.25,2.95,2.95,0.39,2.55,2.95,2.1,1.45,1.65,12.75,1.25,0.83,3.75,2.1,1.25,3.25,3.25,1.95,1.25,1.25,18.0,0.42,0.83,0.85,1.65,4.95,1.25,4.95,0.85,1.25,2.55,0.85,0.42,1.95,0.65,1.25,2.1,1.95,1.79,4.15,18.0,1.25,1.65,2.95,0.85,1.95,0.55,1.65,18.0,1.45,2.55,0.42,1.65,4.95,0.65,1.65,0.85,8.25,3.75,1.65,1.65,2.08,1.65,0.42,10.95,4.15,0.65,1.25,0.42,1.25,4.95,0.39,0.85,1.25,0.42,1.79,18.0,0.85,8.25,2.25,2.08,0.83,2.95,1.25,1.25,0.85,3.25,2.08,1.65,1.65,1.25,1.25,0.65,4.15,2.95,4.15,4.95,4.95,0.42,2.1,4.15,0.85,0.85,1.25,4.95,4.15,2.1,2.95,1.79,1.25,2.1,0.85,18.0,0.42,1.65,18.0,0.85,0.29,4.15,5.95,1.25,4.95,0.82,0.12,2.1,8.5,0.83,0.42,0.85,1.65,8.95,2.55,1.65,0.19,0.42,1.25,18.0,1.25,0.39,2.1,2.55,1.25,0.85,2.55,1.25,1.65,7.95,2.08,0.85,1.25,1.65,2.08,1.25,18.0,0.21,1.65,0.85,6.75,1.25,2.08,6.75,3.75,0.65,1.95,4.15,0.85,2.55,0.65,4.15,3.25,18.0,0.42,0.42,18.0,0.42,1.95,1.95,3.75,1.65,2.55,1.65,0.85,2.95,3.75,2.95,0.42,0.85,0.39,11.95,2.95,1.65,3.39,1.65,1.45,6.75,7.95,4.95,1.25,7.95,3.25,1.04,1.65,2.55,6.75,0.34,1.45,0.38,1.65,0.55,2.89,4.25,3.25,0.36,4.15,2.08,1.65,1.45,2.95,0.72,0.34,3.39,2.08,0.19,1.25,2.95,5.95,1.65,0.36,1.65,1.04,3.39,1.95,1.85,3.75,0.37,0.25,4.95,1.45,2.49,2.95,2.95,1.95,5.95,0.21,4.15,3.75,1.65,3.75,4.95,8.25,3.75,0.42,4.95,1.25,2.1,3.25,0.55,2.55,0.85,10.95,1.25,2.1,1.65,0.65,1.25,0.55,0.85,3.95,1.95,0.85,0.85,1.95,1.65,2.95,15.0,3.25,2.55,1.65,3.75,4.95,2.55,1.25,8.25,0.85,1.25,0.55,4.95,0.85,1.25],\"xaxis\":\"x\",\"xbins\":{\"end\":202.42,\"size\":1.0,\"start\":0.12},\"yaxis\":\"y\",\"type\":\"histogram\"},{\"legendgroup\":\"UnitPrice\",\"marker\":{\"color\":\"rgb(31, 119, 180)\"},\"mode\":\"lines\",\"name\":\"UnitPrice\",\"showlegend\":false,\"x\":[0.12,0.5246,0.9291999999999999,1.3338,1.7384,2.143,2.5476,2.9522,3.3568,3.7613999999999996,4.1659999999999995,4.5706,4.9752,5.3797999999999995,5.7844,6.188999999999999,6.5935999999999995,6.9982,7.402799999999999,7.8073999999999995,8.211999999999998,8.616599999999998,9.021199999999999,9.425799999999999,9.8304,10.235,10.639599999999998,11.044199999999998,11.448799999999999,11.853399999999999,12.257999999999997,12.662599999999998,13.067199999999998,13.471799999999998,13.876399999999999,14.280999999999997,14.685599999999997,15.090199999999998,15.494799999999998,15.899399999999996,16.304,16.7086,17.1132,17.5178,17.9224,18.327,18.7316,19.1362,19.5408,19.9454,20.35,20.7546,21.1592,21.5638,21.9684,22.372999999999998,22.7776,23.182199999999998,23.5868,23.9914,24.395999999999997,24.8006,25.205199999999998,25.6098,26.0144,26.418999999999997,26.8236,27.228199999999998,27.6328,28.037399999999998,28.441999999999997,28.8466,29.251199999999997,29.6558,30.060399999999998,30.464999999999996,30.8696,31.274199999999997,31.678799999999995,32.0834,32.48799999999999,32.892599999999995,33.2972,33.70179999999999,34.106399999999994,34.510999999999996,34.9156,35.32019999999999,35.724799999999995,36.12939999999999,36.534,36.938599999999994,37.343199999999996,37.74779999999999,38.15239999999999,38.556999999999995,38.9616,39.36619999999999,39.770799999999994,40.17539999999999,40.58,40.98459999999999,41.389199999999995,41.79379999999999,42.19839999999999,42.602999999999994,43.0076,43.41219999999999,43.81679999999999,44.22139999999999,44.62599999999999,45.03059999999999,45.435199999999995,45.83979999999999,46.24439999999999,46.64899999999999,47.053599999999996,47.4582,47.86279999999999,48.267399999999995,48.67199999999999,49.0766,49.481199999999994,49.885799999999996,50.29039999999999,50.69499999999999,51.099599999999995,51.5042,51.90879999999999,52.313399999999994,52.71799999999999,53.1226,53.52719999999999,53.931799999999996,54.33639999999999,54.74099999999999,55.145599999999995,55.5502,55.95479999999999,56.359399999999994,56.76399999999999,57.1686,57.57319999999999,57.977799999999995,58.38239999999999,58.78699999999999,59.191599999999994,59.596199999999996,60.00079999999999,60.40539999999999,60.80999999999999,61.21459999999999,61.61919999999999,62.023799999999994,62.42839999999999,62.83299999999999,63.237599999999986,63.642199999999995,64.04679999999999,64.45139999999999,64.856,65.2606,65.6652,66.06979999999999,66.4744,66.879,67.28359999999999,67.6882,68.0928,68.4974,68.902,69.30659999999999,69.7112,70.1158,70.5204,70.92500000000001,71.3296,71.7342,72.13879999999999,72.5434,72.94800000000001,73.3526,73.7572,74.1618,74.5664,74.971,75.37559999999999,75.78020000000001,76.1848,76.5894,76.994,77.3986,77.8032,78.20779999999999,78.6124,79.01700000000001,79.4216,79.8262,80.23079999999999,80.6354,81.04,81.4446,81.8492,82.2538,82.6584,83.063,83.46759999999999,83.8722,84.2768,84.6814,85.086,85.4906,85.8952,86.29979999999999,86.70439999999999,87.109,87.5136,87.9182,88.32279999999999,88.7274,89.13199999999999,89.53659999999999,89.9412,90.3458,90.7504,91.15499999999999,91.55959999999999,91.9642,92.3688,92.7734,93.17799999999998,93.5826,93.9872,94.39179999999999,94.7964,95.201,95.6056,96.0102,96.4148,96.8194,97.22399999999999,97.62859999999999,98.03320000000001,98.4378,98.8424,99.24699999999999,99.6516,100.0562,100.46079999999999,100.8654,101.27,101.6746,102.0792,102.48379999999999,102.8884,103.29299999999999,103.6976,104.1022,104.5068,104.9114,105.31599999999999,105.72059999999999,106.1252,106.5298,106.9344,107.33899999999998,107.7436,108.1482,108.55279999999999,108.95739999999999,109.362,109.7666,110.1712,110.57579999999999,110.9804,111.38499999999999,111.7896,112.1942,112.5988,113.0034,113.40799999999999,113.81259999999999,114.2172,114.6218,115.0264,115.43099999999998,115.8356,116.2402,116.64479999999999,117.0494,117.454,117.8586,118.2632,118.6678,119.0724,119.47699999999999,119.88159999999999,120.28620000000001,120.6908,121.0954,121.49999999999999,121.9046,122.30919999999999,122.71379999999999,123.1184,123.523,123.9276,124.33219999999999,124.73679999999999,125.1414,125.54599999999999,125.9506,126.35519999999998,126.7598,127.1644,127.56899999999999,127.97359999999999,128.3782,128.78279999999998,129.1874,129.59199999999998,129.9966,130.4012,130.8058,131.2104,131.615,132.01959999999997,132.42419999999998,132.8288,133.2334,133.638,134.0426,134.44719999999998,134.8518,135.25639999999999,135.661,136.0656,136.47019999999998,136.8748,137.2794,137.684,138.08859999999999,138.49319999999997,138.8978,139.3024,139.707,140.11159999999998,140.5162,140.92079999999999,141.3254,141.73000000000002,142.13459999999998,142.5392,142.94379999999998,143.3484,143.75300000000001,144.15759999999997,144.5622,144.9668,145.3714,145.776,146.18059999999997,146.5852,146.9898,147.3944,147.799,148.2036,148.60819999999998,149.0128,149.4174,149.822,150.2266,150.63119999999998,151.0358,151.4404,151.845,152.2496,152.65419999999997,153.0588,153.4634,153.868,154.27259999999998,154.6772,155.0818,155.4864,155.891,156.29559999999998,156.7002,157.10479999999998,157.5094,157.91400000000002,158.31859999999998,158.7232,159.12779999999998,159.5324,159.937,160.34159999999997,160.7462,161.1508,161.5554,161.96,162.36459999999997,162.76919999999998,163.1738,163.5784,163.983,164.3876,164.79219999999998,165.1968,165.6014,166.006,166.4106,166.81519999999998,167.2198,167.6244,168.029,168.43359999999998,168.8382,169.2428,169.6474,170.052,170.45659999999998,170.8612,171.26579999999998,171.6704,172.07500000000002,172.47959999999998,172.8842,173.28879999999998,173.6934,174.09799999999998,174.50259999999997,174.9072,175.3118,175.7164,176.12099999999998,176.52559999999997,176.93019999999999,177.3348,177.7394,178.14399999999998,178.5486,178.95319999999998,179.3578,179.76239999999999,180.16699999999997,180.5716,180.97619999999998,181.3808,181.7854,182.18999999999997,182.59459999999999,182.99919999999997,183.4038,183.8084,184.21299999999997,184.61759999999998,185.0222,185.4268,185.8314,186.23599999999996,186.64059999999998,187.0452,187.44979999999998,187.8544,188.259,188.66359999999997,189.0682,189.4728,189.8774,190.28199999999998,190.68659999999997,191.0912,191.4958,191.9004,192.30499999999998,192.7096,193.11419999999998,193.5188,193.9234,194.32799999999997,194.7326,195.13719999999998,195.5418,195.9464,196.35099999999997,196.7556,197.16019999999997,197.5648,197.9694,198.37399999999997,198.77859999999998,199.1832,199.5878,199.9924,200.39699999999996,200.80159999999998,201.2062,201.61079999999998,202.0154],\"xaxis\":\"x\",\"y\":[0.10678857396553205,0.117447080300459,0.1258439189616439,0.13146855916782885,0.1340246410513788,0.13345824623043917,0.1299528077467625,0.1238934053138833,0.11580874514618653,0.1063023494833277,0.09598484443707045,0.0854170541323062,0.07506984720849899,0.06530255092167518,0.05635829591657729,0.04837248379039222,0.04138976787884481,0.035385201045212894,0.03028605977256285,0.025991873932033994,0.022391117369355677,0.01937376642134149,0.01683954134293262,0.014702156725347347,0.012890325906863257,0.011346546320614744,0.01002477942440333,0.008888005867396003,0.0079063211809265,0.007055832852241431,0.006318242063922806,0.005680739427651073,0.005135761474392482,0.004680235171959815,0.004314130904946842,0.004038381919852834,0.0038524462911633415,0.0037519388421312283,0.003726817154803982,0.003760556469640661,0.0038305966940993326,0.003910111808400118,0.003970878532029781,0.0039867661694692625,0.003937199282829464,0.0038099134254032103,0.0036024529019508538,0.003322124057955223,0.002984451057831442,0.002610493914009884,0.00222359800191433,0.001846202097605189,0.0014972382241198367,0.0011904556396320747,0.0009337621820128275,0.0007294669098358683,0.000575174211482086,0.00046503490597162115,0.0003910891941175214,0.0003445080766999914,0.0003166208290184502,0.00029968268912009525,0.0002873795990210492,0.0002750883438661643,0.0002599198179915634,0.0002405794397704577,0.0002170867092235666,0.0001904050713242117,0.00016203965620674562,0.00013365974537428695,0.00010679286146019969,8.261954358928874e-05,6.18763641250597e-05,4.48548791925984e-05,3.147039783145369e-05,2.1368844695180494e-05,1.4042133888496175e-05,8.929979744129573e-06,5.495766125322858e-06,3.273131073499645e-06,1.8864880795704584e-06,1.0522019050814374e-06,5.679338137238256e-07,2.966535428351672e-07,1.499526818067766e-07,7.335194618469798e-08,3.472335161162989e-08,1.5906848943278524e-08,7.051786458898473e-09,3.025287107927889e-09,1.2559908370659148e-09,5.046133829571049e-10,1.9619298246270573e-10,7.381771219252368e-11,2.6877575907790224e-11,9.47048052219863e-12,3.2292846955333196e-12,1.0655971584777377e-12,3.402766690706321e-13,1.0515349004835114e-13,3.144615924589225e-14,9.100472180971363e-15,2.5486643400153275e-15,6.907386502180606e-16,1.81162068864076e-16,4.598044654872736e-17,1.1293576465036142e-17,2.6843689554056278e-18,6.174550080067685e-19,1.3744243039539357e-19,2.9606613476432286e-20,6.171760157740659e-21,1.2450355323469048e-21,2.4305628212583887e-22,4.591814698279696e-23,8.394875431530158e-24,1.4852397278557212e-24,2.5429115685672368e-25,4.213260935133001e-26,6.755505542323418e-27,1.0482135068227848e-27,1.5739612909002502e-28,2.2871294291439698e-29,3.21617621483274e-30,4.376645070551273e-31,5.763618410131434e-32,7.345164225879058e-33,9.058581576858568e-34,1.081113493830372e-34,1.2486329037502056e-35,1.3955669032191096e-36,1.5094507459449806e-37,1.57993649261538e-38,1.600341668504931e-39,1.5686938540178222e-40,1.4880450371587804e-41,1.3659863369646876e-42,1.2134699721356953e-43,1.04319167232774e-44,8.67863828527776e-46,6.987011583164755e-47,5.44356906641185e-48,4.104199004277271e-49,2.994508035222444e-50,2.1143406219583012e-51,1.444697175602175e-52,9.55280895832508e-54,6.1127658495161144e-55,3.7852696889147366e-56,2.268340739098818e-57,1.3154433726646962e-58,7.382244428753932e-60,4.0091941052105826e-61,2.1070660249603443e-62,1.0716466351984212e-63,5.27445345058726e-65,2.512208738398275e-66,1.1579408596278606e-67,5.164989403212751e-69,2.2294867193210372e-70,9.313067344635527e-72,3.764722729844122e-73,1.47273852552259e-74,5.575331542733192e-76,2.0425286063404858e-77,7.241324273856368e-79,2.484392693619524e-80,8.248498306341755e-82,2.650220046497275e-83,8.240268800131196e-85,2.479437821782807e-86,7.219671937152812e-88,2.0343894942227282e-89,5.54757451230868e-91,1.4639444004116238e-92,3.738508913228305e-94,9.238993401086295e-96,2.2095472458476345e-97,5.11368917360357e-99,1.1452960422515605e-100,2.4822961410789547e-102,5.206451453370717e-104,1.0567748116579519e-105,2.0757520821301627e-107,3.9456713655878557e-109,7.258029631140787e-111,1.2920191853658294e-112,2.22572542684254e-114,3.710450231937734e-116,5.985963071554804e-118,9.34531306476246e-120,1.4119069466902504e-121,2.0642899311231058e-123,2.9207051228092383e-125,3.999052719588607e-127,5.298817299103476e-129,6.794432061344584e-131,8.431013297257366e-133,1.0124155034568519e-134,1.1764953059020108e-136,1.3230431522799983e-138,1.4398266869166836e-140,1.5163478063584374e-142,1.5453961810782627e-144,1.5241694095970352e-146,1.454718782431949e-148,1.3436224459361873e-150,1.2009580938184252e-152,1.0387974034210202e-154,8.695333755298245e-157,7.043589804068042e-159,5.521464126645523e-161,4.1885803650264874e-163,3.074906036880464e-165,2.1844858938577077e-167,1.5018239956557644e-169,9.991742482281196e-172,6.433033673233102e-174,4.008139384617966e-176,2.4166970168963087e-178,1.4101132552508747e-180,7.962293514984721e-183,4.3508566026764216e-185,2.3007199357674763e-187,1.1773487861884878e-189,5.8304076936096765e-192,2.7941203386303945e-194,1.295817044374396e-196,5.815601882988754e-199,2.5257947012195067e-201,1.0615826843652831e-203,4.317794842522717e-206,1.6995055193049748e-208,6.47344636934601e-211,2.386167511178679e-213,8.511746898112292e-216,2.9382508665954333e-218,9.815477765600292e-221,3.1731193922186735e-223,9.926903081083015e-226,3.005339567701329e-228,8.804926106964885e-231,2.496377622525705e-233,6.849316660275729e-236,1.8185975777160794e-238,4.672812665357828e-241,1.1619101120035849e-243,2.7958836298293705e-246,6.510555569605899e-249,1.4671327369115747e-251,3.1994340650495846e-254,6.751951594371264e-257,1.378916202402658e-259,2.7252028099612827e-262,5.212093289834328e-265,9.646681318906556e-268,1.7278103925918116e-270,2.9947917704310162e-273,5.0233053592648865e-276,8.153891459468398e-279,1.2808334822044202e-281,1.947030777930314e-284,2.8642133224781186e-287,4.07746557525548e-290,5.617300337215393e-293,7.488888855891972e-296,9.661832954311485e-299,1.2062964866344108e-301,1.457474617845405e-304,1.704120639178328e-307,1.9281999686581e-310,2.1113304221e-313,2.23724085e-316,2.29414e-319,2.27e-322,0.0,0.0,0.0,0.0,0.0,0.0,0.0,0.0,0.0,0.0,0.0,0.0,0.0,0.0,1.77e-321,1.766695e-318,1.706214014e-315,1.5946241224e-312,1.442233414617224e-309,1.262307539361753e-306,1.0691710671826288e-303,8.763581268412587e-301,6.951338510563441e-298,5.33589968678452e-295,3.9636862832706748e-292,2.8493335385110445e-289,1.9821645523765886e-286,1.3344076387221043e-283,8.693401393920205e-281,5.4807923006129303e-278,3.3438697715712374e-275,1.9742755409364154e-272,1.1280246078160435e-269,6.237086706167105e-267,3.3373164420397224e-264,1.7280861663810662e-261,8.659360057234064e-259,4.1991230510098807e-256,1.970533414566162e-253,8.94873000072233e-251,3.9327053133251474e-248,1.6725295670024136e-245,6.883488670108356e-243,2.741547651078168e-240,1.0566603093079997e-237,3.941190155379937e-235,1.4225638980534019e-232,4.968995180265732e-230,1.6796460268558104e-227,5.494388410062877e-225,1.739295393337495e-222,5.328190390435774e-220,1.5795687099288972e-217,4.5315805927170974e-215,1.2580945852795785e-212,3.380097883680975e-210,8.788154025396831e-208,2.211151204054364e-205,5.38383352431706e-203,1.2685780775790708e-200,2.8926452828620447e-198,6.383010488069043e-196,1.3630391636017403e-193,2.8167189118428566e-191,5.632887582054167e-189,1.0901118410083632e-186,2.0415660221396642e-184,3.7000551734281525e-182,6.489412335774239e-180,1.1014250228657702e-177,1.809076393443334e-175,2.87548610444211e-173,4.423011197325106e-171,6.583808698071528e-169,9.483939323406348e-167,1.3220647599448497e-164,1.7834834778547613e-162,2.32829416947386e-160,2.9414333334977723e-158,3.5961066880261385e-156,4.25459793241504e-154,4.871210313889005e-152,5.397189109757446e-150,5.786964112335785e-148,6.004631244795446e-146,6.029402730946456e-144,5.8588805505089546e-142,5.509439180788397e-140,5.013633014869021e-138,4.415197028687138e-136,3.7627038255642872e-134,3.103147220795181e-132,2.476607159470889e-130,1.9127766740440851e-128,1.4296305129720104e-126,1.0340362157949756e-124,7.23769185948274e-123,4.902491258374836e-121,3.21355668878892e-119,2.038484914896463e-117,1.2513576049938758e-115,7.433746921269371e-114,4.273527518633454e-112,2.3774841867414667e-110,1.2799740593326945e-108,6.668637312604392e-107,3.362214579025811e-105,1.640461924696311e-103,7.74567519717379e-102,3.539197571142462e-100,1.5649581632394958e-98,6.696579905946286e-97,2.773037724628431e-95,1.1112477615495194e-93,4.309415996632077e-92,1.6172543897810638e-90,5.873414577132498e-89,2.064217111287751e-87,7.020571872705051e-86,2.3106917015760516e-84,7.359764510086667e-83,2.26849711455919e-81,6.766513347684173e-80,1.9531880270675338e-78,5.4560150913911604e-77,1.4748894575955746e-75,3.858298096263568e-74,9.767523952942035e-73,2.3929057324671357e-71,5.673082433661463e-70,1.3015624094806708e-68,2.889770139791109e-67,6.20889049040666e-66,1.2909728230758002e-64,2.597601931310711e-63,5.058019462853978e-62,9.53105098370028e-61,1.738014871286411e-59,3.0670339443095385e-58,5.237645200531455e-57,8.655775185895595e-56,1.3842937537040527e-54,2.142411788357143e-53,3.2087068271223053e-52,4.650605771503125e-51,6.522910401104568e-50,8.853718279368486e-49,1.1629535895820175e-47,1.4782621837906067e-46,1.818414767410326e-45,2.1646457401985254e-44,2.4936363005820936e-43,2.779916752758846e-42,2.999044217341579e-41,3.131023635917608e-40,3.1633134079870543e-39,3.092790460383527e-38,2.926248277166436e-37,2.6793178894908486e-36,2.3740492027218004e-35,2.035670983426934e-34,1.6891874876365766e-33,1.356439800478085e-32,1.0540848993075736e-31,7.92689413341638e-31,5.768766005607909e-30,4.062704054408999e-29,2.7688526889608634e-28,1.8261519554057206e-27,1.1655378288506001e-26,7.198934688166302e-26,4.302912277085228e-25,2.4889097555970474e-24,1.3931831288839803e-23,7.546744765105516e-23,3.956065892721897e-22,2.006872445214921e-21,9.852091176215934e-21,4.680470082747992e-20,2.151805056727976e-19,9.573456600922774e-19,4.1218010055623855e-18,1.717345465779301e-17,6.924377135120366e-17,2.7018184211257143e-16,1.0201969059879823e-15,3.727899920183286e-15,1.3182472870552556e-14,4.511094518023306e-14,1.4938925658287778e-13,4.787504600996548e-13,1.484743530416049e-12,4.4560091885551275e-12,1.2941753176856836e-11,3.6374124315366165e-11,9.893372920058543e-11,2.6040457588136576e-10,6.632927375821039e-10,1.6349868795536584e-09,3.900099621302128e-09,9.00304722000868e-09,2.0112022879990363e-08,4.3478482696751126e-08,9.09589428105651e-08,1.8414877205285614e-07,3.607818235397646e-07,6.840264106055418e-07,1.2550282172635215e-06,2.228365926914473e-06,3.82888151257226e-06,6.3666319406528155e-06,1.0244716844678737e-05,1.5953007667637902e-05,2.4040172931803453e-05,3.505782750364721e-05,4.947488702208951e-05,6.756737103810973e-05,8.929797911526453e-05,0.00011420855550242664,0.0001413539814850791,0.00016930502631546152,0.00019623842810517447,0.00022011551755614408,0.00023892943874968491,0.0002509811266728658],\"yaxis\":\"y\",\"type\":\"scatter\"},{\"legendgroup\":\"UnitPrice\",\"marker\":{\"color\":\"rgb(31, 119, 180)\",\"symbol\":\"line-ns-open\"},\"mode\":\"markers\",\"name\":\"UnitPrice\",\"showlegend\":false,\"x\":[0.85,2.95,1.25,7.46,2.51,3.95,2.1,4.95,2.46,1.69,0.39,0.55,12.75,1.25,1.65,1.65,4.25,2.1,4.25,1.28,2.95,1.45,3.29,2.46,4.95,1.25,2.55,0.83,7.95,2.1,7.08,0.21,2.95,1.65,3.29,1.63,1.25,2.95,7.95,1.65,4.25,0.29,7.95,8.29,1.25,2.08,0.83,1.65,1.45,2.95,0.55,2.95,5.91,4.13,7.46,3.95,2.95,1.95,2.1,5.79,2.08,3.75,1.65,0.85,4.95,2.25,0.83,0.85,14.96,8.5,2.95,8.29,1.65,2.08,1.45,4.25,5.79,2.08,5.79,1.25,1.63,2.08,4.25,0.85,202.42,0.42,1.65,3.36,2.55,2.89,1.25,10.79,2.46,3.29,4.13,1.65,0.75,1.95,7.95,1.25,2.46,0.62,4.95,2.46,4.95,3.75,2.1,7.46,7.95,0.29,1.65,0.65,0.42,1.95,1.25,2.08,3.25,0.83,1.63,4.95,1.25,0.79,1.25,3.29,10.79,3.75,1.25,1.25,0.55,1.45,2.46,4.95,4.13,2.08,2.46,0.55,1.45,2.95,25.49,0.85,1.65,0.42,2.95,4.25,2.08,1.25,0.39,4.13,4.95,2.95,0.83,1.25,0.79,19.95,1.65,0.83,2.49,5.95,4.95,1.66,7.46,3.29,0.42,0.55,0.55,4.95,1.25,1.65,4.25,1.63,2.46,1.45,0.85,12.46,7.95,4.13,1.25,1.45,4.95,0.85,0.85,2.55,1.65,4.95,4.95,3.75,1.25,0.79,0.38,1.65,1.65,2.1,0.55,0.42,2.08,2.95,1.63,2.51,2.08,2.55,9.95,1.65,2.55,8.29,5.79,1.45,2.08,3.75,1.69,1.25,3.75,0.42,4.96,4.24,1.65,2.1,4.96,0.55,3.75,7.95,0.85,1.65,1.25,4.95,0.85,2.95,6.63,1.65,0.42,1.45,1.25,5.95,1.66,8.25,2.95,2.08,4.96,1.25,1.66,2.95,3.75,2.95,0.29,0.39,4.13,5.75,9.95,0.29,2.95,5.79,1.65,4.25,1.45,2.55,1.63,4.13,3.95,3.29,1.7,0.39,0.29,0.55,0.83,1.06,12.75,2.1,1.25,1.25,12.5,5.06,10.79,2.1,2.08,0.19,2.95,2.25,8.29,4.96,5.79,2.51,4.95,1.25,1.25,1.65,0.85,0.42,1.65,5.95,4.95,0.42,4.15,0.55,0.85,0.39,4.95,0.42,1.25,1.25,2.95,0.83,0.65,2.1,1.25,0.85,2.1,8.5,0.65,7.95,4.95,0.42,0.39,2.1,0.65,0.85,0.85,1.65,1.65,5.95,7.95,0.42,0.85,18.0,2.95,0.42,2.08,0.42,1.25,1.25,4.95,5.45,0.85,1.65,7.95,2.08,1.25,2.08,1.45,1.95,7.95,4.15,1.25,4.95,2.55,2.95,1.65,2.08,0.85,0.85,2.95,3.75,3.75,1.95,12.75,10.95,0.39,10.95,0.29,2.55,1.45,0.65,2.95,2.55,3.75,4.95,2.95,1.25,0.55,0.85,0.85,14.95,4.95,3.25,4.95,2.08,0.85,18.0,1.25,9.95,1.65,1.65,1.65,4.25,1.65,0.85,8.5,1.25,0.42,4.95,1.45,1.45,2.08,1.65,10.95,1.0,18.0,2.95,2.95,0.65,0.42,0.85,0.55,0.85,1.25,12.5,0.42,1.65,0.42,0.65,2.55,1.25,5.95,1.25,2.95,2.95,0.39,2.55,2.95,2.1,1.45,1.65,12.75,1.25,0.83,3.75,2.1,1.25,3.25,3.25,1.95,1.25,1.25,18.0,0.42,0.83,0.85,1.65,4.95,1.25,4.95,0.85,1.25,2.55,0.85,0.42,1.95,0.65,1.25,2.1,1.95,1.79,4.15,18.0,1.25,1.65,2.95,0.85,1.95,0.55,1.65,18.0,1.45,2.55,0.42,1.65,4.95,0.65,1.65,0.85,8.25,3.75,1.65,1.65,2.08,1.65,0.42,10.95,4.15,0.65,1.25,0.42,1.25,4.95,0.39,0.85,1.25,0.42,1.79,18.0,0.85,8.25,2.25,2.08,0.83,2.95,1.25,1.25,0.85,3.25,2.08,1.65,1.65,1.25,1.25,0.65,4.15,2.95,4.15,4.95,4.95,0.42,2.1,4.15,0.85,0.85,1.25,4.95,4.15,2.1,2.95,1.79,1.25,2.1,0.85,18.0,0.42,1.65,18.0,0.85,0.29,4.15,5.95,1.25,4.95,0.82,0.12,2.1,8.5,0.83,0.42,0.85,1.65,8.95,2.55,1.65,0.19,0.42,1.25,18.0,1.25,0.39,2.1,2.55,1.25,0.85,2.55,1.25,1.65,7.95,2.08,0.85,1.25,1.65,2.08,1.25,18.0,0.21,1.65,0.85,6.75,1.25,2.08,6.75,3.75,0.65,1.95,4.15,0.85,2.55,0.65,4.15,3.25,18.0,0.42,0.42,18.0,0.42,1.95,1.95,3.75,1.65,2.55,1.65,0.85,2.95,3.75,2.95,0.42,0.85,0.39,11.95,2.95,1.65,3.39,1.65,1.45,6.75,7.95,4.95,1.25,7.95,3.25,1.04,1.65,2.55,6.75,0.34,1.45,0.38,1.65,0.55,2.89,4.25,3.25,0.36,4.15,2.08,1.65,1.45,2.95,0.72,0.34,3.39,2.08,0.19,1.25,2.95,5.95,1.65,0.36,1.65,1.04,3.39,1.95,1.85,3.75,0.37,0.25,4.95,1.45,2.49,2.95,2.95,1.95,5.95,0.21,4.15,3.75,1.65,3.75,4.95,8.25,3.75,0.42,4.95,1.25,2.1,3.25,0.55,2.55,0.85,10.95,1.25,2.1,1.65,0.65,1.25,0.55,0.85,3.95,1.95,0.85,0.85,1.95,1.65,2.95,15.0,3.25,2.55,1.65,3.75,4.95,2.55,1.25,8.25,0.85,1.25,0.55,4.95,0.85,1.25],\"xaxis\":\"x\",\"y\":[\"UnitPrice\",\"UnitPrice\",\"UnitPrice\",\"UnitPrice\",\"UnitPrice\",\"UnitPrice\",\"UnitPrice\",\"UnitPrice\",\"UnitPrice\",\"UnitPrice\",\"UnitPrice\",\"UnitPrice\",\"UnitPrice\",\"UnitPrice\",\"UnitPrice\",\"UnitPrice\",\"UnitPrice\",\"UnitPrice\",\"UnitPrice\",\"UnitPrice\",\"UnitPrice\",\"UnitPrice\",\"UnitPrice\",\"UnitPrice\",\"UnitPrice\",\"UnitPrice\",\"UnitPrice\",\"UnitPrice\",\"UnitPrice\",\"UnitPrice\",\"UnitPrice\",\"UnitPrice\",\"UnitPrice\",\"UnitPrice\",\"UnitPrice\",\"UnitPrice\",\"UnitPrice\",\"UnitPrice\",\"UnitPrice\",\"UnitPrice\",\"UnitPrice\",\"UnitPrice\",\"UnitPrice\",\"UnitPrice\",\"UnitPrice\",\"UnitPrice\",\"UnitPrice\",\"UnitPrice\",\"UnitPrice\",\"UnitPrice\",\"UnitPrice\",\"UnitPrice\",\"UnitPrice\",\"UnitPrice\",\"UnitPrice\",\"UnitPrice\",\"UnitPrice\",\"UnitPrice\",\"UnitPrice\",\"UnitPrice\",\"UnitPrice\",\"UnitPrice\",\"UnitPrice\",\"UnitPrice\",\"UnitPrice\",\"UnitPrice\",\"UnitPrice\",\"UnitPrice\",\"UnitPrice\",\"UnitPrice\",\"UnitPrice\",\"UnitPrice\",\"UnitPrice\",\"UnitPrice\",\"UnitPrice\",\"UnitPrice\",\"UnitPrice\",\"UnitPrice\",\"UnitPrice\",\"UnitPrice\",\"UnitPrice\",\"UnitPrice\",\"UnitPrice\",\"UnitPrice\",\"UnitPrice\",\"UnitPrice\",\"UnitPrice\",\"UnitPrice\",\"UnitPrice\",\"UnitPrice\",\"UnitPrice\",\"UnitPrice\",\"UnitPrice\",\"UnitPrice\",\"UnitPrice\",\"UnitPrice\",\"UnitPrice\",\"UnitPrice\",\"UnitPrice\",\"UnitPrice\",\"UnitPrice\",\"UnitPrice\",\"UnitPrice\",\"UnitPrice\",\"UnitPrice\",\"UnitPrice\",\"UnitPrice\",\"UnitPrice\",\"UnitPrice\",\"UnitPrice\",\"UnitPrice\",\"UnitPrice\",\"UnitPrice\",\"UnitPrice\",\"UnitPrice\",\"UnitPrice\",\"UnitPrice\",\"UnitPrice\",\"UnitPrice\",\"UnitPrice\",\"UnitPrice\",\"UnitPrice\",\"UnitPrice\",\"UnitPrice\",\"UnitPrice\",\"UnitPrice\",\"UnitPrice\",\"UnitPrice\",\"UnitPrice\",\"UnitPrice\",\"UnitPrice\",\"UnitPrice\",\"UnitPrice\",\"UnitPrice\",\"UnitPrice\",\"UnitPrice\",\"UnitPrice\",\"UnitPrice\",\"UnitPrice\",\"UnitPrice\",\"UnitPrice\",\"UnitPrice\",\"UnitPrice\",\"UnitPrice\",\"UnitPrice\",\"UnitPrice\",\"UnitPrice\",\"UnitPrice\",\"UnitPrice\",\"UnitPrice\",\"UnitPrice\",\"UnitPrice\",\"UnitPrice\",\"UnitPrice\",\"UnitPrice\",\"UnitPrice\",\"UnitPrice\",\"UnitPrice\",\"UnitPrice\",\"UnitPrice\",\"UnitPrice\",\"UnitPrice\",\"UnitPrice\",\"UnitPrice\",\"UnitPrice\",\"UnitPrice\",\"UnitPrice\",\"UnitPrice\",\"UnitPrice\",\"UnitPrice\",\"UnitPrice\",\"UnitPrice\",\"UnitPrice\",\"UnitPrice\",\"UnitPrice\",\"UnitPrice\",\"UnitPrice\",\"UnitPrice\",\"UnitPrice\",\"UnitPrice\",\"UnitPrice\",\"UnitPrice\",\"UnitPrice\",\"UnitPrice\",\"UnitPrice\",\"UnitPrice\",\"UnitPrice\",\"UnitPrice\",\"UnitPrice\",\"UnitPrice\",\"UnitPrice\",\"UnitPrice\",\"UnitPrice\",\"UnitPrice\",\"UnitPrice\",\"UnitPrice\",\"UnitPrice\",\"UnitPrice\",\"UnitPrice\",\"UnitPrice\",\"UnitPrice\",\"UnitPrice\",\"UnitPrice\",\"UnitPrice\",\"UnitPrice\",\"UnitPrice\",\"UnitPrice\",\"UnitPrice\",\"UnitPrice\",\"UnitPrice\",\"UnitPrice\",\"UnitPrice\",\"UnitPrice\",\"UnitPrice\",\"UnitPrice\",\"UnitPrice\",\"UnitPrice\",\"UnitPrice\",\"UnitPrice\",\"UnitPrice\",\"UnitPrice\",\"UnitPrice\",\"UnitPrice\",\"UnitPrice\",\"UnitPrice\",\"UnitPrice\",\"UnitPrice\",\"UnitPrice\",\"UnitPrice\",\"UnitPrice\",\"UnitPrice\",\"UnitPrice\",\"UnitPrice\",\"UnitPrice\",\"UnitPrice\",\"UnitPrice\",\"UnitPrice\",\"UnitPrice\",\"UnitPrice\",\"UnitPrice\",\"UnitPrice\",\"UnitPrice\",\"UnitPrice\",\"UnitPrice\",\"UnitPrice\",\"UnitPrice\",\"UnitPrice\",\"UnitPrice\",\"UnitPrice\",\"UnitPrice\",\"UnitPrice\",\"UnitPrice\",\"UnitPrice\",\"UnitPrice\",\"UnitPrice\",\"UnitPrice\",\"UnitPrice\",\"UnitPrice\",\"UnitPrice\",\"UnitPrice\",\"UnitPrice\",\"UnitPrice\",\"UnitPrice\",\"UnitPrice\",\"UnitPrice\",\"UnitPrice\",\"UnitPrice\",\"UnitPrice\",\"UnitPrice\",\"UnitPrice\",\"UnitPrice\",\"UnitPrice\",\"UnitPrice\",\"UnitPrice\",\"UnitPrice\",\"UnitPrice\",\"UnitPrice\",\"UnitPrice\",\"UnitPrice\",\"UnitPrice\",\"UnitPrice\",\"UnitPrice\",\"UnitPrice\",\"UnitPrice\",\"UnitPrice\",\"UnitPrice\",\"UnitPrice\",\"UnitPrice\",\"UnitPrice\",\"UnitPrice\",\"UnitPrice\",\"UnitPrice\",\"UnitPrice\",\"UnitPrice\",\"UnitPrice\",\"UnitPrice\",\"UnitPrice\",\"UnitPrice\",\"UnitPrice\",\"UnitPrice\",\"UnitPrice\",\"UnitPrice\",\"UnitPrice\",\"UnitPrice\",\"UnitPrice\",\"UnitPrice\",\"UnitPrice\",\"UnitPrice\",\"UnitPrice\",\"UnitPrice\",\"UnitPrice\",\"UnitPrice\",\"UnitPrice\",\"UnitPrice\",\"UnitPrice\",\"UnitPrice\",\"UnitPrice\",\"UnitPrice\",\"UnitPrice\",\"UnitPrice\",\"UnitPrice\",\"UnitPrice\",\"UnitPrice\",\"UnitPrice\",\"UnitPrice\",\"UnitPrice\",\"UnitPrice\",\"UnitPrice\",\"UnitPrice\",\"UnitPrice\",\"UnitPrice\",\"UnitPrice\",\"UnitPrice\",\"UnitPrice\",\"UnitPrice\",\"UnitPrice\",\"UnitPrice\",\"UnitPrice\",\"UnitPrice\",\"UnitPrice\",\"UnitPrice\",\"UnitPrice\",\"UnitPrice\",\"UnitPrice\",\"UnitPrice\",\"UnitPrice\",\"UnitPrice\",\"UnitPrice\",\"UnitPrice\",\"UnitPrice\",\"UnitPrice\",\"UnitPrice\",\"UnitPrice\",\"UnitPrice\",\"UnitPrice\",\"UnitPrice\",\"UnitPrice\",\"UnitPrice\",\"UnitPrice\",\"UnitPrice\",\"UnitPrice\",\"UnitPrice\",\"UnitPrice\",\"UnitPrice\",\"UnitPrice\",\"UnitPrice\",\"UnitPrice\",\"UnitPrice\",\"UnitPrice\",\"UnitPrice\",\"UnitPrice\",\"UnitPrice\",\"UnitPrice\",\"UnitPrice\",\"UnitPrice\",\"UnitPrice\",\"UnitPrice\",\"UnitPrice\",\"UnitPrice\",\"UnitPrice\",\"UnitPrice\",\"UnitPrice\",\"UnitPrice\",\"UnitPrice\",\"UnitPrice\",\"UnitPrice\",\"UnitPrice\",\"UnitPrice\",\"UnitPrice\",\"UnitPrice\",\"UnitPrice\",\"UnitPrice\",\"UnitPrice\",\"UnitPrice\",\"UnitPrice\",\"UnitPrice\",\"UnitPrice\",\"UnitPrice\",\"UnitPrice\",\"UnitPrice\",\"UnitPrice\",\"UnitPrice\",\"UnitPrice\",\"UnitPrice\",\"UnitPrice\",\"UnitPrice\",\"UnitPrice\",\"UnitPrice\",\"UnitPrice\",\"UnitPrice\",\"UnitPrice\",\"UnitPrice\",\"UnitPrice\",\"UnitPrice\",\"UnitPrice\",\"UnitPrice\",\"UnitPrice\",\"UnitPrice\",\"UnitPrice\",\"UnitPrice\",\"UnitPrice\",\"UnitPrice\",\"UnitPrice\",\"UnitPrice\",\"UnitPrice\",\"UnitPrice\",\"UnitPrice\",\"UnitPrice\",\"UnitPrice\",\"UnitPrice\",\"UnitPrice\",\"UnitPrice\",\"UnitPrice\",\"UnitPrice\",\"UnitPrice\",\"UnitPrice\",\"UnitPrice\",\"UnitPrice\",\"UnitPrice\",\"UnitPrice\",\"UnitPrice\",\"UnitPrice\",\"UnitPrice\",\"UnitPrice\",\"UnitPrice\",\"UnitPrice\",\"UnitPrice\",\"UnitPrice\",\"UnitPrice\",\"UnitPrice\",\"UnitPrice\",\"UnitPrice\",\"UnitPrice\",\"UnitPrice\",\"UnitPrice\",\"UnitPrice\",\"UnitPrice\",\"UnitPrice\",\"UnitPrice\",\"UnitPrice\",\"UnitPrice\",\"UnitPrice\",\"UnitPrice\",\"UnitPrice\",\"UnitPrice\",\"UnitPrice\",\"UnitPrice\",\"UnitPrice\",\"UnitPrice\",\"UnitPrice\",\"UnitPrice\",\"UnitPrice\",\"UnitPrice\",\"UnitPrice\",\"UnitPrice\",\"UnitPrice\",\"UnitPrice\",\"UnitPrice\",\"UnitPrice\",\"UnitPrice\",\"UnitPrice\",\"UnitPrice\",\"UnitPrice\",\"UnitPrice\",\"UnitPrice\",\"UnitPrice\",\"UnitPrice\",\"UnitPrice\",\"UnitPrice\",\"UnitPrice\",\"UnitPrice\",\"UnitPrice\",\"UnitPrice\",\"UnitPrice\",\"UnitPrice\",\"UnitPrice\",\"UnitPrice\",\"UnitPrice\",\"UnitPrice\",\"UnitPrice\",\"UnitPrice\",\"UnitPrice\",\"UnitPrice\",\"UnitPrice\",\"UnitPrice\",\"UnitPrice\",\"UnitPrice\",\"UnitPrice\",\"UnitPrice\",\"UnitPrice\",\"UnitPrice\",\"UnitPrice\",\"UnitPrice\",\"UnitPrice\",\"UnitPrice\",\"UnitPrice\",\"UnitPrice\",\"UnitPrice\",\"UnitPrice\",\"UnitPrice\",\"UnitPrice\",\"UnitPrice\",\"UnitPrice\",\"UnitPrice\",\"UnitPrice\",\"UnitPrice\",\"UnitPrice\",\"UnitPrice\",\"UnitPrice\",\"UnitPrice\",\"UnitPrice\",\"UnitPrice\",\"UnitPrice\",\"UnitPrice\",\"UnitPrice\",\"UnitPrice\",\"UnitPrice\",\"UnitPrice\",\"UnitPrice\",\"UnitPrice\",\"UnitPrice\",\"UnitPrice\",\"UnitPrice\",\"UnitPrice\",\"UnitPrice\",\"UnitPrice\",\"UnitPrice\",\"UnitPrice\",\"UnitPrice\",\"UnitPrice\",\"UnitPrice\",\"UnitPrice\",\"UnitPrice\",\"UnitPrice\",\"UnitPrice\",\"UnitPrice\",\"UnitPrice\",\"UnitPrice\",\"UnitPrice\",\"UnitPrice\",\"UnitPrice\",\"UnitPrice\",\"UnitPrice\",\"UnitPrice\",\"UnitPrice\",\"UnitPrice\",\"UnitPrice\",\"UnitPrice\",\"UnitPrice\",\"UnitPrice\",\"UnitPrice\",\"UnitPrice\",\"UnitPrice\",\"UnitPrice\",\"UnitPrice\",\"UnitPrice\",\"UnitPrice\",\"UnitPrice\",\"UnitPrice\",\"UnitPrice\",\"UnitPrice\",\"UnitPrice\",\"UnitPrice\",\"UnitPrice\",\"UnitPrice\",\"UnitPrice\",\"UnitPrice\",\"UnitPrice\",\"UnitPrice\",\"UnitPrice\",\"UnitPrice\",\"UnitPrice\",\"UnitPrice\",\"UnitPrice\",\"UnitPrice\",\"UnitPrice\",\"UnitPrice\",\"UnitPrice\",\"UnitPrice\",\"UnitPrice\",\"UnitPrice\",\"UnitPrice\",\"UnitPrice\",\"UnitPrice\",\"UnitPrice\",\"UnitPrice\",\"UnitPrice\",\"UnitPrice\",\"UnitPrice\",\"UnitPrice\",\"UnitPrice\",\"UnitPrice\",\"UnitPrice\",\"UnitPrice\",\"UnitPrice\",\"UnitPrice\",\"UnitPrice\",\"UnitPrice\",\"UnitPrice\",\"UnitPrice\",\"UnitPrice\",\"UnitPrice\",\"UnitPrice\",\"UnitPrice\",\"UnitPrice\",\"UnitPrice\",\"UnitPrice\",\"UnitPrice\",\"UnitPrice\",\"UnitPrice\",\"UnitPrice\",\"UnitPrice\",\"UnitPrice\",\"UnitPrice\",\"UnitPrice\",\"UnitPrice\",\"UnitPrice\",\"UnitPrice\",\"UnitPrice\",\"UnitPrice\",\"UnitPrice\",\"UnitPrice\",\"UnitPrice\",\"UnitPrice\",\"UnitPrice\",\"UnitPrice\",\"UnitPrice\",\"UnitPrice\",\"UnitPrice\",\"UnitPrice\",\"UnitPrice\",\"UnitPrice\",\"UnitPrice\",\"UnitPrice\",\"UnitPrice\",\"UnitPrice\",\"UnitPrice\",\"UnitPrice\",\"UnitPrice\",\"UnitPrice\",\"UnitPrice\",\"UnitPrice\",\"UnitPrice\",\"UnitPrice\",\"UnitPrice\",\"UnitPrice\",\"UnitPrice\",\"UnitPrice\",\"UnitPrice\",\"UnitPrice\",\"UnitPrice\",\"UnitPrice\",\"UnitPrice\",\"UnitPrice\",\"UnitPrice\",\"UnitPrice\",\"UnitPrice\",\"UnitPrice\",\"UnitPrice\",\"UnitPrice\",\"UnitPrice\",\"UnitPrice\",\"UnitPrice\",\"UnitPrice\",\"UnitPrice\",\"UnitPrice\",\"UnitPrice\",\"UnitPrice\",\"UnitPrice\",\"UnitPrice\",\"UnitPrice\",\"UnitPrice\",\"UnitPrice\",\"UnitPrice\",\"UnitPrice\",\"UnitPrice\",\"UnitPrice\",\"UnitPrice\",\"UnitPrice\",\"UnitPrice\"],\"yaxis\":\"y2\",\"type\":\"scatter\"}],                        {\"barmode\":\"overlay\",\"hovermode\":\"closest\",\"legend\":{\"traceorder\":\"reversed\"},\"xaxis\":{\"anchor\":\"y2\",\"domain\":[0.0,1.0],\"zeroline\":false},\"yaxis\":{\"anchor\":\"free\",\"domain\":[0.35,1],\"position\":0.0},\"yaxis2\":{\"anchor\":\"x\",\"domain\":[0,0.25],\"dtick\":1,\"showticklabels\":false},\"template\":{\"data\":{\"histogram2dcontour\":[{\"type\":\"histogram2dcontour\",\"colorbar\":{\"outlinewidth\":0,\"ticks\":\"\"},\"colorscale\":[[0.0,\"#0d0887\"],[0.1111111111111111,\"#46039f\"],[0.2222222222222222,\"#7201a8\"],[0.3333333333333333,\"#9c179e\"],[0.4444444444444444,\"#bd3786\"],[0.5555555555555556,\"#d8576b\"],[0.6666666666666666,\"#ed7953\"],[0.7777777777777778,\"#fb9f3a\"],[0.8888888888888888,\"#fdca26\"],[1.0,\"#f0f921\"]]}],\"choropleth\":[{\"type\":\"choropleth\",\"colorbar\":{\"outlinewidth\":0,\"ticks\":\"\"}}],\"histogram2d\":[{\"type\":\"histogram2d\",\"colorbar\":{\"outlinewidth\":0,\"ticks\":\"\"},\"colorscale\":[[0.0,\"#0d0887\"],[0.1111111111111111,\"#46039f\"],[0.2222222222222222,\"#7201a8\"],[0.3333333333333333,\"#9c179e\"],[0.4444444444444444,\"#bd3786\"],[0.5555555555555556,\"#d8576b\"],[0.6666666666666666,\"#ed7953\"],[0.7777777777777778,\"#fb9f3a\"],[0.8888888888888888,\"#fdca26\"],[1.0,\"#f0f921\"]]}],\"heatmap\":[{\"type\":\"heatmap\",\"colorbar\":{\"outlinewidth\":0,\"ticks\":\"\"},\"colorscale\":[[0.0,\"#0d0887\"],[0.1111111111111111,\"#46039f\"],[0.2222222222222222,\"#7201a8\"],[0.3333333333333333,\"#9c179e\"],[0.4444444444444444,\"#bd3786\"],[0.5555555555555556,\"#d8576b\"],[0.6666666666666666,\"#ed7953\"],[0.7777777777777778,\"#fb9f3a\"],[0.8888888888888888,\"#fdca26\"],[1.0,\"#f0f921\"]]}],\"heatmapgl\":[{\"type\":\"heatmapgl\",\"colorbar\":{\"outlinewidth\":0,\"ticks\":\"\"},\"colorscale\":[[0.0,\"#0d0887\"],[0.1111111111111111,\"#46039f\"],[0.2222222222222222,\"#7201a8\"],[0.3333333333333333,\"#9c179e\"],[0.4444444444444444,\"#bd3786\"],[0.5555555555555556,\"#d8576b\"],[0.6666666666666666,\"#ed7953\"],[0.7777777777777778,\"#fb9f3a\"],[0.8888888888888888,\"#fdca26\"],[1.0,\"#f0f921\"]]}],\"contourcarpet\":[{\"type\":\"contourcarpet\",\"colorbar\":{\"outlinewidth\":0,\"ticks\":\"\"}}],\"contour\":[{\"type\":\"contour\",\"colorbar\":{\"outlinewidth\":0,\"ticks\":\"\"},\"colorscale\":[[0.0,\"#0d0887\"],[0.1111111111111111,\"#46039f\"],[0.2222222222222222,\"#7201a8\"],[0.3333333333333333,\"#9c179e\"],[0.4444444444444444,\"#bd3786\"],[0.5555555555555556,\"#d8576b\"],[0.6666666666666666,\"#ed7953\"],[0.7777777777777778,\"#fb9f3a\"],[0.8888888888888888,\"#fdca26\"],[1.0,\"#f0f921\"]]}],\"surface\":[{\"type\":\"surface\",\"colorbar\":{\"outlinewidth\":0,\"ticks\":\"\"},\"colorscale\":[[0.0,\"#0d0887\"],[0.1111111111111111,\"#46039f\"],[0.2222222222222222,\"#7201a8\"],[0.3333333333333333,\"#9c179e\"],[0.4444444444444444,\"#bd3786\"],[0.5555555555555556,\"#d8576b\"],[0.6666666666666666,\"#ed7953\"],[0.7777777777777778,\"#fb9f3a\"],[0.8888888888888888,\"#fdca26\"],[1.0,\"#f0f921\"]]}],\"mesh3d\":[{\"type\":\"mesh3d\",\"colorbar\":{\"outlinewidth\":0,\"ticks\":\"\"}}],\"scatter\":[{\"marker\":{\"line\":{\"color\":\"#283442\"}},\"type\":\"scatter\"}],\"parcoords\":[{\"type\":\"parcoords\",\"line\":{\"colorbar\":{\"outlinewidth\":0,\"ticks\":\"\"}}}],\"scatterpolargl\":[{\"type\":\"scatterpolargl\",\"marker\":{\"colorbar\":{\"outlinewidth\":0,\"ticks\":\"\"}}}],\"bar\":[{\"error_x\":{\"color\":\"#f2f5fa\"},\"error_y\":{\"color\":\"#f2f5fa\"},\"marker\":{\"line\":{\"color\":\"rgb(17,17,17)\",\"width\":0.5},\"pattern\":{\"fillmode\":\"overlay\",\"size\":10,\"solidity\":0.2}},\"type\":\"bar\"}],\"scattergeo\":[{\"type\":\"scattergeo\",\"marker\":{\"colorbar\":{\"outlinewidth\":0,\"ticks\":\"\"}}}],\"scatterpolar\":[{\"type\":\"scatterpolar\",\"marker\":{\"colorbar\":{\"outlinewidth\":0,\"ticks\":\"\"}}}],\"histogram\":[{\"marker\":{\"pattern\":{\"fillmode\":\"overlay\",\"size\":10,\"solidity\":0.2}},\"type\":\"histogram\"}],\"scattergl\":[{\"marker\":{\"line\":{\"color\":\"#283442\"}},\"type\":\"scattergl\"}],\"scatter3d\":[{\"type\":\"scatter3d\",\"line\":{\"colorbar\":{\"outlinewidth\":0,\"ticks\":\"\"}},\"marker\":{\"colorbar\":{\"outlinewidth\":0,\"ticks\":\"\"}}}],\"scattermapbox\":[{\"type\":\"scattermapbox\",\"marker\":{\"colorbar\":{\"outlinewidth\":0,\"ticks\":\"\"}}}],\"scatterternary\":[{\"type\":\"scatterternary\",\"marker\":{\"colorbar\":{\"outlinewidth\":0,\"ticks\":\"\"}}}],\"scattercarpet\":[{\"type\":\"scattercarpet\",\"marker\":{\"colorbar\":{\"outlinewidth\":0,\"ticks\":\"\"}}}],\"carpet\":[{\"aaxis\":{\"endlinecolor\":\"#A2B1C6\",\"gridcolor\":\"#506784\",\"linecolor\":\"#506784\",\"minorgridcolor\":\"#506784\",\"startlinecolor\":\"#A2B1C6\"},\"baxis\":{\"endlinecolor\":\"#A2B1C6\",\"gridcolor\":\"#506784\",\"linecolor\":\"#506784\",\"minorgridcolor\":\"#506784\",\"startlinecolor\":\"#A2B1C6\"},\"type\":\"carpet\"}],\"table\":[{\"cells\":{\"fill\":{\"color\":\"#506784\"},\"line\":{\"color\":\"rgb(17,17,17)\"}},\"header\":{\"fill\":{\"color\":\"#2a3f5f\"},\"line\":{\"color\":\"rgb(17,17,17)\"}},\"type\":\"table\"}],\"barpolar\":[{\"marker\":{\"line\":{\"color\":\"rgb(17,17,17)\",\"width\":0.5},\"pattern\":{\"fillmode\":\"overlay\",\"size\":10,\"solidity\":0.2}},\"type\":\"barpolar\"}],\"pie\":[{\"automargin\":true,\"type\":\"pie\"}]},\"layout\":{\"autotypenumbers\":\"strict\",\"colorway\":[\"#636efa\",\"#EF553B\",\"#00cc96\",\"#ab63fa\",\"#FFA15A\",\"#19d3f3\",\"#FF6692\",\"#B6E880\",\"#FF97FF\",\"#FECB52\"],\"font\":{\"color\":\"#f2f5fa\"},\"hovermode\":\"closest\",\"hoverlabel\":{\"align\":\"left\"},\"paper_bgcolor\":\"rgb(17,17,17)\",\"plot_bgcolor\":\"rgb(17,17,17)\",\"polar\":{\"bgcolor\":\"rgb(17,17,17)\",\"angularaxis\":{\"gridcolor\":\"#506784\",\"linecolor\":\"#506784\",\"ticks\":\"\"},\"radialaxis\":{\"gridcolor\":\"#506784\",\"linecolor\":\"#506784\",\"ticks\":\"\"}},\"ternary\":{\"bgcolor\":\"rgb(17,17,17)\",\"aaxis\":{\"gridcolor\":\"#506784\",\"linecolor\":\"#506784\",\"ticks\":\"\"},\"baxis\":{\"gridcolor\":\"#506784\",\"linecolor\":\"#506784\",\"ticks\":\"\"},\"caxis\":{\"gridcolor\":\"#506784\",\"linecolor\":\"#506784\",\"ticks\":\"\"}},\"coloraxis\":{\"colorbar\":{\"outlinewidth\":0,\"ticks\":\"\"}},\"colorscale\":{\"sequential\":[[0.0,\"#0d0887\"],[0.1111111111111111,\"#46039f\"],[0.2222222222222222,\"#7201a8\"],[0.3333333333333333,\"#9c179e\"],[0.4444444444444444,\"#bd3786\"],[0.5555555555555556,\"#d8576b\"],[0.6666666666666666,\"#ed7953\"],[0.7777777777777778,\"#fb9f3a\"],[0.8888888888888888,\"#fdca26\"],[1.0,\"#f0f921\"]],\"sequentialminus\":[[0.0,\"#0d0887\"],[0.1111111111111111,\"#46039f\"],[0.2222222222222222,\"#7201a8\"],[0.3333333333333333,\"#9c179e\"],[0.4444444444444444,\"#bd3786\"],[0.5555555555555556,\"#d8576b\"],[0.6666666666666666,\"#ed7953\"],[0.7777777777777778,\"#fb9f3a\"],[0.8888888888888888,\"#fdca26\"],[1.0,\"#f0f921\"]],\"diverging\":[[0,\"#8e0152\"],[0.1,\"#c51b7d\"],[0.2,\"#de77ae\"],[0.3,\"#f1b6da\"],[0.4,\"#fde0ef\"],[0.5,\"#f7f7f7\"],[0.6,\"#e6f5d0\"],[0.7,\"#b8e186\"],[0.8,\"#7fbc41\"],[0.9,\"#4d9221\"],[1,\"#276419\"]]},\"xaxis\":{\"gridcolor\":\"#283442\",\"linecolor\":\"#506784\",\"ticks\":\"\",\"title\":{\"standoff\":15},\"zerolinecolor\":\"#283442\",\"automargin\":true,\"zerolinewidth\":2},\"yaxis\":{\"gridcolor\":\"#283442\",\"linecolor\":\"#506784\",\"ticks\":\"\",\"title\":{\"standoff\":15},\"zerolinecolor\":\"#283442\",\"automargin\":true,\"zerolinewidth\":2},\"scene\":{\"xaxis\":{\"backgroundcolor\":\"rgb(17,17,17)\",\"gridcolor\":\"#506784\",\"linecolor\":\"#506784\",\"showbackground\":true,\"ticks\":\"\",\"zerolinecolor\":\"#C8D4E3\",\"gridwidth\":2},\"yaxis\":{\"backgroundcolor\":\"rgb(17,17,17)\",\"gridcolor\":\"#506784\",\"linecolor\":\"#506784\",\"showbackground\":true,\"ticks\":\"\",\"zerolinecolor\":\"#C8D4E3\",\"gridwidth\":2},\"zaxis\":{\"backgroundcolor\":\"rgb(17,17,17)\",\"gridcolor\":\"#506784\",\"linecolor\":\"#506784\",\"showbackground\":true,\"ticks\":\"\",\"zerolinecolor\":\"#C8D4E3\",\"gridwidth\":2}},\"shapedefaults\":{\"line\":{\"color\":\"#f2f5fa\"}},\"annotationdefaults\":{\"arrowcolor\":\"#f2f5fa\",\"arrowhead\":0,\"arrowwidth\":1},\"geo\":{\"bgcolor\":\"rgb(17,17,17)\",\"landcolor\":\"rgb(17,17,17)\",\"subunitcolor\":\"#506784\",\"showland\":true,\"showlakes\":true,\"lakecolor\":\"rgb(17,17,17)\"},\"title\":{\"x\":0.05},\"updatemenudefaults\":{\"bgcolor\":\"#506784\",\"borderwidth\":0},\"sliderdefaults\":{\"bgcolor\":\"#C8D4E3\",\"borderwidth\":1,\"bordercolor\":\"rgb(17,17,17)\",\"tickwidth\":0},\"mapbox\":{\"style\":\"dark\"}}}},                        {\"responsive\": true}                    ).then(function(){\n",
              "                            \n",
              "var gd = document.getElementById('9816f251-fbb0-4285-a915-e576340c937c');\n",
              "var x = new MutationObserver(function (mutations, observer) {{\n",
              "        var display = window.getComputedStyle(gd).display;\n",
              "        if (!display || display === 'none') {{\n",
              "            console.log([gd, 'removed!']);\n",
              "            Plotly.purge(gd);\n",
              "            observer.disconnect();\n",
              "        }}\n",
              "}});\n",
              "\n",
              "// Listen for the removal of the full notebook cells\n",
              "var notebookContainer = gd.closest('#notebook-container');\n",
              "if (notebookContainer) {{\n",
              "    x.observe(notebookContainer, {childList: true});\n",
              "}}\n",
              "\n",
              "// Listen for the clearing of the current output cell\n",
              "var outputEl = gd.closest('.output');\n",
              "if (outputEl) {{\n",
              "    x.observe(outputEl, {childList: true});\n",
              "}}\n",
              "\n",
              "                        })                };                });            </script>        </div>"
            ]
          },
          "metadata": {},
          "output_type": "display_data"
        }
      ],
      "source": [
        "fig = ff.create_distplot(hist_data=[df[\"UnitPrice\"].to_list()], group_labels=[\"UnitPrice\"])\n",
        "fig.show()"
      ]
    },
    {
      "cell_type": "code",
      "execution_count": null,
      "metadata": {
        "id": "M9MUOaBk_fy4",
        "outputId": "0188f8a5-dacb-401f-c49c-2ab5fdf32983"
      },
      "outputs": [
        {
          "data": {
            "application/vnd.plotly.v1+json": {
              "config": {
                "plotlyServerURL": "https://plot.ly"
              },
              "data": [
                {
                  "alignmentgroup": "True",
                  "hovertemplate": "Major Category=%{x}<br>OrderValue=%{y}<extra></extra>",
                  "legendgroup": "",
                  "marker": {
                    "color": "#636efa",
                    "pattern": {
                      "shape": ""
                    }
                  },
                  "name": "",
                  "offsetgroup": "",
                  "orientation": "v",
                  "showlegend": false,
                  "textposition": "auto",
                  "type": "bar",
                  "x": [
                    "Clothes",
                    "Garden",
                    "Household",
                    "Kitchen"
                  ],
                  "xaxis": "x",
                  "y": [
                    2720.5099999999998,
                    2931.36,
                    2467.42,
                    3027.52
                  ],
                  "yaxis": "y"
                }
              ],
              "layout": {
                "barmode": "relative",
                "legend": {
                  "tracegroupgap": 0
                },
                "margin": {
                  "t": 60
                },
                "template": {
                  "data": {
                    "bar": [
                      {
                        "error_x": {
                          "color": "#f2f5fa"
                        },
                        "error_y": {
                          "color": "#f2f5fa"
                        },
                        "marker": {
                          "line": {
                            "color": "rgb(17,17,17)",
                            "width": 0.5
                          },
                          "pattern": {
                            "fillmode": "overlay",
                            "size": 10,
                            "solidity": 0.2
                          }
                        },
                        "type": "bar"
                      }
                    ],
                    "barpolar": [
                      {
                        "marker": {
                          "line": {
                            "color": "rgb(17,17,17)",
                            "width": 0.5
                          },
                          "pattern": {
                            "fillmode": "overlay",
                            "size": 10,
                            "solidity": 0.2
                          }
                        },
                        "type": "barpolar"
                      }
                    ],
                    "carpet": [
                      {
                        "aaxis": {
                          "endlinecolor": "#A2B1C6",
                          "gridcolor": "#506784",
                          "linecolor": "#506784",
                          "minorgridcolor": "#506784",
                          "startlinecolor": "#A2B1C6"
                        },
                        "baxis": {
                          "endlinecolor": "#A2B1C6",
                          "gridcolor": "#506784",
                          "linecolor": "#506784",
                          "minorgridcolor": "#506784",
                          "startlinecolor": "#A2B1C6"
                        },
                        "type": "carpet"
                      }
                    ],
                    "choropleth": [
                      {
                        "colorbar": {
                          "outlinewidth": 0,
                          "ticks": ""
                        },
                        "type": "choropleth"
                      }
                    ],
                    "contour": [
                      {
                        "colorbar": {
                          "outlinewidth": 0,
                          "ticks": ""
                        },
                        "colorscale": [
                          [
                            0,
                            "#0d0887"
                          ],
                          [
                            0.1111111111111111,
                            "#46039f"
                          ],
                          [
                            0.2222222222222222,
                            "#7201a8"
                          ],
                          [
                            0.3333333333333333,
                            "#9c179e"
                          ],
                          [
                            0.4444444444444444,
                            "#bd3786"
                          ],
                          [
                            0.5555555555555556,
                            "#d8576b"
                          ],
                          [
                            0.6666666666666666,
                            "#ed7953"
                          ],
                          [
                            0.7777777777777778,
                            "#fb9f3a"
                          ],
                          [
                            0.8888888888888888,
                            "#fdca26"
                          ],
                          [
                            1,
                            "#f0f921"
                          ]
                        ],
                        "type": "contour"
                      }
                    ],
                    "contourcarpet": [
                      {
                        "colorbar": {
                          "outlinewidth": 0,
                          "ticks": ""
                        },
                        "type": "contourcarpet"
                      }
                    ],
                    "heatmap": [
                      {
                        "colorbar": {
                          "outlinewidth": 0,
                          "ticks": ""
                        },
                        "colorscale": [
                          [
                            0,
                            "#0d0887"
                          ],
                          [
                            0.1111111111111111,
                            "#46039f"
                          ],
                          [
                            0.2222222222222222,
                            "#7201a8"
                          ],
                          [
                            0.3333333333333333,
                            "#9c179e"
                          ],
                          [
                            0.4444444444444444,
                            "#bd3786"
                          ],
                          [
                            0.5555555555555556,
                            "#d8576b"
                          ],
                          [
                            0.6666666666666666,
                            "#ed7953"
                          ],
                          [
                            0.7777777777777778,
                            "#fb9f3a"
                          ],
                          [
                            0.8888888888888888,
                            "#fdca26"
                          ],
                          [
                            1,
                            "#f0f921"
                          ]
                        ],
                        "type": "heatmap"
                      }
                    ],
                    "heatmapgl": [
                      {
                        "colorbar": {
                          "outlinewidth": 0,
                          "ticks": ""
                        },
                        "colorscale": [
                          [
                            0,
                            "#0d0887"
                          ],
                          [
                            0.1111111111111111,
                            "#46039f"
                          ],
                          [
                            0.2222222222222222,
                            "#7201a8"
                          ],
                          [
                            0.3333333333333333,
                            "#9c179e"
                          ],
                          [
                            0.4444444444444444,
                            "#bd3786"
                          ],
                          [
                            0.5555555555555556,
                            "#d8576b"
                          ],
                          [
                            0.6666666666666666,
                            "#ed7953"
                          ],
                          [
                            0.7777777777777778,
                            "#fb9f3a"
                          ],
                          [
                            0.8888888888888888,
                            "#fdca26"
                          ],
                          [
                            1,
                            "#f0f921"
                          ]
                        ],
                        "type": "heatmapgl"
                      }
                    ],
                    "histogram": [
                      {
                        "marker": {
                          "pattern": {
                            "fillmode": "overlay",
                            "size": 10,
                            "solidity": 0.2
                          }
                        },
                        "type": "histogram"
                      }
                    ],
                    "histogram2d": [
                      {
                        "colorbar": {
                          "outlinewidth": 0,
                          "ticks": ""
                        },
                        "colorscale": [
                          [
                            0,
                            "#0d0887"
                          ],
                          [
                            0.1111111111111111,
                            "#46039f"
                          ],
                          [
                            0.2222222222222222,
                            "#7201a8"
                          ],
                          [
                            0.3333333333333333,
                            "#9c179e"
                          ],
                          [
                            0.4444444444444444,
                            "#bd3786"
                          ],
                          [
                            0.5555555555555556,
                            "#d8576b"
                          ],
                          [
                            0.6666666666666666,
                            "#ed7953"
                          ],
                          [
                            0.7777777777777778,
                            "#fb9f3a"
                          ],
                          [
                            0.8888888888888888,
                            "#fdca26"
                          ],
                          [
                            1,
                            "#f0f921"
                          ]
                        ],
                        "type": "histogram2d"
                      }
                    ],
                    "histogram2dcontour": [
                      {
                        "colorbar": {
                          "outlinewidth": 0,
                          "ticks": ""
                        },
                        "colorscale": [
                          [
                            0,
                            "#0d0887"
                          ],
                          [
                            0.1111111111111111,
                            "#46039f"
                          ],
                          [
                            0.2222222222222222,
                            "#7201a8"
                          ],
                          [
                            0.3333333333333333,
                            "#9c179e"
                          ],
                          [
                            0.4444444444444444,
                            "#bd3786"
                          ],
                          [
                            0.5555555555555556,
                            "#d8576b"
                          ],
                          [
                            0.6666666666666666,
                            "#ed7953"
                          ],
                          [
                            0.7777777777777778,
                            "#fb9f3a"
                          ],
                          [
                            0.8888888888888888,
                            "#fdca26"
                          ],
                          [
                            1,
                            "#f0f921"
                          ]
                        ],
                        "type": "histogram2dcontour"
                      }
                    ],
                    "mesh3d": [
                      {
                        "colorbar": {
                          "outlinewidth": 0,
                          "ticks": ""
                        },
                        "type": "mesh3d"
                      }
                    ],
                    "parcoords": [
                      {
                        "line": {
                          "colorbar": {
                            "outlinewidth": 0,
                            "ticks": ""
                          }
                        },
                        "type": "parcoords"
                      }
                    ],
                    "pie": [
                      {
                        "automargin": true,
                        "type": "pie"
                      }
                    ],
                    "scatter": [
                      {
                        "marker": {
                          "line": {
                            "color": "#283442"
                          }
                        },
                        "type": "scatter"
                      }
                    ],
                    "scatter3d": [
                      {
                        "line": {
                          "colorbar": {
                            "outlinewidth": 0,
                            "ticks": ""
                          }
                        },
                        "marker": {
                          "colorbar": {
                            "outlinewidth": 0,
                            "ticks": ""
                          }
                        },
                        "type": "scatter3d"
                      }
                    ],
                    "scattercarpet": [
                      {
                        "marker": {
                          "colorbar": {
                            "outlinewidth": 0,
                            "ticks": ""
                          }
                        },
                        "type": "scattercarpet"
                      }
                    ],
                    "scattergeo": [
                      {
                        "marker": {
                          "colorbar": {
                            "outlinewidth": 0,
                            "ticks": ""
                          }
                        },
                        "type": "scattergeo"
                      }
                    ],
                    "scattergl": [
                      {
                        "marker": {
                          "line": {
                            "color": "#283442"
                          }
                        },
                        "type": "scattergl"
                      }
                    ],
                    "scattermapbox": [
                      {
                        "marker": {
                          "colorbar": {
                            "outlinewidth": 0,
                            "ticks": ""
                          }
                        },
                        "type": "scattermapbox"
                      }
                    ],
                    "scatterpolar": [
                      {
                        "marker": {
                          "colorbar": {
                            "outlinewidth": 0,
                            "ticks": ""
                          }
                        },
                        "type": "scatterpolar"
                      }
                    ],
                    "scatterpolargl": [
                      {
                        "marker": {
                          "colorbar": {
                            "outlinewidth": 0,
                            "ticks": ""
                          }
                        },
                        "type": "scatterpolargl"
                      }
                    ],
                    "scatterternary": [
                      {
                        "marker": {
                          "colorbar": {
                            "outlinewidth": 0,
                            "ticks": ""
                          }
                        },
                        "type": "scatterternary"
                      }
                    ],
                    "surface": [
                      {
                        "colorbar": {
                          "outlinewidth": 0,
                          "ticks": ""
                        },
                        "colorscale": [
                          [
                            0,
                            "#0d0887"
                          ],
                          [
                            0.1111111111111111,
                            "#46039f"
                          ],
                          [
                            0.2222222222222222,
                            "#7201a8"
                          ],
                          [
                            0.3333333333333333,
                            "#9c179e"
                          ],
                          [
                            0.4444444444444444,
                            "#bd3786"
                          ],
                          [
                            0.5555555555555556,
                            "#d8576b"
                          ],
                          [
                            0.6666666666666666,
                            "#ed7953"
                          ],
                          [
                            0.7777777777777778,
                            "#fb9f3a"
                          ],
                          [
                            0.8888888888888888,
                            "#fdca26"
                          ],
                          [
                            1,
                            "#f0f921"
                          ]
                        ],
                        "type": "surface"
                      }
                    ],
                    "table": [
                      {
                        "cells": {
                          "fill": {
                            "color": "#506784"
                          },
                          "line": {
                            "color": "rgb(17,17,17)"
                          }
                        },
                        "header": {
                          "fill": {
                            "color": "#2a3f5f"
                          },
                          "line": {
                            "color": "rgb(17,17,17)"
                          }
                        },
                        "type": "table"
                      }
                    ]
                  },
                  "layout": {
                    "annotationdefaults": {
                      "arrowcolor": "#f2f5fa",
                      "arrowhead": 0,
                      "arrowwidth": 1
                    },
                    "autotypenumbers": "strict",
                    "coloraxis": {
                      "colorbar": {
                        "outlinewidth": 0,
                        "ticks": ""
                      }
                    },
                    "colorscale": {
                      "diverging": [
                        [
                          0,
                          "#8e0152"
                        ],
                        [
                          0.1,
                          "#c51b7d"
                        ],
                        [
                          0.2,
                          "#de77ae"
                        ],
                        [
                          0.3,
                          "#f1b6da"
                        ],
                        [
                          0.4,
                          "#fde0ef"
                        ],
                        [
                          0.5,
                          "#f7f7f7"
                        ],
                        [
                          0.6,
                          "#e6f5d0"
                        ],
                        [
                          0.7,
                          "#b8e186"
                        ],
                        [
                          0.8,
                          "#7fbc41"
                        ],
                        [
                          0.9,
                          "#4d9221"
                        ],
                        [
                          1,
                          "#276419"
                        ]
                      ],
                      "sequential": [
                        [
                          0,
                          "#0d0887"
                        ],
                        [
                          0.1111111111111111,
                          "#46039f"
                        ],
                        [
                          0.2222222222222222,
                          "#7201a8"
                        ],
                        [
                          0.3333333333333333,
                          "#9c179e"
                        ],
                        [
                          0.4444444444444444,
                          "#bd3786"
                        ],
                        [
                          0.5555555555555556,
                          "#d8576b"
                        ],
                        [
                          0.6666666666666666,
                          "#ed7953"
                        ],
                        [
                          0.7777777777777778,
                          "#fb9f3a"
                        ],
                        [
                          0.8888888888888888,
                          "#fdca26"
                        ],
                        [
                          1,
                          "#f0f921"
                        ]
                      ],
                      "sequentialminus": [
                        [
                          0,
                          "#0d0887"
                        ],
                        [
                          0.1111111111111111,
                          "#46039f"
                        ],
                        [
                          0.2222222222222222,
                          "#7201a8"
                        ],
                        [
                          0.3333333333333333,
                          "#9c179e"
                        ],
                        [
                          0.4444444444444444,
                          "#bd3786"
                        ],
                        [
                          0.5555555555555556,
                          "#d8576b"
                        ],
                        [
                          0.6666666666666666,
                          "#ed7953"
                        ],
                        [
                          0.7777777777777778,
                          "#fb9f3a"
                        ],
                        [
                          0.8888888888888888,
                          "#fdca26"
                        ],
                        [
                          1,
                          "#f0f921"
                        ]
                      ]
                    },
                    "colorway": [
                      "#636efa",
                      "#EF553B",
                      "#00cc96",
                      "#ab63fa",
                      "#FFA15A",
                      "#19d3f3",
                      "#FF6692",
                      "#B6E880",
                      "#FF97FF",
                      "#FECB52"
                    ],
                    "font": {
                      "color": "#f2f5fa"
                    },
                    "geo": {
                      "bgcolor": "rgb(17,17,17)",
                      "lakecolor": "rgb(17,17,17)",
                      "landcolor": "rgb(17,17,17)",
                      "showlakes": true,
                      "showland": true,
                      "subunitcolor": "#506784"
                    },
                    "hoverlabel": {
                      "align": "left"
                    },
                    "hovermode": "closest",
                    "mapbox": {
                      "style": "dark"
                    },
                    "paper_bgcolor": "rgb(17,17,17)",
                    "plot_bgcolor": "rgb(17,17,17)",
                    "polar": {
                      "angularaxis": {
                        "gridcolor": "#506784",
                        "linecolor": "#506784",
                        "ticks": ""
                      },
                      "bgcolor": "rgb(17,17,17)",
                      "radialaxis": {
                        "gridcolor": "#506784",
                        "linecolor": "#506784",
                        "ticks": ""
                      }
                    },
                    "scene": {
                      "xaxis": {
                        "backgroundcolor": "rgb(17,17,17)",
                        "gridcolor": "#506784",
                        "gridwidth": 2,
                        "linecolor": "#506784",
                        "showbackground": true,
                        "ticks": "",
                        "zerolinecolor": "#C8D4E3"
                      },
                      "yaxis": {
                        "backgroundcolor": "rgb(17,17,17)",
                        "gridcolor": "#506784",
                        "gridwidth": 2,
                        "linecolor": "#506784",
                        "showbackground": true,
                        "ticks": "",
                        "zerolinecolor": "#C8D4E3"
                      },
                      "zaxis": {
                        "backgroundcolor": "rgb(17,17,17)",
                        "gridcolor": "#506784",
                        "gridwidth": 2,
                        "linecolor": "#506784",
                        "showbackground": true,
                        "ticks": "",
                        "zerolinecolor": "#C8D4E3"
                      }
                    },
                    "shapedefaults": {
                      "line": {
                        "color": "#f2f5fa"
                      }
                    },
                    "sliderdefaults": {
                      "bgcolor": "#C8D4E3",
                      "bordercolor": "rgb(17,17,17)",
                      "borderwidth": 1,
                      "tickwidth": 0
                    },
                    "ternary": {
                      "aaxis": {
                        "gridcolor": "#506784",
                        "linecolor": "#506784",
                        "ticks": ""
                      },
                      "baxis": {
                        "gridcolor": "#506784",
                        "linecolor": "#506784",
                        "ticks": ""
                      },
                      "bgcolor": "rgb(17,17,17)",
                      "caxis": {
                        "gridcolor": "#506784",
                        "linecolor": "#506784",
                        "ticks": ""
                      }
                    },
                    "title": {
                      "x": 0.05
                    },
                    "updatemenudefaults": {
                      "bgcolor": "#506784",
                      "borderwidth": 0
                    },
                    "xaxis": {
                      "automargin": true,
                      "gridcolor": "#283442",
                      "linecolor": "#506784",
                      "ticks": "",
                      "title": {
                        "standoff": 15
                      },
                      "zerolinecolor": "#283442",
                      "zerolinewidth": 2
                    },
                    "yaxis": {
                      "automargin": true,
                      "gridcolor": "#283442",
                      "linecolor": "#506784",
                      "ticks": "",
                      "title": {
                        "standoff": 15
                      },
                      "zerolinecolor": "#283442",
                      "zerolinewidth": 2
                    }
                  }
                },
                "xaxis": {
                  "anchor": "y",
                  "domain": [
                    0,
                    1
                  ],
                  "title": {
                    "text": "Major Category"
                  }
                },
                "yaxis": {
                  "anchor": "x",
                  "domain": [
                    0,
                    1
                  ],
                  "title": {
                    "text": "OrderValue"
                  }
                }
              }
            },
            "text/html": [
              "<div>                            <div id=\"50c5bab5-213e-4873-bdb3-457df8f7df02\" class=\"plotly-graph-div\" style=\"height:525px; width:100%;\"></div>            <script type=\"text/javascript\">                require([\"plotly\"], function(Plotly) {                    window.PLOTLYENV=window.PLOTLYENV || {};                                    if (document.getElementById(\"50c5bab5-213e-4873-bdb3-457df8f7df02\")) {                    Plotly.newPlot(                        \"50c5bab5-213e-4873-bdb3-457df8f7df02\",                        [{\"alignmentgroup\":\"True\",\"hovertemplate\":\"Major Category=%{x}<br>OrderValue=%{y}<extra></extra>\",\"legendgroup\":\"\",\"marker\":{\"color\":\"#636efa\",\"pattern\":{\"shape\":\"\"}},\"name\":\"\",\"offsetgroup\":\"\",\"orientation\":\"v\",\"showlegend\":false,\"textposition\":\"auto\",\"x\":[\"Clothes\",\"Garden\",\"Household\",\"Kitchen\"],\"xaxis\":\"x\",\"y\":[2720.5099999999998,2931.36,2467.42,3027.52],\"yaxis\":\"y\",\"type\":\"bar\"}],                        {\"template\":{\"data\":{\"histogram2dcontour\":[{\"type\":\"histogram2dcontour\",\"colorbar\":{\"outlinewidth\":0,\"ticks\":\"\"},\"colorscale\":[[0.0,\"#0d0887\"],[0.1111111111111111,\"#46039f\"],[0.2222222222222222,\"#7201a8\"],[0.3333333333333333,\"#9c179e\"],[0.4444444444444444,\"#bd3786\"],[0.5555555555555556,\"#d8576b\"],[0.6666666666666666,\"#ed7953\"],[0.7777777777777778,\"#fb9f3a\"],[0.8888888888888888,\"#fdca26\"],[1.0,\"#f0f921\"]]}],\"choropleth\":[{\"type\":\"choropleth\",\"colorbar\":{\"outlinewidth\":0,\"ticks\":\"\"}}],\"histogram2d\":[{\"type\":\"histogram2d\",\"colorbar\":{\"outlinewidth\":0,\"ticks\":\"\"},\"colorscale\":[[0.0,\"#0d0887\"],[0.1111111111111111,\"#46039f\"],[0.2222222222222222,\"#7201a8\"],[0.3333333333333333,\"#9c179e\"],[0.4444444444444444,\"#bd3786\"],[0.5555555555555556,\"#d8576b\"],[0.6666666666666666,\"#ed7953\"],[0.7777777777777778,\"#fb9f3a\"],[0.8888888888888888,\"#fdca26\"],[1.0,\"#f0f921\"]]}],\"heatmap\":[{\"type\":\"heatmap\",\"colorbar\":{\"outlinewidth\":0,\"ticks\":\"\"},\"colorscale\":[[0.0,\"#0d0887\"],[0.1111111111111111,\"#46039f\"],[0.2222222222222222,\"#7201a8\"],[0.3333333333333333,\"#9c179e\"],[0.4444444444444444,\"#bd3786\"],[0.5555555555555556,\"#d8576b\"],[0.6666666666666666,\"#ed7953\"],[0.7777777777777778,\"#fb9f3a\"],[0.8888888888888888,\"#fdca26\"],[1.0,\"#f0f921\"]]}],\"heatmapgl\":[{\"type\":\"heatmapgl\",\"colorbar\":{\"outlinewidth\":0,\"ticks\":\"\"},\"colorscale\":[[0.0,\"#0d0887\"],[0.1111111111111111,\"#46039f\"],[0.2222222222222222,\"#7201a8\"],[0.3333333333333333,\"#9c179e\"],[0.4444444444444444,\"#bd3786\"],[0.5555555555555556,\"#d8576b\"],[0.6666666666666666,\"#ed7953\"],[0.7777777777777778,\"#fb9f3a\"],[0.8888888888888888,\"#fdca26\"],[1.0,\"#f0f921\"]]}],\"contourcarpet\":[{\"type\":\"contourcarpet\",\"colorbar\":{\"outlinewidth\":0,\"ticks\":\"\"}}],\"contour\":[{\"type\":\"contour\",\"colorbar\":{\"outlinewidth\":0,\"ticks\":\"\"},\"colorscale\":[[0.0,\"#0d0887\"],[0.1111111111111111,\"#46039f\"],[0.2222222222222222,\"#7201a8\"],[0.3333333333333333,\"#9c179e\"],[0.4444444444444444,\"#bd3786\"],[0.5555555555555556,\"#d8576b\"],[0.6666666666666666,\"#ed7953\"],[0.7777777777777778,\"#fb9f3a\"],[0.8888888888888888,\"#fdca26\"],[1.0,\"#f0f921\"]]}],\"surface\":[{\"type\":\"surface\",\"colorbar\":{\"outlinewidth\":0,\"ticks\":\"\"},\"colorscale\":[[0.0,\"#0d0887\"],[0.1111111111111111,\"#46039f\"],[0.2222222222222222,\"#7201a8\"],[0.3333333333333333,\"#9c179e\"],[0.4444444444444444,\"#bd3786\"],[0.5555555555555556,\"#d8576b\"],[0.6666666666666666,\"#ed7953\"],[0.7777777777777778,\"#fb9f3a\"],[0.8888888888888888,\"#fdca26\"],[1.0,\"#f0f921\"]]}],\"mesh3d\":[{\"type\":\"mesh3d\",\"colorbar\":{\"outlinewidth\":0,\"ticks\":\"\"}}],\"scatter\":[{\"marker\":{\"line\":{\"color\":\"#283442\"}},\"type\":\"scatter\"}],\"parcoords\":[{\"type\":\"parcoords\",\"line\":{\"colorbar\":{\"outlinewidth\":0,\"ticks\":\"\"}}}],\"scatterpolargl\":[{\"type\":\"scatterpolargl\",\"marker\":{\"colorbar\":{\"outlinewidth\":0,\"ticks\":\"\"}}}],\"bar\":[{\"error_x\":{\"color\":\"#f2f5fa\"},\"error_y\":{\"color\":\"#f2f5fa\"},\"marker\":{\"line\":{\"color\":\"rgb(17,17,17)\",\"width\":0.5},\"pattern\":{\"fillmode\":\"overlay\",\"size\":10,\"solidity\":0.2}},\"type\":\"bar\"}],\"scattergeo\":[{\"type\":\"scattergeo\",\"marker\":{\"colorbar\":{\"outlinewidth\":0,\"ticks\":\"\"}}}],\"scatterpolar\":[{\"type\":\"scatterpolar\",\"marker\":{\"colorbar\":{\"outlinewidth\":0,\"ticks\":\"\"}}}],\"histogram\":[{\"marker\":{\"pattern\":{\"fillmode\":\"overlay\",\"size\":10,\"solidity\":0.2}},\"type\":\"histogram\"}],\"scattergl\":[{\"marker\":{\"line\":{\"color\":\"#283442\"}},\"type\":\"scattergl\"}],\"scatter3d\":[{\"type\":\"scatter3d\",\"line\":{\"colorbar\":{\"outlinewidth\":0,\"ticks\":\"\"}},\"marker\":{\"colorbar\":{\"outlinewidth\":0,\"ticks\":\"\"}}}],\"scattermapbox\":[{\"type\":\"scattermapbox\",\"marker\":{\"colorbar\":{\"outlinewidth\":0,\"ticks\":\"\"}}}],\"scatterternary\":[{\"type\":\"scatterternary\",\"marker\":{\"colorbar\":{\"outlinewidth\":0,\"ticks\":\"\"}}}],\"scattercarpet\":[{\"type\":\"scattercarpet\",\"marker\":{\"colorbar\":{\"outlinewidth\":0,\"ticks\":\"\"}}}],\"carpet\":[{\"aaxis\":{\"endlinecolor\":\"#A2B1C6\",\"gridcolor\":\"#506784\",\"linecolor\":\"#506784\",\"minorgridcolor\":\"#506784\",\"startlinecolor\":\"#A2B1C6\"},\"baxis\":{\"endlinecolor\":\"#A2B1C6\",\"gridcolor\":\"#506784\",\"linecolor\":\"#506784\",\"minorgridcolor\":\"#506784\",\"startlinecolor\":\"#A2B1C6\"},\"type\":\"carpet\"}],\"table\":[{\"cells\":{\"fill\":{\"color\":\"#506784\"},\"line\":{\"color\":\"rgb(17,17,17)\"}},\"header\":{\"fill\":{\"color\":\"#2a3f5f\"},\"line\":{\"color\":\"rgb(17,17,17)\"}},\"type\":\"table\"}],\"barpolar\":[{\"marker\":{\"line\":{\"color\":\"rgb(17,17,17)\",\"width\":0.5},\"pattern\":{\"fillmode\":\"overlay\",\"size\":10,\"solidity\":0.2}},\"type\":\"barpolar\"}],\"pie\":[{\"automargin\":true,\"type\":\"pie\"}]},\"layout\":{\"autotypenumbers\":\"strict\",\"colorway\":[\"#636efa\",\"#EF553B\",\"#00cc96\",\"#ab63fa\",\"#FFA15A\",\"#19d3f3\",\"#FF6692\",\"#B6E880\",\"#FF97FF\",\"#FECB52\"],\"font\":{\"color\":\"#f2f5fa\"},\"hovermode\":\"closest\",\"hoverlabel\":{\"align\":\"left\"},\"paper_bgcolor\":\"rgb(17,17,17)\",\"plot_bgcolor\":\"rgb(17,17,17)\",\"polar\":{\"bgcolor\":\"rgb(17,17,17)\",\"angularaxis\":{\"gridcolor\":\"#506784\",\"linecolor\":\"#506784\",\"ticks\":\"\"},\"radialaxis\":{\"gridcolor\":\"#506784\",\"linecolor\":\"#506784\",\"ticks\":\"\"}},\"ternary\":{\"bgcolor\":\"rgb(17,17,17)\",\"aaxis\":{\"gridcolor\":\"#506784\",\"linecolor\":\"#506784\",\"ticks\":\"\"},\"baxis\":{\"gridcolor\":\"#506784\",\"linecolor\":\"#506784\",\"ticks\":\"\"},\"caxis\":{\"gridcolor\":\"#506784\",\"linecolor\":\"#506784\",\"ticks\":\"\"}},\"coloraxis\":{\"colorbar\":{\"outlinewidth\":0,\"ticks\":\"\"}},\"colorscale\":{\"sequential\":[[0.0,\"#0d0887\"],[0.1111111111111111,\"#46039f\"],[0.2222222222222222,\"#7201a8\"],[0.3333333333333333,\"#9c179e\"],[0.4444444444444444,\"#bd3786\"],[0.5555555555555556,\"#d8576b\"],[0.6666666666666666,\"#ed7953\"],[0.7777777777777778,\"#fb9f3a\"],[0.8888888888888888,\"#fdca26\"],[1.0,\"#f0f921\"]],\"sequentialminus\":[[0.0,\"#0d0887\"],[0.1111111111111111,\"#46039f\"],[0.2222222222222222,\"#7201a8\"],[0.3333333333333333,\"#9c179e\"],[0.4444444444444444,\"#bd3786\"],[0.5555555555555556,\"#d8576b\"],[0.6666666666666666,\"#ed7953\"],[0.7777777777777778,\"#fb9f3a\"],[0.8888888888888888,\"#fdca26\"],[1.0,\"#f0f921\"]],\"diverging\":[[0,\"#8e0152\"],[0.1,\"#c51b7d\"],[0.2,\"#de77ae\"],[0.3,\"#f1b6da\"],[0.4,\"#fde0ef\"],[0.5,\"#f7f7f7\"],[0.6,\"#e6f5d0\"],[0.7,\"#b8e186\"],[0.8,\"#7fbc41\"],[0.9,\"#4d9221\"],[1,\"#276419\"]]},\"xaxis\":{\"gridcolor\":\"#283442\",\"linecolor\":\"#506784\",\"ticks\":\"\",\"title\":{\"standoff\":15},\"zerolinecolor\":\"#283442\",\"automargin\":true,\"zerolinewidth\":2},\"yaxis\":{\"gridcolor\":\"#283442\",\"linecolor\":\"#506784\",\"ticks\":\"\",\"title\":{\"standoff\":15},\"zerolinecolor\":\"#283442\",\"automargin\":true,\"zerolinewidth\":2},\"scene\":{\"xaxis\":{\"backgroundcolor\":\"rgb(17,17,17)\",\"gridcolor\":\"#506784\",\"linecolor\":\"#506784\",\"showbackground\":true,\"ticks\":\"\",\"zerolinecolor\":\"#C8D4E3\",\"gridwidth\":2},\"yaxis\":{\"backgroundcolor\":\"rgb(17,17,17)\",\"gridcolor\":\"#506784\",\"linecolor\":\"#506784\",\"showbackground\":true,\"ticks\":\"\",\"zerolinecolor\":\"#C8D4E3\",\"gridwidth\":2},\"zaxis\":{\"backgroundcolor\":\"rgb(17,17,17)\",\"gridcolor\":\"#506784\",\"linecolor\":\"#506784\",\"showbackground\":true,\"ticks\":\"\",\"zerolinecolor\":\"#C8D4E3\",\"gridwidth\":2}},\"shapedefaults\":{\"line\":{\"color\":\"#f2f5fa\"}},\"annotationdefaults\":{\"arrowcolor\":\"#f2f5fa\",\"arrowhead\":0,\"arrowwidth\":1},\"geo\":{\"bgcolor\":\"rgb(17,17,17)\",\"landcolor\":\"rgb(17,17,17)\",\"subunitcolor\":\"#506784\",\"showland\":true,\"showlakes\":true,\"lakecolor\":\"rgb(17,17,17)\"},\"title\":{\"x\":0.05},\"updatemenudefaults\":{\"bgcolor\":\"#506784\",\"borderwidth\":0},\"sliderdefaults\":{\"bgcolor\":\"#C8D4E3\",\"borderwidth\":1,\"bordercolor\":\"rgb(17,17,17)\",\"tickwidth\":0},\"mapbox\":{\"style\":\"dark\"}}},\"xaxis\":{\"anchor\":\"y\",\"domain\":[0.0,1.0],\"title\":{\"text\":\"Major Category\"}},\"yaxis\":{\"anchor\":\"x\",\"domain\":[0.0,1.0],\"title\":{\"text\":\"OrderValue\"}},\"legend\":{\"tracegroupgap\":0},\"margin\":{\"t\":60},\"barmode\":\"relative\"},                        {\"responsive\": true}                    ).then(function(){\n",
              "                            \n",
              "var gd = document.getElementById('50c5bab5-213e-4873-bdb3-457df8f7df02');\n",
              "var x = new MutationObserver(function (mutations, observer) {{\n",
              "        var display = window.getComputedStyle(gd).display;\n",
              "        if (!display || display === 'none') {{\n",
              "            console.log([gd, 'removed!']);\n",
              "            Plotly.purge(gd);\n",
              "            observer.disconnect();\n",
              "        }}\n",
              "}});\n",
              "\n",
              "// Listen for the removal of the full notebook cells\n",
              "var notebookContainer = gd.closest('#notebook-container');\n",
              "if (notebookContainer) {{\n",
              "    x.observe(notebookContainer, {childList: true});\n",
              "}}\n",
              "\n",
              "// Listen for the clearing of the current output cell\n",
              "var outputEl = gd.closest('.output');\n",
              "if (outputEl) {{\n",
              "    x.observe(outputEl, {childList: true});\n",
              "}}\n",
              "\n",
              "                        })                };                });            </script>        </div>"
            ]
          },
          "metadata": {},
          "output_type": "display_data"
        }
      ],
      "source": [
        "order_value_cat = df.groupby(\"Major Category\").agg({\n",
        "    \"OrderValue\" : \"sum\"\n",
        "}).reset_index()\n",
        "\n",
        "fig = px.bar(data_frame=order_value_cat, x = \"Major Category\", y = \"OrderValue\")\n",
        "fig.show()"
      ]
    },
    {
      "cell_type": "code",
      "execution_count": null,
      "metadata": {
        "id": "4B6cAVeQ_fy4",
        "outputId": "c6bdf3df-47e0-4eef-b03b-7bb0d895c05e"
      },
      "outputs": [
        {
          "data": {
            "application/vnd.plotly.v1+json": {
              "config": {
                "plotlyServerURL": "https://plot.ly"
              },
              "data": [
                {
                  "hovertemplate": "Major Category=Household<br>UnitPrice=%{x}<br>Quantit=%{y}<extra></extra>",
                  "legendgroup": "Household",
                  "marker": {
                    "color": "#636efa",
                    "symbol": "circle"
                  },
                  "mode": "markers",
                  "name": "Household",
                  "orientation": "v",
                  "showlegend": true,
                  "type": "scatter",
                  "x": [
                    2.95,
                    3.39,
                    1.25,
                    7.95,
                    3.25,
                    6.75,
                    0.38,
                    4.15,
                    2.08,
                    1.45,
                    3.39,
                    1.04,
                    3.75,
                    0.37
                  ],
                  "xaxis": "x",
                  "y": [
                    6,
                    50,
                    72,
                    2,
                    96,
                    4,
                    96,
                    4,
                    20,
                    48,
                    80,
                    120,
                    48,
                    120
                  ],
                  "yaxis": "y"
                },
                {
                  "hovertemplate": "Major Category=Garden<br>UnitPrice=%{x}<br>Quantit=%{y}<extra></extra>",
                  "legendgroup": "Garden",
                  "marker": {
                    "color": "#EF553B",
                    "symbol": "circle"
                  },
                  "mode": "markers",
                  "name": "Garden",
                  "orientation": "v",
                  "showlegend": true,
                  "type": "scatter",
                  "x": [
                    1.65,
                    1.65,
                    7.95,
                    0.55,
                    2.95,
                    2.08,
                    0.19,
                    0.36,
                    1.85
                  ],
                  "xaxis": "x",
                  "y": [
                    24,
                    10,
                    2,
                    1152,
                    18,
                    10,
                    96,
                    144,
                    120
                  ],
                  "yaxis": "y"
                },
                {
                  "hovertemplate": "Major Category=Kitchen<br>UnitPrice=%{x}<br>Quantit=%{y}<extra></extra>",
                  "legendgroup": "Kitchen",
                  "marker": {
                    "color": "#00cc96",
                    "symbol": "circle"
                  },
                  "mode": "markers",
                  "name": "Kitchen",
                  "orientation": "v",
                  "showlegend": true,
                  "type": "scatter",
                  "x": [
                    1.45,
                    6.75,
                    1.04,
                    1.65,
                    1.65,
                    4.25,
                    3.25,
                    0.36,
                    1.65,
                    0.34,
                    1.25,
                    2.95,
                    5.95,
                    1.65,
                    4.95,
                    1.45,
                    2.49
                  ],
                  "xaxis": "x",
                  "y": [
                    144,
                    10,
                    384,
                    12,
                    96,
                    120,
                    4,
                    144,
                    144,
                    400,
                    96,
                    50,
                    8,
                    10,
                    36,
                    96,
                    72
                  ],
                  "yaxis": "y"
                },
                {
                  "hovertemplate": "Major Category=Clothes<br>UnitPrice=%{x}<br>Quantit=%{y}<extra></extra>",
                  "legendgroup": "Clothes",
                  "marker": {
                    "color": "#ab63fa",
                    "symbol": "circle"
                  },
                  "mode": "markers",
                  "name": "Clothes",
                  "orientation": "v",
                  "showlegend": true,
                  "type": "scatter",
                  "x": [
                    4.95,
                    2.55,
                    0.34,
                    1.45,
                    2.89,
                    0.72,
                    1.65,
                    3.39,
                    1.95,
                    0.25
                  ],
                  "xaxis": "x",
                  "y": [
                    3,
                    12,
                    200,
                    96,
                    18,
                    96,
                    144,
                    144,
                    12,
                    432
                  ],
                  "yaxis": "y"
                }
              ],
              "layout": {
                "legend": {
                  "title": {
                    "text": "Major Category"
                  },
                  "tracegroupgap": 0
                },
                "template": {
                  "data": {
                    "bar": [
                      {
                        "error_x": {
                          "color": "#f2f5fa"
                        },
                        "error_y": {
                          "color": "#f2f5fa"
                        },
                        "marker": {
                          "line": {
                            "color": "rgb(17,17,17)",
                            "width": 0.5
                          },
                          "pattern": {
                            "fillmode": "overlay",
                            "size": 10,
                            "solidity": 0.2
                          }
                        },
                        "type": "bar"
                      }
                    ],
                    "barpolar": [
                      {
                        "marker": {
                          "line": {
                            "color": "rgb(17,17,17)",
                            "width": 0.5
                          },
                          "pattern": {
                            "fillmode": "overlay",
                            "size": 10,
                            "solidity": 0.2
                          }
                        },
                        "type": "barpolar"
                      }
                    ],
                    "carpet": [
                      {
                        "aaxis": {
                          "endlinecolor": "#A2B1C6",
                          "gridcolor": "#506784",
                          "linecolor": "#506784",
                          "minorgridcolor": "#506784",
                          "startlinecolor": "#A2B1C6"
                        },
                        "baxis": {
                          "endlinecolor": "#A2B1C6",
                          "gridcolor": "#506784",
                          "linecolor": "#506784",
                          "minorgridcolor": "#506784",
                          "startlinecolor": "#A2B1C6"
                        },
                        "type": "carpet"
                      }
                    ],
                    "choropleth": [
                      {
                        "colorbar": {
                          "outlinewidth": 0,
                          "ticks": ""
                        },
                        "type": "choropleth"
                      }
                    ],
                    "contour": [
                      {
                        "colorbar": {
                          "outlinewidth": 0,
                          "ticks": ""
                        },
                        "colorscale": [
                          [
                            0,
                            "#0d0887"
                          ],
                          [
                            0.1111111111111111,
                            "#46039f"
                          ],
                          [
                            0.2222222222222222,
                            "#7201a8"
                          ],
                          [
                            0.3333333333333333,
                            "#9c179e"
                          ],
                          [
                            0.4444444444444444,
                            "#bd3786"
                          ],
                          [
                            0.5555555555555556,
                            "#d8576b"
                          ],
                          [
                            0.6666666666666666,
                            "#ed7953"
                          ],
                          [
                            0.7777777777777778,
                            "#fb9f3a"
                          ],
                          [
                            0.8888888888888888,
                            "#fdca26"
                          ],
                          [
                            1,
                            "#f0f921"
                          ]
                        ],
                        "type": "contour"
                      }
                    ],
                    "contourcarpet": [
                      {
                        "colorbar": {
                          "outlinewidth": 0,
                          "ticks": ""
                        },
                        "type": "contourcarpet"
                      }
                    ],
                    "heatmap": [
                      {
                        "colorbar": {
                          "outlinewidth": 0,
                          "ticks": ""
                        },
                        "colorscale": [
                          [
                            0,
                            "#0d0887"
                          ],
                          [
                            0.1111111111111111,
                            "#46039f"
                          ],
                          [
                            0.2222222222222222,
                            "#7201a8"
                          ],
                          [
                            0.3333333333333333,
                            "#9c179e"
                          ],
                          [
                            0.4444444444444444,
                            "#bd3786"
                          ],
                          [
                            0.5555555555555556,
                            "#d8576b"
                          ],
                          [
                            0.6666666666666666,
                            "#ed7953"
                          ],
                          [
                            0.7777777777777778,
                            "#fb9f3a"
                          ],
                          [
                            0.8888888888888888,
                            "#fdca26"
                          ],
                          [
                            1,
                            "#f0f921"
                          ]
                        ],
                        "type": "heatmap"
                      }
                    ],
                    "heatmapgl": [
                      {
                        "colorbar": {
                          "outlinewidth": 0,
                          "ticks": ""
                        },
                        "colorscale": [
                          [
                            0,
                            "#0d0887"
                          ],
                          [
                            0.1111111111111111,
                            "#46039f"
                          ],
                          [
                            0.2222222222222222,
                            "#7201a8"
                          ],
                          [
                            0.3333333333333333,
                            "#9c179e"
                          ],
                          [
                            0.4444444444444444,
                            "#bd3786"
                          ],
                          [
                            0.5555555555555556,
                            "#d8576b"
                          ],
                          [
                            0.6666666666666666,
                            "#ed7953"
                          ],
                          [
                            0.7777777777777778,
                            "#fb9f3a"
                          ],
                          [
                            0.8888888888888888,
                            "#fdca26"
                          ],
                          [
                            1,
                            "#f0f921"
                          ]
                        ],
                        "type": "heatmapgl"
                      }
                    ],
                    "histogram": [
                      {
                        "marker": {
                          "pattern": {
                            "fillmode": "overlay",
                            "size": 10,
                            "solidity": 0.2
                          }
                        },
                        "type": "histogram"
                      }
                    ],
                    "histogram2d": [
                      {
                        "colorbar": {
                          "outlinewidth": 0,
                          "ticks": ""
                        },
                        "colorscale": [
                          [
                            0,
                            "#0d0887"
                          ],
                          [
                            0.1111111111111111,
                            "#46039f"
                          ],
                          [
                            0.2222222222222222,
                            "#7201a8"
                          ],
                          [
                            0.3333333333333333,
                            "#9c179e"
                          ],
                          [
                            0.4444444444444444,
                            "#bd3786"
                          ],
                          [
                            0.5555555555555556,
                            "#d8576b"
                          ],
                          [
                            0.6666666666666666,
                            "#ed7953"
                          ],
                          [
                            0.7777777777777778,
                            "#fb9f3a"
                          ],
                          [
                            0.8888888888888888,
                            "#fdca26"
                          ],
                          [
                            1,
                            "#f0f921"
                          ]
                        ],
                        "type": "histogram2d"
                      }
                    ],
                    "histogram2dcontour": [
                      {
                        "colorbar": {
                          "outlinewidth": 0,
                          "ticks": ""
                        },
                        "colorscale": [
                          [
                            0,
                            "#0d0887"
                          ],
                          [
                            0.1111111111111111,
                            "#46039f"
                          ],
                          [
                            0.2222222222222222,
                            "#7201a8"
                          ],
                          [
                            0.3333333333333333,
                            "#9c179e"
                          ],
                          [
                            0.4444444444444444,
                            "#bd3786"
                          ],
                          [
                            0.5555555555555556,
                            "#d8576b"
                          ],
                          [
                            0.6666666666666666,
                            "#ed7953"
                          ],
                          [
                            0.7777777777777778,
                            "#fb9f3a"
                          ],
                          [
                            0.8888888888888888,
                            "#fdca26"
                          ],
                          [
                            1,
                            "#f0f921"
                          ]
                        ],
                        "type": "histogram2dcontour"
                      }
                    ],
                    "mesh3d": [
                      {
                        "colorbar": {
                          "outlinewidth": 0,
                          "ticks": ""
                        },
                        "type": "mesh3d"
                      }
                    ],
                    "parcoords": [
                      {
                        "line": {
                          "colorbar": {
                            "outlinewidth": 0,
                            "ticks": ""
                          }
                        },
                        "type": "parcoords"
                      }
                    ],
                    "pie": [
                      {
                        "automargin": true,
                        "type": "pie"
                      }
                    ],
                    "scatter": [
                      {
                        "marker": {
                          "line": {
                            "color": "#283442"
                          }
                        },
                        "type": "scatter"
                      }
                    ],
                    "scatter3d": [
                      {
                        "line": {
                          "colorbar": {
                            "outlinewidth": 0,
                            "ticks": ""
                          }
                        },
                        "marker": {
                          "colorbar": {
                            "outlinewidth": 0,
                            "ticks": ""
                          }
                        },
                        "type": "scatter3d"
                      }
                    ],
                    "scattercarpet": [
                      {
                        "marker": {
                          "colorbar": {
                            "outlinewidth": 0,
                            "ticks": ""
                          }
                        },
                        "type": "scattercarpet"
                      }
                    ],
                    "scattergeo": [
                      {
                        "marker": {
                          "colorbar": {
                            "outlinewidth": 0,
                            "ticks": ""
                          }
                        },
                        "type": "scattergeo"
                      }
                    ],
                    "scattergl": [
                      {
                        "marker": {
                          "line": {
                            "color": "#283442"
                          }
                        },
                        "type": "scattergl"
                      }
                    ],
                    "scattermapbox": [
                      {
                        "marker": {
                          "colorbar": {
                            "outlinewidth": 0,
                            "ticks": ""
                          }
                        },
                        "type": "scattermapbox"
                      }
                    ],
                    "scatterpolar": [
                      {
                        "marker": {
                          "colorbar": {
                            "outlinewidth": 0,
                            "ticks": ""
                          }
                        },
                        "type": "scatterpolar"
                      }
                    ],
                    "scatterpolargl": [
                      {
                        "marker": {
                          "colorbar": {
                            "outlinewidth": 0,
                            "ticks": ""
                          }
                        },
                        "type": "scatterpolargl"
                      }
                    ],
                    "scatterternary": [
                      {
                        "marker": {
                          "colorbar": {
                            "outlinewidth": 0,
                            "ticks": ""
                          }
                        },
                        "type": "scatterternary"
                      }
                    ],
                    "surface": [
                      {
                        "colorbar": {
                          "outlinewidth": 0,
                          "ticks": ""
                        },
                        "colorscale": [
                          [
                            0,
                            "#0d0887"
                          ],
                          [
                            0.1111111111111111,
                            "#46039f"
                          ],
                          [
                            0.2222222222222222,
                            "#7201a8"
                          ],
                          [
                            0.3333333333333333,
                            "#9c179e"
                          ],
                          [
                            0.4444444444444444,
                            "#bd3786"
                          ],
                          [
                            0.5555555555555556,
                            "#d8576b"
                          ],
                          [
                            0.6666666666666666,
                            "#ed7953"
                          ],
                          [
                            0.7777777777777778,
                            "#fb9f3a"
                          ],
                          [
                            0.8888888888888888,
                            "#fdca26"
                          ],
                          [
                            1,
                            "#f0f921"
                          ]
                        ],
                        "type": "surface"
                      }
                    ],
                    "table": [
                      {
                        "cells": {
                          "fill": {
                            "color": "#506784"
                          },
                          "line": {
                            "color": "rgb(17,17,17)"
                          }
                        },
                        "header": {
                          "fill": {
                            "color": "#2a3f5f"
                          },
                          "line": {
                            "color": "rgb(17,17,17)"
                          }
                        },
                        "type": "table"
                      }
                    ]
                  },
                  "layout": {
                    "annotationdefaults": {
                      "arrowcolor": "#f2f5fa",
                      "arrowhead": 0,
                      "arrowwidth": 1
                    },
                    "autotypenumbers": "strict",
                    "coloraxis": {
                      "colorbar": {
                        "outlinewidth": 0,
                        "ticks": ""
                      }
                    },
                    "colorscale": {
                      "diverging": [
                        [
                          0,
                          "#8e0152"
                        ],
                        [
                          0.1,
                          "#c51b7d"
                        ],
                        [
                          0.2,
                          "#de77ae"
                        ],
                        [
                          0.3,
                          "#f1b6da"
                        ],
                        [
                          0.4,
                          "#fde0ef"
                        ],
                        [
                          0.5,
                          "#f7f7f7"
                        ],
                        [
                          0.6,
                          "#e6f5d0"
                        ],
                        [
                          0.7,
                          "#b8e186"
                        ],
                        [
                          0.8,
                          "#7fbc41"
                        ],
                        [
                          0.9,
                          "#4d9221"
                        ],
                        [
                          1,
                          "#276419"
                        ]
                      ],
                      "sequential": [
                        [
                          0,
                          "#0d0887"
                        ],
                        [
                          0.1111111111111111,
                          "#46039f"
                        ],
                        [
                          0.2222222222222222,
                          "#7201a8"
                        ],
                        [
                          0.3333333333333333,
                          "#9c179e"
                        ],
                        [
                          0.4444444444444444,
                          "#bd3786"
                        ],
                        [
                          0.5555555555555556,
                          "#d8576b"
                        ],
                        [
                          0.6666666666666666,
                          "#ed7953"
                        ],
                        [
                          0.7777777777777778,
                          "#fb9f3a"
                        ],
                        [
                          0.8888888888888888,
                          "#fdca26"
                        ],
                        [
                          1,
                          "#f0f921"
                        ]
                      ],
                      "sequentialminus": [
                        [
                          0,
                          "#0d0887"
                        ],
                        [
                          0.1111111111111111,
                          "#46039f"
                        ],
                        [
                          0.2222222222222222,
                          "#7201a8"
                        ],
                        [
                          0.3333333333333333,
                          "#9c179e"
                        ],
                        [
                          0.4444444444444444,
                          "#bd3786"
                        ],
                        [
                          0.5555555555555556,
                          "#d8576b"
                        ],
                        [
                          0.6666666666666666,
                          "#ed7953"
                        ],
                        [
                          0.7777777777777778,
                          "#fb9f3a"
                        ],
                        [
                          0.8888888888888888,
                          "#fdca26"
                        ],
                        [
                          1,
                          "#f0f921"
                        ]
                      ]
                    },
                    "colorway": [
                      "#636efa",
                      "#EF553B",
                      "#00cc96",
                      "#ab63fa",
                      "#FFA15A",
                      "#19d3f3",
                      "#FF6692",
                      "#B6E880",
                      "#FF97FF",
                      "#FECB52"
                    ],
                    "font": {
                      "color": "#f2f5fa"
                    },
                    "geo": {
                      "bgcolor": "rgb(17,17,17)",
                      "lakecolor": "rgb(17,17,17)",
                      "landcolor": "rgb(17,17,17)",
                      "showlakes": true,
                      "showland": true,
                      "subunitcolor": "#506784"
                    },
                    "hoverlabel": {
                      "align": "left"
                    },
                    "hovermode": "closest",
                    "mapbox": {
                      "style": "dark"
                    },
                    "paper_bgcolor": "rgb(17,17,17)",
                    "plot_bgcolor": "rgb(17,17,17)",
                    "polar": {
                      "angularaxis": {
                        "gridcolor": "#506784",
                        "linecolor": "#506784",
                        "ticks": ""
                      },
                      "bgcolor": "rgb(17,17,17)",
                      "radialaxis": {
                        "gridcolor": "#506784",
                        "linecolor": "#506784",
                        "ticks": ""
                      }
                    },
                    "scene": {
                      "xaxis": {
                        "backgroundcolor": "rgb(17,17,17)",
                        "gridcolor": "#506784",
                        "gridwidth": 2,
                        "linecolor": "#506784",
                        "showbackground": true,
                        "ticks": "",
                        "zerolinecolor": "#C8D4E3"
                      },
                      "yaxis": {
                        "backgroundcolor": "rgb(17,17,17)",
                        "gridcolor": "#506784",
                        "gridwidth": 2,
                        "linecolor": "#506784",
                        "showbackground": true,
                        "ticks": "",
                        "zerolinecolor": "#C8D4E3"
                      },
                      "zaxis": {
                        "backgroundcolor": "rgb(17,17,17)",
                        "gridcolor": "#506784",
                        "gridwidth": 2,
                        "linecolor": "#506784",
                        "showbackground": true,
                        "ticks": "",
                        "zerolinecolor": "#C8D4E3"
                      }
                    },
                    "shapedefaults": {
                      "line": {
                        "color": "#f2f5fa"
                      }
                    },
                    "sliderdefaults": {
                      "bgcolor": "#C8D4E3",
                      "bordercolor": "rgb(17,17,17)",
                      "borderwidth": 1,
                      "tickwidth": 0
                    },
                    "ternary": {
                      "aaxis": {
                        "gridcolor": "#506784",
                        "linecolor": "#506784",
                        "ticks": ""
                      },
                      "baxis": {
                        "gridcolor": "#506784",
                        "linecolor": "#506784",
                        "ticks": ""
                      },
                      "bgcolor": "rgb(17,17,17)",
                      "caxis": {
                        "gridcolor": "#506784",
                        "linecolor": "#506784",
                        "ticks": ""
                      }
                    },
                    "title": {
                      "x": 0.05
                    },
                    "updatemenudefaults": {
                      "bgcolor": "#506784",
                      "borderwidth": 0
                    },
                    "xaxis": {
                      "automargin": true,
                      "gridcolor": "#283442",
                      "linecolor": "#506784",
                      "ticks": "",
                      "title": {
                        "standoff": 15
                      },
                      "zerolinecolor": "#283442",
                      "zerolinewidth": 2
                    },
                    "yaxis": {
                      "automargin": true,
                      "gridcolor": "#283442",
                      "linecolor": "#506784",
                      "ticks": "",
                      "title": {
                        "standoff": 15
                      },
                      "zerolinecolor": "#283442",
                      "zerolinewidth": 2
                    }
                  }
                },
                "title": {
                  "text": "Relationship between Price and Quantity in Australia by category"
                },
                "xaxis": {
                  "anchor": "y",
                  "domain": [
                    0,
                    1
                  ],
                  "title": {
                    "text": "UnitPrice"
                  }
                },
                "yaxis": {
                  "anchor": "x",
                  "domain": [
                    0,
                    1
                  ],
                  "title": {
                    "text": "Quantit"
                  }
                }
              }
            },
            "text/html": [
              "<div>                            <div id=\"208c571e-4c5f-43ad-bb96-50011d66244a\" class=\"plotly-graph-div\" style=\"height:525px; width:100%;\"></div>            <script type=\"text/javascript\">                require([\"plotly\"], function(Plotly) {                    window.PLOTLYENV=window.PLOTLYENV || {};                                    if (document.getElementById(\"208c571e-4c5f-43ad-bb96-50011d66244a\")) {                    Plotly.newPlot(                        \"208c571e-4c5f-43ad-bb96-50011d66244a\",                        [{\"hovertemplate\":\"Major Category=Household<br>UnitPrice=%{x}<br>Quantit=%{y}<extra></extra>\",\"legendgroup\":\"Household\",\"marker\":{\"color\":\"#636efa\",\"symbol\":\"circle\"},\"mode\":\"markers\",\"name\":\"Household\",\"orientation\":\"v\",\"showlegend\":true,\"x\":[2.95,3.39,1.25,7.95,3.25,6.75,0.38,4.15,2.08,1.45,3.39,1.04,3.75,0.37],\"xaxis\":\"x\",\"y\":[6,50,72,2,96,4,96,4,20,48,80,120,48,120],\"yaxis\":\"y\",\"type\":\"scatter\"},{\"hovertemplate\":\"Major Category=Garden<br>UnitPrice=%{x}<br>Quantit=%{y}<extra></extra>\",\"legendgroup\":\"Garden\",\"marker\":{\"color\":\"#EF553B\",\"symbol\":\"circle\"},\"mode\":\"markers\",\"name\":\"Garden\",\"orientation\":\"v\",\"showlegend\":true,\"x\":[1.65,1.65,7.95,0.55,2.95,2.08,0.19,0.36,1.85],\"xaxis\":\"x\",\"y\":[24,10,2,1152,18,10,96,144,120],\"yaxis\":\"y\",\"type\":\"scatter\"},{\"hovertemplate\":\"Major Category=Kitchen<br>UnitPrice=%{x}<br>Quantit=%{y}<extra></extra>\",\"legendgroup\":\"Kitchen\",\"marker\":{\"color\":\"#00cc96\",\"symbol\":\"circle\"},\"mode\":\"markers\",\"name\":\"Kitchen\",\"orientation\":\"v\",\"showlegend\":true,\"x\":[1.45,6.75,1.04,1.65,1.65,4.25,3.25,0.36,1.65,0.34,1.25,2.95,5.95,1.65,4.95,1.45,2.49],\"xaxis\":\"x\",\"y\":[144,10,384,12,96,120,4,144,144,400,96,50,8,10,36,96,72],\"yaxis\":\"y\",\"type\":\"scatter\"},{\"hovertemplate\":\"Major Category=Clothes<br>UnitPrice=%{x}<br>Quantit=%{y}<extra></extra>\",\"legendgroup\":\"Clothes\",\"marker\":{\"color\":\"#ab63fa\",\"symbol\":\"circle\"},\"mode\":\"markers\",\"name\":\"Clothes\",\"orientation\":\"v\",\"showlegend\":true,\"x\":[4.95,2.55,0.34,1.45,2.89,0.72,1.65,3.39,1.95,0.25],\"xaxis\":\"x\",\"y\":[3,12,200,96,18,96,144,144,12,432],\"yaxis\":\"y\",\"type\":\"scatter\"}],                        {\"template\":{\"data\":{\"histogram2dcontour\":[{\"type\":\"histogram2dcontour\",\"colorbar\":{\"outlinewidth\":0,\"ticks\":\"\"},\"colorscale\":[[0.0,\"#0d0887\"],[0.1111111111111111,\"#46039f\"],[0.2222222222222222,\"#7201a8\"],[0.3333333333333333,\"#9c179e\"],[0.4444444444444444,\"#bd3786\"],[0.5555555555555556,\"#d8576b\"],[0.6666666666666666,\"#ed7953\"],[0.7777777777777778,\"#fb9f3a\"],[0.8888888888888888,\"#fdca26\"],[1.0,\"#f0f921\"]]}],\"choropleth\":[{\"type\":\"choropleth\",\"colorbar\":{\"outlinewidth\":0,\"ticks\":\"\"}}],\"histogram2d\":[{\"type\":\"histogram2d\",\"colorbar\":{\"outlinewidth\":0,\"ticks\":\"\"},\"colorscale\":[[0.0,\"#0d0887\"],[0.1111111111111111,\"#46039f\"],[0.2222222222222222,\"#7201a8\"],[0.3333333333333333,\"#9c179e\"],[0.4444444444444444,\"#bd3786\"],[0.5555555555555556,\"#d8576b\"],[0.6666666666666666,\"#ed7953\"],[0.7777777777777778,\"#fb9f3a\"],[0.8888888888888888,\"#fdca26\"],[1.0,\"#f0f921\"]]}],\"heatmap\":[{\"type\":\"heatmap\",\"colorbar\":{\"outlinewidth\":0,\"ticks\":\"\"},\"colorscale\":[[0.0,\"#0d0887\"],[0.1111111111111111,\"#46039f\"],[0.2222222222222222,\"#7201a8\"],[0.3333333333333333,\"#9c179e\"],[0.4444444444444444,\"#bd3786\"],[0.5555555555555556,\"#d8576b\"],[0.6666666666666666,\"#ed7953\"],[0.7777777777777778,\"#fb9f3a\"],[0.8888888888888888,\"#fdca26\"],[1.0,\"#f0f921\"]]}],\"heatmapgl\":[{\"type\":\"heatmapgl\",\"colorbar\":{\"outlinewidth\":0,\"ticks\":\"\"},\"colorscale\":[[0.0,\"#0d0887\"],[0.1111111111111111,\"#46039f\"],[0.2222222222222222,\"#7201a8\"],[0.3333333333333333,\"#9c179e\"],[0.4444444444444444,\"#bd3786\"],[0.5555555555555556,\"#d8576b\"],[0.6666666666666666,\"#ed7953\"],[0.7777777777777778,\"#fb9f3a\"],[0.8888888888888888,\"#fdca26\"],[1.0,\"#f0f921\"]]}],\"contourcarpet\":[{\"type\":\"contourcarpet\",\"colorbar\":{\"outlinewidth\":0,\"ticks\":\"\"}}],\"contour\":[{\"type\":\"contour\",\"colorbar\":{\"outlinewidth\":0,\"ticks\":\"\"},\"colorscale\":[[0.0,\"#0d0887\"],[0.1111111111111111,\"#46039f\"],[0.2222222222222222,\"#7201a8\"],[0.3333333333333333,\"#9c179e\"],[0.4444444444444444,\"#bd3786\"],[0.5555555555555556,\"#d8576b\"],[0.6666666666666666,\"#ed7953\"],[0.7777777777777778,\"#fb9f3a\"],[0.8888888888888888,\"#fdca26\"],[1.0,\"#f0f921\"]]}],\"surface\":[{\"type\":\"surface\",\"colorbar\":{\"outlinewidth\":0,\"ticks\":\"\"},\"colorscale\":[[0.0,\"#0d0887\"],[0.1111111111111111,\"#46039f\"],[0.2222222222222222,\"#7201a8\"],[0.3333333333333333,\"#9c179e\"],[0.4444444444444444,\"#bd3786\"],[0.5555555555555556,\"#d8576b\"],[0.6666666666666666,\"#ed7953\"],[0.7777777777777778,\"#fb9f3a\"],[0.8888888888888888,\"#fdca26\"],[1.0,\"#f0f921\"]]}],\"mesh3d\":[{\"type\":\"mesh3d\",\"colorbar\":{\"outlinewidth\":0,\"ticks\":\"\"}}],\"scatter\":[{\"marker\":{\"line\":{\"color\":\"#283442\"}},\"type\":\"scatter\"}],\"parcoords\":[{\"type\":\"parcoords\",\"line\":{\"colorbar\":{\"outlinewidth\":0,\"ticks\":\"\"}}}],\"scatterpolargl\":[{\"type\":\"scatterpolargl\",\"marker\":{\"colorbar\":{\"outlinewidth\":0,\"ticks\":\"\"}}}],\"bar\":[{\"error_x\":{\"color\":\"#f2f5fa\"},\"error_y\":{\"color\":\"#f2f5fa\"},\"marker\":{\"line\":{\"color\":\"rgb(17,17,17)\",\"width\":0.5},\"pattern\":{\"fillmode\":\"overlay\",\"size\":10,\"solidity\":0.2}},\"type\":\"bar\"}],\"scattergeo\":[{\"type\":\"scattergeo\",\"marker\":{\"colorbar\":{\"outlinewidth\":0,\"ticks\":\"\"}}}],\"scatterpolar\":[{\"type\":\"scatterpolar\",\"marker\":{\"colorbar\":{\"outlinewidth\":0,\"ticks\":\"\"}}}],\"histogram\":[{\"marker\":{\"pattern\":{\"fillmode\":\"overlay\",\"size\":10,\"solidity\":0.2}},\"type\":\"histogram\"}],\"scattergl\":[{\"marker\":{\"line\":{\"color\":\"#283442\"}},\"type\":\"scattergl\"}],\"scatter3d\":[{\"type\":\"scatter3d\",\"line\":{\"colorbar\":{\"outlinewidth\":0,\"ticks\":\"\"}},\"marker\":{\"colorbar\":{\"outlinewidth\":0,\"ticks\":\"\"}}}],\"scattermapbox\":[{\"type\":\"scattermapbox\",\"marker\":{\"colorbar\":{\"outlinewidth\":0,\"ticks\":\"\"}}}],\"scatterternary\":[{\"type\":\"scatterternary\",\"marker\":{\"colorbar\":{\"outlinewidth\":0,\"ticks\":\"\"}}}],\"scattercarpet\":[{\"type\":\"scattercarpet\",\"marker\":{\"colorbar\":{\"outlinewidth\":0,\"ticks\":\"\"}}}],\"carpet\":[{\"aaxis\":{\"endlinecolor\":\"#A2B1C6\",\"gridcolor\":\"#506784\",\"linecolor\":\"#506784\",\"minorgridcolor\":\"#506784\",\"startlinecolor\":\"#A2B1C6\"},\"baxis\":{\"endlinecolor\":\"#A2B1C6\",\"gridcolor\":\"#506784\",\"linecolor\":\"#506784\",\"minorgridcolor\":\"#506784\",\"startlinecolor\":\"#A2B1C6\"},\"type\":\"carpet\"}],\"table\":[{\"cells\":{\"fill\":{\"color\":\"#506784\"},\"line\":{\"color\":\"rgb(17,17,17)\"}},\"header\":{\"fill\":{\"color\":\"#2a3f5f\"},\"line\":{\"color\":\"rgb(17,17,17)\"}},\"type\":\"table\"}],\"barpolar\":[{\"marker\":{\"line\":{\"color\":\"rgb(17,17,17)\",\"width\":0.5},\"pattern\":{\"fillmode\":\"overlay\",\"size\":10,\"solidity\":0.2}},\"type\":\"barpolar\"}],\"pie\":[{\"automargin\":true,\"type\":\"pie\"}]},\"layout\":{\"autotypenumbers\":\"strict\",\"colorway\":[\"#636efa\",\"#EF553B\",\"#00cc96\",\"#ab63fa\",\"#FFA15A\",\"#19d3f3\",\"#FF6692\",\"#B6E880\",\"#FF97FF\",\"#FECB52\"],\"font\":{\"color\":\"#f2f5fa\"},\"hovermode\":\"closest\",\"hoverlabel\":{\"align\":\"left\"},\"paper_bgcolor\":\"rgb(17,17,17)\",\"plot_bgcolor\":\"rgb(17,17,17)\",\"polar\":{\"bgcolor\":\"rgb(17,17,17)\",\"angularaxis\":{\"gridcolor\":\"#506784\",\"linecolor\":\"#506784\",\"ticks\":\"\"},\"radialaxis\":{\"gridcolor\":\"#506784\",\"linecolor\":\"#506784\",\"ticks\":\"\"}},\"ternary\":{\"bgcolor\":\"rgb(17,17,17)\",\"aaxis\":{\"gridcolor\":\"#506784\",\"linecolor\":\"#506784\",\"ticks\":\"\"},\"baxis\":{\"gridcolor\":\"#506784\",\"linecolor\":\"#506784\",\"ticks\":\"\"},\"caxis\":{\"gridcolor\":\"#506784\",\"linecolor\":\"#506784\",\"ticks\":\"\"}},\"coloraxis\":{\"colorbar\":{\"outlinewidth\":0,\"ticks\":\"\"}},\"colorscale\":{\"sequential\":[[0.0,\"#0d0887\"],[0.1111111111111111,\"#46039f\"],[0.2222222222222222,\"#7201a8\"],[0.3333333333333333,\"#9c179e\"],[0.4444444444444444,\"#bd3786\"],[0.5555555555555556,\"#d8576b\"],[0.6666666666666666,\"#ed7953\"],[0.7777777777777778,\"#fb9f3a\"],[0.8888888888888888,\"#fdca26\"],[1.0,\"#f0f921\"]],\"sequentialminus\":[[0.0,\"#0d0887\"],[0.1111111111111111,\"#46039f\"],[0.2222222222222222,\"#7201a8\"],[0.3333333333333333,\"#9c179e\"],[0.4444444444444444,\"#bd3786\"],[0.5555555555555556,\"#d8576b\"],[0.6666666666666666,\"#ed7953\"],[0.7777777777777778,\"#fb9f3a\"],[0.8888888888888888,\"#fdca26\"],[1.0,\"#f0f921\"]],\"diverging\":[[0,\"#8e0152\"],[0.1,\"#c51b7d\"],[0.2,\"#de77ae\"],[0.3,\"#f1b6da\"],[0.4,\"#fde0ef\"],[0.5,\"#f7f7f7\"],[0.6,\"#e6f5d0\"],[0.7,\"#b8e186\"],[0.8,\"#7fbc41\"],[0.9,\"#4d9221\"],[1,\"#276419\"]]},\"xaxis\":{\"gridcolor\":\"#283442\",\"linecolor\":\"#506784\",\"ticks\":\"\",\"title\":{\"standoff\":15},\"zerolinecolor\":\"#283442\",\"automargin\":true,\"zerolinewidth\":2},\"yaxis\":{\"gridcolor\":\"#283442\",\"linecolor\":\"#506784\",\"ticks\":\"\",\"title\":{\"standoff\":15},\"zerolinecolor\":\"#283442\",\"automargin\":true,\"zerolinewidth\":2},\"scene\":{\"xaxis\":{\"backgroundcolor\":\"rgb(17,17,17)\",\"gridcolor\":\"#506784\",\"linecolor\":\"#506784\",\"showbackground\":true,\"ticks\":\"\",\"zerolinecolor\":\"#C8D4E3\",\"gridwidth\":2},\"yaxis\":{\"backgroundcolor\":\"rgb(17,17,17)\",\"gridcolor\":\"#506784\",\"linecolor\":\"#506784\",\"showbackground\":true,\"ticks\":\"\",\"zerolinecolor\":\"#C8D4E3\",\"gridwidth\":2},\"zaxis\":{\"backgroundcolor\":\"rgb(17,17,17)\",\"gridcolor\":\"#506784\",\"linecolor\":\"#506784\",\"showbackground\":true,\"ticks\":\"\",\"zerolinecolor\":\"#C8D4E3\",\"gridwidth\":2}},\"shapedefaults\":{\"line\":{\"color\":\"#f2f5fa\"}},\"annotationdefaults\":{\"arrowcolor\":\"#f2f5fa\",\"arrowhead\":0,\"arrowwidth\":1},\"geo\":{\"bgcolor\":\"rgb(17,17,17)\",\"landcolor\":\"rgb(17,17,17)\",\"subunitcolor\":\"#506784\",\"showland\":true,\"showlakes\":true,\"lakecolor\":\"rgb(17,17,17)\"},\"title\":{\"x\":0.05},\"updatemenudefaults\":{\"bgcolor\":\"#506784\",\"borderwidth\":0},\"sliderdefaults\":{\"bgcolor\":\"#C8D4E3\",\"borderwidth\":1,\"bordercolor\":\"rgb(17,17,17)\",\"tickwidth\":0},\"mapbox\":{\"style\":\"dark\"}}},\"xaxis\":{\"anchor\":\"y\",\"domain\":[0.0,1.0],\"title\":{\"text\":\"UnitPrice\"}},\"yaxis\":{\"anchor\":\"x\",\"domain\":[0.0,1.0],\"title\":{\"text\":\"Quantit\"}},\"legend\":{\"title\":{\"text\":\"Major Category\"},\"tracegroupgap\":0},\"title\":{\"text\":\"Relationship between Price and Quantity in Australia by category\"}},                        {\"responsive\": true}                    ).then(function(){\n",
              "                            \n",
              "var gd = document.getElementById('208c571e-4c5f-43ad-bb96-50011d66244a');\n",
              "var x = new MutationObserver(function (mutations, observer) {{\n",
              "        var display = window.getComputedStyle(gd).display;\n",
              "        if (!display || display === 'none') {{\n",
              "            console.log([gd, 'removed!']);\n",
              "            Plotly.purge(gd);\n",
              "            observer.disconnect();\n",
              "        }}\n",
              "}});\n",
              "\n",
              "// Listen for the removal of the full notebook cells\n",
              "var notebookContainer = gd.closest('#notebook-container');\n",
              "if (notebookContainer) {{\n",
              "    x.observe(notebookContainer, {childList: true});\n",
              "}}\n",
              "\n",
              "// Listen for the clearing of the current output cell\n",
              "var outputEl = gd.closest('.output');\n",
              "if (outputEl) {{\n",
              "    x.observe(outputEl, {childList: true});\n",
              "}}\n",
              "\n",
              "                        })                };                });            </script>        </div>"
            ]
          },
          "metadata": {},
          "output_type": "display_data"
        }
      ],
      "source": [
        "australia_df = df[df[\"Country\"] == \"Australia\"]\n",
        "fig = px.scatter(data_frame=australia_df, x= \"UnitPrice\", y = \"Quantit\", color= \"Major Category\", title = \"Relationship between Price and Quantity in Australia by category\")\n",
        "fig.show()"
      ]
    },
    {
      "cell_type": "code",
      "execution_count": null,
      "metadata": {
        "id": "P5Mdfss__fy4",
        "outputId": "0eb067cb-4b1b-4eef-9f05-10cebd132654"
      },
      "outputs": [
        {
          "data": {
            "application/vnd.plotly.v1+json": {
              "config": {
                "plotlyServerURL": "https://plot.ly"
              },
              "data": [
                {
                  "hovertemplate": "Country=United Kingdom<br>InvoiceDate=%{x}<br>OrderValue=%{y}<extra></extra>",
                  "legendgroup": "United Kingdom",
                  "line": {
                    "color": "#636efa",
                    "dash": "solid"
                  },
                  "marker": {
                    "symbol": "circle"
                  },
                  "mode": "lines",
                  "name": "United Kingdom",
                  "orientation": "v",
                  "showlegend": true,
                  "type": "scatter",
                  "x": [
                    "2010-06-12T00:00:00",
                    "2010-12-20T00:00:00",
                    "2011-01-17T00:00:00",
                    "2011-02-09T00:00:00",
                    "2011-03-17T00:00:00",
                    "2011-03-28T00:00:00",
                    "2011-05-26T00:00:00",
                    "2011-06-10T00:00:00",
                    "2011-06-12T00:00:00",
                    "2011-06-22T00:00:00",
                    "2011-06-28T00:00:00",
                    "2011-07-04T00:00:00",
                    "2011-08-09T00:00:00",
                    "2011-08-17T00:00:00",
                    "2011-08-18T00:00:00",
                    "2011-09-11T00:00:00",
                    "2011-09-28T00:00:00",
                    "2011-10-31T00:00:00",
                    "2011-11-09T00:00:00",
                    "2011-11-15T00:00:00",
                    "2011-11-17T00:00:00",
                    "2011-11-23T00:00:00",
                    "2011-11-27T00:00:00",
                    "2011-11-28T00:00:00",
                    "2011-11-30T00:00:00",
                    "2011-12-05T00:00:00"
                  ],
                  "xaxis": "x",
                  "y": [
                    4.25,
                    3.32,
                    7.5,
                    2.46,
                    2.95,
                    12.75,
                    15.9,
                    1.25,
                    2.08,
                    85.8,
                    15.9,
                    10.2,
                    7.65,
                    1.25,
                    9.9,
                    15,
                    19.8,
                    4.95,
                    0.38,
                    10.79,
                    12.465,
                    1.17,
                    1.25,
                    2.55,
                    9.92,
                    29.7
                  ],
                  "yaxis": "y"
                },
                {
                  "hovertemplate": "Country=France<br>InvoiceDate=%{x}<br>OrderValue=%{y}<extra></extra>",
                  "legendgroup": "France",
                  "line": {
                    "color": "#EF553B",
                    "dash": "solid"
                  },
                  "marker": {
                    "symbol": "circle"
                  },
                  "mode": "lines",
                  "name": "France",
                  "orientation": "v",
                  "showlegend": true,
                  "type": "scatter",
                  "x": [
                    "2010-09-12T00:00:00",
                    "2011-01-31T00:00:00",
                    "2011-03-23T00:00:00",
                    "2011-03-28T00:00:00",
                    "2011-04-11T00:00:00",
                    "2011-04-20T00:00:00",
                    "2011-06-15T00:00:00",
                    "2011-07-29T00:00:00",
                    "2011-08-31T00:00:00",
                    "2011-09-11T00:00:00",
                    "2011-09-23T00:00:00",
                    "2011-10-28T00:00:00",
                    "2011-10-30T00:00:00",
                    "2011-11-10T00:00:00",
                    "2011-11-11T00:00:00",
                    "2011-11-30T00:00:00"
                  ],
                  "xaxis": "x",
                  "y": [
                    20.85,
                    30.6,
                    75.6,
                    18.15,
                    1.65,
                    15,
                    30,
                    19.5,
                    59.76,
                    16.5,
                    30,
                    244.8,
                    9.96,
                    10,
                    19.5,
                    30
                  ],
                  "yaxis": "y"
                },
                {
                  "hovertemplate": "Country=Hong Kong<br>InvoiceDate=%{x}<br>OrderValue=%{y}<extra></extra>",
                  "legendgroup": "Hong Kong",
                  "line": {
                    "color": "#00cc96",
                    "dash": "solid"
                  },
                  "marker": {
                    "symbol": "circle"
                  },
                  "mode": "lines",
                  "name": "Hong Kong",
                  "orientation": "v",
                  "showlegend": true,
                  "type": "scatter",
                  "x": [
                    "2011-01-24T00:00:00",
                    "2011-08-23T00:00:00"
                  ],
                  "xaxis": "x",
                  "y": [
                    105.7,
                    20
                  ],
                  "yaxis": "y"
                },
                {
                  "hovertemplate": "Country=Germany<br>InvoiceDate=%{x}<br>OrderValue=%{y}<extra></extra>",
                  "legendgroup": "Germany",
                  "line": {
                    "color": "#ab63fa",
                    "dash": "solid"
                  },
                  "marker": {
                    "symbol": "circle"
                  },
                  "mode": "lines",
                  "name": "Germany",
                  "orientation": "v",
                  "showlegend": true,
                  "type": "scatter",
                  "x": [
                    "2011-02-11T00:00:00",
                    "2011-04-09T00:00:00",
                    "2011-05-19T00:00:00",
                    "2011-07-01T00:00:00",
                    "2011-07-19T00:00:00",
                    "2011-07-27T00:00:00",
                    "2011-09-22T00:00:00",
                    "2011-09-28T00:00:00",
                    "2011-10-20T00:00:00",
                    "2011-11-16T00:00:00"
                  ],
                  "xaxis": "x",
                  "y": [
                    10.2,
                    16.35,
                    65.7,
                    19.9,
                    10.5,
                    75,
                    16.5,
                    14.85,
                    17,
                    20.8
                  ],
                  "yaxis": "y"
                },
                {
                  "hovertemplate": "Country=Australia<br>InvoiceDate=%{x}<br>OrderValue=%{y}<extra></extra>",
                  "legendgroup": "Australia",
                  "line": {
                    "color": "#FFA15A",
                    "dash": "solid"
                  },
                  "marker": {
                    "symbol": "circle"
                  },
                  "mode": "lines",
                  "name": "Australia",
                  "orientation": "v",
                  "showlegend": true,
                  "type": "scatter",
                  "x": [
                    "2011-03-03T00:00:00",
                    "2011-07-14T00:00:00",
                    "2011-09-28T00:00:00"
                  ],
                  "xaxis": "x",
                  "y": [
                    108,
                    30.6,
                    23.4
                  ],
                  "yaxis": "y"
                }
              ],
              "layout": {
                "legend": {
                  "title": {
                    "text": "Country"
                  },
                  "tracegroupgap": 0
                },
                "template": {
                  "data": {
                    "bar": [
                      {
                        "error_x": {
                          "color": "#f2f5fa"
                        },
                        "error_y": {
                          "color": "#f2f5fa"
                        },
                        "marker": {
                          "line": {
                            "color": "rgb(17,17,17)",
                            "width": 0.5
                          },
                          "pattern": {
                            "fillmode": "overlay",
                            "size": 10,
                            "solidity": 0.2
                          }
                        },
                        "type": "bar"
                      }
                    ],
                    "barpolar": [
                      {
                        "marker": {
                          "line": {
                            "color": "rgb(17,17,17)",
                            "width": 0.5
                          },
                          "pattern": {
                            "fillmode": "overlay",
                            "size": 10,
                            "solidity": 0.2
                          }
                        },
                        "type": "barpolar"
                      }
                    ],
                    "carpet": [
                      {
                        "aaxis": {
                          "endlinecolor": "#A2B1C6",
                          "gridcolor": "#506784",
                          "linecolor": "#506784",
                          "minorgridcolor": "#506784",
                          "startlinecolor": "#A2B1C6"
                        },
                        "baxis": {
                          "endlinecolor": "#A2B1C6",
                          "gridcolor": "#506784",
                          "linecolor": "#506784",
                          "minorgridcolor": "#506784",
                          "startlinecolor": "#A2B1C6"
                        },
                        "type": "carpet"
                      }
                    ],
                    "choropleth": [
                      {
                        "colorbar": {
                          "outlinewidth": 0,
                          "ticks": ""
                        },
                        "type": "choropleth"
                      }
                    ],
                    "contour": [
                      {
                        "colorbar": {
                          "outlinewidth": 0,
                          "ticks": ""
                        },
                        "colorscale": [
                          [
                            0,
                            "#0d0887"
                          ],
                          [
                            0.1111111111111111,
                            "#46039f"
                          ],
                          [
                            0.2222222222222222,
                            "#7201a8"
                          ],
                          [
                            0.3333333333333333,
                            "#9c179e"
                          ],
                          [
                            0.4444444444444444,
                            "#bd3786"
                          ],
                          [
                            0.5555555555555556,
                            "#d8576b"
                          ],
                          [
                            0.6666666666666666,
                            "#ed7953"
                          ],
                          [
                            0.7777777777777778,
                            "#fb9f3a"
                          ],
                          [
                            0.8888888888888888,
                            "#fdca26"
                          ],
                          [
                            1,
                            "#f0f921"
                          ]
                        ],
                        "type": "contour"
                      }
                    ],
                    "contourcarpet": [
                      {
                        "colorbar": {
                          "outlinewidth": 0,
                          "ticks": ""
                        },
                        "type": "contourcarpet"
                      }
                    ],
                    "heatmap": [
                      {
                        "colorbar": {
                          "outlinewidth": 0,
                          "ticks": ""
                        },
                        "colorscale": [
                          [
                            0,
                            "#0d0887"
                          ],
                          [
                            0.1111111111111111,
                            "#46039f"
                          ],
                          [
                            0.2222222222222222,
                            "#7201a8"
                          ],
                          [
                            0.3333333333333333,
                            "#9c179e"
                          ],
                          [
                            0.4444444444444444,
                            "#bd3786"
                          ],
                          [
                            0.5555555555555556,
                            "#d8576b"
                          ],
                          [
                            0.6666666666666666,
                            "#ed7953"
                          ],
                          [
                            0.7777777777777778,
                            "#fb9f3a"
                          ],
                          [
                            0.8888888888888888,
                            "#fdca26"
                          ],
                          [
                            1,
                            "#f0f921"
                          ]
                        ],
                        "type": "heatmap"
                      }
                    ],
                    "heatmapgl": [
                      {
                        "colorbar": {
                          "outlinewidth": 0,
                          "ticks": ""
                        },
                        "colorscale": [
                          [
                            0,
                            "#0d0887"
                          ],
                          [
                            0.1111111111111111,
                            "#46039f"
                          ],
                          [
                            0.2222222222222222,
                            "#7201a8"
                          ],
                          [
                            0.3333333333333333,
                            "#9c179e"
                          ],
                          [
                            0.4444444444444444,
                            "#bd3786"
                          ],
                          [
                            0.5555555555555556,
                            "#d8576b"
                          ],
                          [
                            0.6666666666666666,
                            "#ed7953"
                          ],
                          [
                            0.7777777777777778,
                            "#fb9f3a"
                          ],
                          [
                            0.8888888888888888,
                            "#fdca26"
                          ],
                          [
                            1,
                            "#f0f921"
                          ]
                        ],
                        "type": "heatmapgl"
                      }
                    ],
                    "histogram": [
                      {
                        "marker": {
                          "pattern": {
                            "fillmode": "overlay",
                            "size": 10,
                            "solidity": 0.2
                          }
                        },
                        "type": "histogram"
                      }
                    ],
                    "histogram2d": [
                      {
                        "colorbar": {
                          "outlinewidth": 0,
                          "ticks": ""
                        },
                        "colorscale": [
                          [
                            0,
                            "#0d0887"
                          ],
                          [
                            0.1111111111111111,
                            "#46039f"
                          ],
                          [
                            0.2222222222222222,
                            "#7201a8"
                          ],
                          [
                            0.3333333333333333,
                            "#9c179e"
                          ],
                          [
                            0.4444444444444444,
                            "#bd3786"
                          ],
                          [
                            0.5555555555555556,
                            "#d8576b"
                          ],
                          [
                            0.6666666666666666,
                            "#ed7953"
                          ],
                          [
                            0.7777777777777778,
                            "#fb9f3a"
                          ],
                          [
                            0.8888888888888888,
                            "#fdca26"
                          ],
                          [
                            1,
                            "#f0f921"
                          ]
                        ],
                        "type": "histogram2d"
                      }
                    ],
                    "histogram2dcontour": [
                      {
                        "colorbar": {
                          "outlinewidth": 0,
                          "ticks": ""
                        },
                        "colorscale": [
                          [
                            0,
                            "#0d0887"
                          ],
                          [
                            0.1111111111111111,
                            "#46039f"
                          ],
                          [
                            0.2222222222222222,
                            "#7201a8"
                          ],
                          [
                            0.3333333333333333,
                            "#9c179e"
                          ],
                          [
                            0.4444444444444444,
                            "#bd3786"
                          ],
                          [
                            0.5555555555555556,
                            "#d8576b"
                          ],
                          [
                            0.6666666666666666,
                            "#ed7953"
                          ],
                          [
                            0.7777777777777778,
                            "#fb9f3a"
                          ],
                          [
                            0.8888888888888888,
                            "#fdca26"
                          ],
                          [
                            1,
                            "#f0f921"
                          ]
                        ],
                        "type": "histogram2dcontour"
                      }
                    ],
                    "mesh3d": [
                      {
                        "colorbar": {
                          "outlinewidth": 0,
                          "ticks": ""
                        },
                        "type": "mesh3d"
                      }
                    ],
                    "parcoords": [
                      {
                        "line": {
                          "colorbar": {
                            "outlinewidth": 0,
                            "ticks": ""
                          }
                        },
                        "type": "parcoords"
                      }
                    ],
                    "pie": [
                      {
                        "automargin": true,
                        "type": "pie"
                      }
                    ],
                    "scatter": [
                      {
                        "marker": {
                          "line": {
                            "color": "#283442"
                          }
                        },
                        "type": "scatter"
                      }
                    ],
                    "scatter3d": [
                      {
                        "line": {
                          "colorbar": {
                            "outlinewidth": 0,
                            "ticks": ""
                          }
                        },
                        "marker": {
                          "colorbar": {
                            "outlinewidth": 0,
                            "ticks": ""
                          }
                        },
                        "type": "scatter3d"
                      }
                    ],
                    "scattercarpet": [
                      {
                        "marker": {
                          "colorbar": {
                            "outlinewidth": 0,
                            "ticks": ""
                          }
                        },
                        "type": "scattercarpet"
                      }
                    ],
                    "scattergeo": [
                      {
                        "marker": {
                          "colorbar": {
                            "outlinewidth": 0,
                            "ticks": ""
                          }
                        },
                        "type": "scattergeo"
                      }
                    ],
                    "scattergl": [
                      {
                        "marker": {
                          "line": {
                            "color": "#283442"
                          }
                        },
                        "type": "scattergl"
                      }
                    ],
                    "scattermapbox": [
                      {
                        "marker": {
                          "colorbar": {
                            "outlinewidth": 0,
                            "ticks": ""
                          }
                        },
                        "type": "scattermapbox"
                      }
                    ],
                    "scatterpolar": [
                      {
                        "marker": {
                          "colorbar": {
                            "outlinewidth": 0,
                            "ticks": ""
                          }
                        },
                        "type": "scatterpolar"
                      }
                    ],
                    "scatterpolargl": [
                      {
                        "marker": {
                          "colorbar": {
                            "outlinewidth": 0,
                            "ticks": ""
                          }
                        },
                        "type": "scatterpolargl"
                      }
                    ],
                    "scatterternary": [
                      {
                        "marker": {
                          "colorbar": {
                            "outlinewidth": 0,
                            "ticks": ""
                          }
                        },
                        "type": "scatterternary"
                      }
                    ],
                    "surface": [
                      {
                        "colorbar": {
                          "outlinewidth": 0,
                          "ticks": ""
                        },
                        "colorscale": [
                          [
                            0,
                            "#0d0887"
                          ],
                          [
                            0.1111111111111111,
                            "#46039f"
                          ],
                          [
                            0.2222222222222222,
                            "#7201a8"
                          ],
                          [
                            0.3333333333333333,
                            "#9c179e"
                          ],
                          [
                            0.4444444444444444,
                            "#bd3786"
                          ],
                          [
                            0.5555555555555556,
                            "#d8576b"
                          ],
                          [
                            0.6666666666666666,
                            "#ed7953"
                          ],
                          [
                            0.7777777777777778,
                            "#fb9f3a"
                          ],
                          [
                            0.8888888888888888,
                            "#fdca26"
                          ],
                          [
                            1,
                            "#f0f921"
                          ]
                        ],
                        "type": "surface"
                      }
                    ],
                    "table": [
                      {
                        "cells": {
                          "fill": {
                            "color": "#506784"
                          },
                          "line": {
                            "color": "rgb(17,17,17)"
                          }
                        },
                        "header": {
                          "fill": {
                            "color": "#2a3f5f"
                          },
                          "line": {
                            "color": "rgb(17,17,17)"
                          }
                        },
                        "type": "table"
                      }
                    ]
                  },
                  "layout": {
                    "annotationdefaults": {
                      "arrowcolor": "#f2f5fa",
                      "arrowhead": 0,
                      "arrowwidth": 1
                    },
                    "autotypenumbers": "strict",
                    "coloraxis": {
                      "colorbar": {
                        "outlinewidth": 0,
                        "ticks": ""
                      }
                    },
                    "colorscale": {
                      "diverging": [
                        [
                          0,
                          "#8e0152"
                        ],
                        [
                          0.1,
                          "#c51b7d"
                        ],
                        [
                          0.2,
                          "#de77ae"
                        ],
                        [
                          0.3,
                          "#f1b6da"
                        ],
                        [
                          0.4,
                          "#fde0ef"
                        ],
                        [
                          0.5,
                          "#f7f7f7"
                        ],
                        [
                          0.6,
                          "#e6f5d0"
                        ],
                        [
                          0.7,
                          "#b8e186"
                        ],
                        [
                          0.8,
                          "#7fbc41"
                        ],
                        [
                          0.9,
                          "#4d9221"
                        ],
                        [
                          1,
                          "#276419"
                        ]
                      ],
                      "sequential": [
                        [
                          0,
                          "#0d0887"
                        ],
                        [
                          0.1111111111111111,
                          "#46039f"
                        ],
                        [
                          0.2222222222222222,
                          "#7201a8"
                        ],
                        [
                          0.3333333333333333,
                          "#9c179e"
                        ],
                        [
                          0.4444444444444444,
                          "#bd3786"
                        ],
                        [
                          0.5555555555555556,
                          "#d8576b"
                        ],
                        [
                          0.6666666666666666,
                          "#ed7953"
                        ],
                        [
                          0.7777777777777778,
                          "#fb9f3a"
                        ],
                        [
                          0.8888888888888888,
                          "#fdca26"
                        ],
                        [
                          1,
                          "#f0f921"
                        ]
                      ],
                      "sequentialminus": [
                        [
                          0,
                          "#0d0887"
                        ],
                        [
                          0.1111111111111111,
                          "#46039f"
                        ],
                        [
                          0.2222222222222222,
                          "#7201a8"
                        ],
                        [
                          0.3333333333333333,
                          "#9c179e"
                        ],
                        [
                          0.4444444444444444,
                          "#bd3786"
                        ],
                        [
                          0.5555555555555556,
                          "#d8576b"
                        ],
                        [
                          0.6666666666666666,
                          "#ed7953"
                        ],
                        [
                          0.7777777777777778,
                          "#fb9f3a"
                        ],
                        [
                          0.8888888888888888,
                          "#fdca26"
                        ],
                        [
                          1,
                          "#f0f921"
                        ]
                      ]
                    },
                    "colorway": [
                      "#636efa",
                      "#EF553B",
                      "#00cc96",
                      "#ab63fa",
                      "#FFA15A",
                      "#19d3f3",
                      "#FF6692",
                      "#B6E880",
                      "#FF97FF",
                      "#FECB52"
                    ],
                    "font": {
                      "color": "#f2f5fa"
                    },
                    "geo": {
                      "bgcolor": "rgb(17,17,17)",
                      "lakecolor": "rgb(17,17,17)",
                      "landcolor": "rgb(17,17,17)",
                      "showlakes": true,
                      "showland": true,
                      "subunitcolor": "#506784"
                    },
                    "hoverlabel": {
                      "align": "left"
                    },
                    "hovermode": "closest",
                    "mapbox": {
                      "style": "dark"
                    },
                    "paper_bgcolor": "rgb(17,17,17)",
                    "plot_bgcolor": "rgb(17,17,17)",
                    "polar": {
                      "angularaxis": {
                        "gridcolor": "#506784",
                        "linecolor": "#506784",
                        "ticks": ""
                      },
                      "bgcolor": "rgb(17,17,17)",
                      "radialaxis": {
                        "gridcolor": "#506784",
                        "linecolor": "#506784",
                        "ticks": ""
                      }
                    },
                    "scene": {
                      "xaxis": {
                        "backgroundcolor": "rgb(17,17,17)",
                        "gridcolor": "#506784",
                        "gridwidth": 2,
                        "linecolor": "#506784",
                        "showbackground": true,
                        "ticks": "",
                        "zerolinecolor": "#C8D4E3"
                      },
                      "yaxis": {
                        "backgroundcolor": "rgb(17,17,17)",
                        "gridcolor": "#506784",
                        "gridwidth": 2,
                        "linecolor": "#506784",
                        "showbackground": true,
                        "ticks": "",
                        "zerolinecolor": "#C8D4E3"
                      },
                      "zaxis": {
                        "backgroundcolor": "rgb(17,17,17)",
                        "gridcolor": "#506784",
                        "gridwidth": 2,
                        "linecolor": "#506784",
                        "showbackground": true,
                        "ticks": "",
                        "zerolinecolor": "#C8D4E3"
                      }
                    },
                    "shapedefaults": {
                      "line": {
                        "color": "#f2f5fa"
                      }
                    },
                    "sliderdefaults": {
                      "bgcolor": "#C8D4E3",
                      "bordercolor": "rgb(17,17,17)",
                      "borderwidth": 1,
                      "tickwidth": 0
                    },
                    "ternary": {
                      "aaxis": {
                        "gridcolor": "#506784",
                        "linecolor": "#506784",
                        "ticks": ""
                      },
                      "baxis": {
                        "gridcolor": "#506784",
                        "linecolor": "#506784",
                        "ticks": ""
                      },
                      "bgcolor": "rgb(17,17,17)",
                      "caxis": {
                        "gridcolor": "#506784",
                        "linecolor": "#506784",
                        "ticks": ""
                      }
                    },
                    "title": {
                      "x": 0.05
                    },
                    "updatemenudefaults": {
                      "bgcolor": "#506784",
                      "borderwidth": 0
                    },
                    "xaxis": {
                      "automargin": true,
                      "gridcolor": "#283442",
                      "linecolor": "#506784",
                      "ticks": "",
                      "title": {
                        "standoff": 15
                      },
                      "zerolinecolor": "#283442",
                      "zerolinewidth": 2
                    },
                    "yaxis": {
                      "automargin": true,
                      "gridcolor": "#283442",
                      "linecolor": "#506784",
                      "ticks": "",
                      "title": {
                        "standoff": 15
                      },
                      "zerolinecolor": "#283442",
                      "zerolinewidth": 2
                    }
                  }
                },
                "title": {
                  "text": "Tops sales by country over time"
                },
                "xaxis": {
                  "anchor": "y",
                  "domain": [
                    0,
                    1
                  ],
                  "title": {
                    "text": "InvoiceDate"
                  }
                },
                "yaxis": {
                  "anchor": "x",
                  "domain": [
                    0,
                    1
                  ],
                  "title": {
                    "text": "OrderValue"
                  }
                }
              }
            },
            "text/html": [
              "<div>                            <div id=\"7a98876d-4ffa-4b18-833b-673894c87f09\" class=\"plotly-graph-div\" style=\"height:525px; width:100%;\"></div>            <script type=\"text/javascript\">                require([\"plotly\"], function(Plotly) {                    window.PLOTLYENV=window.PLOTLYENV || {};                                    if (document.getElementById(\"7a98876d-4ffa-4b18-833b-673894c87f09\")) {                    Plotly.newPlot(                        \"7a98876d-4ffa-4b18-833b-673894c87f09\",                        [{\"hovertemplate\":\"Country=United Kingdom<br>InvoiceDate=%{x}<br>OrderValue=%{y}<extra></extra>\",\"legendgroup\":\"United Kingdom\",\"line\":{\"color\":\"#636efa\",\"dash\":\"solid\"},\"marker\":{\"symbol\":\"circle\"},\"mode\":\"lines\",\"name\":\"United Kingdom\",\"orientation\":\"v\",\"showlegend\":true,\"x\":[\"2010-06-12T00:00:00\",\"2010-12-20T00:00:00\",\"2011-01-17T00:00:00\",\"2011-02-09T00:00:00\",\"2011-03-17T00:00:00\",\"2011-03-28T00:00:00\",\"2011-05-26T00:00:00\",\"2011-06-10T00:00:00\",\"2011-06-12T00:00:00\",\"2011-06-22T00:00:00\",\"2011-06-28T00:00:00\",\"2011-07-04T00:00:00\",\"2011-08-09T00:00:00\",\"2011-08-17T00:00:00\",\"2011-08-18T00:00:00\",\"2011-09-11T00:00:00\",\"2011-09-28T00:00:00\",\"2011-10-31T00:00:00\",\"2011-11-09T00:00:00\",\"2011-11-15T00:00:00\",\"2011-11-17T00:00:00\",\"2011-11-23T00:00:00\",\"2011-11-27T00:00:00\",\"2011-11-28T00:00:00\",\"2011-11-30T00:00:00\",\"2011-12-05T00:00:00\"],\"xaxis\":\"x\",\"y\":[4.25,3.32,7.5,2.46,2.95,12.75,15.9,1.25,2.08,85.8,15.9,10.2,7.65,1.25,9.9,15.0,19.8,4.95,0.38,10.79,12.465,1.17,1.25,2.55,9.92,29.7],\"yaxis\":\"y\",\"type\":\"scatter\"},{\"hovertemplate\":\"Country=France<br>InvoiceDate=%{x}<br>OrderValue=%{y}<extra></extra>\",\"legendgroup\":\"France\",\"line\":{\"color\":\"#EF553B\",\"dash\":\"solid\"},\"marker\":{\"symbol\":\"circle\"},\"mode\":\"lines\",\"name\":\"France\",\"orientation\":\"v\",\"showlegend\":true,\"x\":[\"2010-09-12T00:00:00\",\"2011-01-31T00:00:00\",\"2011-03-23T00:00:00\",\"2011-03-28T00:00:00\",\"2011-04-11T00:00:00\",\"2011-04-20T00:00:00\",\"2011-06-15T00:00:00\",\"2011-07-29T00:00:00\",\"2011-08-31T00:00:00\",\"2011-09-11T00:00:00\",\"2011-09-23T00:00:00\",\"2011-10-28T00:00:00\",\"2011-10-30T00:00:00\",\"2011-11-10T00:00:00\",\"2011-11-11T00:00:00\",\"2011-11-30T00:00:00\"],\"xaxis\":\"x\",\"y\":[20.85,30.6,75.6,18.15,1.65,15.0,30.0,19.5,59.76,16.5,30.0,244.8,9.96,10.0,19.5,30.0],\"yaxis\":\"y\",\"type\":\"scatter\"},{\"hovertemplate\":\"Country=Hong Kong<br>InvoiceDate=%{x}<br>OrderValue=%{y}<extra></extra>\",\"legendgroup\":\"Hong Kong\",\"line\":{\"color\":\"#00cc96\",\"dash\":\"solid\"},\"marker\":{\"symbol\":\"circle\"},\"mode\":\"lines\",\"name\":\"Hong Kong\",\"orientation\":\"v\",\"showlegend\":true,\"x\":[\"2011-01-24T00:00:00\",\"2011-08-23T00:00:00\"],\"xaxis\":\"x\",\"y\":[105.7,20.0],\"yaxis\":\"y\",\"type\":\"scatter\"},{\"hovertemplate\":\"Country=Germany<br>InvoiceDate=%{x}<br>OrderValue=%{y}<extra></extra>\",\"legendgroup\":\"Germany\",\"line\":{\"color\":\"#ab63fa\",\"dash\":\"solid\"},\"marker\":{\"symbol\":\"circle\"},\"mode\":\"lines\",\"name\":\"Germany\",\"orientation\":\"v\",\"showlegend\":true,\"x\":[\"2011-02-11T00:00:00\",\"2011-04-09T00:00:00\",\"2011-05-19T00:00:00\",\"2011-07-01T00:00:00\",\"2011-07-19T00:00:00\",\"2011-07-27T00:00:00\",\"2011-09-22T00:00:00\",\"2011-09-28T00:00:00\",\"2011-10-20T00:00:00\",\"2011-11-16T00:00:00\"],\"xaxis\":\"x\",\"y\":[10.2,16.35,65.7,19.9,10.5,75.0,16.5,14.85,17.0,20.8],\"yaxis\":\"y\",\"type\":\"scatter\"},{\"hovertemplate\":\"Country=Australia<br>InvoiceDate=%{x}<br>OrderValue=%{y}<extra></extra>\",\"legendgroup\":\"Australia\",\"line\":{\"color\":\"#FFA15A\",\"dash\":\"solid\"},\"marker\":{\"symbol\":\"circle\"},\"mode\":\"lines\",\"name\":\"Australia\",\"orientation\":\"v\",\"showlegend\":true,\"x\":[\"2011-03-03T00:00:00\",\"2011-07-14T00:00:00\",\"2011-09-28T00:00:00\"],\"xaxis\":\"x\",\"y\":[108.0,30.6,23.4],\"yaxis\":\"y\",\"type\":\"scatter\"}],                        {\"template\":{\"data\":{\"histogram2dcontour\":[{\"type\":\"histogram2dcontour\",\"colorbar\":{\"outlinewidth\":0,\"ticks\":\"\"},\"colorscale\":[[0.0,\"#0d0887\"],[0.1111111111111111,\"#46039f\"],[0.2222222222222222,\"#7201a8\"],[0.3333333333333333,\"#9c179e\"],[0.4444444444444444,\"#bd3786\"],[0.5555555555555556,\"#d8576b\"],[0.6666666666666666,\"#ed7953\"],[0.7777777777777778,\"#fb9f3a\"],[0.8888888888888888,\"#fdca26\"],[1.0,\"#f0f921\"]]}],\"choropleth\":[{\"type\":\"choropleth\",\"colorbar\":{\"outlinewidth\":0,\"ticks\":\"\"}}],\"histogram2d\":[{\"type\":\"histogram2d\",\"colorbar\":{\"outlinewidth\":0,\"ticks\":\"\"},\"colorscale\":[[0.0,\"#0d0887\"],[0.1111111111111111,\"#46039f\"],[0.2222222222222222,\"#7201a8\"],[0.3333333333333333,\"#9c179e\"],[0.4444444444444444,\"#bd3786\"],[0.5555555555555556,\"#d8576b\"],[0.6666666666666666,\"#ed7953\"],[0.7777777777777778,\"#fb9f3a\"],[0.8888888888888888,\"#fdca26\"],[1.0,\"#f0f921\"]]}],\"heatmap\":[{\"type\":\"heatmap\",\"colorbar\":{\"outlinewidth\":0,\"ticks\":\"\"},\"colorscale\":[[0.0,\"#0d0887\"],[0.1111111111111111,\"#46039f\"],[0.2222222222222222,\"#7201a8\"],[0.3333333333333333,\"#9c179e\"],[0.4444444444444444,\"#bd3786\"],[0.5555555555555556,\"#d8576b\"],[0.6666666666666666,\"#ed7953\"],[0.7777777777777778,\"#fb9f3a\"],[0.8888888888888888,\"#fdca26\"],[1.0,\"#f0f921\"]]}],\"heatmapgl\":[{\"type\":\"heatmapgl\",\"colorbar\":{\"outlinewidth\":0,\"ticks\":\"\"},\"colorscale\":[[0.0,\"#0d0887\"],[0.1111111111111111,\"#46039f\"],[0.2222222222222222,\"#7201a8\"],[0.3333333333333333,\"#9c179e\"],[0.4444444444444444,\"#bd3786\"],[0.5555555555555556,\"#d8576b\"],[0.6666666666666666,\"#ed7953\"],[0.7777777777777778,\"#fb9f3a\"],[0.8888888888888888,\"#fdca26\"],[1.0,\"#f0f921\"]]}],\"contourcarpet\":[{\"type\":\"contourcarpet\",\"colorbar\":{\"outlinewidth\":0,\"ticks\":\"\"}}],\"contour\":[{\"type\":\"contour\",\"colorbar\":{\"outlinewidth\":0,\"ticks\":\"\"},\"colorscale\":[[0.0,\"#0d0887\"],[0.1111111111111111,\"#46039f\"],[0.2222222222222222,\"#7201a8\"],[0.3333333333333333,\"#9c179e\"],[0.4444444444444444,\"#bd3786\"],[0.5555555555555556,\"#d8576b\"],[0.6666666666666666,\"#ed7953\"],[0.7777777777777778,\"#fb9f3a\"],[0.8888888888888888,\"#fdca26\"],[1.0,\"#f0f921\"]]}],\"surface\":[{\"type\":\"surface\",\"colorbar\":{\"outlinewidth\":0,\"ticks\":\"\"},\"colorscale\":[[0.0,\"#0d0887\"],[0.1111111111111111,\"#46039f\"],[0.2222222222222222,\"#7201a8\"],[0.3333333333333333,\"#9c179e\"],[0.4444444444444444,\"#bd3786\"],[0.5555555555555556,\"#d8576b\"],[0.6666666666666666,\"#ed7953\"],[0.7777777777777778,\"#fb9f3a\"],[0.8888888888888888,\"#fdca26\"],[1.0,\"#f0f921\"]]}],\"mesh3d\":[{\"type\":\"mesh3d\",\"colorbar\":{\"outlinewidth\":0,\"ticks\":\"\"}}],\"scatter\":[{\"marker\":{\"line\":{\"color\":\"#283442\"}},\"type\":\"scatter\"}],\"parcoords\":[{\"type\":\"parcoords\",\"line\":{\"colorbar\":{\"outlinewidth\":0,\"ticks\":\"\"}}}],\"scatterpolargl\":[{\"type\":\"scatterpolargl\",\"marker\":{\"colorbar\":{\"outlinewidth\":0,\"ticks\":\"\"}}}],\"bar\":[{\"error_x\":{\"color\":\"#f2f5fa\"},\"error_y\":{\"color\":\"#f2f5fa\"},\"marker\":{\"line\":{\"color\":\"rgb(17,17,17)\",\"width\":0.5},\"pattern\":{\"fillmode\":\"overlay\",\"size\":10,\"solidity\":0.2}},\"type\":\"bar\"}],\"scattergeo\":[{\"type\":\"scattergeo\",\"marker\":{\"colorbar\":{\"outlinewidth\":0,\"ticks\":\"\"}}}],\"scatterpolar\":[{\"type\":\"scatterpolar\",\"marker\":{\"colorbar\":{\"outlinewidth\":0,\"ticks\":\"\"}}}],\"histogram\":[{\"marker\":{\"pattern\":{\"fillmode\":\"overlay\",\"size\":10,\"solidity\":0.2}},\"type\":\"histogram\"}],\"scattergl\":[{\"marker\":{\"line\":{\"color\":\"#283442\"}},\"type\":\"scattergl\"}],\"scatter3d\":[{\"type\":\"scatter3d\",\"line\":{\"colorbar\":{\"outlinewidth\":0,\"ticks\":\"\"}},\"marker\":{\"colorbar\":{\"outlinewidth\":0,\"ticks\":\"\"}}}],\"scattermapbox\":[{\"type\":\"scattermapbox\",\"marker\":{\"colorbar\":{\"outlinewidth\":0,\"ticks\":\"\"}}}],\"scatterternary\":[{\"type\":\"scatterternary\",\"marker\":{\"colorbar\":{\"outlinewidth\":0,\"ticks\":\"\"}}}],\"scattercarpet\":[{\"type\":\"scattercarpet\",\"marker\":{\"colorbar\":{\"outlinewidth\":0,\"ticks\":\"\"}}}],\"carpet\":[{\"aaxis\":{\"endlinecolor\":\"#A2B1C6\",\"gridcolor\":\"#506784\",\"linecolor\":\"#506784\",\"minorgridcolor\":\"#506784\",\"startlinecolor\":\"#A2B1C6\"},\"baxis\":{\"endlinecolor\":\"#A2B1C6\",\"gridcolor\":\"#506784\",\"linecolor\":\"#506784\",\"minorgridcolor\":\"#506784\",\"startlinecolor\":\"#A2B1C6\"},\"type\":\"carpet\"}],\"table\":[{\"cells\":{\"fill\":{\"color\":\"#506784\"},\"line\":{\"color\":\"rgb(17,17,17)\"}},\"header\":{\"fill\":{\"color\":\"#2a3f5f\"},\"line\":{\"color\":\"rgb(17,17,17)\"}},\"type\":\"table\"}],\"barpolar\":[{\"marker\":{\"line\":{\"color\":\"rgb(17,17,17)\",\"width\":0.5},\"pattern\":{\"fillmode\":\"overlay\",\"size\":10,\"solidity\":0.2}},\"type\":\"barpolar\"}],\"pie\":[{\"automargin\":true,\"type\":\"pie\"}]},\"layout\":{\"autotypenumbers\":\"strict\",\"colorway\":[\"#636efa\",\"#EF553B\",\"#00cc96\",\"#ab63fa\",\"#FFA15A\",\"#19d3f3\",\"#FF6692\",\"#B6E880\",\"#FF97FF\",\"#FECB52\"],\"font\":{\"color\":\"#f2f5fa\"},\"hovermode\":\"closest\",\"hoverlabel\":{\"align\":\"left\"},\"paper_bgcolor\":\"rgb(17,17,17)\",\"plot_bgcolor\":\"rgb(17,17,17)\",\"polar\":{\"bgcolor\":\"rgb(17,17,17)\",\"angularaxis\":{\"gridcolor\":\"#506784\",\"linecolor\":\"#506784\",\"ticks\":\"\"},\"radialaxis\":{\"gridcolor\":\"#506784\",\"linecolor\":\"#506784\",\"ticks\":\"\"}},\"ternary\":{\"bgcolor\":\"rgb(17,17,17)\",\"aaxis\":{\"gridcolor\":\"#506784\",\"linecolor\":\"#506784\",\"ticks\":\"\"},\"baxis\":{\"gridcolor\":\"#506784\",\"linecolor\":\"#506784\",\"ticks\":\"\"},\"caxis\":{\"gridcolor\":\"#506784\",\"linecolor\":\"#506784\",\"ticks\":\"\"}},\"coloraxis\":{\"colorbar\":{\"outlinewidth\":0,\"ticks\":\"\"}},\"colorscale\":{\"sequential\":[[0.0,\"#0d0887\"],[0.1111111111111111,\"#46039f\"],[0.2222222222222222,\"#7201a8\"],[0.3333333333333333,\"#9c179e\"],[0.4444444444444444,\"#bd3786\"],[0.5555555555555556,\"#d8576b\"],[0.6666666666666666,\"#ed7953\"],[0.7777777777777778,\"#fb9f3a\"],[0.8888888888888888,\"#fdca26\"],[1.0,\"#f0f921\"]],\"sequentialminus\":[[0.0,\"#0d0887\"],[0.1111111111111111,\"#46039f\"],[0.2222222222222222,\"#7201a8\"],[0.3333333333333333,\"#9c179e\"],[0.4444444444444444,\"#bd3786\"],[0.5555555555555556,\"#d8576b\"],[0.6666666666666666,\"#ed7953\"],[0.7777777777777778,\"#fb9f3a\"],[0.8888888888888888,\"#fdca26\"],[1.0,\"#f0f921\"]],\"diverging\":[[0,\"#8e0152\"],[0.1,\"#c51b7d\"],[0.2,\"#de77ae\"],[0.3,\"#f1b6da\"],[0.4,\"#fde0ef\"],[0.5,\"#f7f7f7\"],[0.6,\"#e6f5d0\"],[0.7,\"#b8e186\"],[0.8,\"#7fbc41\"],[0.9,\"#4d9221\"],[1,\"#276419\"]]},\"xaxis\":{\"gridcolor\":\"#283442\",\"linecolor\":\"#506784\",\"ticks\":\"\",\"title\":{\"standoff\":15},\"zerolinecolor\":\"#283442\",\"automargin\":true,\"zerolinewidth\":2},\"yaxis\":{\"gridcolor\":\"#283442\",\"linecolor\":\"#506784\",\"ticks\":\"\",\"title\":{\"standoff\":15},\"zerolinecolor\":\"#283442\",\"automargin\":true,\"zerolinewidth\":2},\"scene\":{\"xaxis\":{\"backgroundcolor\":\"rgb(17,17,17)\",\"gridcolor\":\"#506784\",\"linecolor\":\"#506784\",\"showbackground\":true,\"ticks\":\"\",\"zerolinecolor\":\"#C8D4E3\",\"gridwidth\":2},\"yaxis\":{\"backgroundcolor\":\"rgb(17,17,17)\",\"gridcolor\":\"#506784\",\"linecolor\":\"#506784\",\"showbackground\":true,\"ticks\":\"\",\"zerolinecolor\":\"#C8D4E3\",\"gridwidth\":2},\"zaxis\":{\"backgroundcolor\":\"rgb(17,17,17)\",\"gridcolor\":\"#506784\",\"linecolor\":\"#506784\",\"showbackground\":true,\"ticks\":\"\",\"zerolinecolor\":\"#C8D4E3\",\"gridwidth\":2}},\"shapedefaults\":{\"line\":{\"color\":\"#f2f5fa\"}},\"annotationdefaults\":{\"arrowcolor\":\"#f2f5fa\",\"arrowhead\":0,\"arrowwidth\":1},\"geo\":{\"bgcolor\":\"rgb(17,17,17)\",\"landcolor\":\"rgb(17,17,17)\",\"subunitcolor\":\"#506784\",\"showland\":true,\"showlakes\":true,\"lakecolor\":\"rgb(17,17,17)\"},\"title\":{\"x\":0.05},\"updatemenudefaults\":{\"bgcolor\":\"#506784\",\"borderwidth\":0},\"sliderdefaults\":{\"bgcolor\":\"#C8D4E3\",\"borderwidth\":1,\"bordercolor\":\"rgb(17,17,17)\",\"tickwidth\":0},\"mapbox\":{\"style\":\"dark\"}}},\"xaxis\":{\"anchor\":\"y\",\"domain\":[0.0,1.0],\"title\":{\"text\":\"InvoiceDate\"}},\"yaxis\":{\"anchor\":\"x\",\"domain\":[0.0,1.0],\"title\":{\"text\":\"OrderValue\"}},\"legend\":{\"title\":{\"text\":\"Country\"},\"tracegroupgap\":0},\"title\":{\"text\":\"Tops sales by country over time\"}},                        {\"responsive\": true}                    ).then(function(){\n",
              "                            \n",
              "var gd = document.getElementById('7a98876d-4ffa-4b18-833b-673894c87f09');\n",
              "var x = new MutationObserver(function (mutations, observer) {{\n",
              "        var display = window.getComputedStyle(gd).display;\n",
              "        if (!display || display === 'none') {{\n",
              "            console.log([gd, 'removed!']);\n",
              "            Plotly.purge(gd);\n",
              "            observer.disconnect();\n",
              "        }}\n",
              "}});\n",
              "\n",
              "// Listen for the removal of the full notebook cells\n",
              "var notebookContainer = gd.closest('#notebook-container');\n",
              "if (notebookContainer) {{\n",
              "    x.observe(notebookContainer, {childList: true});\n",
              "}}\n",
              "\n",
              "// Listen for the clearing of the current output cell\n",
              "var outputEl = gd.closest('.output');\n",
              "if (outputEl) {{\n",
              "    x.observe(outputEl, {childList: true});\n",
              "}}\n",
              "\n",
              "                        })                };                });            </script>        </div>"
            ]
          },
          "metadata": {},
          "output_type": "display_data"
        }
      ],
      "source": [
        "tops_df = df[df[\"Minor Category\"] == \"Tops\"]\n",
        "date_tops_by_country = tops_df.groupby([\"InvoiceDate\", \"Country\"]).agg({\n",
        "    \"OrderValue\" : \"mean\"\n",
        "}).reset_index()\n",
        "fig = px.line(data_frame=date_tops_by_country, x = \"InvoiceDate\", y = \"OrderValue\", color= \"Country\", title=\"Tops sales by country over time\")\n",
        "fig.show()"
      ]
    },
    {
      "cell_type": "code",
      "execution_count": null,
      "metadata": {
        "id": "L4s5YbUN_fy5",
        "outputId": "1fd8b028-c810-4dc2-ef89-6892b2832008"
      },
      "outputs": [
        {
          "data": {
            "application/vnd.plotly.v1+json": {
              "config": {
                "plotlyServerURL": "https://plot.ly"
              },
              "data": [
                {
                  "alignmentgroup": "True",
                  "hovertemplate": "Country=United Kingdom<br>Major Category=%{x}<br>UnitPrice=%{y}<extra></extra>",
                  "legendgroup": "United Kingdom",
                  "marker": {
                    "color": "#636efa"
                  },
                  "name": "United Kingdom",
                  "notched": false,
                  "offsetgroup": "United Kingdom",
                  "orientation": "v",
                  "showlegend": true,
                  "type": "box",
                  "x": [
                    "Clothes",
                    "Clothes",
                    "Kitchen",
                    "Garden",
                    "Garden",
                    "Garden",
                    "Clothes",
                    "Clothes",
                    "Household",
                    "Household",
                    "Kitchen",
                    "Household",
                    "Household",
                    "Household",
                    "Clothes",
                    "Kitchen",
                    "Clothes",
                    "Kitchen",
                    "Household",
                    "Clothes",
                    "Household",
                    "Clothes",
                    "Clothes",
                    "Household",
                    "Household",
                    "Kitchen",
                    "Clothes",
                    "Kitchen",
                    "Clothes",
                    "Kitchen",
                    "Household",
                    "Kitchen",
                    "Clothes",
                    "Garden",
                    "Household",
                    "Clothes",
                    "Kitchen",
                    "Garden",
                    "Garden",
                    "Kitchen",
                    "Garden",
                    "Clothes",
                    "Garden",
                    "Household",
                    "Household",
                    "Kitchen",
                    "Kitchen",
                    "Household",
                    "Household",
                    "Garden",
                    "Household",
                    "Kitchen",
                    "Kitchen",
                    "Garden",
                    "Garden",
                    "Clothes",
                    "Kitchen",
                    "Kitchen",
                    "Kitchen",
                    "Kitchen",
                    "Garden",
                    "Household",
                    "Clothes",
                    "Household",
                    "Kitchen",
                    "Kitchen",
                    "Household",
                    "Household",
                    "Household",
                    "Household",
                    "Clothes",
                    "Kitchen",
                    "Clothes",
                    "Household",
                    "Clothes",
                    "Garden",
                    "Kitchen",
                    "Garden",
                    "Clothes",
                    "Household",
                    "Clothes",
                    "Clothes",
                    "Household",
                    "Household",
                    "Kitchen",
                    "Household",
                    "Kitchen",
                    "Clothes",
                    "Household",
                    "Garden",
                    "Garden",
                    "Garden",
                    "Clothes",
                    "Clothes",
                    "Garden",
                    "Garden",
                    "Garden",
                    "Garden",
                    "Household",
                    "Clothes",
                    "Household",
                    "Clothes",
                    "Garden",
                    "Household",
                    "Garden",
                    "Clothes",
                    "Kitchen",
                    "Garden",
                    "Garden",
                    "Garden",
                    "Clothes",
                    "Clothes",
                    "Kitchen",
                    "Kitchen",
                    "Garden",
                    "Garden",
                    "Clothes",
                    "Garden",
                    "Kitchen",
                    "Kitchen",
                    "Clothes",
                    "Clothes",
                    "Kitchen",
                    "Household",
                    "Clothes",
                    "Garden",
                    "Kitchen",
                    "Household",
                    "Clothes",
                    "Clothes",
                    "Clothes",
                    "Garden",
                    "Kitchen",
                    "Clothes",
                    "Kitchen",
                    "Clothes",
                    "Garden",
                    "Household",
                    "Clothes",
                    "Garden",
                    "Household",
                    "Household",
                    "Household",
                    "Household",
                    "Kitchen",
                    "Household",
                    "Household",
                    "Clothes",
                    "Household",
                    "Clothes",
                    "Kitchen",
                    "Household",
                    "Household",
                    "Garden",
                    "Kitchen",
                    "Household",
                    "Clothes",
                    "Garden",
                    "Clothes",
                    "Household",
                    "Kitchen",
                    "Garden",
                    "Household",
                    "Kitchen",
                    "Household",
                    "Household",
                    "Clothes",
                    "Clothes",
                    "Garden",
                    "Kitchen",
                    "Clothes",
                    "Clothes",
                    "Garden",
                    "Kitchen",
                    "Garden",
                    "Kitchen",
                    "Kitchen",
                    "Garden",
                    "Kitchen",
                    "Clothes",
                    "Kitchen",
                    "Garden",
                    "Household",
                    "Household",
                    "Household",
                    "Garden",
                    "Clothes",
                    "Kitchen",
                    "Clothes",
                    "Kitchen",
                    "Clothes",
                    "Garden",
                    "Household",
                    "Household",
                    "Kitchen",
                    "Clothes",
                    "Garden",
                    "Garden",
                    "Clothes",
                    "Household",
                    "Kitchen",
                    "Household",
                    "Clothes",
                    "Kitchen",
                    "Garden",
                    "Clothes",
                    "Garden",
                    "Clothes",
                    "Household",
                    "Household",
                    "Garden",
                    "Garden",
                    "Garden",
                    "Household",
                    "Household",
                    "Kitchen",
                    "Household",
                    "Kitchen",
                    "Garden",
                    "Kitchen",
                    "Household",
                    "Clothes",
                    "Clothes",
                    "Garden",
                    "Clothes",
                    "Kitchen",
                    "Garden",
                    "Household",
                    "Household",
                    "Kitchen",
                    "Clothes",
                    "Garden",
                    "Garden",
                    "Kitchen",
                    "Kitchen",
                    "Garden",
                    "Clothes",
                    "Clothes",
                    "Household",
                    "Kitchen",
                    "Garden",
                    "Garden",
                    "Kitchen",
                    "Garden",
                    "Clothes",
                    "Kitchen",
                    "Garden",
                    "Kitchen",
                    "Kitchen",
                    "Clothes",
                    "Kitchen",
                    "Household",
                    "Household",
                    "Kitchen",
                    "Clothes",
                    "Garden",
                    "Kitchen",
                    "Household",
                    "Clothes",
                    "Kitchen",
                    "Kitchen",
                    "Clothes",
                    "Clothes",
                    "Garden",
                    "Clothes",
                    "Clothes",
                    "Household",
                    "Kitchen",
                    "Garden",
                    "Garden",
                    "Kitchen",
                    "Kitchen",
                    "Kitchen",
                    "Household",
                    "Household",
                    "Kitchen",
                    "Garden",
                    "Household",
                    "Household",
                    "Garden",
                    "Clothes",
                    "Clothes",
                    "Kitchen",
                    "Garden",
                    "Clothes",
                    "Garden",
                    "Household",
                    "Garden"
                  ],
                  "x0": " ",
                  "xaxis": "x",
                  "y": [
                    0.85,
                    2.95,
                    1.25,
                    7.46,
                    2.51,
                    3.95,
                    2.1,
                    4.95,
                    2.46,
                    1.69,
                    0.39,
                    0.55,
                    12.75,
                    1.25,
                    1.65,
                    1.65,
                    4.25,
                    2.1,
                    4.25,
                    1.28,
                    2.95,
                    1.45,
                    3.29,
                    2.46,
                    4.95,
                    1.25,
                    2.55,
                    0.83,
                    7.95,
                    2.1,
                    0.21,
                    2.95,
                    1.65,
                    3.29,
                    1.63,
                    1.25,
                    2.95,
                    7.95,
                    1.65,
                    4.25,
                    0.29,
                    7.95,
                    8.29,
                    1.25,
                    2.08,
                    0.83,
                    1.65,
                    1.45,
                    2.95,
                    0.55,
                    2.95,
                    5.91,
                    4.13,
                    7.46,
                    3.95,
                    2.95,
                    1.95,
                    2.1,
                    5.79,
                    2.08,
                    3.75,
                    1.65,
                    0.85,
                    4.95,
                    2.25,
                    0.83,
                    0.85,
                    14.96,
                    8.5,
                    2.95,
                    8.29,
                    1.65,
                    2.08,
                    1.45,
                    4.25,
                    5.79,
                    2.08,
                    5.79,
                    1.63,
                    2.08,
                    4.25,
                    0.85,
                    0.42,
                    1.65,
                    3.36,
                    2.55,
                    2.89,
                    1.25,
                    10.79,
                    2.46,
                    3.29,
                    4.13,
                    1.65,
                    0.75,
                    1.95,
                    7.95,
                    1.25,
                    2.46,
                    0.62,
                    4.95,
                    2.46,
                    4.95,
                    3.75,
                    2.1,
                    7.46,
                    7.95,
                    0.29,
                    1.65,
                    0.65,
                    0.42,
                    1.95,
                    1.25,
                    2.08,
                    3.25,
                    0.83,
                    1.63,
                    4.95,
                    1.25,
                    0.79,
                    1.25,
                    3.29,
                    10.79,
                    3.75,
                    1.25,
                    1.25,
                    1.45,
                    2.46,
                    4.95,
                    4.13,
                    2.08,
                    2.46,
                    0.55,
                    1.45,
                    2.95,
                    25.49,
                    0.85,
                    1.65,
                    0.42,
                    2.95,
                    4.25,
                    2.08,
                    1.25,
                    0.39,
                    4.13,
                    4.95,
                    2.95,
                    0.83,
                    1.25,
                    0.79,
                    19.95,
                    1.65,
                    0.83,
                    2.49,
                    5.95,
                    4.95,
                    1.66,
                    7.46,
                    3.29,
                    0.42,
                    0.55,
                    4.95,
                    1.25,
                    1.65,
                    4.25,
                    1.63,
                    2.46,
                    1.45,
                    0.85,
                    12.46,
                    7.95,
                    4.13,
                    1.25,
                    1.45,
                    4.95,
                    0.85,
                    0.85,
                    2.55,
                    1.65,
                    4.95,
                    4.95,
                    3.75,
                    1.25,
                    0.79,
                    0.38,
                    1.65,
                    1.65,
                    0.55,
                    0.42,
                    2.08,
                    2.95,
                    1.63,
                    2.51,
                    2.08,
                    2.55,
                    9.95,
                    1.65,
                    8.29,
                    5.79,
                    1.45,
                    2.08,
                    3.75,
                    1.69,
                    1.25,
                    3.75,
                    0.42,
                    4.96,
                    4.24,
                    1.65,
                    2.1,
                    4.96,
                    3.75,
                    7.95,
                    0.85,
                    1.65,
                    1.25,
                    4.95,
                    0.85,
                    2.95,
                    6.63,
                    1.65,
                    0.42,
                    1.45,
                    1.25,
                    5.95,
                    1.66,
                    8.25,
                    2.95,
                    2.08,
                    4.96,
                    1.25,
                    1.66,
                    2.95,
                    3.75,
                    2.95,
                    0.29,
                    4.13,
                    5.75,
                    9.95,
                    0.29,
                    2.95,
                    5.79,
                    1.65,
                    4.25,
                    1.45,
                    2.55,
                    1.63,
                    4.13,
                    3.95,
                    3.29,
                    0.39,
                    0.29,
                    0.55,
                    0.83,
                    12.75,
                    2.1,
                    1.25,
                    1.25,
                    12.5,
                    5.06,
                    10.79,
                    2.1,
                    2.08,
                    0.19,
                    2.95,
                    2.25,
                    8.29,
                    4.96,
                    5.79,
                    2.51,
                    4.95,
                    1.25,
                    1.25,
                    1.65,
                    0.85,
                    0.42,
                    5.95,
                    4.95,
                    0.42,
                    4.15,
                    0.55,
                    0.85,
                    0.39,
                    4.95,
                    0.42,
                    1.25,
                    1.25,
                    2.95,
                    0.83
                  ],
                  "y0": " ",
                  "yaxis": "y"
                },
                {
                  "alignmentgroup": "True",
                  "hovertemplate": "Country=Germany<br>Major Category=%{x}<br>UnitPrice=%{y}<extra></extra>",
                  "legendgroup": "Germany",
                  "marker": {
                    "color": "#EF553B"
                  },
                  "name": "Germany",
                  "notched": false,
                  "offsetgroup": "Germany",
                  "orientation": "v",
                  "showlegend": true,
                  "type": "box",
                  "x": [
                    "Garden",
                    "Clothes",
                    "Kitchen",
                    "Household",
                    "Household",
                    "Household",
                    "Kitchen",
                    "Garden",
                    "Clothes",
                    "Household",
                    "Clothes",
                    "Kitchen",
                    "Garden",
                    "Garden",
                    "Garden",
                    "Kitchen",
                    "Garden",
                    "Kitchen",
                    "Garden",
                    "Household",
                    "Household",
                    "Household",
                    "Garden",
                    "Garden",
                    "Household",
                    "Clothes",
                    "Clothes",
                    "Household",
                    "Clothes",
                    "Garden",
                    "Household",
                    "Clothes",
                    "Clothes",
                    "Kitchen",
                    "Household",
                    "Kitchen",
                    "Garden",
                    "Clothes",
                    "Kitchen",
                    "Household",
                    "Garden",
                    "Clothes",
                    "Kitchen",
                    "Kitchen",
                    "Garden",
                    "Garden",
                    "Household",
                    "Household",
                    "Kitchen",
                    "Household",
                    "Clothes",
                    "Kitchen",
                    "Garden",
                    "Clothes",
                    "Kitchen",
                    "Garden",
                    "Household",
                    "Kitchen",
                    "Clothes",
                    "Garden",
                    "Garden",
                    "Clothes",
                    "Household",
                    "Kitchen",
                    "Clothes",
                    "Clothes",
                    "Garden",
                    "Household",
                    "Garden",
                    "Kitchen",
                    "Garden",
                    "Clothes",
                    "Clothes",
                    "Clothes",
                    "Clothes",
                    "Clothes",
                    "Garden",
                    "Garden",
                    "Garden",
                    "Kitchen",
                    "Garden",
                    "Clothes",
                    "Clothes",
                    "Clothes",
                    "Garden",
                    "Clothes",
                    "Clothes",
                    "Kitchen",
                    "Household",
                    "Garden",
                    "Kitchen",
                    "Kitchen",
                    "Clothes"
                  ],
                  "x0": " ",
                  "xaxis": "x",
                  "y": [
                    0.65,
                    2.1,
                    1.25,
                    0.85,
                    2.1,
                    8.5,
                    7.95,
                    4.95,
                    0.42,
                    0.39,
                    0.85,
                    0.85,
                    1.65,
                    1.65,
                    5.95,
                    7.95,
                    0.42,
                    0.85,
                    18,
                    2.95,
                    0.42,
                    2.08,
                    0.42,
                    1.25,
                    4.95,
                    5.45,
                    0.85,
                    1.65,
                    7.95,
                    2.08,
                    1.25,
                    2.08,
                    1.45,
                    1.95,
                    7.95,
                    4.15,
                    1.25,
                    4.95,
                    2.55,
                    2.95,
                    1.65,
                    2.08,
                    0.85,
                    0.85,
                    2.95,
                    3.75,
                    3.75,
                    1.95,
                    12.75,
                    0.39,
                    10.95,
                    0.29,
                    2.55,
                    1.45,
                    0.65,
                    2.95,
                    2.55,
                    3.75,
                    4.95,
                    2.95,
                    1.25,
                    0.55,
                    0.85,
                    14.95,
                    4.95,
                    3.25,
                    4.95,
                    2.08,
                    0.85,
                    18,
                    1.25,
                    9.95,
                    1.65,
                    1.65,
                    1.65,
                    4.25,
                    1.65,
                    0.85,
                    8.5,
                    1.25,
                    0.42,
                    4.95,
                    1.45,
                    2.08,
                    1.65,
                    10.95,
                    1,
                    18,
                    2.95,
                    2.95,
                    0.65,
                    0.42,
                    0.85
                  ],
                  "y0": " ",
                  "yaxis": "y"
                },
                {
                  "alignmentgroup": "True",
                  "hovertemplate": "Country=France<br>Major Category=%{x}<br>UnitPrice=%{y}<extra></extra>",
                  "legendgroup": "France",
                  "marker": {
                    "color": "#00cc96"
                  },
                  "name": "France",
                  "notched": false,
                  "offsetgroup": "France",
                  "orientation": "v",
                  "showlegend": true,
                  "type": "box",
                  "x": [
                    "Kitchen",
                    "Household",
                    "Household",
                    "Garden",
                    "Kitchen",
                    "Garden",
                    "Kitchen",
                    "Garden",
                    "Household",
                    "Kitchen",
                    "Kitchen",
                    "Garden",
                    "Kitchen",
                    "Garden",
                    "Garden",
                    "Garden",
                    "Household",
                    "Clothes",
                    "Clothes",
                    "Clothes",
                    "Household",
                    "Household",
                    "Garden",
                    "Garden",
                    "Clothes",
                    "Garden",
                    "Garden",
                    "Kitchen",
                    "Kitchen",
                    "Household",
                    "Household",
                    "Household",
                    "Household",
                    "Clothes",
                    "Garden",
                    "Clothes",
                    "Kitchen",
                    "Clothes",
                    "Kitchen",
                    "Kitchen",
                    "Garden",
                    "Household",
                    "Garden",
                    "Clothes",
                    "Kitchen",
                    "Kitchen",
                    "Garden",
                    "Garden",
                    "Kitchen",
                    "Household",
                    "Clothes",
                    "Kitchen",
                    "Household",
                    "Kitchen",
                    "Garden",
                    "Clothes",
                    "Household",
                    "Kitchen",
                    "Garden",
                    "Clothes",
                    "Kitchen",
                    "Garden",
                    "Clothes",
                    "Kitchen",
                    "Garden",
                    "Garden",
                    "Garden",
                    "Household",
                    "Clothes",
                    "Kitchen",
                    "Clothes",
                    "Kitchen",
                    "Kitchen",
                    "Garden",
                    "Garden",
                    "Clothes",
                    "Garden",
                    "Garden",
                    "Household",
                    "Kitchen",
                    "Garden",
                    "Household",
                    "Kitchen",
                    "Household",
                    "Clothes",
                    "Kitchen",
                    "Clothes",
                    "Garden",
                    "Clothes",
                    "Household",
                    "Garden",
                    "Clothes",
                    "Household",
                    "Clothes",
                    "Garden",
                    "Garden",
                    "Garden",
                    "Garden",
                    "Household",
                    "Garden",
                    "Kitchen",
                    "Garden",
                    "Garden",
                    "Garden",
                    "Garden",
                    "Kitchen",
                    "Clothes",
                    "Garden",
                    "Garden",
                    "Kitchen",
                    "Garden",
                    "Clothes",
                    "Kitchen",
                    "Kitchen",
                    "Kitchen",
                    "Household",
                    "Clothes",
                    "Kitchen",
                    "Kitchen",
                    "Kitchen",
                    "Kitchen",
                    "Garden",
                    "Garden",
                    "Clothes",
                    "Garden",
                    "Garden",
                    "Kitchen",
                    "Household",
                    "Garden",
                    "Clothes",
                    "Household",
                    "Kitchen",
                    "Household",
                    "Household",
                    "Clothes",
                    "Kitchen",
                    "Household",
                    "Garden",
                    "Garden",
                    "Clothes",
                    "Kitchen",
                    "Clothes",
                    "Garden",
                    "Kitchen",
                    "Household",
                    "Clothes",
                    "Household",
                    "Kitchen",
                    "Kitchen",
                    "Household",
                    "Kitchen",
                    "Kitchen",
                    "Garden",
                    "Garden",
                    "Clothes",
                    "Household",
                    "Garden",
                    "Household",
                    "Garden",
                    "Household",
                    "Clothes",
                    "Kitchen",
                    "Household",
                    "Garden",
                    "Household",
                    "Clothes",
                    "Household",
                    "Clothes",
                    "Household",
                    "Household",
                    "Clothes",
                    "Household",
                    "Garden",
                    "Garden",
                    "Clothes",
                    "Clothes",
                    "Clothes",
                    "Clothes",
                    "Kitchen",
                    "Clothes",
                    "Kitchen",
                    "Garden",
                    "Garden",
                    "Clothes"
                  ],
                  "x0": " ",
                  "xaxis": "x",
                  "y": [
                    0.55,
                    0.85,
                    1.25,
                    12.5,
                    0.42,
                    1.65,
                    0.42,
                    0.65,
                    2.55,
                    1.25,
                    5.95,
                    1.25,
                    2.95,
                    2.95,
                    0.39,
                    2.55,
                    2.95,
                    2.1,
                    1.65,
                    12.75,
                    1.25,
                    0.83,
                    3.75,
                    2.1,
                    1.25,
                    3.25,
                    3.25,
                    1.95,
                    1.25,
                    1.25,
                    18,
                    0.42,
                    0.85,
                    1.65,
                    4.95,
                    1.25,
                    4.95,
                    0.85,
                    1.25,
                    2.55,
                    0.85,
                    0.42,
                    1.95,
                    0.65,
                    1.25,
                    2.1,
                    1.95,
                    18,
                    1.25,
                    1.65,
                    2.95,
                    0.85,
                    1.95,
                    0.55,
                    1.65,
                    18,
                    1.45,
                    2.55,
                    0.42,
                    1.65,
                    4.95,
                    1.65,
                    0.85,
                    8.25,
                    3.75,
                    1.65,
                    1.65,
                    2.08,
                    1.65,
                    0.42,
                    10.95,
                    4.15,
                    0.65,
                    1.25,
                    0.42,
                    1.25,
                    4.95,
                    0.39,
                    0.85,
                    1.25,
                    0.42,
                    18,
                    0.85,
                    8.25,
                    2.25,
                    2.08,
                    0.83,
                    2.95,
                    1.25,
                    1.25,
                    0.85,
                    3.25,
                    2.08,
                    1.65,
                    1.65,
                    1.25,
                    0.65,
                    4.15,
                    2.95,
                    4.15,
                    4.95,
                    4.95,
                    0.42,
                    2.1,
                    4.15,
                    0.85,
                    0.85,
                    1.25,
                    4.95,
                    4.15,
                    2.1,
                    2.95,
                    1.25,
                    2.1,
                    0.85,
                    18,
                    0.42,
                    1.65,
                    18,
                    0.85,
                    4.15,
                    5.95,
                    1.25,
                    4.95,
                    0.82,
                    0.12,
                    8.5,
                    0.83,
                    0.42,
                    1.65,
                    8.95,
                    2.55,
                    1.65,
                    0.42,
                    1.25,
                    18,
                    1.25,
                    0.39,
                    2.1,
                    2.55,
                    1.25,
                    0.85,
                    2.55,
                    1.25,
                    1.65,
                    7.95,
                    2.08,
                    0.85,
                    1.25,
                    1.65,
                    2.08,
                    1.25,
                    18,
                    0.21,
                    1.65,
                    0.85,
                    6.75,
                    1.25,
                    2.08,
                    6.75,
                    3.75,
                    0.65,
                    4.15,
                    0.65,
                    4.15,
                    3.25,
                    18,
                    0.42,
                    0.42,
                    18,
                    0.42,
                    1.95,
                    1.95,
                    3.75,
                    1.65,
                    2.55,
                    1.65,
                    0.85,
                    2.95,
                    3.75,
                    2.95,
                    0.42,
                    0.39,
                    11.95
                  ],
                  "y0": " ",
                  "yaxis": "y"
                },
                {
                  "alignmentgroup": "True",
                  "hovertemplate": "Country=Australia<br>Major Category=%{x}<br>UnitPrice=%{y}<extra></extra>",
                  "legendgroup": "Australia",
                  "marker": {
                    "color": "#ab63fa"
                  },
                  "name": "Australia",
                  "notched": false,
                  "offsetgroup": "Australia",
                  "orientation": "v",
                  "showlegend": true,
                  "type": "box",
                  "x": [
                    "Household",
                    "Garden",
                    "Garden",
                    "Kitchen",
                    "Garden",
                    "Clothes",
                    "Household",
                    "Kitchen",
                    "Clothes",
                    "Household",
                    "Clothes",
                    "Kitchen",
                    "Household",
                    "Household",
                    "Garden",
                    "Garden",
                    "Kitchen",
                    "Kitchen",
                    "Clothes"
                  ],
                  "x0": " ",
                  "xaxis": "x",
                  "y": [
                    2.95,
                    1.65,
                    1.65,
                    6.75,
                    7.95,
                    4.95,
                    7.95,
                    1.65,
                    2.55,
                    6.75,
                    2.89,
                    3.25,
                    4.15,
                    2.08,
                    2.95,
                    2.08,
                    5.95,
                    1.65,
                    1.95
                  ],
                  "y0": " ",
                  "yaxis": "y"
                },
                {
                  "alignmentgroup": "True",
                  "hovertemplate": "Country=Hong Kong<br>Major Category=%{x}<br>UnitPrice=%{y}<extra></extra>",
                  "legendgroup": "Hong Kong",
                  "marker": {
                    "color": "#FFA15A"
                  },
                  "name": "Hong Kong",
                  "notched": false,
                  "offsetgroup": "Hong Kong",
                  "orientation": "v",
                  "showlegend": true,
                  "type": "box",
                  "x": [
                    "Clothes",
                    "Household",
                    "Household",
                    "Garden",
                    "Kitchen",
                    "Household",
                    "Household",
                    "Kitchen",
                    "Kitchen",
                    "Garden",
                    "Clothes",
                    "Clothes",
                    "Household",
                    "Clothes",
                    "Garden",
                    "Clothes",
                    "Garden",
                    "Clothes",
                    "Household",
                    "Household",
                    "Garden",
                    "Household",
                    "Garden",
                    "Kitchen",
                    "Garden",
                    "Clothes",
                    "Kitchen",
                    "Clothes",
                    "Clothes",
                    "Kitchen",
                    "Household",
                    "Garden",
                    "Household",
                    "Garden",
                    "Clothes",
                    "Clothes",
                    "Garden",
                    "Garden",
                    "Clothes",
                    "Garden",
                    "Garden",
                    "Clothes"
                  ],
                  "x0": " ",
                  "xaxis": "x",
                  "y": [
                    2.95,
                    2.95,
                    1.95,
                    5.95,
                    4.15,
                    3.75,
                    3.75,
                    4.95,
                    8.25,
                    3.75,
                    0.42,
                    4.95,
                    1.25,
                    2.1,
                    3.25,
                    0.55,
                    0.85,
                    10.95,
                    1.25,
                    2.1,
                    1.65,
                    1.25,
                    0.55,
                    0.85,
                    3.95,
                    1.95,
                    0.85,
                    0.85,
                    1.95,
                    1.65,
                    2.95,
                    15,
                    3.25,
                    2.55,
                    3.75,
                    4.95,
                    1.25,
                    8.25,
                    1.25,
                    0.55,
                    4.95,
                    1.25
                  ],
                  "y0": " ",
                  "yaxis": "y"
                }
              ],
              "layout": {
                "boxmode": "group",
                "legend": {
                  "title": {
                    "text": "Country"
                  },
                  "tracegroupgap": 0
                },
                "template": {
                  "data": {
                    "bar": [
                      {
                        "error_x": {
                          "color": "#f2f5fa"
                        },
                        "error_y": {
                          "color": "#f2f5fa"
                        },
                        "marker": {
                          "line": {
                            "color": "rgb(17,17,17)",
                            "width": 0.5
                          },
                          "pattern": {
                            "fillmode": "overlay",
                            "size": 10,
                            "solidity": 0.2
                          }
                        },
                        "type": "bar"
                      }
                    ],
                    "barpolar": [
                      {
                        "marker": {
                          "line": {
                            "color": "rgb(17,17,17)",
                            "width": 0.5
                          },
                          "pattern": {
                            "fillmode": "overlay",
                            "size": 10,
                            "solidity": 0.2
                          }
                        },
                        "type": "barpolar"
                      }
                    ],
                    "carpet": [
                      {
                        "aaxis": {
                          "endlinecolor": "#A2B1C6",
                          "gridcolor": "#506784",
                          "linecolor": "#506784",
                          "minorgridcolor": "#506784",
                          "startlinecolor": "#A2B1C6"
                        },
                        "baxis": {
                          "endlinecolor": "#A2B1C6",
                          "gridcolor": "#506784",
                          "linecolor": "#506784",
                          "minorgridcolor": "#506784",
                          "startlinecolor": "#A2B1C6"
                        },
                        "type": "carpet"
                      }
                    ],
                    "choropleth": [
                      {
                        "colorbar": {
                          "outlinewidth": 0,
                          "ticks": ""
                        },
                        "type": "choropleth"
                      }
                    ],
                    "contour": [
                      {
                        "colorbar": {
                          "outlinewidth": 0,
                          "ticks": ""
                        },
                        "colorscale": [
                          [
                            0,
                            "#0d0887"
                          ],
                          [
                            0.1111111111111111,
                            "#46039f"
                          ],
                          [
                            0.2222222222222222,
                            "#7201a8"
                          ],
                          [
                            0.3333333333333333,
                            "#9c179e"
                          ],
                          [
                            0.4444444444444444,
                            "#bd3786"
                          ],
                          [
                            0.5555555555555556,
                            "#d8576b"
                          ],
                          [
                            0.6666666666666666,
                            "#ed7953"
                          ],
                          [
                            0.7777777777777778,
                            "#fb9f3a"
                          ],
                          [
                            0.8888888888888888,
                            "#fdca26"
                          ],
                          [
                            1,
                            "#f0f921"
                          ]
                        ],
                        "type": "contour"
                      }
                    ],
                    "contourcarpet": [
                      {
                        "colorbar": {
                          "outlinewidth": 0,
                          "ticks": ""
                        },
                        "type": "contourcarpet"
                      }
                    ],
                    "heatmap": [
                      {
                        "colorbar": {
                          "outlinewidth": 0,
                          "ticks": ""
                        },
                        "colorscale": [
                          [
                            0,
                            "#0d0887"
                          ],
                          [
                            0.1111111111111111,
                            "#46039f"
                          ],
                          [
                            0.2222222222222222,
                            "#7201a8"
                          ],
                          [
                            0.3333333333333333,
                            "#9c179e"
                          ],
                          [
                            0.4444444444444444,
                            "#bd3786"
                          ],
                          [
                            0.5555555555555556,
                            "#d8576b"
                          ],
                          [
                            0.6666666666666666,
                            "#ed7953"
                          ],
                          [
                            0.7777777777777778,
                            "#fb9f3a"
                          ],
                          [
                            0.8888888888888888,
                            "#fdca26"
                          ],
                          [
                            1,
                            "#f0f921"
                          ]
                        ],
                        "type": "heatmap"
                      }
                    ],
                    "heatmapgl": [
                      {
                        "colorbar": {
                          "outlinewidth": 0,
                          "ticks": ""
                        },
                        "colorscale": [
                          [
                            0,
                            "#0d0887"
                          ],
                          [
                            0.1111111111111111,
                            "#46039f"
                          ],
                          [
                            0.2222222222222222,
                            "#7201a8"
                          ],
                          [
                            0.3333333333333333,
                            "#9c179e"
                          ],
                          [
                            0.4444444444444444,
                            "#bd3786"
                          ],
                          [
                            0.5555555555555556,
                            "#d8576b"
                          ],
                          [
                            0.6666666666666666,
                            "#ed7953"
                          ],
                          [
                            0.7777777777777778,
                            "#fb9f3a"
                          ],
                          [
                            0.8888888888888888,
                            "#fdca26"
                          ],
                          [
                            1,
                            "#f0f921"
                          ]
                        ],
                        "type": "heatmapgl"
                      }
                    ],
                    "histogram": [
                      {
                        "marker": {
                          "pattern": {
                            "fillmode": "overlay",
                            "size": 10,
                            "solidity": 0.2
                          }
                        },
                        "type": "histogram"
                      }
                    ],
                    "histogram2d": [
                      {
                        "colorbar": {
                          "outlinewidth": 0,
                          "ticks": ""
                        },
                        "colorscale": [
                          [
                            0,
                            "#0d0887"
                          ],
                          [
                            0.1111111111111111,
                            "#46039f"
                          ],
                          [
                            0.2222222222222222,
                            "#7201a8"
                          ],
                          [
                            0.3333333333333333,
                            "#9c179e"
                          ],
                          [
                            0.4444444444444444,
                            "#bd3786"
                          ],
                          [
                            0.5555555555555556,
                            "#d8576b"
                          ],
                          [
                            0.6666666666666666,
                            "#ed7953"
                          ],
                          [
                            0.7777777777777778,
                            "#fb9f3a"
                          ],
                          [
                            0.8888888888888888,
                            "#fdca26"
                          ],
                          [
                            1,
                            "#f0f921"
                          ]
                        ],
                        "type": "histogram2d"
                      }
                    ],
                    "histogram2dcontour": [
                      {
                        "colorbar": {
                          "outlinewidth": 0,
                          "ticks": ""
                        },
                        "colorscale": [
                          [
                            0,
                            "#0d0887"
                          ],
                          [
                            0.1111111111111111,
                            "#46039f"
                          ],
                          [
                            0.2222222222222222,
                            "#7201a8"
                          ],
                          [
                            0.3333333333333333,
                            "#9c179e"
                          ],
                          [
                            0.4444444444444444,
                            "#bd3786"
                          ],
                          [
                            0.5555555555555556,
                            "#d8576b"
                          ],
                          [
                            0.6666666666666666,
                            "#ed7953"
                          ],
                          [
                            0.7777777777777778,
                            "#fb9f3a"
                          ],
                          [
                            0.8888888888888888,
                            "#fdca26"
                          ],
                          [
                            1,
                            "#f0f921"
                          ]
                        ],
                        "type": "histogram2dcontour"
                      }
                    ],
                    "mesh3d": [
                      {
                        "colorbar": {
                          "outlinewidth": 0,
                          "ticks": ""
                        },
                        "type": "mesh3d"
                      }
                    ],
                    "parcoords": [
                      {
                        "line": {
                          "colorbar": {
                            "outlinewidth": 0,
                            "ticks": ""
                          }
                        },
                        "type": "parcoords"
                      }
                    ],
                    "pie": [
                      {
                        "automargin": true,
                        "type": "pie"
                      }
                    ],
                    "scatter": [
                      {
                        "marker": {
                          "line": {
                            "color": "#283442"
                          }
                        },
                        "type": "scatter"
                      }
                    ],
                    "scatter3d": [
                      {
                        "line": {
                          "colorbar": {
                            "outlinewidth": 0,
                            "ticks": ""
                          }
                        },
                        "marker": {
                          "colorbar": {
                            "outlinewidth": 0,
                            "ticks": ""
                          }
                        },
                        "type": "scatter3d"
                      }
                    ],
                    "scattercarpet": [
                      {
                        "marker": {
                          "colorbar": {
                            "outlinewidth": 0,
                            "ticks": ""
                          }
                        },
                        "type": "scattercarpet"
                      }
                    ],
                    "scattergeo": [
                      {
                        "marker": {
                          "colorbar": {
                            "outlinewidth": 0,
                            "ticks": ""
                          }
                        },
                        "type": "scattergeo"
                      }
                    ],
                    "scattergl": [
                      {
                        "marker": {
                          "line": {
                            "color": "#283442"
                          }
                        },
                        "type": "scattergl"
                      }
                    ],
                    "scattermapbox": [
                      {
                        "marker": {
                          "colorbar": {
                            "outlinewidth": 0,
                            "ticks": ""
                          }
                        },
                        "type": "scattermapbox"
                      }
                    ],
                    "scatterpolar": [
                      {
                        "marker": {
                          "colorbar": {
                            "outlinewidth": 0,
                            "ticks": ""
                          }
                        },
                        "type": "scatterpolar"
                      }
                    ],
                    "scatterpolargl": [
                      {
                        "marker": {
                          "colorbar": {
                            "outlinewidth": 0,
                            "ticks": ""
                          }
                        },
                        "type": "scatterpolargl"
                      }
                    ],
                    "scatterternary": [
                      {
                        "marker": {
                          "colorbar": {
                            "outlinewidth": 0,
                            "ticks": ""
                          }
                        },
                        "type": "scatterternary"
                      }
                    ],
                    "surface": [
                      {
                        "colorbar": {
                          "outlinewidth": 0,
                          "ticks": ""
                        },
                        "colorscale": [
                          [
                            0,
                            "#0d0887"
                          ],
                          [
                            0.1111111111111111,
                            "#46039f"
                          ],
                          [
                            0.2222222222222222,
                            "#7201a8"
                          ],
                          [
                            0.3333333333333333,
                            "#9c179e"
                          ],
                          [
                            0.4444444444444444,
                            "#bd3786"
                          ],
                          [
                            0.5555555555555556,
                            "#d8576b"
                          ],
                          [
                            0.6666666666666666,
                            "#ed7953"
                          ],
                          [
                            0.7777777777777778,
                            "#fb9f3a"
                          ],
                          [
                            0.8888888888888888,
                            "#fdca26"
                          ],
                          [
                            1,
                            "#f0f921"
                          ]
                        ],
                        "type": "surface"
                      }
                    ],
                    "table": [
                      {
                        "cells": {
                          "fill": {
                            "color": "#506784"
                          },
                          "line": {
                            "color": "rgb(17,17,17)"
                          }
                        },
                        "header": {
                          "fill": {
                            "color": "#2a3f5f"
                          },
                          "line": {
                            "color": "rgb(17,17,17)"
                          }
                        },
                        "type": "table"
                      }
                    ]
                  },
                  "layout": {
                    "annotationdefaults": {
                      "arrowcolor": "#f2f5fa",
                      "arrowhead": 0,
                      "arrowwidth": 1
                    },
                    "autotypenumbers": "strict",
                    "coloraxis": {
                      "colorbar": {
                        "outlinewidth": 0,
                        "ticks": ""
                      }
                    },
                    "colorscale": {
                      "diverging": [
                        [
                          0,
                          "#8e0152"
                        ],
                        [
                          0.1,
                          "#c51b7d"
                        ],
                        [
                          0.2,
                          "#de77ae"
                        ],
                        [
                          0.3,
                          "#f1b6da"
                        ],
                        [
                          0.4,
                          "#fde0ef"
                        ],
                        [
                          0.5,
                          "#f7f7f7"
                        ],
                        [
                          0.6,
                          "#e6f5d0"
                        ],
                        [
                          0.7,
                          "#b8e186"
                        ],
                        [
                          0.8,
                          "#7fbc41"
                        ],
                        [
                          0.9,
                          "#4d9221"
                        ],
                        [
                          1,
                          "#276419"
                        ]
                      ],
                      "sequential": [
                        [
                          0,
                          "#0d0887"
                        ],
                        [
                          0.1111111111111111,
                          "#46039f"
                        ],
                        [
                          0.2222222222222222,
                          "#7201a8"
                        ],
                        [
                          0.3333333333333333,
                          "#9c179e"
                        ],
                        [
                          0.4444444444444444,
                          "#bd3786"
                        ],
                        [
                          0.5555555555555556,
                          "#d8576b"
                        ],
                        [
                          0.6666666666666666,
                          "#ed7953"
                        ],
                        [
                          0.7777777777777778,
                          "#fb9f3a"
                        ],
                        [
                          0.8888888888888888,
                          "#fdca26"
                        ],
                        [
                          1,
                          "#f0f921"
                        ]
                      ],
                      "sequentialminus": [
                        [
                          0,
                          "#0d0887"
                        ],
                        [
                          0.1111111111111111,
                          "#46039f"
                        ],
                        [
                          0.2222222222222222,
                          "#7201a8"
                        ],
                        [
                          0.3333333333333333,
                          "#9c179e"
                        ],
                        [
                          0.4444444444444444,
                          "#bd3786"
                        ],
                        [
                          0.5555555555555556,
                          "#d8576b"
                        ],
                        [
                          0.6666666666666666,
                          "#ed7953"
                        ],
                        [
                          0.7777777777777778,
                          "#fb9f3a"
                        ],
                        [
                          0.8888888888888888,
                          "#fdca26"
                        ],
                        [
                          1,
                          "#f0f921"
                        ]
                      ]
                    },
                    "colorway": [
                      "#636efa",
                      "#EF553B",
                      "#00cc96",
                      "#ab63fa",
                      "#FFA15A",
                      "#19d3f3",
                      "#FF6692",
                      "#B6E880",
                      "#FF97FF",
                      "#FECB52"
                    ],
                    "font": {
                      "color": "#f2f5fa"
                    },
                    "geo": {
                      "bgcolor": "rgb(17,17,17)",
                      "lakecolor": "rgb(17,17,17)",
                      "landcolor": "rgb(17,17,17)",
                      "showlakes": true,
                      "showland": true,
                      "subunitcolor": "#506784"
                    },
                    "hoverlabel": {
                      "align": "left"
                    },
                    "hovermode": "closest",
                    "mapbox": {
                      "style": "dark"
                    },
                    "paper_bgcolor": "rgb(17,17,17)",
                    "plot_bgcolor": "rgb(17,17,17)",
                    "polar": {
                      "angularaxis": {
                        "gridcolor": "#506784",
                        "linecolor": "#506784",
                        "ticks": ""
                      },
                      "bgcolor": "rgb(17,17,17)",
                      "radialaxis": {
                        "gridcolor": "#506784",
                        "linecolor": "#506784",
                        "ticks": ""
                      }
                    },
                    "scene": {
                      "xaxis": {
                        "backgroundcolor": "rgb(17,17,17)",
                        "gridcolor": "#506784",
                        "gridwidth": 2,
                        "linecolor": "#506784",
                        "showbackground": true,
                        "ticks": "",
                        "zerolinecolor": "#C8D4E3"
                      },
                      "yaxis": {
                        "backgroundcolor": "rgb(17,17,17)",
                        "gridcolor": "#506784",
                        "gridwidth": 2,
                        "linecolor": "#506784",
                        "showbackground": true,
                        "ticks": "",
                        "zerolinecolor": "#C8D4E3"
                      },
                      "zaxis": {
                        "backgroundcolor": "rgb(17,17,17)",
                        "gridcolor": "#506784",
                        "gridwidth": 2,
                        "linecolor": "#506784",
                        "showbackground": true,
                        "ticks": "",
                        "zerolinecolor": "#C8D4E3"
                      }
                    },
                    "shapedefaults": {
                      "line": {
                        "color": "#f2f5fa"
                      }
                    },
                    "sliderdefaults": {
                      "bgcolor": "#C8D4E3",
                      "bordercolor": "rgb(17,17,17)",
                      "borderwidth": 1,
                      "tickwidth": 0
                    },
                    "ternary": {
                      "aaxis": {
                        "gridcolor": "#506784",
                        "linecolor": "#506784",
                        "ticks": ""
                      },
                      "baxis": {
                        "gridcolor": "#506784",
                        "linecolor": "#506784",
                        "ticks": ""
                      },
                      "bgcolor": "rgb(17,17,17)",
                      "caxis": {
                        "gridcolor": "#506784",
                        "linecolor": "#506784",
                        "ticks": ""
                      }
                    },
                    "title": {
                      "x": 0.05
                    },
                    "updatemenudefaults": {
                      "bgcolor": "#506784",
                      "borderwidth": 0
                    },
                    "xaxis": {
                      "automargin": true,
                      "gridcolor": "#283442",
                      "linecolor": "#506784",
                      "ticks": "",
                      "title": {
                        "standoff": 15
                      },
                      "zerolinecolor": "#283442",
                      "zerolinewidth": 2
                    },
                    "yaxis": {
                      "automargin": true,
                      "gridcolor": "#283442",
                      "linecolor": "#506784",
                      "ticks": "",
                      "title": {
                        "standoff": 15
                      },
                      "zerolinecolor": "#283442",
                      "zerolinewidth": 2
                    }
                  }
                },
                "title": {
                  "text": "Category prices per country"
                },
                "xaxis": {
                  "anchor": "y",
                  "domain": [
                    0,
                    1
                  ],
                  "title": {
                    "text": "Major Category"
                  }
                },
                "yaxis": {
                  "anchor": "x",
                  "domain": [
                    0,
                    1
                  ],
                  "title": {
                    "text": "UnitPrice"
                  }
                }
              }
            },
            "text/html": [
              "<div>                            <div id=\"45b54527-93b5-4cca-bbdc-a4c78b03b3c7\" class=\"plotly-graph-div\" style=\"height:525px; width:100%;\"></div>            <script type=\"text/javascript\">                require([\"plotly\"], function(Plotly) {                    window.PLOTLYENV=window.PLOTLYENV || {};                                    if (document.getElementById(\"45b54527-93b5-4cca-bbdc-a4c78b03b3c7\")) {                    Plotly.newPlot(                        \"45b54527-93b5-4cca-bbdc-a4c78b03b3c7\",                        [{\"alignmentgroup\":\"True\",\"hovertemplate\":\"Country=United Kingdom<br>Major Category=%{x}<br>UnitPrice=%{y}<extra></extra>\",\"legendgroup\":\"United Kingdom\",\"marker\":{\"color\":\"#636efa\"},\"name\":\"United Kingdom\",\"notched\":false,\"offsetgroup\":\"United Kingdom\",\"orientation\":\"v\",\"showlegend\":true,\"x\":[\"Clothes\",\"Clothes\",\"Kitchen\",\"Garden\",\"Garden\",\"Garden\",\"Clothes\",\"Clothes\",\"Household\",\"Household\",\"Kitchen\",\"Household\",\"Household\",\"Household\",\"Clothes\",\"Kitchen\",\"Clothes\",\"Kitchen\",\"Household\",\"Clothes\",\"Household\",\"Clothes\",\"Clothes\",\"Household\",\"Household\",\"Kitchen\",\"Clothes\",\"Kitchen\",\"Clothes\",\"Kitchen\",\"Household\",\"Kitchen\",\"Clothes\",\"Garden\",\"Household\",\"Clothes\",\"Kitchen\",\"Garden\",\"Garden\",\"Kitchen\",\"Garden\",\"Clothes\",\"Garden\",\"Household\",\"Household\",\"Kitchen\",\"Kitchen\",\"Household\",\"Household\",\"Garden\",\"Household\",\"Kitchen\",\"Kitchen\",\"Garden\",\"Garden\",\"Clothes\",\"Kitchen\",\"Kitchen\",\"Kitchen\",\"Kitchen\",\"Garden\",\"Household\",\"Clothes\",\"Household\",\"Kitchen\",\"Kitchen\",\"Household\",\"Household\",\"Household\",\"Household\",\"Clothes\",\"Kitchen\",\"Clothes\",\"Household\",\"Clothes\",\"Garden\",\"Kitchen\",\"Garden\",\"Clothes\",\"Household\",\"Clothes\",\"Clothes\",\"Household\",\"Household\",\"Kitchen\",\"Household\",\"Kitchen\",\"Clothes\",\"Household\",\"Garden\",\"Garden\",\"Garden\",\"Clothes\",\"Clothes\",\"Garden\",\"Garden\",\"Garden\",\"Garden\",\"Household\",\"Clothes\",\"Household\",\"Clothes\",\"Garden\",\"Household\",\"Garden\",\"Clothes\",\"Kitchen\",\"Garden\",\"Garden\",\"Garden\",\"Clothes\",\"Clothes\",\"Kitchen\",\"Kitchen\",\"Garden\",\"Garden\",\"Clothes\",\"Garden\",\"Kitchen\",\"Kitchen\",\"Clothes\",\"Clothes\",\"Kitchen\",\"Household\",\"Clothes\",\"Garden\",\"Kitchen\",\"Household\",\"Clothes\",\"Clothes\",\"Clothes\",\"Garden\",\"Kitchen\",\"Clothes\",\"Kitchen\",\"Clothes\",\"Garden\",\"Household\",\"Clothes\",\"Garden\",\"Household\",\"Household\",\"Household\",\"Household\",\"Kitchen\",\"Household\",\"Household\",\"Clothes\",\"Household\",\"Clothes\",\"Kitchen\",\"Household\",\"Household\",\"Garden\",\"Kitchen\",\"Household\",\"Clothes\",\"Garden\",\"Clothes\",\"Household\",\"Kitchen\",\"Garden\",\"Household\",\"Kitchen\",\"Household\",\"Household\",\"Clothes\",\"Clothes\",\"Garden\",\"Kitchen\",\"Clothes\",\"Clothes\",\"Garden\",\"Kitchen\",\"Garden\",\"Kitchen\",\"Kitchen\",\"Garden\",\"Kitchen\",\"Clothes\",\"Kitchen\",\"Garden\",\"Household\",\"Household\",\"Household\",\"Garden\",\"Clothes\",\"Kitchen\",\"Clothes\",\"Kitchen\",\"Clothes\",\"Garden\",\"Household\",\"Household\",\"Kitchen\",\"Clothes\",\"Garden\",\"Garden\",\"Clothes\",\"Household\",\"Kitchen\",\"Household\",\"Clothes\",\"Kitchen\",\"Garden\",\"Clothes\",\"Garden\",\"Clothes\",\"Household\",\"Household\",\"Garden\",\"Garden\",\"Garden\",\"Household\",\"Household\",\"Kitchen\",\"Household\",\"Kitchen\",\"Garden\",\"Kitchen\",\"Household\",\"Clothes\",\"Clothes\",\"Garden\",\"Clothes\",\"Kitchen\",\"Garden\",\"Household\",\"Household\",\"Kitchen\",\"Clothes\",\"Garden\",\"Garden\",\"Kitchen\",\"Kitchen\",\"Garden\",\"Clothes\",\"Clothes\",\"Household\",\"Kitchen\",\"Garden\",\"Garden\",\"Kitchen\",\"Garden\",\"Clothes\",\"Kitchen\",\"Garden\",\"Kitchen\",\"Kitchen\",\"Clothes\",\"Kitchen\",\"Household\",\"Household\",\"Kitchen\",\"Clothes\",\"Garden\",\"Kitchen\",\"Household\",\"Clothes\",\"Kitchen\",\"Kitchen\",\"Clothes\",\"Clothes\",\"Garden\",\"Clothes\",\"Clothes\",\"Household\",\"Kitchen\",\"Garden\",\"Garden\",\"Kitchen\",\"Kitchen\",\"Kitchen\",\"Household\",\"Household\",\"Kitchen\",\"Garden\",\"Household\",\"Household\",\"Garden\",\"Clothes\",\"Clothes\",\"Kitchen\",\"Garden\",\"Clothes\",\"Garden\",\"Household\",\"Garden\"],\"x0\":\" \",\"xaxis\":\"x\",\"y\":[0.85,2.95,1.25,7.46,2.51,3.95,2.1,4.95,2.46,1.69,0.39,0.55,12.75,1.25,1.65,1.65,4.25,2.1,4.25,1.28,2.95,1.45,3.29,2.46,4.95,1.25,2.55,0.83,7.95,2.1,0.21,2.95,1.65,3.29,1.63,1.25,2.95,7.95,1.65,4.25,0.29,7.95,8.29,1.25,2.08,0.83,1.65,1.45,2.95,0.55,2.95,5.91,4.13,7.46,3.95,2.95,1.95,2.1,5.79,2.08,3.75,1.65,0.85,4.95,2.25,0.83,0.85,14.96,8.5,2.95,8.29,1.65,2.08,1.45,4.25,5.79,2.08,5.79,1.63,2.08,4.25,0.85,0.42,1.65,3.36,2.55,2.89,1.25,10.79,2.46,3.29,4.13,1.65,0.75,1.95,7.95,1.25,2.46,0.62,4.95,2.46,4.95,3.75,2.1,7.46,7.95,0.29,1.65,0.65,0.42,1.95,1.25,2.08,3.25,0.83,1.63,4.95,1.25,0.79,1.25,3.29,10.79,3.75,1.25,1.25,1.45,2.46,4.95,4.13,2.08,2.46,0.55,1.45,2.95,25.49,0.85,1.65,0.42,2.95,4.25,2.08,1.25,0.39,4.13,4.95,2.95,0.83,1.25,0.79,19.95,1.65,0.83,2.49,5.95,4.95,1.66,7.46,3.29,0.42,0.55,4.95,1.25,1.65,4.25,1.63,2.46,1.45,0.85,12.46,7.95,4.13,1.25,1.45,4.95,0.85,0.85,2.55,1.65,4.95,4.95,3.75,1.25,0.79,0.38,1.65,1.65,0.55,0.42,2.08,2.95,1.63,2.51,2.08,2.55,9.95,1.65,8.29,5.79,1.45,2.08,3.75,1.69,1.25,3.75,0.42,4.96,4.24,1.65,2.1,4.96,3.75,7.95,0.85,1.65,1.25,4.95,0.85,2.95,6.63,1.65,0.42,1.45,1.25,5.95,1.66,8.25,2.95,2.08,4.96,1.25,1.66,2.95,3.75,2.95,0.29,4.13,5.75,9.95,0.29,2.95,5.79,1.65,4.25,1.45,2.55,1.63,4.13,3.95,3.29,0.39,0.29,0.55,0.83,12.75,2.1,1.25,1.25,12.5,5.06,10.79,2.1,2.08,0.19,2.95,2.25,8.29,4.96,5.79,2.51,4.95,1.25,1.25,1.65,0.85,0.42,5.95,4.95,0.42,4.15,0.55,0.85,0.39,4.95,0.42,1.25,1.25,2.95,0.83],\"y0\":\" \",\"yaxis\":\"y\",\"type\":\"box\"},{\"alignmentgroup\":\"True\",\"hovertemplate\":\"Country=Germany<br>Major Category=%{x}<br>UnitPrice=%{y}<extra></extra>\",\"legendgroup\":\"Germany\",\"marker\":{\"color\":\"#EF553B\"},\"name\":\"Germany\",\"notched\":false,\"offsetgroup\":\"Germany\",\"orientation\":\"v\",\"showlegend\":true,\"x\":[\"Garden\",\"Clothes\",\"Kitchen\",\"Household\",\"Household\",\"Household\",\"Kitchen\",\"Garden\",\"Clothes\",\"Household\",\"Clothes\",\"Kitchen\",\"Garden\",\"Garden\",\"Garden\",\"Kitchen\",\"Garden\",\"Kitchen\",\"Garden\",\"Household\",\"Household\",\"Household\",\"Garden\",\"Garden\",\"Household\",\"Clothes\",\"Clothes\",\"Household\",\"Clothes\",\"Garden\",\"Household\",\"Clothes\",\"Clothes\",\"Kitchen\",\"Household\",\"Kitchen\",\"Garden\",\"Clothes\",\"Kitchen\",\"Household\",\"Garden\",\"Clothes\",\"Kitchen\",\"Kitchen\",\"Garden\",\"Garden\",\"Household\",\"Household\",\"Kitchen\",\"Household\",\"Clothes\",\"Kitchen\",\"Garden\",\"Clothes\",\"Kitchen\",\"Garden\",\"Household\",\"Kitchen\",\"Clothes\",\"Garden\",\"Garden\",\"Clothes\",\"Household\",\"Kitchen\",\"Clothes\",\"Clothes\",\"Garden\",\"Household\",\"Garden\",\"Kitchen\",\"Garden\",\"Clothes\",\"Clothes\",\"Clothes\",\"Clothes\",\"Clothes\",\"Garden\",\"Garden\",\"Garden\",\"Kitchen\",\"Garden\",\"Clothes\",\"Clothes\",\"Clothes\",\"Garden\",\"Clothes\",\"Clothes\",\"Kitchen\",\"Household\",\"Garden\",\"Kitchen\",\"Kitchen\",\"Clothes\"],\"x0\":\" \",\"xaxis\":\"x\",\"y\":[0.65,2.1,1.25,0.85,2.1,8.5,7.95,4.95,0.42,0.39,0.85,0.85,1.65,1.65,5.95,7.95,0.42,0.85,18.0,2.95,0.42,2.08,0.42,1.25,4.95,5.45,0.85,1.65,7.95,2.08,1.25,2.08,1.45,1.95,7.95,4.15,1.25,4.95,2.55,2.95,1.65,2.08,0.85,0.85,2.95,3.75,3.75,1.95,12.75,0.39,10.95,0.29,2.55,1.45,0.65,2.95,2.55,3.75,4.95,2.95,1.25,0.55,0.85,14.95,4.95,3.25,4.95,2.08,0.85,18.0,1.25,9.95,1.65,1.65,1.65,4.25,1.65,0.85,8.5,1.25,0.42,4.95,1.45,2.08,1.65,10.95,1.0,18.0,2.95,2.95,0.65,0.42,0.85],\"y0\":\" \",\"yaxis\":\"y\",\"type\":\"box\"},{\"alignmentgroup\":\"True\",\"hovertemplate\":\"Country=France<br>Major Category=%{x}<br>UnitPrice=%{y}<extra></extra>\",\"legendgroup\":\"France\",\"marker\":{\"color\":\"#00cc96\"},\"name\":\"France\",\"notched\":false,\"offsetgroup\":\"France\",\"orientation\":\"v\",\"showlegend\":true,\"x\":[\"Kitchen\",\"Household\",\"Household\",\"Garden\",\"Kitchen\",\"Garden\",\"Kitchen\",\"Garden\",\"Household\",\"Kitchen\",\"Kitchen\",\"Garden\",\"Kitchen\",\"Garden\",\"Garden\",\"Garden\",\"Household\",\"Clothes\",\"Clothes\",\"Clothes\",\"Household\",\"Household\",\"Garden\",\"Garden\",\"Clothes\",\"Garden\",\"Garden\",\"Kitchen\",\"Kitchen\",\"Household\",\"Household\",\"Household\",\"Household\",\"Clothes\",\"Garden\",\"Clothes\",\"Kitchen\",\"Clothes\",\"Kitchen\",\"Kitchen\",\"Garden\",\"Household\",\"Garden\",\"Clothes\",\"Kitchen\",\"Kitchen\",\"Garden\",\"Garden\",\"Kitchen\",\"Household\",\"Clothes\",\"Kitchen\",\"Household\",\"Kitchen\",\"Garden\",\"Clothes\",\"Household\",\"Kitchen\",\"Garden\",\"Clothes\",\"Kitchen\",\"Garden\",\"Clothes\",\"Kitchen\",\"Garden\",\"Garden\",\"Garden\",\"Household\",\"Clothes\",\"Kitchen\",\"Clothes\",\"Kitchen\",\"Kitchen\",\"Garden\",\"Garden\",\"Clothes\",\"Garden\",\"Garden\",\"Household\",\"Kitchen\",\"Garden\",\"Household\",\"Kitchen\",\"Household\",\"Clothes\",\"Kitchen\",\"Clothes\",\"Garden\",\"Clothes\",\"Household\",\"Garden\",\"Clothes\",\"Household\",\"Clothes\",\"Garden\",\"Garden\",\"Garden\",\"Garden\",\"Household\",\"Garden\",\"Kitchen\",\"Garden\",\"Garden\",\"Garden\",\"Garden\",\"Kitchen\",\"Clothes\",\"Garden\",\"Garden\",\"Kitchen\",\"Garden\",\"Clothes\",\"Kitchen\",\"Kitchen\",\"Kitchen\",\"Household\",\"Clothes\",\"Kitchen\",\"Kitchen\",\"Kitchen\",\"Kitchen\",\"Garden\",\"Garden\",\"Clothes\",\"Garden\",\"Garden\",\"Kitchen\",\"Household\",\"Garden\",\"Clothes\",\"Household\",\"Kitchen\",\"Household\",\"Household\",\"Clothes\",\"Kitchen\",\"Household\",\"Garden\",\"Garden\",\"Clothes\",\"Kitchen\",\"Clothes\",\"Garden\",\"Kitchen\",\"Household\",\"Clothes\",\"Household\",\"Kitchen\",\"Kitchen\",\"Household\",\"Kitchen\",\"Kitchen\",\"Garden\",\"Garden\",\"Clothes\",\"Household\",\"Garden\",\"Household\",\"Garden\",\"Household\",\"Clothes\",\"Kitchen\",\"Household\",\"Garden\",\"Household\",\"Clothes\",\"Household\",\"Clothes\",\"Household\",\"Household\",\"Clothes\",\"Household\",\"Garden\",\"Garden\",\"Clothes\",\"Clothes\",\"Clothes\",\"Clothes\",\"Kitchen\",\"Clothes\",\"Kitchen\",\"Garden\",\"Garden\",\"Clothes\"],\"x0\":\" \",\"xaxis\":\"x\",\"y\":[0.55,0.85,1.25,12.5,0.42,1.65,0.42,0.65,2.55,1.25,5.95,1.25,2.95,2.95,0.39,2.55,2.95,2.1,1.65,12.75,1.25,0.83,3.75,2.1,1.25,3.25,3.25,1.95,1.25,1.25,18.0,0.42,0.85,1.65,4.95,1.25,4.95,0.85,1.25,2.55,0.85,0.42,1.95,0.65,1.25,2.1,1.95,18.0,1.25,1.65,2.95,0.85,1.95,0.55,1.65,18.0,1.45,2.55,0.42,1.65,4.95,1.65,0.85,8.25,3.75,1.65,1.65,2.08,1.65,0.42,10.95,4.15,0.65,1.25,0.42,1.25,4.95,0.39,0.85,1.25,0.42,18.0,0.85,8.25,2.25,2.08,0.83,2.95,1.25,1.25,0.85,3.25,2.08,1.65,1.65,1.25,0.65,4.15,2.95,4.15,4.95,4.95,0.42,2.1,4.15,0.85,0.85,1.25,4.95,4.15,2.1,2.95,1.25,2.1,0.85,18.0,0.42,1.65,18.0,0.85,4.15,5.95,1.25,4.95,0.82,0.12,8.5,0.83,0.42,1.65,8.95,2.55,1.65,0.42,1.25,18.0,1.25,0.39,2.1,2.55,1.25,0.85,2.55,1.25,1.65,7.95,2.08,0.85,1.25,1.65,2.08,1.25,18.0,0.21,1.65,0.85,6.75,1.25,2.08,6.75,3.75,0.65,4.15,0.65,4.15,3.25,18.0,0.42,0.42,18.0,0.42,1.95,1.95,3.75,1.65,2.55,1.65,0.85,2.95,3.75,2.95,0.42,0.39,11.95],\"y0\":\" \",\"yaxis\":\"y\",\"type\":\"box\"},{\"alignmentgroup\":\"True\",\"hovertemplate\":\"Country=Australia<br>Major Category=%{x}<br>UnitPrice=%{y}<extra></extra>\",\"legendgroup\":\"Australia\",\"marker\":{\"color\":\"#ab63fa\"},\"name\":\"Australia\",\"notched\":false,\"offsetgroup\":\"Australia\",\"orientation\":\"v\",\"showlegend\":true,\"x\":[\"Household\",\"Garden\",\"Garden\",\"Kitchen\",\"Garden\",\"Clothes\",\"Household\",\"Kitchen\",\"Clothes\",\"Household\",\"Clothes\",\"Kitchen\",\"Household\",\"Household\",\"Garden\",\"Garden\",\"Kitchen\",\"Kitchen\",\"Clothes\"],\"x0\":\" \",\"xaxis\":\"x\",\"y\":[2.95,1.65,1.65,6.75,7.95,4.95,7.95,1.65,2.55,6.75,2.89,3.25,4.15,2.08,2.95,2.08,5.95,1.65,1.95],\"y0\":\" \",\"yaxis\":\"y\",\"type\":\"box\"},{\"alignmentgroup\":\"True\",\"hovertemplate\":\"Country=Hong Kong<br>Major Category=%{x}<br>UnitPrice=%{y}<extra></extra>\",\"legendgroup\":\"Hong Kong\",\"marker\":{\"color\":\"#FFA15A\"},\"name\":\"Hong Kong\",\"notched\":false,\"offsetgroup\":\"Hong Kong\",\"orientation\":\"v\",\"showlegend\":true,\"x\":[\"Clothes\",\"Household\",\"Household\",\"Garden\",\"Kitchen\",\"Household\",\"Household\",\"Kitchen\",\"Kitchen\",\"Garden\",\"Clothes\",\"Clothes\",\"Household\",\"Clothes\",\"Garden\",\"Clothes\",\"Garden\",\"Clothes\",\"Household\",\"Household\",\"Garden\",\"Household\",\"Garden\",\"Kitchen\",\"Garden\",\"Clothes\",\"Kitchen\",\"Clothes\",\"Clothes\",\"Kitchen\",\"Household\",\"Garden\",\"Household\",\"Garden\",\"Clothes\",\"Clothes\",\"Garden\",\"Garden\",\"Clothes\",\"Garden\",\"Garden\",\"Clothes\"],\"x0\":\" \",\"xaxis\":\"x\",\"y\":[2.95,2.95,1.95,5.95,4.15,3.75,3.75,4.95,8.25,3.75,0.42,4.95,1.25,2.1,3.25,0.55,0.85,10.95,1.25,2.1,1.65,1.25,0.55,0.85,3.95,1.95,0.85,0.85,1.95,1.65,2.95,15.0,3.25,2.55,3.75,4.95,1.25,8.25,1.25,0.55,4.95,1.25],\"y0\":\" \",\"yaxis\":\"y\",\"type\":\"box\"}],                        {\"template\":{\"data\":{\"histogram2dcontour\":[{\"type\":\"histogram2dcontour\",\"colorbar\":{\"outlinewidth\":0,\"ticks\":\"\"},\"colorscale\":[[0.0,\"#0d0887\"],[0.1111111111111111,\"#46039f\"],[0.2222222222222222,\"#7201a8\"],[0.3333333333333333,\"#9c179e\"],[0.4444444444444444,\"#bd3786\"],[0.5555555555555556,\"#d8576b\"],[0.6666666666666666,\"#ed7953\"],[0.7777777777777778,\"#fb9f3a\"],[0.8888888888888888,\"#fdca26\"],[1.0,\"#f0f921\"]]}],\"choropleth\":[{\"type\":\"choropleth\",\"colorbar\":{\"outlinewidth\":0,\"ticks\":\"\"}}],\"histogram2d\":[{\"type\":\"histogram2d\",\"colorbar\":{\"outlinewidth\":0,\"ticks\":\"\"},\"colorscale\":[[0.0,\"#0d0887\"],[0.1111111111111111,\"#46039f\"],[0.2222222222222222,\"#7201a8\"],[0.3333333333333333,\"#9c179e\"],[0.4444444444444444,\"#bd3786\"],[0.5555555555555556,\"#d8576b\"],[0.6666666666666666,\"#ed7953\"],[0.7777777777777778,\"#fb9f3a\"],[0.8888888888888888,\"#fdca26\"],[1.0,\"#f0f921\"]]}],\"heatmap\":[{\"type\":\"heatmap\",\"colorbar\":{\"outlinewidth\":0,\"ticks\":\"\"},\"colorscale\":[[0.0,\"#0d0887\"],[0.1111111111111111,\"#46039f\"],[0.2222222222222222,\"#7201a8\"],[0.3333333333333333,\"#9c179e\"],[0.4444444444444444,\"#bd3786\"],[0.5555555555555556,\"#d8576b\"],[0.6666666666666666,\"#ed7953\"],[0.7777777777777778,\"#fb9f3a\"],[0.8888888888888888,\"#fdca26\"],[1.0,\"#f0f921\"]]}],\"heatmapgl\":[{\"type\":\"heatmapgl\",\"colorbar\":{\"outlinewidth\":0,\"ticks\":\"\"},\"colorscale\":[[0.0,\"#0d0887\"],[0.1111111111111111,\"#46039f\"],[0.2222222222222222,\"#7201a8\"],[0.3333333333333333,\"#9c179e\"],[0.4444444444444444,\"#bd3786\"],[0.5555555555555556,\"#d8576b\"],[0.6666666666666666,\"#ed7953\"],[0.7777777777777778,\"#fb9f3a\"],[0.8888888888888888,\"#fdca26\"],[1.0,\"#f0f921\"]]}],\"contourcarpet\":[{\"type\":\"contourcarpet\",\"colorbar\":{\"outlinewidth\":0,\"ticks\":\"\"}}],\"contour\":[{\"type\":\"contour\",\"colorbar\":{\"outlinewidth\":0,\"ticks\":\"\"},\"colorscale\":[[0.0,\"#0d0887\"],[0.1111111111111111,\"#46039f\"],[0.2222222222222222,\"#7201a8\"],[0.3333333333333333,\"#9c179e\"],[0.4444444444444444,\"#bd3786\"],[0.5555555555555556,\"#d8576b\"],[0.6666666666666666,\"#ed7953\"],[0.7777777777777778,\"#fb9f3a\"],[0.8888888888888888,\"#fdca26\"],[1.0,\"#f0f921\"]]}],\"surface\":[{\"type\":\"surface\",\"colorbar\":{\"outlinewidth\":0,\"ticks\":\"\"},\"colorscale\":[[0.0,\"#0d0887\"],[0.1111111111111111,\"#46039f\"],[0.2222222222222222,\"#7201a8\"],[0.3333333333333333,\"#9c179e\"],[0.4444444444444444,\"#bd3786\"],[0.5555555555555556,\"#d8576b\"],[0.6666666666666666,\"#ed7953\"],[0.7777777777777778,\"#fb9f3a\"],[0.8888888888888888,\"#fdca26\"],[1.0,\"#f0f921\"]]}],\"mesh3d\":[{\"type\":\"mesh3d\",\"colorbar\":{\"outlinewidth\":0,\"ticks\":\"\"}}],\"scatter\":[{\"marker\":{\"line\":{\"color\":\"#283442\"}},\"type\":\"scatter\"}],\"parcoords\":[{\"type\":\"parcoords\",\"line\":{\"colorbar\":{\"outlinewidth\":0,\"ticks\":\"\"}}}],\"scatterpolargl\":[{\"type\":\"scatterpolargl\",\"marker\":{\"colorbar\":{\"outlinewidth\":0,\"ticks\":\"\"}}}],\"bar\":[{\"error_x\":{\"color\":\"#f2f5fa\"},\"error_y\":{\"color\":\"#f2f5fa\"},\"marker\":{\"line\":{\"color\":\"rgb(17,17,17)\",\"width\":0.5},\"pattern\":{\"fillmode\":\"overlay\",\"size\":10,\"solidity\":0.2}},\"type\":\"bar\"}],\"scattergeo\":[{\"type\":\"scattergeo\",\"marker\":{\"colorbar\":{\"outlinewidth\":0,\"ticks\":\"\"}}}],\"scatterpolar\":[{\"type\":\"scatterpolar\",\"marker\":{\"colorbar\":{\"outlinewidth\":0,\"ticks\":\"\"}}}],\"histogram\":[{\"marker\":{\"pattern\":{\"fillmode\":\"overlay\",\"size\":10,\"solidity\":0.2}},\"type\":\"histogram\"}],\"scattergl\":[{\"marker\":{\"line\":{\"color\":\"#283442\"}},\"type\":\"scattergl\"}],\"scatter3d\":[{\"type\":\"scatter3d\",\"line\":{\"colorbar\":{\"outlinewidth\":0,\"ticks\":\"\"}},\"marker\":{\"colorbar\":{\"outlinewidth\":0,\"ticks\":\"\"}}}],\"scattermapbox\":[{\"type\":\"scattermapbox\",\"marker\":{\"colorbar\":{\"outlinewidth\":0,\"ticks\":\"\"}}}],\"scatterternary\":[{\"type\":\"scatterternary\",\"marker\":{\"colorbar\":{\"outlinewidth\":0,\"ticks\":\"\"}}}],\"scattercarpet\":[{\"type\":\"scattercarpet\",\"marker\":{\"colorbar\":{\"outlinewidth\":0,\"ticks\":\"\"}}}],\"carpet\":[{\"aaxis\":{\"endlinecolor\":\"#A2B1C6\",\"gridcolor\":\"#506784\",\"linecolor\":\"#506784\",\"minorgridcolor\":\"#506784\",\"startlinecolor\":\"#A2B1C6\"},\"baxis\":{\"endlinecolor\":\"#A2B1C6\",\"gridcolor\":\"#506784\",\"linecolor\":\"#506784\",\"minorgridcolor\":\"#506784\",\"startlinecolor\":\"#A2B1C6\"},\"type\":\"carpet\"}],\"table\":[{\"cells\":{\"fill\":{\"color\":\"#506784\"},\"line\":{\"color\":\"rgb(17,17,17)\"}},\"header\":{\"fill\":{\"color\":\"#2a3f5f\"},\"line\":{\"color\":\"rgb(17,17,17)\"}},\"type\":\"table\"}],\"barpolar\":[{\"marker\":{\"line\":{\"color\":\"rgb(17,17,17)\",\"width\":0.5},\"pattern\":{\"fillmode\":\"overlay\",\"size\":10,\"solidity\":0.2}},\"type\":\"barpolar\"}],\"pie\":[{\"automargin\":true,\"type\":\"pie\"}]},\"layout\":{\"autotypenumbers\":\"strict\",\"colorway\":[\"#636efa\",\"#EF553B\",\"#00cc96\",\"#ab63fa\",\"#FFA15A\",\"#19d3f3\",\"#FF6692\",\"#B6E880\",\"#FF97FF\",\"#FECB52\"],\"font\":{\"color\":\"#f2f5fa\"},\"hovermode\":\"closest\",\"hoverlabel\":{\"align\":\"left\"},\"paper_bgcolor\":\"rgb(17,17,17)\",\"plot_bgcolor\":\"rgb(17,17,17)\",\"polar\":{\"bgcolor\":\"rgb(17,17,17)\",\"angularaxis\":{\"gridcolor\":\"#506784\",\"linecolor\":\"#506784\",\"ticks\":\"\"},\"radialaxis\":{\"gridcolor\":\"#506784\",\"linecolor\":\"#506784\",\"ticks\":\"\"}},\"ternary\":{\"bgcolor\":\"rgb(17,17,17)\",\"aaxis\":{\"gridcolor\":\"#506784\",\"linecolor\":\"#506784\",\"ticks\":\"\"},\"baxis\":{\"gridcolor\":\"#506784\",\"linecolor\":\"#506784\",\"ticks\":\"\"},\"caxis\":{\"gridcolor\":\"#506784\",\"linecolor\":\"#506784\",\"ticks\":\"\"}},\"coloraxis\":{\"colorbar\":{\"outlinewidth\":0,\"ticks\":\"\"}},\"colorscale\":{\"sequential\":[[0.0,\"#0d0887\"],[0.1111111111111111,\"#46039f\"],[0.2222222222222222,\"#7201a8\"],[0.3333333333333333,\"#9c179e\"],[0.4444444444444444,\"#bd3786\"],[0.5555555555555556,\"#d8576b\"],[0.6666666666666666,\"#ed7953\"],[0.7777777777777778,\"#fb9f3a\"],[0.8888888888888888,\"#fdca26\"],[1.0,\"#f0f921\"]],\"sequentialminus\":[[0.0,\"#0d0887\"],[0.1111111111111111,\"#46039f\"],[0.2222222222222222,\"#7201a8\"],[0.3333333333333333,\"#9c179e\"],[0.4444444444444444,\"#bd3786\"],[0.5555555555555556,\"#d8576b\"],[0.6666666666666666,\"#ed7953\"],[0.7777777777777778,\"#fb9f3a\"],[0.8888888888888888,\"#fdca26\"],[1.0,\"#f0f921\"]],\"diverging\":[[0,\"#8e0152\"],[0.1,\"#c51b7d\"],[0.2,\"#de77ae\"],[0.3,\"#f1b6da\"],[0.4,\"#fde0ef\"],[0.5,\"#f7f7f7\"],[0.6,\"#e6f5d0\"],[0.7,\"#b8e186\"],[0.8,\"#7fbc41\"],[0.9,\"#4d9221\"],[1,\"#276419\"]]},\"xaxis\":{\"gridcolor\":\"#283442\",\"linecolor\":\"#506784\",\"ticks\":\"\",\"title\":{\"standoff\":15},\"zerolinecolor\":\"#283442\",\"automargin\":true,\"zerolinewidth\":2},\"yaxis\":{\"gridcolor\":\"#283442\",\"linecolor\":\"#506784\",\"ticks\":\"\",\"title\":{\"standoff\":15},\"zerolinecolor\":\"#283442\",\"automargin\":true,\"zerolinewidth\":2},\"scene\":{\"xaxis\":{\"backgroundcolor\":\"rgb(17,17,17)\",\"gridcolor\":\"#506784\",\"linecolor\":\"#506784\",\"showbackground\":true,\"ticks\":\"\",\"zerolinecolor\":\"#C8D4E3\",\"gridwidth\":2},\"yaxis\":{\"backgroundcolor\":\"rgb(17,17,17)\",\"gridcolor\":\"#506784\",\"linecolor\":\"#506784\",\"showbackground\":true,\"ticks\":\"\",\"zerolinecolor\":\"#C8D4E3\",\"gridwidth\":2},\"zaxis\":{\"backgroundcolor\":\"rgb(17,17,17)\",\"gridcolor\":\"#506784\",\"linecolor\":\"#506784\",\"showbackground\":true,\"ticks\":\"\",\"zerolinecolor\":\"#C8D4E3\",\"gridwidth\":2}},\"shapedefaults\":{\"line\":{\"color\":\"#f2f5fa\"}},\"annotationdefaults\":{\"arrowcolor\":\"#f2f5fa\",\"arrowhead\":0,\"arrowwidth\":1},\"geo\":{\"bgcolor\":\"rgb(17,17,17)\",\"landcolor\":\"rgb(17,17,17)\",\"subunitcolor\":\"#506784\",\"showland\":true,\"showlakes\":true,\"lakecolor\":\"rgb(17,17,17)\"},\"title\":{\"x\":0.05},\"updatemenudefaults\":{\"bgcolor\":\"#506784\",\"borderwidth\":0},\"sliderdefaults\":{\"bgcolor\":\"#C8D4E3\",\"borderwidth\":1,\"bordercolor\":\"rgb(17,17,17)\",\"tickwidth\":0},\"mapbox\":{\"style\":\"dark\"}}},\"xaxis\":{\"anchor\":\"y\",\"domain\":[0.0,1.0],\"title\":{\"text\":\"Major Category\"}},\"yaxis\":{\"anchor\":\"x\",\"domain\":[0.0,1.0],\"title\":{\"text\":\"UnitPrice\"}},\"legend\":{\"title\":{\"text\":\"Country\"},\"tracegroupgap\":0},\"title\":{\"text\":\"Category prices per country\"},\"boxmode\":\"group\"},                        {\"responsive\": true}                    ).then(function(){\n",
              "                            \n",
              "var gd = document.getElementById('45b54527-93b5-4cca-bbdc-a4c78b03b3c7');\n",
              "var x = new MutationObserver(function (mutations, observer) {{\n",
              "        var display = window.getComputedStyle(gd).display;\n",
              "        if (!display || display === 'none') {{\n",
              "            console.log([gd, 'removed!']);\n",
              "            Plotly.purge(gd);\n",
              "            observer.disconnect();\n",
              "        }}\n",
              "}});\n",
              "\n",
              "// Listen for the removal of the full notebook cells\n",
              "var notebookContainer = gd.closest('#notebook-container');\n",
              "if (notebookContainer) {{\n",
              "    x.observe(notebookContainer, {childList: true});\n",
              "}}\n",
              "\n",
              "// Listen for the clearing of the current output cell\n",
              "var outputEl = gd.closest('.output');\n",
              "if (outputEl) {{\n",
              "    x.observe(outputEl, {childList: true});\n",
              "}}\n",
              "\n",
              "                        })                };                });            </script>        </div>"
            ]
          },
          "metadata": {},
          "output_type": "display_data"
        }
      ],
      "source": [
        "fig = px.box(data_frame=df, x = \"Major Category\", y = \"UnitPrice\", color = \"Country\", title = \"Category prices per country\")\n",
        "fig.show()"
      ]
    },
    {
      "cell_type": "code",
      "execution_count": null,
      "metadata": {
        "id": "_90M8aSt_fy5",
        "outputId": "1e9b5575-61eb-4ab3-d019-29cb545ddcc6"
      },
      "outputs": [
        {
          "data": {
            "application/vnd.plotly.v1+json": {
              "config": {
                "plotlyServerURL": "https://plot.ly"
              },
              "data": [
                {
                  "alignmentgroup": "True",
                  "boxpoints": "all",
                  "fillcolor": "rgba(255,255,255,0)",
                  "hoveron": "points",
                  "hovertemplate": "UnitPrice=%{x}<br>Year=%{y}<extra></extra>",
                  "legendgroup": "",
                  "line": {
                    "color": "rgba(255,255,255,0)"
                  },
                  "marker": {
                    "color": "#636efa"
                  },
                  "name": "",
                  "offsetgroup": "",
                  "orientation": "h",
                  "pointpos": 0,
                  "showlegend": false,
                  "type": "box",
                  "x": [
                    0.85,
                    2.95,
                    1.25,
                    7.46,
                    2.51,
                    3.95,
                    2.1,
                    4.95,
                    2.46,
                    1.69,
                    0.39,
                    0.55,
                    12.75,
                    1.25,
                    1.65,
                    1.65,
                    4.25,
                    2.1,
                    4.25,
                    1.28,
                    2.95,
                    1.45,
                    3.29,
                    2.46,
                    4.95,
                    1.25,
                    2.55,
                    0.83,
                    7.95,
                    2.1,
                    0.21,
                    2.95,
                    1.65,
                    3.29,
                    1.63,
                    1.25,
                    2.95,
                    7.95,
                    1.65,
                    4.25,
                    0.29,
                    7.95,
                    8.29,
                    1.25,
                    2.08,
                    0.83,
                    1.65,
                    1.45,
                    2.95,
                    0.55,
                    2.95,
                    5.91,
                    4.13,
                    7.46,
                    3.95,
                    2.95,
                    1.95,
                    2.1,
                    5.79,
                    2.08,
                    3.75,
                    1.65,
                    0.85,
                    4.95,
                    2.25,
                    0.83,
                    0.85,
                    14.96,
                    8.5,
                    2.95,
                    8.29,
                    1.65,
                    2.08,
                    1.45,
                    4.25,
                    5.79,
                    2.08,
                    5.79,
                    1.63,
                    2.08,
                    4.25,
                    0.85,
                    0.42,
                    1.65,
                    3.36,
                    2.55,
                    2.89,
                    1.25,
                    10.79,
                    2.46,
                    3.29,
                    4.13,
                    1.65,
                    0.75,
                    1.95,
                    7.95,
                    1.25,
                    2.46,
                    0.62,
                    4.95,
                    2.46,
                    4.95,
                    3.75,
                    2.1,
                    7.46,
                    7.95,
                    0.29,
                    1.65,
                    0.65,
                    0.42,
                    1.95,
                    1.25,
                    2.08,
                    3.25,
                    0.83,
                    1.63,
                    4.95,
                    1.25,
                    0.79,
                    1.25,
                    3.29,
                    10.79,
                    3.75,
                    1.25,
                    1.25,
                    1.45,
                    2.46,
                    4.95,
                    4.13,
                    2.08,
                    2.46,
                    0.55,
                    1.45,
                    2.95,
                    25.49,
                    0.85,
                    1.65,
                    0.42,
                    2.95,
                    4.25,
                    2.08,
                    1.25,
                    0.39,
                    4.13,
                    4.95,
                    2.95,
                    0.83,
                    1.25,
                    0.79,
                    19.95,
                    1.65,
                    0.83,
                    2.49,
                    5.95,
                    4.95,
                    1.66,
                    7.46,
                    3.29,
                    0.42,
                    0.55,
                    4.95,
                    1.25,
                    1.65,
                    4.25,
                    1.63,
                    2.46,
                    1.45,
                    0.85,
                    12.46,
                    7.95,
                    4.13,
                    1.25,
                    1.45,
                    4.95,
                    0.85,
                    0.85,
                    2.55,
                    1.65,
                    4.95,
                    4.95,
                    3.75,
                    1.25,
                    0.79,
                    0.38,
                    1.65,
                    1.65,
                    0.55,
                    0.42,
                    2.08,
                    2.95,
                    1.63,
                    2.51,
                    2.08,
                    2.55,
                    9.95,
                    1.65,
                    8.29,
                    5.79,
                    1.45,
                    2.08,
                    3.75,
                    1.69,
                    1.25,
                    3.75,
                    0.42,
                    4.96,
                    4.24,
                    1.65,
                    2.1,
                    4.96,
                    3.75,
                    7.95,
                    0.85,
                    1.65,
                    1.25,
                    4.95,
                    0.85,
                    2.95,
                    6.63,
                    1.65,
                    0.42,
                    1.45,
                    1.25,
                    5.95,
                    1.66,
                    8.25,
                    2.95,
                    2.08,
                    4.96,
                    1.25,
                    1.66,
                    2.95,
                    3.75,
                    2.95,
                    0.29,
                    4.13,
                    5.75,
                    9.95,
                    0.29,
                    2.95,
                    5.79,
                    1.65,
                    4.25,
                    1.45,
                    2.55,
                    1.63,
                    4.13,
                    3.95,
                    3.29,
                    0.39,
                    0.29,
                    0.55,
                    0.83,
                    12.75,
                    2.1,
                    1.25,
                    1.25,
                    12.5,
                    5.06,
                    10.79,
                    2.1,
                    2.08,
                    0.19,
                    2.95,
                    2.25,
                    8.29,
                    4.96,
                    5.79,
                    2.51,
                    4.95,
                    1.25,
                    1.25,
                    1.65,
                    0.85,
                    0.42,
                    5.95,
                    4.95,
                    0.42,
                    4.15,
                    0.55,
                    0.85,
                    0.39,
                    4.95,
                    0.42,
                    1.25,
                    1.25,
                    2.95,
                    0.83,
                    0.65,
                    2.1,
                    1.25,
                    0.85,
                    2.1,
                    8.5,
                    7.95,
                    4.95,
                    0.42,
                    0.39,
                    0.85,
                    0.85,
                    1.65,
                    1.65,
                    5.95,
                    7.95,
                    0.42,
                    0.85,
                    18,
                    2.95,
                    0.42,
                    2.08,
                    0.42,
                    1.25,
                    4.95,
                    5.45,
                    0.85,
                    1.65,
                    7.95,
                    2.08,
                    1.25,
                    2.08,
                    1.45,
                    1.95,
                    7.95,
                    4.15,
                    1.25,
                    4.95,
                    2.55,
                    2.95,
                    1.65,
                    2.08,
                    0.85,
                    0.85,
                    2.95,
                    3.75,
                    3.75,
                    1.95,
                    12.75,
                    0.39,
                    10.95,
                    0.29,
                    2.55,
                    1.45,
                    0.65,
                    2.95,
                    2.55,
                    3.75,
                    4.95,
                    2.95,
                    1.25,
                    0.55,
                    0.85,
                    14.95,
                    4.95,
                    3.25,
                    4.95,
                    2.08,
                    0.85,
                    18,
                    1.25,
                    9.95,
                    1.65,
                    1.65,
                    1.65,
                    4.25,
                    1.65,
                    0.85,
                    8.5,
                    1.25,
                    0.42,
                    4.95,
                    1.45,
                    2.08,
                    1.65,
                    10.95,
                    1,
                    18,
                    2.95,
                    2.95,
                    0.65,
                    0.42,
                    0.85,
                    0.55,
                    0.85,
                    1.25,
                    12.5,
                    0.42,
                    1.65,
                    0.42,
                    0.65,
                    2.55,
                    1.25,
                    5.95,
                    1.25,
                    2.95,
                    2.95,
                    0.39,
                    2.55,
                    2.95,
                    2.1,
                    1.65,
                    12.75,
                    1.25,
                    0.83,
                    3.75,
                    2.1,
                    1.25,
                    3.25,
                    3.25,
                    1.95,
                    1.25,
                    1.25,
                    18,
                    0.42,
                    0.85,
                    1.65,
                    4.95,
                    1.25,
                    4.95,
                    0.85,
                    1.25,
                    2.55,
                    0.85,
                    0.42,
                    1.95,
                    0.65,
                    1.25,
                    2.1,
                    1.95,
                    18,
                    1.25,
                    1.65,
                    2.95,
                    0.85,
                    1.95,
                    0.55,
                    1.65,
                    18,
                    1.45,
                    2.55,
                    0.42,
                    1.65,
                    4.95,
                    1.65,
                    0.85,
                    8.25,
                    3.75,
                    1.65,
                    1.65,
                    2.08,
                    1.65,
                    0.42,
                    10.95,
                    4.15,
                    0.65,
                    1.25,
                    0.42,
                    1.25,
                    4.95,
                    0.39,
                    0.85,
                    1.25,
                    0.42,
                    18,
                    0.85,
                    8.25,
                    2.25,
                    2.08,
                    0.83,
                    2.95,
                    1.25,
                    1.25,
                    0.85,
                    3.25,
                    2.08,
                    1.65,
                    1.65,
                    1.25,
                    0.65,
                    4.15,
                    2.95,
                    4.15,
                    4.95,
                    4.95,
                    0.42,
                    2.1,
                    4.15,
                    0.85,
                    0.85,
                    1.25,
                    4.95,
                    4.15,
                    2.1,
                    2.95,
                    1.25,
                    2.1,
                    0.85,
                    18,
                    0.42,
                    1.65,
                    18,
                    0.85,
                    4.15,
                    5.95,
                    1.25,
                    4.95,
                    0.82,
                    0.12,
                    8.5,
                    0.83,
                    0.42,
                    1.65,
                    8.95,
                    2.55,
                    1.65,
                    0.42,
                    1.25,
                    18,
                    1.25,
                    0.39,
                    2.1,
                    2.55,
                    1.25,
                    0.85,
                    2.55,
                    1.25,
                    1.65,
                    7.95,
                    2.08,
                    0.85,
                    1.25,
                    1.65,
                    2.08,
                    1.25,
                    18,
                    0.21,
                    1.65,
                    0.85,
                    6.75,
                    1.25,
                    2.08,
                    6.75,
                    3.75,
                    0.65,
                    4.15,
                    0.65,
                    4.15,
                    3.25,
                    18,
                    0.42,
                    0.42,
                    18,
                    0.42,
                    1.95,
                    1.95,
                    3.75,
                    1.65,
                    2.55,
                    1.65,
                    0.85,
                    2.95,
                    3.75,
                    2.95,
                    0.42,
                    0.39,
                    11.95,
                    2.95,
                    1.65,
                    1.65,
                    6.75,
                    7.95,
                    4.95,
                    7.95,
                    1.65,
                    2.55,
                    6.75,
                    2.89,
                    3.25,
                    4.15,
                    2.08,
                    2.95,
                    2.08,
                    5.95,
                    1.65,
                    1.95,
                    2.95,
                    2.95,
                    1.95,
                    5.95,
                    4.15,
                    3.75,
                    3.75,
                    4.95,
                    8.25,
                    3.75,
                    0.42,
                    4.95,
                    1.25,
                    2.1,
                    3.25,
                    0.55,
                    0.85,
                    10.95,
                    1.25,
                    2.1,
                    1.65,
                    1.25,
                    0.55,
                    0.85,
                    3.95,
                    1.95,
                    0.85,
                    0.85,
                    1.95,
                    1.65,
                    2.95,
                    15,
                    3.25,
                    2.55,
                    3.75,
                    4.95,
                    1.25,
                    8.25,
                    1.25,
                    0.55,
                    4.95,
                    1.25
                  ],
                  "x0": " ",
                  "xaxis": "x",
                  "y": [
                    "2011",
                    "2011",
                    "2011",
                    "2011",
                    "2010",
                    "2011",
                    "2011",
                    "2011",
                    "2011",
                    "2011",
                    "2011",
                    "2011",
                    "2010",
                    "2011",
                    "2011",
                    "2011",
                    "2010",
                    "2011",
                    "2011",
                    "2010",
                    "2010",
                    "2011",
                    "2011",
                    "2011",
                    "2011",
                    "2011",
                    "2011",
                    "2011",
                    "2011",
                    "2011",
                    "2011",
                    "2011",
                    "2011",
                    "2011",
                    "2011",
                    "2010",
                    "2011",
                    "2011",
                    "2011",
                    "2011",
                    "2011",
                    "2011",
                    "2011",
                    "2011",
                    "2011",
                    "2011",
                    "2011",
                    "2011",
                    "2011",
                    "2011",
                    "2011",
                    "2010",
                    "2011",
                    "2011",
                    "2011",
                    "2011",
                    "2011",
                    "2010",
                    "2011",
                    "2011",
                    "2011",
                    "2011",
                    "2011",
                    "2011",
                    "2011",
                    "2011",
                    "2010",
                    "2011",
                    "2011",
                    "2010",
                    "2011",
                    "2011",
                    "2011",
                    "2011",
                    "2011",
                    "2011",
                    "2011",
                    "2011",
                    "2011",
                    "2011",
                    "2010",
                    "2011",
                    "2011",
                    "2011",
                    "2010",
                    "2011",
                    "2011",
                    "2011",
                    "2011",
                    "2011",
                    "2011",
                    "2011",
                    "2011",
                    "2011",
                    "2011",
                    "2011",
                    "2011",
                    "2011",
                    "2011",
                    "2011",
                    "2011",
                    "2011",
                    "2011",
                    "2011",
                    "2011",
                    "2011",
                    "2011",
                    "2011",
                    "2011",
                    "2011",
                    "2011",
                    "2011",
                    "2011",
                    "2010",
                    "2011",
                    "2011",
                    "2011",
                    "2011",
                    "2011",
                    "2011",
                    "2011",
                    "2011",
                    "2010",
                    "2011",
                    "2011",
                    "2011",
                    "2011",
                    "2011",
                    "2011",
                    "2011",
                    "2011",
                    "2011",
                    "2011",
                    "2011",
                    "2010",
                    "2011",
                    "2011",
                    "2011",
                    "2011",
                    "2011",
                    "2011",
                    "2011",
                    "2011",
                    "2011",
                    "2011",
                    "2011",
                    "2011",
                    "2011",
                    "2011",
                    "2011",
                    "2011",
                    "2011",
                    "2011",
                    "2011",
                    "2011",
                    "2010",
                    "2011",
                    "2011",
                    "2011",
                    "2011",
                    "2010",
                    "2011",
                    "2011",
                    "2011",
                    "2011",
                    "2011",
                    "2011",
                    "2011",
                    "2011",
                    "2011",
                    "2011",
                    "2011",
                    "2011",
                    "2011",
                    "2011",
                    "2011",
                    "2011",
                    "2011",
                    "2011",
                    "2011",
                    "2011",
                    "2011",
                    "2011",
                    "2011",
                    "2011",
                    "2011",
                    "2011",
                    "2011",
                    "2011",
                    "2011",
                    "2011",
                    "2011",
                    "2011",
                    "2010",
                    "2011",
                    "2011",
                    "2011",
                    "2011",
                    "2011",
                    "2011",
                    "2011",
                    "2011",
                    "2011",
                    "2011",
                    "2011",
                    "2011",
                    "2010",
                    "2011",
                    "2011",
                    "2011",
                    "2011",
                    "2011",
                    "2011",
                    "2011",
                    "2011",
                    "2011",
                    "2011",
                    "2011",
                    "2011",
                    "2011",
                    "2011",
                    "2011",
                    "2011",
                    "2011",
                    "2010",
                    "2011",
                    "2011",
                    "2011",
                    "2011",
                    "2011",
                    "2011",
                    "2011",
                    "2011",
                    "2011",
                    "2011",
                    "2011",
                    "2011",
                    "2011",
                    "2011",
                    "2011",
                    "2011",
                    "2010",
                    "2011",
                    "2011",
                    "2011",
                    "2011",
                    "2011",
                    "2011",
                    "2011",
                    "2011",
                    "2011",
                    "2011",
                    "2011",
                    "2011",
                    "2011",
                    "2011",
                    "2011",
                    "2011",
                    "2010",
                    "2011",
                    "2011",
                    "2011",
                    "2011",
                    "2010",
                    "2011",
                    "2011",
                    "2011",
                    "2011",
                    "2011",
                    "2010",
                    "2011",
                    "2010",
                    "2011",
                    "2011",
                    "2011",
                    "2011",
                    "2011",
                    "2011",
                    "2011",
                    "2011",
                    "2011",
                    "2011",
                    "2011",
                    "2011",
                    "2011",
                    "2011",
                    "2011",
                    "2011",
                    "2011",
                    "2011",
                    "2011",
                    "2011",
                    "2011",
                    "2011",
                    "2011",
                    "2011",
                    "2011",
                    "2011",
                    "2011",
                    "2010",
                    "2011",
                    "2011",
                    "2011",
                    "2011",
                    "2011",
                    "2011",
                    "2011",
                    "2011",
                    "2011",
                    "2011",
                    "2011",
                    "2011",
                    "2011",
                    "2011",
                    "2011",
                    "2011",
                    "2011",
                    "2011",
                    "2011",
                    "2011",
                    "2011",
                    "2010",
                    "2011",
                    "2011",
                    "2011",
                    "2011",
                    "2011",
                    "2011",
                    "2011",
                    "2011",
                    "2011",
                    "2011",
                    "2011",
                    "2011",
                    "2011",
                    "2011",
                    "2011",
                    "2011",
                    "2011",
                    "2011",
                    "2011",
                    "2011",
                    "2011",
                    "2011",
                    "2011",
                    "2011",
                    "2011",
                    "2011",
                    "2011",
                    "2011",
                    "2010",
                    "2010",
                    "2011",
                    "2011",
                    "2011",
                    "2011",
                    "2011",
                    "2011",
                    "2011",
                    "2011",
                    "2011",
                    "2011",
                    "2011",
                    "2011",
                    "2011",
                    "2011",
                    "2011",
                    "2011",
                    "2011",
                    "2011",
                    "2011",
                    "2011",
                    "2011",
                    "2011",
                    "2011",
                    "2011",
                    "2011",
                    "2011",
                    "2011",
                    "2011",
                    "2011",
                    "2011",
                    "2011",
                    "2010",
                    "2011",
                    "2011",
                    "2011",
                    "2011",
                    "2011",
                    "2011",
                    "2010",
                    "2011",
                    "2011",
                    "2011",
                    "2011",
                    "2011",
                    "2011",
                    "2011",
                    "2011",
                    "2011",
                    "2011",
                    "2011",
                    "2011",
                    "2011",
                    "2011",
                    "2011",
                    "2011",
                    "2011",
                    "2011",
                    "2011",
                    "2011",
                    "2011",
                    "2011",
                    "2011",
                    "2011",
                    "2011",
                    "2011",
                    "2011",
                    "2011",
                    "2011",
                    "2011",
                    "2011",
                    "2011",
                    "2011",
                    "2011",
                    "2011",
                    "2010",
                    "2011",
                    "2011",
                    "2011",
                    "2011",
                    "2011",
                    "2011",
                    "2011",
                    "2011",
                    "2011",
                    "2011",
                    "2011",
                    "2011",
                    "2010",
                    "2011",
                    "2011",
                    "2011",
                    "2011",
                    "2011",
                    "2011",
                    "2011",
                    "2011",
                    "2011",
                    "2011",
                    "2011",
                    "2010",
                    "2011",
                    "2011",
                    "2011",
                    "2011",
                    "2011",
                    "2011",
                    "2011",
                    "2011",
                    "2011",
                    "2011",
                    "2011",
                    "2011",
                    "2011",
                    "2011",
                    "2011",
                    "2011",
                    "2011",
                    "2011",
                    "2011",
                    "2011",
                    "2011",
                    "2011",
                    "2011",
                    "2011",
                    "2011",
                    "2011",
                    "2011",
                    "2011",
                    "2011",
                    "2011",
                    "2011",
                    "2011",
                    "2011",
                    "2011",
                    "2011",
                    "2011",
                    "2011",
                    "2011",
                    "2011",
                    "2011",
                    "2011",
                    "2011",
                    "2011",
                    "2011",
                    "2010",
                    "2011",
                    "2011",
                    "2011",
                    "2011",
                    "2011",
                    "2011",
                    "2011",
                    "2011",
                    "2011",
                    "2011",
                    "2011",
                    "2011",
                    "2011",
                    "2011",
                    "2011",
                    "2011",
                    "2011",
                    "2011",
                    "2011",
                    "2011",
                    "2011",
                    "2011",
                    "2011",
                    "2011",
                    "2011",
                    "2011",
                    "2011",
                    "2010",
                    "2011",
                    "2011",
                    "2011",
                    "2011",
                    "2011",
                    "2011",
                    "2011",
                    "2011",
                    "2011",
                    "2011",
                    "2010",
                    "2010",
                    "2011",
                    "2011",
                    "2011",
                    "2011",
                    "2011",
                    "2011",
                    "2011",
                    "2011",
                    "2011",
                    "2011",
                    "2011",
                    "2011",
                    "2011",
                    "2011",
                    "2011",
                    "2011",
                    "2011",
                    "2011",
                    "2011",
                    "2011",
                    "2011",
                    "2011",
                    "2011",
                    "2011",
                    "2011",
                    "2011",
                    "2011",
                    "2011",
                    "2011",
                    "2011",
                    "2011",
                    "2011",
                    "2011",
                    "2011",
                    "2011",
                    "2011",
                    "2011",
                    "2011",
                    "2011",
                    "2011",
                    "2011",
                    "2011",
                    "2011",
                    "2011",
                    "2011",
                    "2011",
                    "2011",
                    "2011",
                    "2011",
                    "2011",
                    "2011",
                    "2011",
                    "2011",
                    "2011",
                    "2011",
                    "2011",
                    "2011",
                    "2011",
                    "2011",
                    "2011",
                    "2011",
                    "2011",
                    "2011",
                    "2011",
                    "2011",
                    "2011",
                    "2011",
                    "2011",
                    "2011",
                    "2011",
                    "2011",
                    "2011",
                    "2011",
                    "2011",
                    "2011",
                    "2011",
                    "2011",
                    "2011",
                    "2011",
                    "2011",
                    "2011",
                    "2011",
                    "2011",
                    "2011",
                    "2011",
                    "2011",
                    "2011",
                    "2011",
                    "2011"
                  ],
                  "y0": " ",
                  "yaxis": "y"
                }
              ],
              "layout": {
                "boxmode": "group",
                "legend": {
                  "tracegroupgap": 0
                },
                "margin": {
                  "t": 60
                },
                "template": {
                  "data": {
                    "bar": [
                      {
                        "error_x": {
                          "color": "#f2f5fa"
                        },
                        "error_y": {
                          "color": "#f2f5fa"
                        },
                        "marker": {
                          "line": {
                            "color": "rgb(17,17,17)",
                            "width": 0.5
                          },
                          "pattern": {
                            "fillmode": "overlay",
                            "size": 10,
                            "solidity": 0.2
                          }
                        },
                        "type": "bar"
                      }
                    ],
                    "barpolar": [
                      {
                        "marker": {
                          "line": {
                            "color": "rgb(17,17,17)",
                            "width": 0.5
                          },
                          "pattern": {
                            "fillmode": "overlay",
                            "size": 10,
                            "solidity": 0.2
                          }
                        },
                        "type": "barpolar"
                      }
                    ],
                    "carpet": [
                      {
                        "aaxis": {
                          "endlinecolor": "#A2B1C6",
                          "gridcolor": "#506784",
                          "linecolor": "#506784",
                          "minorgridcolor": "#506784",
                          "startlinecolor": "#A2B1C6"
                        },
                        "baxis": {
                          "endlinecolor": "#A2B1C6",
                          "gridcolor": "#506784",
                          "linecolor": "#506784",
                          "minorgridcolor": "#506784",
                          "startlinecolor": "#A2B1C6"
                        },
                        "type": "carpet"
                      }
                    ],
                    "choropleth": [
                      {
                        "colorbar": {
                          "outlinewidth": 0,
                          "ticks": ""
                        },
                        "type": "choropleth"
                      }
                    ],
                    "contour": [
                      {
                        "colorbar": {
                          "outlinewidth": 0,
                          "ticks": ""
                        },
                        "colorscale": [
                          [
                            0,
                            "#0d0887"
                          ],
                          [
                            0.1111111111111111,
                            "#46039f"
                          ],
                          [
                            0.2222222222222222,
                            "#7201a8"
                          ],
                          [
                            0.3333333333333333,
                            "#9c179e"
                          ],
                          [
                            0.4444444444444444,
                            "#bd3786"
                          ],
                          [
                            0.5555555555555556,
                            "#d8576b"
                          ],
                          [
                            0.6666666666666666,
                            "#ed7953"
                          ],
                          [
                            0.7777777777777778,
                            "#fb9f3a"
                          ],
                          [
                            0.8888888888888888,
                            "#fdca26"
                          ],
                          [
                            1,
                            "#f0f921"
                          ]
                        ],
                        "type": "contour"
                      }
                    ],
                    "contourcarpet": [
                      {
                        "colorbar": {
                          "outlinewidth": 0,
                          "ticks": ""
                        },
                        "type": "contourcarpet"
                      }
                    ],
                    "heatmap": [
                      {
                        "colorbar": {
                          "outlinewidth": 0,
                          "ticks": ""
                        },
                        "colorscale": [
                          [
                            0,
                            "#0d0887"
                          ],
                          [
                            0.1111111111111111,
                            "#46039f"
                          ],
                          [
                            0.2222222222222222,
                            "#7201a8"
                          ],
                          [
                            0.3333333333333333,
                            "#9c179e"
                          ],
                          [
                            0.4444444444444444,
                            "#bd3786"
                          ],
                          [
                            0.5555555555555556,
                            "#d8576b"
                          ],
                          [
                            0.6666666666666666,
                            "#ed7953"
                          ],
                          [
                            0.7777777777777778,
                            "#fb9f3a"
                          ],
                          [
                            0.8888888888888888,
                            "#fdca26"
                          ],
                          [
                            1,
                            "#f0f921"
                          ]
                        ],
                        "type": "heatmap"
                      }
                    ],
                    "heatmapgl": [
                      {
                        "colorbar": {
                          "outlinewidth": 0,
                          "ticks": ""
                        },
                        "colorscale": [
                          [
                            0,
                            "#0d0887"
                          ],
                          [
                            0.1111111111111111,
                            "#46039f"
                          ],
                          [
                            0.2222222222222222,
                            "#7201a8"
                          ],
                          [
                            0.3333333333333333,
                            "#9c179e"
                          ],
                          [
                            0.4444444444444444,
                            "#bd3786"
                          ],
                          [
                            0.5555555555555556,
                            "#d8576b"
                          ],
                          [
                            0.6666666666666666,
                            "#ed7953"
                          ],
                          [
                            0.7777777777777778,
                            "#fb9f3a"
                          ],
                          [
                            0.8888888888888888,
                            "#fdca26"
                          ],
                          [
                            1,
                            "#f0f921"
                          ]
                        ],
                        "type": "heatmapgl"
                      }
                    ],
                    "histogram": [
                      {
                        "marker": {
                          "pattern": {
                            "fillmode": "overlay",
                            "size": 10,
                            "solidity": 0.2
                          }
                        },
                        "type": "histogram"
                      }
                    ],
                    "histogram2d": [
                      {
                        "colorbar": {
                          "outlinewidth": 0,
                          "ticks": ""
                        },
                        "colorscale": [
                          [
                            0,
                            "#0d0887"
                          ],
                          [
                            0.1111111111111111,
                            "#46039f"
                          ],
                          [
                            0.2222222222222222,
                            "#7201a8"
                          ],
                          [
                            0.3333333333333333,
                            "#9c179e"
                          ],
                          [
                            0.4444444444444444,
                            "#bd3786"
                          ],
                          [
                            0.5555555555555556,
                            "#d8576b"
                          ],
                          [
                            0.6666666666666666,
                            "#ed7953"
                          ],
                          [
                            0.7777777777777778,
                            "#fb9f3a"
                          ],
                          [
                            0.8888888888888888,
                            "#fdca26"
                          ],
                          [
                            1,
                            "#f0f921"
                          ]
                        ],
                        "type": "histogram2d"
                      }
                    ],
                    "histogram2dcontour": [
                      {
                        "colorbar": {
                          "outlinewidth": 0,
                          "ticks": ""
                        },
                        "colorscale": [
                          [
                            0,
                            "#0d0887"
                          ],
                          [
                            0.1111111111111111,
                            "#46039f"
                          ],
                          [
                            0.2222222222222222,
                            "#7201a8"
                          ],
                          [
                            0.3333333333333333,
                            "#9c179e"
                          ],
                          [
                            0.4444444444444444,
                            "#bd3786"
                          ],
                          [
                            0.5555555555555556,
                            "#d8576b"
                          ],
                          [
                            0.6666666666666666,
                            "#ed7953"
                          ],
                          [
                            0.7777777777777778,
                            "#fb9f3a"
                          ],
                          [
                            0.8888888888888888,
                            "#fdca26"
                          ],
                          [
                            1,
                            "#f0f921"
                          ]
                        ],
                        "type": "histogram2dcontour"
                      }
                    ],
                    "mesh3d": [
                      {
                        "colorbar": {
                          "outlinewidth": 0,
                          "ticks": ""
                        },
                        "type": "mesh3d"
                      }
                    ],
                    "parcoords": [
                      {
                        "line": {
                          "colorbar": {
                            "outlinewidth": 0,
                            "ticks": ""
                          }
                        },
                        "type": "parcoords"
                      }
                    ],
                    "pie": [
                      {
                        "automargin": true,
                        "type": "pie"
                      }
                    ],
                    "scatter": [
                      {
                        "marker": {
                          "line": {
                            "color": "#283442"
                          }
                        },
                        "type": "scatter"
                      }
                    ],
                    "scatter3d": [
                      {
                        "line": {
                          "colorbar": {
                            "outlinewidth": 0,
                            "ticks": ""
                          }
                        },
                        "marker": {
                          "colorbar": {
                            "outlinewidth": 0,
                            "ticks": ""
                          }
                        },
                        "type": "scatter3d"
                      }
                    ],
                    "scattercarpet": [
                      {
                        "marker": {
                          "colorbar": {
                            "outlinewidth": 0,
                            "ticks": ""
                          }
                        },
                        "type": "scattercarpet"
                      }
                    ],
                    "scattergeo": [
                      {
                        "marker": {
                          "colorbar": {
                            "outlinewidth": 0,
                            "ticks": ""
                          }
                        },
                        "type": "scattergeo"
                      }
                    ],
                    "scattergl": [
                      {
                        "marker": {
                          "line": {
                            "color": "#283442"
                          }
                        },
                        "type": "scattergl"
                      }
                    ],
                    "scattermapbox": [
                      {
                        "marker": {
                          "colorbar": {
                            "outlinewidth": 0,
                            "ticks": ""
                          }
                        },
                        "type": "scattermapbox"
                      }
                    ],
                    "scatterpolar": [
                      {
                        "marker": {
                          "colorbar": {
                            "outlinewidth": 0,
                            "ticks": ""
                          }
                        },
                        "type": "scatterpolar"
                      }
                    ],
                    "scatterpolargl": [
                      {
                        "marker": {
                          "colorbar": {
                            "outlinewidth": 0,
                            "ticks": ""
                          }
                        },
                        "type": "scatterpolargl"
                      }
                    ],
                    "scatterternary": [
                      {
                        "marker": {
                          "colorbar": {
                            "outlinewidth": 0,
                            "ticks": ""
                          }
                        },
                        "type": "scatterternary"
                      }
                    ],
                    "surface": [
                      {
                        "colorbar": {
                          "outlinewidth": 0,
                          "ticks": ""
                        },
                        "colorscale": [
                          [
                            0,
                            "#0d0887"
                          ],
                          [
                            0.1111111111111111,
                            "#46039f"
                          ],
                          [
                            0.2222222222222222,
                            "#7201a8"
                          ],
                          [
                            0.3333333333333333,
                            "#9c179e"
                          ],
                          [
                            0.4444444444444444,
                            "#bd3786"
                          ],
                          [
                            0.5555555555555556,
                            "#d8576b"
                          ],
                          [
                            0.6666666666666666,
                            "#ed7953"
                          ],
                          [
                            0.7777777777777778,
                            "#fb9f3a"
                          ],
                          [
                            0.8888888888888888,
                            "#fdca26"
                          ],
                          [
                            1,
                            "#f0f921"
                          ]
                        ],
                        "type": "surface"
                      }
                    ],
                    "table": [
                      {
                        "cells": {
                          "fill": {
                            "color": "#506784"
                          },
                          "line": {
                            "color": "rgb(17,17,17)"
                          }
                        },
                        "header": {
                          "fill": {
                            "color": "#2a3f5f"
                          },
                          "line": {
                            "color": "rgb(17,17,17)"
                          }
                        },
                        "type": "table"
                      }
                    ]
                  },
                  "layout": {
                    "annotationdefaults": {
                      "arrowcolor": "#f2f5fa",
                      "arrowhead": 0,
                      "arrowwidth": 1
                    },
                    "autotypenumbers": "strict",
                    "coloraxis": {
                      "colorbar": {
                        "outlinewidth": 0,
                        "ticks": ""
                      }
                    },
                    "colorscale": {
                      "diverging": [
                        [
                          0,
                          "#8e0152"
                        ],
                        [
                          0.1,
                          "#c51b7d"
                        ],
                        [
                          0.2,
                          "#de77ae"
                        ],
                        [
                          0.3,
                          "#f1b6da"
                        ],
                        [
                          0.4,
                          "#fde0ef"
                        ],
                        [
                          0.5,
                          "#f7f7f7"
                        ],
                        [
                          0.6,
                          "#e6f5d0"
                        ],
                        [
                          0.7,
                          "#b8e186"
                        ],
                        [
                          0.8,
                          "#7fbc41"
                        ],
                        [
                          0.9,
                          "#4d9221"
                        ],
                        [
                          1,
                          "#276419"
                        ]
                      ],
                      "sequential": [
                        [
                          0,
                          "#0d0887"
                        ],
                        [
                          0.1111111111111111,
                          "#46039f"
                        ],
                        [
                          0.2222222222222222,
                          "#7201a8"
                        ],
                        [
                          0.3333333333333333,
                          "#9c179e"
                        ],
                        [
                          0.4444444444444444,
                          "#bd3786"
                        ],
                        [
                          0.5555555555555556,
                          "#d8576b"
                        ],
                        [
                          0.6666666666666666,
                          "#ed7953"
                        ],
                        [
                          0.7777777777777778,
                          "#fb9f3a"
                        ],
                        [
                          0.8888888888888888,
                          "#fdca26"
                        ],
                        [
                          1,
                          "#f0f921"
                        ]
                      ],
                      "sequentialminus": [
                        [
                          0,
                          "#0d0887"
                        ],
                        [
                          0.1111111111111111,
                          "#46039f"
                        ],
                        [
                          0.2222222222222222,
                          "#7201a8"
                        ],
                        [
                          0.3333333333333333,
                          "#9c179e"
                        ],
                        [
                          0.4444444444444444,
                          "#bd3786"
                        ],
                        [
                          0.5555555555555556,
                          "#d8576b"
                        ],
                        [
                          0.6666666666666666,
                          "#ed7953"
                        ],
                        [
                          0.7777777777777778,
                          "#fb9f3a"
                        ],
                        [
                          0.8888888888888888,
                          "#fdca26"
                        ],
                        [
                          1,
                          "#f0f921"
                        ]
                      ]
                    },
                    "colorway": [
                      "#636efa",
                      "#EF553B",
                      "#00cc96",
                      "#ab63fa",
                      "#FFA15A",
                      "#19d3f3",
                      "#FF6692",
                      "#B6E880",
                      "#FF97FF",
                      "#FECB52"
                    ],
                    "font": {
                      "color": "#f2f5fa"
                    },
                    "geo": {
                      "bgcolor": "rgb(17,17,17)",
                      "lakecolor": "rgb(17,17,17)",
                      "landcolor": "rgb(17,17,17)",
                      "showlakes": true,
                      "showland": true,
                      "subunitcolor": "#506784"
                    },
                    "hoverlabel": {
                      "align": "left"
                    },
                    "hovermode": "closest",
                    "mapbox": {
                      "style": "dark"
                    },
                    "paper_bgcolor": "rgb(17,17,17)",
                    "plot_bgcolor": "rgb(17,17,17)",
                    "polar": {
                      "angularaxis": {
                        "gridcolor": "#506784",
                        "linecolor": "#506784",
                        "ticks": ""
                      },
                      "bgcolor": "rgb(17,17,17)",
                      "radialaxis": {
                        "gridcolor": "#506784",
                        "linecolor": "#506784",
                        "ticks": ""
                      }
                    },
                    "scene": {
                      "xaxis": {
                        "backgroundcolor": "rgb(17,17,17)",
                        "gridcolor": "#506784",
                        "gridwidth": 2,
                        "linecolor": "#506784",
                        "showbackground": true,
                        "ticks": "",
                        "zerolinecolor": "#C8D4E3"
                      },
                      "yaxis": {
                        "backgroundcolor": "rgb(17,17,17)",
                        "gridcolor": "#506784",
                        "gridwidth": 2,
                        "linecolor": "#506784",
                        "showbackground": true,
                        "ticks": "",
                        "zerolinecolor": "#C8D4E3"
                      },
                      "zaxis": {
                        "backgroundcolor": "rgb(17,17,17)",
                        "gridcolor": "#506784",
                        "gridwidth": 2,
                        "linecolor": "#506784",
                        "showbackground": true,
                        "ticks": "",
                        "zerolinecolor": "#C8D4E3"
                      }
                    },
                    "shapedefaults": {
                      "line": {
                        "color": "#f2f5fa"
                      }
                    },
                    "sliderdefaults": {
                      "bgcolor": "#C8D4E3",
                      "bordercolor": "rgb(17,17,17)",
                      "borderwidth": 1,
                      "tickwidth": 0
                    },
                    "ternary": {
                      "aaxis": {
                        "gridcolor": "#506784",
                        "linecolor": "#506784",
                        "ticks": ""
                      },
                      "baxis": {
                        "gridcolor": "#506784",
                        "linecolor": "#506784",
                        "ticks": ""
                      },
                      "bgcolor": "rgb(17,17,17)",
                      "caxis": {
                        "gridcolor": "#506784",
                        "linecolor": "#506784",
                        "ticks": ""
                      }
                    },
                    "title": {
                      "x": 0.05
                    },
                    "updatemenudefaults": {
                      "bgcolor": "#506784",
                      "borderwidth": 0
                    },
                    "xaxis": {
                      "automargin": true,
                      "gridcolor": "#283442",
                      "linecolor": "#506784",
                      "ticks": "",
                      "title": {
                        "standoff": 15
                      },
                      "zerolinecolor": "#283442",
                      "zerolinewidth": 2
                    },
                    "yaxis": {
                      "automargin": true,
                      "gridcolor": "#283442",
                      "linecolor": "#506784",
                      "ticks": "",
                      "title": {
                        "standoff": 15
                      },
                      "zerolinecolor": "#283442",
                      "zerolinewidth": 2
                    }
                  }
                },
                "xaxis": {
                  "anchor": "y",
                  "domain": [
                    0,
                    1
                  ],
                  "title": {
                    "text": "UnitPrice"
                  }
                },
                "yaxis": {
                  "anchor": "x",
                  "domain": [
                    0,
                    1
                  ],
                  "title": {
                    "text": "Year"
                  }
                }
              }
            },
            "text/html": [
              "<div>                            <div id=\"633ff59a-22ab-47e1-964c-0003275145a6\" class=\"plotly-graph-div\" style=\"height:525px; width:100%;\"></div>            <script type=\"text/javascript\">                require([\"plotly\"], function(Plotly) {                    window.PLOTLYENV=window.PLOTLYENV || {};                                    if (document.getElementById(\"633ff59a-22ab-47e1-964c-0003275145a6\")) {                    Plotly.newPlot(                        \"633ff59a-22ab-47e1-964c-0003275145a6\",                        [{\"alignmentgroup\":\"True\",\"boxpoints\":\"all\",\"fillcolor\":\"rgba(255,255,255,0)\",\"hoveron\":\"points\",\"hovertemplate\":\"UnitPrice=%{x}<br>Year=%{y}<extra></extra>\",\"legendgroup\":\"\",\"line\":{\"color\":\"rgba(255,255,255,0)\"},\"marker\":{\"color\":\"#636efa\"},\"name\":\"\",\"offsetgroup\":\"\",\"orientation\":\"h\",\"pointpos\":0,\"showlegend\":false,\"x\":[0.85,2.95,1.25,7.46,2.51,3.95,2.1,4.95,2.46,1.69,0.39,0.55,12.75,1.25,1.65,1.65,4.25,2.1,4.25,1.28,2.95,1.45,3.29,2.46,4.95,1.25,2.55,0.83,7.95,2.1,0.21,2.95,1.65,3.29,1.63,1.25,2.95,7.95,1.65,4.25,0.29,7.95,8.29,1.25,2.08,0.83,1.65,1.45,2.95,0.55,2.95,5.91,4.13,7.46,3.95,2.95,1.95,2.1,5.79,2.08,3.75,1.65,0.85,4.95,2.25,0.83,0.85,14.96,8.5,2.95,8.29,1.65,2.08,1.45,4.25,5.79,2.08,5.79,1.63,2.08,4.25,0.85,0.42,1.65,3.36,2.55,2.89,1.25,10.79,2.46,3.29,4.13,1.65,0.75,1.95,7.95,1.25,2.46,0.62,4.95,2.46,4.95,3.75,2.1,7.46,7.95,0.29,1.65,0.65,0.42,1.95,1.25,2.08,3.25,0.83,1.63,4.95,1.25,0.79,1.25,3.29,10.79,3.75,1.25,1.25,1.45,2.46,4.95,4.13,2.08,2.46,0.55,1.45,2.95,25.49,0.85,1.65,0.42,2.95,4.25,2.08,1.25,0.39,4.13,4.95,2.95,0.83,1.25,0.79,19.95,1.65,0.83,2.49,5.95,4.95,1.66,7.46,3.29,0.42,0.55,4.95,1.25,1.65,4.25,1.63,2.46,1.45,0.85,12.46,7.95,4.13,1.25,1.45,4.95,0.85,0.85,2.55,1.65,4.95,4.95,3.75,1.25,0.79,0.38,1.65,1.65,0.55,0.42,2.08,2.95,1.63,2.51,2.08,2.55,9.95,1.65,8.29,5.79,1.45,2.08,3.75,1.69,1.25,3.75,0.42,4.96,4.24,1.65,2.1,4.96,3.75,7.95,0.85,1.65,1.25,4.95,0.85,2.95,6.63,1.65,0.42,1.45,1.25,5.95,1.66,8.25,2.95,2.08,4.96,1.25,1.66,2.95,3.75,2.95,0.29,4.13,5.75,9.95,0.29,2.95,5.79,1.65,4.25,1.45,2.55,1.63,4.13,3.95,3.29,0.39,0.29,0.55,0.83,12.75,2.1,1.25,1.25,12.5,5.06,10.79,2.1,2.08,0.19,2.95,2.25,8.29,4.96,5.79,2.51,4.95,1.25,1.25,1.65,0.85,0.42,5.95,4.95,0.42,4.15,0.55,0.85,0.39,4.95,0.42,1.25,1.25,2.95,0.83,0.65,2.1,1.25,0.85,2.1,8.5,7.95,4.95,0.42,0.39,0.85,0.85,1.65,1.65,5.95,7.95,0.42,0.85,18.0,2.95,0.42,2.08,0.42,1.25,4.95,5.45,0.85,1.65,7.95,2.08,1.25,2.08,1.45,1.95,7.95,4.15,1.25,4.95,2.55,2.95,1.65,2.08,0.85,0.85,2.95,3.75,3.75,1.95,12.75,0.39,10.95,0.29,2.55,1.45,0.65,2.95,2.55,3.75,4.95,2.95,1.25,0.55,0.85,14.95,4.95,3.25,4.95,2.08,0.85,18.0,1.25,9.95,1.65,1.65,1.65,4.25,1.65,0.85,8.5,1.25,0.42,4.95,1.45,2.08,1.65,10.95,1.0,18.0,2.95,2.95,0.65,0.42,0.85,0.55,0.85,1.25,12.5,0.42,1.65,0.42,0.65,2.55,1.25,5.95,1.25,2.95,2.95,0.39,2.55,2.95,2.1,1.65,12.75,1.25,0.83,3.75,2.1,1.25,3.25,3.25,1.95,1.25,1.25,18.0,0.42,0.85,1.65,4.95,1.25,4.95,0.85,1.25,2.55,0.85,0.42,1.95,0.65,1.25,2.1,1.95,18.0,1.25,1.65,2.95,0.85,1.95,0.55,1.65,18.0,1.45,2.55,0.42,1.65,4.95,1.65,0.85,8.25,3.75,1.65,1.65,2.08,1.65,0.42,10.95,4.15,0.65,1.25,0.42,1.25,4.95,0.39,0.85,1.25,0.42,18.0,0.85,8.25,2.25,2.08,0.83,2.95,1.25,1.25,0.85,3.25,2.08,1.65,1.65,1.25,0.65,4.15,2.95,4.15,4.95,4.95,0.42,2.1,4.15,0.85,0.85,1.25,4.95,4.15,2.1,2.95,1.25,2.1,0.85,18.0,0.42,1.65,18.0,0.85,4.15,5.95,1.25,4.95,0.82,0.12,8.5,0.83,0.42,1.65,8.95,2.55,1.65,0.42,1.25,18.0,1.25,0.39,2.1,2.55,1.25,0.85,2.55,1.25,1.65,7.95,2.08,0.85,1.25,1.65,2.08,1.25,18.0,0.21,1.65,0.85,6.75,1.25,2.08,6.75,3.75,0.65,4.15,0.65,4.15,3.25,18.0,0.42,0.42,18.0,0.42,1.95,1.95,3.75,1.65,2.55,1.65,0.85,2.95,3.75,2.95,0.42,0.39,11.95,2.95,1.65,1.65,6.75,7.95,4.95,7.95,1.65,2.55,6.75,2.89,3.25,4.15,2.08,2.95,2.08,5.95,1.65,1.95,2.95,2.95,1.95,5.95,4.15,3.75,3.75,4.95,8.25,3.75,0.42,4.95,1.25,2.1,3.25,0.55,0.85,10.95,1.25,2.1,1.65,1.25,0.55,0.85,3.95,1.95,0.85,0.85,1.95,1.65,2.95,15.0,3.25,2.55,3.75,4.95,1.25,8.25,1.25,0.55,4.95,1.25],\"x0\":\" \",\"xaxis\":\"x\",\"y\":[\"2011\",\"2011\",\"2011\",\"2011\",\"2010\",\"2011\",\"2011\",\"2011\",\"2011\",\"2011\",\"2011\",\"2011\",\"2010\",\"2011\",\"2011\",\"2011\",\"2010\",\"2011\",\"2011\",\"2010\",\"2010\",\"2011\",\"2011\",\"2011\",\"2011\",\"2011\",\"2011\",\"2011\",\"2011\",\"2011\",\"2011\",\"2011\",\"2011\",\"2011\",\"2011\",\"2010\",\"2011\",\"2011\",\"2011\",\"2011\",\"2011\",\"2011\",\"2011\",\"2011\",\"2011\",\"2011\",\"2011\",\"2011\",\"2011\",\"2011\",\"2011\",\"2010\",\"2011\",\"2011\",\"2011\",\"2011\",\"2011\",\"2010\",\"2011\",\"2011\",\"2011\",\"2011\",\"2011\",\"2011\",\"2011\",\"2011\",\"2010\",\"2011\",\"2011\",\"2010\",\"2011\",\"2011\",\"2011\",\"2011\",\"2011\",\"2011\",\"2011\",\"2011\",\"2011\",\"2011\",\"2010\",\"2011\",\"2011\",\"2011\",\"2010\",\"2011\",\"2011\",\"2011\",\"2011\",\"2011\",\"2011\",\"2011\",\"2011\",\"2011\",\"2011\",\"2011\",\"2011\",\"2011\",\"2011\",\"2011\",\"2011\",\"2011\",\"2011\",\"2011\",\"2011\",\"2011\",\"2011\",\"2011\",\"2011\",\"2011\",\"2011\",\"2011\",\"2011\",\"2010\",\"2011\",\"2011\",\"2011\",\"2011\",\"2011\",\"2011\",\"2011\",\"2011\",\"2010\",\"2011\",\"2011\",\"2011\",\"2011\",\"2011\",\"2011\",\"2011\",\"2011\",\"2011\",\"2011\",\"2011\",\"2010\",\"2011\",\"2011\",\"2011\",\"2011\",\"2011\",\"2011\",\"2011\",\"2011\",\"2011\",\"2011\",\"2011\",\"2011\",\"2011\",\"2011\",\"2011\",\"2011\",\"2011\",\"2011\",\"2011\",\"2011\",\"2010\",\"2011\",\"2011\",\"2011\",\"2011\",\"2010\",\"2011\",\"2011\",\"2011\",\"2011\",\"2011\",\"2011\",\"2011\",\"2011\",\"2011\",\"2011\",\"2011\",\"2011\",\"2011\",\"2011\",\"2011\",\"2011\",\"2011\",\"2011\",\"2011\",\"2011\",\"2011\",\"2011\",\"2011\",\"2011\",\"2011\",\"2011\",\"2011\",\"2011\",\"2011\",\"2011\",\"2011\",\"2011\",\"2010\",\"2011\",\"2011\",\"2011\",\"2011\",\"2011\",\"2011\",\"2011\",\"2011\",\"2011\",\"2011\",\"2011\",\"2011\",\"2010\",\"2011\",\"2011\",\"2011\",\"2011\",\"2011\",\"2011\",\"2011\",\"2011\",\"2011\",\"2011\",\"2011\",\"2011\",\"2011\",\"2011\",\"2011\",\"2011\",\"2011\",\"2010\",\"2011\",\"2011\",\"2011\",\"2011\",\"2011\",\"2011\",\"2011\",\"2011\",\"2011\",\"2011\",\"2011\",\"2011\",\"2011\",\"2011\",\"2011\",\"2011\",\"2010\",\"2011\",\"2011\",\"2011\",\"2011\",\"2011\",\"2011\",\"2011\",\"2011\",\"2011\",\"2011\",\"2011\",\"2011\",\"2011\",\"2011\",\"2011\",\"2011\",\"2010\",\"2011\",\"2011\",\"2011\",\"2011\",\"2010\",\"2011\",\"2011\",\"2011\",\"2011\",\"2011\",\"2010\",\"2011\",\"2010\",\"2011\",\"2011\",\"2011\",\"2011\",\"2011\",\"2011\",\"2011\",\"2011\",\"2011\",\"2011\",\"2011\",\"2011\",\"2011\",\"2011\",\"2011\",\"2011\",\"2011\",\"2011\",\"2011\",\"2011\",\"2011\",\"2011\",\"2011\",\"2011\",\"2011\",\"2011\",\"2011\",\"2010\",\"2011\",\"2011\",\"2011\",\"2011\",\"2011\",\"2011\",\"2011\",\"2011\",\"2011\",\"2011\",\"2011\",\"2011\",\"2011\",\"2011\",\"2011\",\"2011\",\"2011\",\"2011\",\"2011\",\"2011\",\"2011\",\"2010\",\"2011\",\"2011\",\"2011\",\"2011\",\"2011\",\"2011\",\"2011\",\"2011\",\"2011\",\"2011\",\"2011\",\"2011\",\"2011\",\"2011\",\"2011\",\"2011\",\"2011\",\"2011\",\"2011\",\"2011\",\"2011\",\"2011\",\"2011\",\"2011\",\"2011\",\"2011\",\"2011\",\"2011\",\"2010\",\"2010\",\"2011\",\"2011\",\"2011\",\"2011\",\"2011\",\"2011\",\"2011\",\"2011\",\"2011\",\"2011\",\"2011\",\"2011\",\"2011\",\"2011\",\"2011\",\"2011\",\"2011\",\"2011\",\"2011\",\"2011\",\"2011\",\"2011\",\"2011\",\"2011\",\"2011\",\"2011\",\"2011\",\"2011\",\"2011\",\"2011\",\"2011\",\"2010\",\"2011\",\"2011\",\"2011\",\"2011\",\"2011\",\"2011\",\"2010\",\"2011\",\"2011\",\"2011\",\"2011\",\"2011\",\"2011\",\"2011\",\"2011\",\"2011\",\"2011\",\"2011\",\"2011\",\"2011\",\"2011\",\"2011\",\"2011\",\"2011\",\"2011\",\"2011\",\"2011\",\"2011\",\"2011\",\"2011\",\"2011\",\"2011\",\"2011\",\"2011\",\"2011\",\"2011\",\"2011\",\"2011\",\"2011\",\"2011\",\"2011\",\"2011\",\"2010\",\"2011\",\"2011\",\"2011\",\"2011\",\"2011\",\"2011\",\"2011\",\"2011\",\"2011\",\"2011\",\"2011\",\"2011\",\"2010\",\"2011\",\"2011\",\"2011\",\"2011\",\"2011\",\"2011\",\"2011\",\"2011\",\"2011\",\"2011\",\"2011\",\"2010\",\"2011\",\"2011\",\"2011\",\"2011\",\"2011\",\"2011\",\"2011\",\"2011\",\"2011\",\"2011\",\"2011\",\"2011\",\"2011\",\"2011\",\"2011\",\"2011\",\"2011\",\"2011\",\"2011\",\"2011\",\"2011\",\"2011\",\"2011\",\"2011\",\"2011\",\"2011\",\"2011\",\"2011\",\"2011\",\"2011\",\"2011\",\"2011\",\"2011\",\"2011\",\"2011\",\"2011\",\"2011\",\"2011\",\"2011\",\"2011\",\"2011\",\"2011\",\"2011\",\"2011\",\"2010\",\"2011\",\"2011\",\"2011\",\"2011\",\"2011\",\"2011\",\"2011\",\"2011\",\"2011\",\"2011\",\"2011\",\"2011\",\"2011\",\"2011\",\"2011\",\"2011\",\"2011\",\"2011\",\"2011\",\"2011\",\"2011\",\"2011\",\"2011\",\"2011\",\"2011\",\"2011\",\"2011\",\"2010\",\"2011\",\"2011\",\"2011\",\"2011\",\"2011\",\"2011\",\"2011\",\"2011\",\"2011\",\"2011\",\"2010\",\"2010\",\"2011\",\"2011\",\"2011\",\"2011\",\"2011\",\"2011\",\"2011\",\"2011\",\"2011\",\"2011\",\"2011\",\"2011\",\"2011\",\"2011\",\"2011\",\"2011\",\"2011\",\"2011\",\"2011\",\"2011\",\"2011\",\"2011\",\"2011\",\"2011\",\"2011\",\"2011\",\"2011\",\"2011\",\"2011\",\"2011\",\"2011\",\"2011\",\"2011\",\"2011\",\"2011\",\"2011\",\"2011\",\"2011\",\"2011\",\"2011\",\"2011\",\"2011\",\"2011\",\"2011\",\"2011\",\"2011\",\"2011\",\"2011\",\"2011\",\"2011\",\"2011\",\"2011\",\"2011\",\"2011\",\"2011\",\"2011\",\"2011\",\"2011\",\"2011\",\"2011\",\"2011\",\"2011\",\"2011\",\"2011\",\"2011\",\"2011\",\"2011\",\"2011\",\"2011\",\"2011\",\"2011\",\"2011\",\"2011\",\"2011\",\"2011\",\"2011\",\"2011\",\"2011\",\"2011\",\"2011\",\"2011\",\"2011\",\"2011\",\"2011\",\"2011\",\"2011\",\"2011\",\"2011\",\"2011\"],\"y0\":\" \",\"yaxis\":\"y\",\"type\":\"box\"}],                        {\"template\":{\"data\":{\"histogram2dcontour\":[{\"type\":\"histogram2dcontour\",\"colorbar\":{\"outlinewidth\":0,\"ticks\":\"\"},\"colorscale\":[[0.0,\"#0d0887\"],[0.1111111111111111,\"#46039f\"],[0.2222222222222222,\"#7201a8\"],[0.3333333333333333,\"#9c179e\"],[0.4444444444444444,\"#bd3786\"],[0.5555555555555556,\"#d8576b\"],[0.6666666666666666,\"#ed7953\"],[0.7777777777777778,\"#fb9f3a\"],[0.8888888888888888,\"#fdca26\"],[1.0,\"#f0f921\"]]}],\"choropleth\":[{\"type\":\"choropleth\",\"colorbar\":{\"outlinewidth\":0,\"ticks\":\"\"}}],\"histogram2d\":[{\"type\":\"histogram2d\",\"colorbar\":{\"outlinewidth\":0,\"ticks\":\"\"},\"colorscale\":[[0.0,\"#0d0887\"],[0.1111111111111111,\"#46039f\"],[0.2222222222222222,\"#7201a8\"],[0.3333333333333333,\"#9c179e\"],[0.4444444444444444,\"#bd3786\"],[0.5555555555555556,\"#d8576b\"],[0.6666666666666666,\"#ed7953\"],[0.7777777777777778,\"#fb9f3a\"],[0.8888888888888888,\"#fdca26\"],[1.0,\"#f0f921\"]]}],\"heatmap\":[{\"type\":\"heatmap\",\"colorbar\":{\"outlinewidth\":0,\"ticks\":\"\"},\"colorscale\":[[0.0,\"#0d0887\"],[0.1111111111111111,\"#46039f\"],[0.2222222222222222,\"#7201a8\"],[0.3333333333333333,\"#9c179e\"],[0.4444444444444444,\"#bd3786\"],[0.5555555555555556,\"#d8576b\"],[0.6666666666666666,\"#ed7953\"],[0.7777777777777778,\"#fb9f3a\"],[0.8888888888888888,\"#fdca26\"],[1.0,\"#f0f921\"]]}],\"heatmapgl\":[{\"type\":\"heatmapgl\",\"colorbar\":{\"outlinewidth\":0,\"ticks\":\"\"},\"colorscale\":[[0.0,\"#0d0887\"],[0.1111111111111111,\"#46039f\"],[0.2222222222222222,\"#7201a8\"],[0.3333333333333333,\"#9c179e\"],[0.4444444444444444,\"#bd3786\"],[0.5555555555555556,\"#d8576b\"],[0.6666666666666666,\"#ed7953\"],[0.7777777777777778,\"#fb9f3a\"],[0.8888888888888888,\"#fdca26\"],[1.0,\"#f0f921\"]]}],\"contourcarpet\":[{\"type\":\"contourcarpet\",\"colorbar\":{\"outlinewidth\":0,\"ticks\":\"\"}}],\"contour\":[{\"type\":\"contour\",\"colorbar\":{\"outlinewidth\":0,\"ticks\":\"\"},\"colorscale\":[[0.0,\"#0d0887\"],[0.1111111111111111,\"#46039f\"],[0.2222222222222222,\"#7201a8\"],[0.3333333333333333,\"#9c179e\"],[0.4444444444444444,\"#bd3786\"],[0.5555555555555556,\"#d8576b\"],[0.6666666666666666,\"#ed7953\"],[0.7777777777777778,\"#fb9f3a\"],[0.8888888888888888,\"#fdca26\"],[1.0,\"#f0f921\"]]}],\"surface\":[{\"type\":\"surface\",\"colorbar\":{\"outlinewidth\":0,\"ticks\":\"\"},\"colorscale\":[[0.0,\"#0d0887\"],[0.1111111111111111,\"#46039f\"],[0.2222222222222222,\"#7201a8\"],[0.3333333333333333,\"#9c179e\"],[0.4444444444444444,\"#bd3786\"],[0.5555555555555556,\"#d8576b\"],[0.6666666666666666,\"#ed7953\"],[0.7777777777777778,\"#fb9f3a\"],[0.8888888888888888,\"#fdca26\"],[1.0,\"#f0f921\"]]}],\"mesh3d\":[{\"type\":\"mesh3d\",\"colorbar\":{\"outlinewidth\":0,\"ticks\":\"\"}}],\"scatter\":[{\"marker\":{\"line\":{\"color\":\"#283442\"}},\"type\":\"scatter\"}],\"parcoords\":[{\"type\":\"parcoords\",\"line\":{\"colorbar\":{\"outlinewidth\":0,\"ticks\":\"\"}}}],\"scatterpolargl\":[{\"type\":\"scatterpolargl\",\"marker\":{\"colorbar\":{\"outlinewidth\":0,\"ticks\":\"\"}}}],\"bar\":[{\"error_x\":{\"color\":\"#f2f5fa\"},\"error_y\":{\"color\":\"#f2f5fa\"},\"marker\":{\"line\":{\"color\":\"rgb(17,17,17)\",\"width\":0.5},\"pattern\":{\"fillmode\":\"overlay\",\"size\":10,\"solidity\":0.2}},\"type\":\"bar\"}],\"scattergeo\":[{\"type\":\"scattergeo\",\"marker\":{\"colorbar\":{\"outlinewidth\":0,\"ticks\":\"\"}}}],\"scatterpolar\":[{\"type\":\"scatterpolar\",\"marker\":{\"colorbar\":{\"outlinewidth\":0,\"ticks\":\"\"}}}],\"histogram\":[{\"marker\":{\"pattern\":{\"fillmode\":\"overlay\",\"size\":10,\"solidity\":0.2}},\"type\":\"histogram\"}],\"scattergl\":[{\"marker\":{\"line\":{\"color\":\"#283442\"}},\"type\":\"scattergl\"}],\"scatter3d\":[{\"type\":\"scatter3d\",\"line\":{\"colorbar\":{\"outlinewidth\":0,\"ticks\":\"\"}},\"marker\":{\"colorbar\":{\"outlinewidth\":0,\"ticks\":\"\"}}}],\"scattermapbox\":[{\"type\":\"scattermapbox\",\"marker\":{\"colorbar\":{\"outlinewidth\":0,\"ticks\":\"\"}}}],\"scatterternary\":[{\"type\":\"scatterternary\",\"marker\":{\"colorbar\":{\"outlinewidth\":0,\"ticks\":\"\"}}}],\"scattercarpet\":[{\"type\":\"scattercarpet\",\"marker\":{\"colorbar\":{\"outlinewidth\":0,\"ticks\":\"\"}}}],\"carpet\":[{\"aaxis\":{\"endlinecolor\":\"#A2B1C6\",\"gridcolor\":\"#506784\",\"linecolor\":\"#506784\",\"minorgridcolor\":\"#506784\",\"startlinecolor\":\"#A2B1C6\"},\"baxis\":{\"endlinecolor\":\"#A2B1C6\",\"gridcolor\":\"#506784\",\"linecolor\":\"#506784\",\"minorgridcolor\":\"#506784\",\"startlinecolor\":\"#A2B1C6\"},\"type\":\"carpet\"}],\"table\":[{\"cells\":{\"fill\":{\"color\":\"#506784\"},\"line\":{\"color\":\"rgb(17,17,17)\"}},\"header\":{\"fill\":{\"color\":\"#2a3f5f\"},\"line\":{\"color\":\"rgb(17,17,17)\"}},\"type\":\"table\"}],\"barpolar\":[{\"marker\":{\"line\":{\"color\":\"rgb(17,17,17)\",\"width\":0.5},\"pattern\":{\"fillmode\":\"overlay\",\"size\":10,\"solidity\":0.2}},\"type\":\"barpolar\"}],\"pie\":[{\"automargin\":true,\"type\":\"pie\"}]},\"layout\":{\"autotypenumbers\":\"strict\",\"colorway\":[\"#636efa\",\"#EF553B\",\"#00cc96\",\"#ab63fa\",\"#FFA15A\",\"#19d3f3\",\"#FF6692\",\"#B6E880\",\"#FF97FF\",\"#FECB52\"],\"font\":{\"color\":\"#f2f5fa\"},\"hovermode\":\"closest\",\"hoverlabel\":{\"align\":\"left\"},\"paper_bgcolor\":\"rgb(17,17,17)\",\"plot_bgcolor\":\"rgb(17,17,17)\",\"polar\":{\"bgcolor\":\"rgb(17,17,17)\",\"angularaxis\":{\"gridcolor\":\"#506784\",\"linecolor\":\"#506784\",\"ticks\":\"\"},\"radialaxis\":{\"gridcolor\":\"#506784\",\"linecolor\":\"#506784\",\"ticks\":\"\"}},\"ternary\":{\"bgcolor\":\"rgb(17,17,17)\",\"aaxis\":{\"gridcolor\":\"#506784\",\"linecolor\":\"#506784\",\"ticks\":\"\"},\"baxis\":{\"gridcolor\":\"#506784\",\"linecolor\":\"#506784\",\"ticks\":\"\"},\"caxis\":{\"gridcolor\":\"#506784\",\"linecolor\":\"#506784\",\"ticks\":\"\"}},\"coloraxis\":{\"colorbar\":{\"outlinewidth\":0,\"ticks\":\"\"}},\"colorscale\":{\"sequential\":[[0.0,\"#0d0887\"],[0.1111111111111111,\"#46039f\"],[0.2222222222222222,\"#7201a8\"],[0.3333333333333333,\"#9c179e\"],[0.4444444444444444,\"#bd3786\"],[0.5555555555555556,\"#d8576b\"],[0.6666666666666666,\"#ed7953\"],[0.7777777777777778,\"#fb9f3a\"],[0.8888888888888888,\"#fdca26\"],[1.0,\"#f0f921\"]],\"sequentialminus\":[[0.0,\"#0d0887\"],[0.1111111111111111,\"#46039f\"],[0.2222222222222222,\"#7201a8\"],[0.3333333333333333,\"#9c179e\"],[0.4444444444444444,\"#bd3786\"],[0.5555555555555556,\"#d8576b\"],[0.6666666666666666,\"#ed7953\"],[0.7777777777777778,\"#fb9f3a\"],[0.8888888888888888,\"#fdca26\"],[1.0,\"#f0f921\"]],\"diverging\":[[0,\"#8e0152\"],[0.1,\"#c51b7d\"],[0.2,\"#de77ae\"],[0.3,\"#f1b6da\"],[0.4,\"#fde0ef\"],[0.5,\"#f7f7f7\"],[0.6,\"#e6f5d0\"],[0.7,\"#b8e186\"],[0.8,\"#7fbc41\"],[0.9,\"#4d9221\"],[1,\"#276419\"]]},\"xaxis\":{\"gridcolor\":\"#283442\",\"linecolor\":\"#506784\",\"ticks\":\"\",\"title\":{\"standoff\":15},\"zerolinecolor\":\"#283442\",\"automargin\":true,\"zerolinewidth\":2},\"yaxis\":{\"gridcolor\":\"#283442\",\"linecolor\":\"#506784\",\"ticks\":\"\",\"title\":{\"standoff\":15},\"zerolinecolor\":\"#283442\",\"automargin\":true,\"zerolinewidth\":2},\"scene\":{\"xaxis\":{\"backgroundcolor\":\"rgb(17,17,17)\",\"gridcolor\":\"#506784\",\"linecolor\":\"#506784\",\"showbackground\":true,\"ticks\":\"\",\"zerolinecolor\":\"#C8D4E3\",\"gridwidth\":2},\"yaxis\":{\"backgroundcolor\":\"rgb(17,17,17)\",\"gridcolor\":\"#506784\",\"linecolor\":\"#506784\",\"showbackground\":true,\"ticks\":\"\",\"zerolinecolor\":\"#C8D4E3\",\"gridwidth\":2},\"zaxis\":{\"backgroundcolor\":\"rgb(17,17,17)\",\"gridcolor\":\"#506784\",\"linecolor\":\"#506784\",\"showbackground\":true,\"ticks\":\"\",\"zerolinecolor\":\"#C8D4E3\",\"gridwidth\":2}},\"shapedefaults\":{\"line\":{\"color\":\"#f2f5fa\"}},\"annotationdefaults\":{\"arrowcolor\":\"#f2f5fa\",\"arrowhead\":0,\"arrowwidth\":1},\"geo\":{\"bgcolor\":\"rgb(17,17,17)\",\"landcolor\":\"rgb(17,17,17)\",\"subunitcolor\":\"#506784\",\"showland\":true,\"showlakes\":true,\"lakecolor\":\"rgb(17,17,17)\"},\"title\":{\"x\":0.05},\"updatemenudefaults\":{\"bgcolor\":\"#506784\",\"borderwidth\":0},\"sliderdefaults\":{\"bgcolor\":\"#C8D4E3\",\"borderwidth\":1,\"bordercolor\":\"rgb(17,17,17)\",\"tickwidth\":0},\"mapbox\":{\"style\":\"dark\"}}},\"xaxis\":{\"anchor\":\"y\",\"domain\":[0.0,1.0],\"title\":{\"text\":\"UnitPrice\"}},\"yaxis\":{\"anchor\":\"x\",\"domain\":[0.0,1.0],\"title\":{\"text\":\"Year\"}},\"legend\":{\"tracegroupgap\":0},\"margin\":{\"t\":60},\"boxmode\":\"group\"},                        {\"responsive\": true}                    ).then(function(){\n",
              "                            \n",
              "var gd = document.getElementById('633ff59a-22ab-47e1-964c-0003275145a6');\n",
              "var x = new MutationObserver(function (mutations, observer) {{\n",
              "        var display = window.getComputedStyle(gd).display;\n",
              "        if (!display || display === 'none') {{\n",
              "            console.log([gd, 'removed!']);\n",
              "            Plotly.purge(gd);\n",
              "            observer.disconnect();\n",
              "        }}\n",
              "}});\n",
              "\n",
              "// Listen for the removal of the full notebook cells\n",
              "var notebookContainer = gd.closest('#notebook-container');\n",
              "if (notebookContainer) {{\n",
              "    x.observe(notebookContainer, {childList: true});\n",
              "}}\n",
              "\n",
              "// Listen for the clearing of the current output cell\n",
              "var outputEl = gd.closest('.output');\n",
              "if (outputEl) {{\n",
              "    x.observe(outputEl, {childList: true});\n",
              "}}\n",
              "\n",
              "                        })                };                });            </script>        </div>"
            ]
          },
          "metadata": {},
          "output_type": "display_data"
        }
      ],
      "source": [
        "fig = px.strip(data_frame=df, y= \"Year\", x = \"UnitPrice\")\n",
        "fig.show()"
      ]
    },
    {
      "cell_type": "code",
      "execution_count": null,
      "metadata": {
        "id": "uFQnciWr_fy5",
        "outputId": "74c26201-aba0-4394-c7e2-01a807783e1e"
      },
      "outputs": [
        {
          "data": {
            "application/vnd.plotly.v1+json": {
              "config": {
                "plotlyServerURL": "https://plot.ly"
              },
              "data": [
                {
                  "alignmentgroup": "True",
                  "bingroup": "x",
                  "hovertemplate": "Major Category=Clothes<br>OrderValue=%{x}<br>count=%{y}<extra></extra>",
                  "legendgroup": "Clothes",
                  "marker": {
                    "color": "#636efa",
                    "pattern": {
                      "shape": ""
                    }
                  },
                  "name": "Clothes",
                  "offsetgroup": "Clothes",
                  "orientation": "v",
                  "showlegend": true,
                  "type": "histogram",
                  "x": [
                    10.2,
                    35.4,
                    12.6,
                    29.7,
                    16.5,
                    4.25,
                    1.28,
                    34.8,
                    3.29,
                    10.2,
                    7.95,
                    19.8,
                    25,
                    15.9,
                    70.8,
                    8.5,
                    8.29,
                    2.08,
                    12.75,
                    1.63,
                    17,
                    0.85,
                    1.25,
                    6.6,
                    9,
                    4.95,
                    9.9,
                    15.9,
                    5.85,
                    1.25,
                    29.7,
                    3.29,
                    10.79,
                    15,
                    4.13,
                    24.96,
                    2.46,
                    35.4,
                    2.55,
                    2.95,
                    7.5,
                    39.9,
                    29.84,
                    0.84,
                    1.45,
                    10.2,
                    4.13,
                    1.25,
                    29.7,
                    1.65,
                    20.8,
                    4.89,
                    19.8,
                    1.45,
                    2.5,
                    9.92,
                    19.8,
                    1.45,
                    1.25,
                    3.32,
                    1.66,
                    23,
                    39.8,
                    7.65,
                    1.17,
                    14.7,
                    10.12,
                    20.8,
                    0.38,
                    2.25,
                    8.29,
                    3.4,
                    9.36,
                    7.5,
                    25.2,
                    10.5,
                    10.2,
                    16.35,
                    10.2,
                    15.9,
                    12.48,
                    17.4,
                    19.8,
                    20.8,
                    65.7,
                    17.4,
                    44.55,
                    13.2,
                    14.85,
                    19.5,
                    19.9,
                    16.5,
                    16.5,
                    39.6,
                    17,
                    14.85,
                    17.4,
                    24.96,
                    10.95,
                    24,
                    10.2,
                    12.6,
                    1.65,
                    51,
                    30,
                    19.8,
                    30,
                    8.5,
                    15.6,
                    44.25,
                    54,
                    16.5,
                    10.2,
                    19.8,
                    21.9,
                    10,
                    18,
                    9.96,
                    30,
                    19.5,
                    39.6,
                    20.4,
                    17.7,
                    5.04,
                    14.85,
                    16.5,
                    12.5,
                    30.6,
                    20.4,
                    15.9,
                    19.8,
                    15,
                    19.5,
                    10.5,
                    8.4,
                    19.8,
                    15.3,
                    19.8,
                    17,
                    15,
                    23.9,
                    14.85,
                    30.6,
                    52.02,
                    23.4,
                    11.8,
                    10.08,
                    39.6,
                    52.5,
                    13.2,
                    43.8,
                    15.6,
                    8.5,
                    11.7,
                    90,
                    19.8,
                    20,
                    20
                  ],
                  "xaxis": "x",
                  "yaxis": "y"
                },
                {
                  "alignmentgroup": "True",
                  "bingroup": "x",
                  "hovertemplate": "Major Category=Kitchen<br>OrderValue=%{x}<br>count=%{y}<extra></extra>",
                  "legendgroup": "Kitchen",
                  "marker": {
                    "color": "#EF553B",
                    "pattern": {
                      "shape": ""
                    }
                  },
                  "name": "Kitchen",
                  "offsetgroup": "Kitchen",
                  "orientation": "v",
                  "showlegend": true,
                  "type": "histogram",
                  "x": [
                    20,
                    1.56,
                    1.65,
                    25.2,
                    15,
                    0.83,
                    12.6,
                    2.95,
                    2.95,
                    4.25,
                    0.83,
                    9.9,
                    23.64,
                    4.13,
                    15.6,
                    25.2,
                    5.79,
                    8.32,
                    2.25,
                    7.47,
                    9.9,
                    4.16,
                    23.52,
                    5.78,
                    0.29,
                    20.8,
                    26,
                    9.48,
                    3.75,
                    3.75,
                    4.92,
                    34.8,
                    25.49,
                    14.85,
                    19.8,
                    39.6,
                    4.95,
                    8.5,
                    31.8,
                    4.95,
                    5.95,
                    15.3,
                    44.55,
                    15,
                    0.84,
                    17.7,
                    9.95,
                    22.5,
                    11.25,
                    4.95,
                    2.95,
                    19.8,
                    16.5,
                    25,
                    35.4,
                    1.45,
                    35.4,
                    4.25,
                    1.63,
                    15.8,
                    6.58,
                    6.38,
                    51,
                    30,
                    323.7,
                    12.6,
                    11.58,
                    1.25,
                    7.5,
                    19.8,
                    11.9,
                    39.6,
                    15,
                    15.9,
                    20.4,
                    15.9,
                    17,
                    15.6,
                    16.6,
                    15.3,
                    20.4,
                    8.5,
                    12.75,
                    6.96,
                    7.8,
                    15,
                    89.7,
                    72,
                    15,
                    36,
                    7.8,
                    10.08,
                    13.2,
                    10.08,
                    6.72,
                    15,
                    17.85,
                    70.8,
                    15.6,
                    30,
                    19.8,
                    15,
                    61.2,
                    15,
                    2.1,
                    15,
                    10.2,
                    13.2,
                    15.3,
                    39.6,
                    16.5,
                    10.5,
                    16.6,
                    7.8,
                    2.5,
                    20.4,
                    24.96,
                    19.8,
                    8.5,
                    33.2,
                    20,
                    25.2,
                    20.4,
                    4.95,
                    72,
                    8.5,
                    33.2,
                    17,
                    15.3,
                    18,
                    10,
                    1.25,
                    17,
                    2.5,
                    20.8,
                    15,
                    15.6,
                    17.7,
                    17.7,
                    67.5,
                    19.8,
                    13,
                    47.6,
                    16.5,
                    99.6,
                    14.85,
                    66,
                    10.2,
                    8.5,
                    16.5
                  ],
                  "xaxis": "x",
                  "yaxis": "y"
                },
                {
                  "alignmentgroup": "True",
                  "bingroup": "x",
                  "hovertemplate": "Major Category=Garden<br>OrderValue=%{x}<br>count=%{y}<extra></extra>",
                  "legendgroup": "Garden",
                  "marker": {
                    "color": "#00cc96",
                    "pattern": {
                      "shape": ""
                    }
                  },
                  "name": "Garden",
                  "offsetgroup": "Garden",
                  "orientation": "v",
                  "showlegend": true,
                  "type": "histogram",
                  "x": [
                    7.46,
                    2.51,
                    3.95,
                    3.29,
                    15.9,
                    19.8,
                    6.96,
                    8.29,
                    13.2,
                    7.46,
                    3.95,
                    15,
                    5.79,
                    52.11,
                    2.46,
                    3.29,
                    20.65,
                    1.95,
                    7.95,
                    1.25,
                    7.38,
                    15,
                    7.46,
                    4.95,
                    3.9,
                    10.5,
                    0.83,
                    1.63,
                    7.5,
                    2.9,
                    13.2,
                    1.65,
                    4.25,
                    17.85,
                    3.29,
                    2.5,
                    12.46,
                    1.45,
                    10.2,
                    16.5,
                    25,
                    3.3,
                    2.51,
                    8.29,
                    34.74,
                    0.84,
                    4.24,
                    22.5,
                    15.9,
                    8.5,
                    79.56,
                    35.7,
                    2.95,
                    2.95,
                    15,
                    16.52,
                    5.79,
                    13.2,
                    34.8,
                    4.13,
                    15,
                    17.7,
                    2.51,
                    4.95,
                    4.95,
                    13.2,
                    5.04,
                    3.75,
                    1.66,
                    7.8,
                    14.85,
                    19.8,
                    33,
                    35.7,
                    10.5,
                    144,
                    10.5,
                    15,
                    20.8,
                    15,
                    19.8,
                    17.7,
                    30,
                    15.3,
                    14.75,
                    17.7,
                    15,
                    14.85,
                    20.4,
                    15,
                    19.8,
                    10.2,
                    68,
                    8.4,
                    19.8,
                    23.6,
                    12.5,
                    16.5,
                    7.8,
                    30,
                    17.7,
                    4.68,
                    7.65,
                    15,
                    63,
                    19.5,
                    19.5,
                    14.85,
                    10.2,
                    15.6,
                    15.6,
                    108,
                    26.4,
                    10.08,
                    13.2,
                    15,
                    19.8,
                    9.9,
                    30,
                    5.04,
                    44.55,
                    9.36,
                    10.5,
                    17.7,
                    10.2,
                    16.5,
                    30,
                    14.3,
                    24.9,
                    16.6,
                    39.6,
                    10.08,
                    25.2,
                    16.6,
                    15,
                    14.85,
                    12.6,
                    35.7,
                    30,
                    8.2,
                    0.36,
                    0.42,
                    4.68,
                    25.2,
                    30.6,
                    18,
                    5.04,
                    13.5,
                    20.8,
                    7.8,
                    19.5,
                    30,
                    5.04,
                    4.68,
                    39.6,
                    16.5,
                    15.9,
                    53.1,
                    20.8,
                    17.85,
                    15,
                    19.5,
                    10.2,
                    19.8,
                    13.2,
                    31.6,
                    15,
                    15.3,
                    12.5,
                    66,
                    13.2,
                    29.7
                  ],
                  "xaxis": "x",
                  "yaxis": "y"
                },
                {
                  "alignmentgroup": "True",
                  "bingroup": "x",
                  "hovertemplate": "Major Category=Household<br>OrderValue=%{x}<br>count=%{y}<extra></extra>",
                  "legendgroup": "Household",
                  "marker": {
                    "color": "#ab63fa",
                    "pattern": {
                      "shape": ""
                    }
                  },
                  "name": "Household",
                  "offsetgroup": "Household",
                  "orientation": "v",
                  "showlegend": true,
                  "type": "histogram",
                  "x": [
                    44.28,
                    3.38,
                    0.55,
                    25.5,
                    30,
                    25.5,
                    2.95,
                    2.46,
                    9.9,
                    6.3,
                    9.78,
                    15,
                    20.8,
                    2.9,
                    11.8,
                    17.7,
                    3.3,
                    59.4,
                    1.7,
                    14.96,
                    8.5,
                    8.85,
                    17.4,
                    20.8,
                    10.5,
                    4.95,
                    10.2,
                    10.79,
                    7.44,
                    22.14,
                    6.3,
                    3.75,
                    9.9,
                    10.5,
                    20.8,
                    15,
                    9.36,
                    4.13,
                    11.8,
                    0.83,
                    3.16,
                    1.66,
                    4.98,
                    6.64,
                    1.1,
                    16.5,
                    1.63,
                    2.46,
                    15.8,
                    1.52,
                    19.8,
                    4.16,
                    2.55,
                    4.16,
                    13.52,
                    2.1,
                    19.84,
                    39.6,
                    12.5,
                    1.7,
                    1.68,
                    20.8,
                    4.96,
                    1.74,
                    0.55,
                    5.81,
                    12.5,
                    69.44,
                    2.55,
                    5.04,
                    10.08,
                    4.15,
                    17.7,
                    8.5,
                    50.4,
                    34,
                    4.68,
                    17.7,
                    10.5,
                    37.44,
                    19.8,
                    19.8,
                    22.5,
                    15.9,
                    17.7,
                    15,
                    23.4,
                    4.68,
                    30.6,
                    20.4,
                    12.48,
                    35.4,
                    10.2,
                    30,
                    30.6,
                    53.1,
                    12.5,
                    6.64,
                    15,
                    18,
                    10.5,
                    10.2,
                    10.5,
                    19.8,
                    15.6,
                    17.4,
                    12.48,
                    17,
                    36,
                    8.25,
                    15,
                    20.8,
                    35.4,
                    18,
                    9.96,
                    44.75,
                    49.5,
                    5.04,
                    10,
                    16.5,
                    20.8,
                    19.8,
                    10.2,
                    10,
                    67.5,
                    16.6,
                    16.6,
                    18,
                    5.04,
                    72,
                    46.8,
                    17.7,
                    15.9,
                    27,
                    16.6,
                    41.6,
                    11.8,
                    11.7,
                    45,
                    15,
                    20,
                    30,
                    12.6,
                    12.5,
                    53.1,
                    19.5
                  ],
                  "xaxis": "x",
                  "yaxis": "y"
                }
              ],
              "layout": {
                "barmode": "relative",
                "legend": {
                  "title": {
                    "text": "Major Category"
                  },
                  "tracegroupgap": 0
                },
                "margin": {
                  "t": 60
                },
                "template": {
                  "data": {
                    "bar": [
                      {
                        "error_x": {
                          "color": "#f2f5fa"
                        },
                        "error_y": {
                          "color": "#f2f5fa"
                        },
                        "marker": {
                          "line": {
                            "color": "rgb(17,17,17)",
                            "width": 0.5
                          },
                          "pattern": {
                            "fillmode": "overlay",
                            "size": 10,
                            "solidity": 0.2
                          }
                        },
                        "type": "bar"
                      }
                    ],
                    "barpolar": [
                      {
                        "marker": {
                          "line": {
                            "color": "rgb(17,17,17)",
                            "width": 0.5
                          },
                          "pattern": {
                            "fillmode": "overlay",
                            "size": 10,
                            "solidity": 0.2
                          }
                        },
                        "type": "barpolar"
                      }
                    ],
                    "carpet": [
                      {
                        "aaxis": {
                          "endlinecolor": "#A2B1C6",
                          "gridcolor": "#506784",
                          "linecolor": "#506784",
                          "minorgridcolor": "#506784",
                          "startlinecolor": "#A2B1C6"
                        },
                        "baxis": {
                          "endlinecolor": "#A2B1C6",
                          "gridcolor": "#506784",
                          "linecolor": "#506784",
                          "minorgridcolor": "#506784",
                          "startlinecolor": "#A2B1C6"
                        },
                        "type": "carpet"
                      }
                    ],
                    "choropleth": [
                      {
                        "colorbar": {
                          "outlinewidth": 0,
                          "ticks": ""
                        },
                        "type": "choropleth"
                      }
                    ],
                    "contour": [
                      {
                        "colorbar": {
                          "outlinewidth": 0,
                          "ticks": ""
                        },
                        "colorscale": [
                          [
                            0,
                            "#0d0887"
                          ],
                          [
                            0.1111111111111111,
                            "#46039f"
                          ],
                          [
                            0.2222222222222222,
                            "#7201a8"
                          ],
                          [
                            0.3333333333333333,
                            "#9c179e"
                          ],
                          [
                            0.4444444444444444,
                            "#bd3786"
                          ],
                          [
                            0.5555555555555556,
                            "#d8576b"
                          ],
                          [
                            0.6666666666666666,
                            "#ed7953"
                          ],
                          [
                            0.7777777777777778,
                            "#fb9f3a"
                          ],
                          [
                            0.8888888888888888,
                            "#fdca26"
                          ],
                          [
                            1,
                            "#f0f921"
                          ]
                        ],
                        "type": "contour"
                      }
                    ],
                    "contourcarpet": [
                      {
                        "colorbar": {
                          "outlinewidth": 0,
                          "ticks": ""
                        },
                        "type": "contourcarpet"
                      }
                    ],
                    "heatmap": [
                      {
                        "colorbar": {
                          "outlinewidth": 0,
                          "ticks": ""
                        },
                        "colorscale": [
                          [
                            0,
                            "#0d0887"
                          ],
                          [
                            0.1111111111111111,
                            "#46039f"
                          ],
                          [
                            0.2222222222222222,
                            "#7201a8"
                          ],
                          [
                            0.3333333333333333,
                            "#9c179e"
                          ],
                          [
                            0.4444444444444444,
                            "#bd3786"
                          ],
                          [
                            0.5555555555555556,
                            "#d8576b"
                          ],
                          [
                            0.6666666666666666,
                            "#ed7953"
                          ],
                          [
                            0.7777777777777778,
                            "#fb9f3a"
                          ],
                          [
                            0.8888888888888888,
                            "#fdca26"
                          ],
                          [
                            1,
                            "#f0f921"
                          ]
                        ],
                        "type": "heatmap"
                      }
                    ],
                    "heatmapgl": [
                      {
                        "colorbar": {
                          "outlinewidth": 0,
                          "ticks": ""
                        },
                        "colorscale": [
                          [
                            0,
                            "#0d0887"
                          ],
                          [
                            0.1111111111111111,
                            "#46039f"
                          ],
                          [
                            0.2222222222222222,
                            "#7201a8"
                          ],
                          [
                            0.3333333333333333,
                            "#9c179e"
                          ],
                          [
                            0.4444444444444444,
                            "#bd3786"
                          ],
                          [
                            0.5555555555555556,
                            "#d8576b"
                          ],
                          [
                            0.6666666666666666,
                            "#ed7953"
                          ],
                          [
                            0.7777777777777778,
                            "#fb9f3a"
                          ],
                          [
                            0.8888888888888888,
                            "#fdca26"
                          ],
                          [
                            1,
                            "#f0f921"
                          ]
                        ],
                        "type": "heatmapgl"
                      }
                    ],
                    "histogram": [
                      {
                        "marker": {
                          "pattern": {
                            "fillmode": "overlay",
                            "size": 10,
                            "solidity": 0.2
                          }
                        },
                        "type": "histogram"
                      }
                    ],
                    "histogram2d": [
                      {
                        "colorbar": {
                          "outlinewidth": 0,
                          "ticks": ""
                        },
                        "colorscale": [
                          [
                            0,
                            "#0d0887"
                          ],
                          [
                            0.1111111111111111,
                            "#46039f"
                          ],
                          [
                            0.2222222222222222,
                            "#7201a8"
                          ],
                          [
                            0.3333333333333333,
                            "#9c179e"
                          ],
                          [
                            0.4444444444444444,
                            "#bd3786"
                          ],
                          [
                            0.5555555555555556,
                            "#d8576b"
                          ],
                          [
                            0.6666666666666666,
                            "#ed7953"
                          ],
                          [
                            0.7777777777777778,
                            "#fb9f3a"
                          ],
                          [
                            0.8888888888888888,
                            "#fdca26"
                          ],
                          [
                            1,
                            "#f0f921"
                          ]
                        ],
                        "type": "histogram2d"
                      }
                    ],
                    "histogram2dcontour": [
                      {
                        "colorbar": {
                          "outlinewidth": 0,
                          "ticks": ""
                        },
                        "colorscale": [
                          [
                            0,
                            "#0d0887"
                          ],
                          [
                            0.1111111111111111,
                            "#46039f"
                          ],
                          [
                            0.2222222222222222,
                            "#7201a8"
                          ],
                          [
                            0.3333333333333333,
                            "#9c179e"
                          ],
                          [
                            0.4444444444444444,
                            "#bd3786"
                          ],
                          [
                            0.5555555555555556,
                            "#d8576b"
                          ],
                          [
                            0.6666666666666666,
                            "#ed7953"
                          ],
                          [
                            0.7777777777777778,
                            "#fb9f3a"
                          ],
                          [
                            0.8888888888888888,
                            "#fdca26"
                          ],
                          [
                            1,
                            "#f0f921"
                          ]
                        ],
                        "type": "histogram2dcontour"
                      }
                    ],
                    "mesh3d": [
                      {
                        "colorbar": {
                          "outlinewidth": 0,
                          "ticks": ""
                        },
                        "type": "mesh3d"
                      }
                    ],
                    "parcoords": [
                      {
                        "line": {
                          "colorbar": {
                            "outlinewidth": 0,
                            "ticks": ""
                          }
                        },
                        "type": "parcoords"
                      }
                    ],
                    "pie": [
                      {
                        "automargin": true,
                        "type": "pie"
                      }
                    ],
                    "scatter": [
                      {
                        "marker": {
                          "line": {
                            "color": "#283442"
                          }
                        },
                        "type": "scatter"
                      }
                    ],
                    "scatter3d": [
                      {
                        "line": {
                          "colorbar": {
                            "outlinewidth": 0,
                            "ticks": ""
                          }
                        },
                        "marker": {
                          "colorbar": {
                            "outlinewidth": 0,
                            "ticks": ""
                          }
                        },
                        "type": "scatter3d"
                      }
                    ],
                    "scattercarpet": [
                      {
                        "marker": {
                          "colorbar": {
                            "outlinewidth": 0,
                            "ticks": ""
                          }
                        },
                        "type": "scattercarpet"
                      }
                    ],
                    "scattergeo": [
                      {
                        "marker": {
                          "colorbar": {
                            "outlinewidth": 0,
                            "ticks": ""
                          }
                        },
                        "type": "scattergeo"
                      }
                    ],
                    "scattergl": [
                      {
                        "marker": {
                          "line": {
                            "color": "#283442"
                          }
                        },
                        "type": "scattergl"
                      }
                    ],
                    "scattermapbox": [
                      {
                        "marker": {
                          "colorbar": {
                            "outlinewidth": 0,
                            "ticks": ""
                          }
                        },
                        "type": "scattermapbox"
                      }
                    ],
                    "scatterpolar": [
                      {
                        "marker": {
                          "colorbar": {
                            "outlinewidth": 0,
                            "ticks": ""
                          }
                        },
                        "type": "scatterpolar"
                      }
                    ],
                    "scatterpolargl": [
                      {
                        "marker": {
                          "colorbar": {
                            "outlinewidth": 0,
                            "ticks": ""
                          }
                        },
                        "type": "scatterpolargl"
                      }
                    ],
                    "scatterternary": [
                      {
                        "marker": {
                          "colorbar": {
                            "outlinewidth": 0,
                            "ticks": ""
                          }
                        },
                        "type": "scatterternary"
                      }
                    ],
                    "surface": [
                      {
                        "colorbar": {
                          "outlinewidth": 0,
                          "ticks": ""
                        },
                        "colorscale": [
                          [
                            0,
                            "#0d0887"
                          ],
                          [
                            0.1111111111111111,
                            "#46039f"
                          ],
                          [
                            0.2222222222222222,
                            "#7201a8"
                          ],
                          [
                            0.3333333333333333,
                            "#9c179e"
                          ],
                          [
                            0.4444444444444444,
                            "#bd3786"
                          ],
                          [
                            0.5555555555555556,
                            "#d8576b"
                          ],
                          [
                            0.6666666666666666,
                            "#ed7953"
                          ],
                          [
                            0.7777777777777778,
                            "#fb9f3a"
                          ],
                          [
                            0.8888888888888888,
                            "#fdca26"
                          ],
                          [
                            1,
                            "#f0f921"
                          ]
                        ],
                        "type": "surface"
                      }
                    ],
                    "table": [
                      {
                        "cells": {
                          "fill": {
                            "color": "#506784"
                          },
                          "line": {
                            "color": "rgb(17,17,17)"
                          }
                        },
                        "header": {
                          "fill": {
                            "color": "#2a3f5f"
                          },
                          "line": {
                            "color": "rgb(17,17,17)"
                          }
                        },
                        "type": "table"
                      }
                    ]
                  },
                  "layout": {
                    "annotationdefaults": {
                      "arrowcolor": "#f2f5fa",
                      "arrowhead": 0,
                      "arrowwidth": 1
                    },
                    "autotypenumbers": "strict",
                    "coloraxis": {
                      "colorbar": {
                        "outlinewidth": 0,
                        "ticks": ""
                      }
                    },
                    "colorscale": {
                      "diverging": [
                        [
                          0,
                          "#8e0152"
                        ],
                        [
                          0.1,
                          "#c51b7d"
                        ],
                        [
                          0.2,
                          "#de77ae"
                        ],
                        [
                          0.3,
                          "#f1b6da"
                        ],
                        [
                          0.4,
                          "#fde0ef"
                        ],
                        [
                          0.5,
                          "#f7f7f7"
                        ],
                        [
                          0.6,
                          "#e6f5d0"
                        ],
                        [
                          0.7,
                          "#b8e186"
                        ],
                        [
                          0.8,
                          "#7fbc41"
                        ],
                        [
                          0.9,
                          "#4d9221"
                        ],
                        [
                          1,
                          "#276419"
                        ]
                      ],
                      "sequential": [
                        [
                          0,
                          "#0d0887"
                        ],
                        [
                          0.1111111111111111,
                          "#46039f"
                        ],
                        [
                          0.2222222222222222,
                          "#7201a8"
                        ],
                        [
                          0.3333333333333333,
                          "#9c179e"
                        ],
                        [
                          0.4444444444444444,
                          "#bd3786"
                        ],
                        [
                          0.5555555555555556,
                          "#d8576b"
                        ],
                        [
                          0.6666666666666666,
                          "#ed7953"
                        ],
                        [
                          0.7777777777777778,
                          "#fb9f3a"
                        ],
                        [
                          0.8888888888888888,
                          "#fdca26"
                        ],
                        [
                          1,
                          "#f0f921"
                        ]
                      ],
                      "sequentialminus": [
                        [
                          0,
                          "#0d0887"
                        ],
                        [
                          0.1111111111111111,
                          "#46039f"
                        ],
                        [
                          0.2222222222222222,
                          "#7201a8"
                        ],
                        [
                          0.3333333333333333,
                          "#9c179e"
                        ],
                        [
                          0.4444444444444444,
                          "#bd3786"
                        ],
                        [
                          0.5555555555555556,
                          "#d8576b"
                        ],
                        [
                          0.6666666666666666,
                          "#ed7953"
                        ],
                        [
                          0.7777777777777778,
                          "#fb9f3a"
                        ],
                        [
                          0.8888888888888888,
                          "#fdca26"
                        ],
                        [
                          1,
                          "#f0f921"
                        ]
                      ]
                    },
                    "colorway": [
                      "#636efa",
                      "#EF553B",
                      "#00cc96",
                      "#ab63fa",
                      "#FFA15A",
                      "#19d3f3",
                      "#FF6692",
                      "#B6E880",
                      "#FF97FF",
                      "#FECB52"
                    ],
                    "font": {
                      "color": "#f2f5fa"
                    },
                    "geo": {
                      "bgcolor": "rgb(17,17,17)",
                      "lakecolor": "rgb(17,17,17)",
                      "landcolor": "rgb(17,17,17)",
                      "showlakes": true,
                      "showland": true,
                      "subunitcolor": "#506784"
                    },
                    "hoverlabel": {
                      "align": "left"
                    },
                    "hovermode": "closest",
                    "mapbox": {
                      "style": "dark"
                    },
                    "paper_bgcolor": "rgb(17,17,17)",
                    "plot_bgcolor": "rgb(17,17,17)",
                    "polar": {
                      "angularaxis": {
                        "gridcolor": "#506784",
                        "linecolor": "#506784",
                        "ticks": ""
                      },
                      "bgcolor": "rgb(17,17,17)",
                      "radialaxis": {
                        "gridcolor": "#506784",
                        "linecolor": "#506784",
                        "ticks": ""
                      }
                    },
                    "scene": {
                      "xaxis": {
                        "backgroundcolor": "rgb(17,17,17)",
                        "gridcolor": "#506784",
                        "gridwidth": 2,
                        "linecolor": "#506784",
                        "showbackground": true,
                        "ticks": "",
                        "zerolinecolor": "#C8D4E3"
                      },
                      "yaxis": {
                        "backgroundcolor": "rgb(17,17,17)",
                        "gridcolor": "#506784",
                        "gridwidth": 2,
                        "linecolor": "#506784",
                        "showbackground": true,
                        "ticks": "",
                        "zerolinecolor": "#C8D4E3"
                      },
                      "zaxis": {
                        "backgroundcolor": "rgb(17,17,17)",
                        "gridcolor": "#506784",
                        "gridwidth": 2,
                        "linecolor": "#506784",
                        "showbackground": true,
                        "ticks": "",
                        "zerolinecolor": "#C8D4E3"
                      }
                    },
                    "shapedefaults": {
                      "line": {
                        "color": "#f2f5fa"
                      }
                    },
                    "sliderdefaults": {
                      "bgcolor": "#C8D4E3",
                      "bordercolor": "rgb(17,17,17)",
                      "borderwidth": 1,
                      "tickwidth": 0
                    },
                    "ternary": {
                      "aaxis": {
                        "gridcolor": "#506784",
                        "linecolor": "#506784",
                        "ticks": ""
                      },
                      "baxis": {
                        "gridcolor": "#506784",
                        "linecolor": "#506784",
                        "ticks": ""
                      },
                      "bgcolor": "rgb(17,17,17)",
                      "caxis": {
                        "gridcolor": "#506784",
                        "linecolor": "#506784",
                        "ticks": ""
                      }
                    },
                    "title": {
                      "x": 0.05
                    },
                    "updatemenudefaults": {
                      "bgcolor": "#506784",
                      "borderwidth": 0
                    },
                    "xaxis": {
                      "automargin": true,
                      "gridcolor": "#283442",
                      "linecolor": "#506784",
                      "ticks": "",
                      "title": {
                        "standoff": 15
                      },
                      "zerolinecolor": "#283442",
                      "zerolinewidth": 2
                    },
                    "yaxis": {
                      "automargin": true,
                      "gridcolor": "#283442",
                      "linecolor": "#506784",
                      "ticks": "",
                      "title": {
                        "standoff": 15
                      },
                      "zerolinecolor": "#283442",
                      "zerolinewidth": 2
                    }
                  }
                },
                "xaxis": {
                  "anchor": "y",
                  "domain": [
                    0,
                    1
                  ],
                  "title": {
                    "text": "OrderValue"
                  }
                },
                "yaxis": {
                  "anchor": "x",
                  "domain": [
                    0,
                    1
                  ],
                  "title": {
                    "text": "count"
                  }
                }
              }
            },
            "text/html": [
              "<div>                            <div id=\"abdc79e8-e023-4ee2-abe4-90e04faea71e\" class=\"plotly-graph-div\" style=\"height:525px; width:100%;\"></div>            <script type=\"text/javascript\">                require([\"plotly\"], function(Plotly) {                    window.PLOTLYENV=window.PLOTLYENV || {};                                    if (document.getElementById(\"abdc79e8-e023-4ee2-abe4-90e04faea71e\")) {                    Plotly.newPlot(                        \"abdc79e8-e023-4ee2-abe4-90e04faea71e\",                        [{\"alignmentgroup\":\"True\",\"bingroup\":\"x\",\"hovertemplate\":\"Major Category=Clothes<br>OrderValue=%{x}<br>count=%{y}<extra></extra>\",\"legendgroup\":\"Clothes\",\"marker\":{\"color\":\"#636efa\",\"pattern\":{\"shape\":\"\"}},\"name\":\"Clothes\",\"offsetgroup\":\"Clothes\",\"orientation\":\"v\",\"showlegend\":true,\"x\":[10.2,35.4,12.6,29.7,16.5,4.25,1.28,34.8,3.29,10.2,7.95,19.8,25.0,15.9,70.8,8.5,8.29,2.08,12.75,1.63,17.0,0.85,1.25,6.6,9.0,4.95,9.9,15.9,5.85,1.25,29.7,3.29,10.79,15.0,4.13,24.96,2.46,35.4,2.55,2.95,7.5,39.9,29.84,0.84,1.45,10.2,4.13,1.25,29.7,1.65,20.8,4.89,19.8,1.45,2.5,9.92,19.8,1.45,1.25,3.32,1.66,23.0,39.8,7.65,1.17,14.7,10.12,20.8,0.38,2.25,8.29,3.4,9.36,7.5,25.2,10.5,10.2,16.35,10.2,15.9,12.48,17.4,19.8,20.8,65.7,17.4,44.55,13.2,14.85,19.5,19.9,16.5,16.5,39.6,17.0,14.85,17.4,24.96,10.95,24.0,10.2,12.6,1.65,51.0,30.0,19.8,30.0,8.5,15.6,44.25,54.0,16.5,10.2,19.8,21.9,10.0,18.0,9.96,30.0,19.5,39.6,20.4,17.7,5.04,14.85,16.5,12.5,30.6,20.4,15.9,19.8,15.0,19.5,10.5,8.4,19.8,15.3,19.8,17.0,15.0,23.9,14.85,30.6,52.02,23.4,11.8,10.08,39.6,52.5,13.2,43.8,15.6,8.5,11.7,90.0,19.8,20.0,20.0],\"xaxis\":\"x\",\"yaxis\":\"y\",\"type\":\"histogram\"},{\"alignmentgroup\":\"True\",\"bingroup\":\"x\",\"hovertemplate\":\"Major Category=Kitchen<br>OrderValue=%{x}<br>count=%{y}<extra></extra>\",\"legendgroup\":\"Kitchen\",\"marker\":{\"color\":\"#EF553B\",\"pattern\":{\"shape\":\"\"}},\"name\":\"Kitchen\",\"offsetgroup\":\"Kitchen\",\"orientation\":\"v\",\"showlegend\":true,\"x\":[20.0,1.56,1.65,25.2,15.0,0.83,12.6,2.95,2.95,4.25,0.83,9.9,23.64,4.13,15.6,25.2,5.79,8.32,2.25,7.47,9.9,4.16,23.52,5.78,0.29,20.8,26.0,9.48,3.75,3.75,4.92,34.8,25.49,14.85,19.8,39.6,4.95,8.5,31.8,4.95,5.95,15.3,44.55,15.0,0.84,17.7,9.95,22.5,11.25,4.95,2.95,19.8,16.5,25.0,35.4,1.45,35.4,4.25,1.63,15.8,6.58,6.38,51.0,30.0,323.7,12.6,11.58,1.25,7.5,19.8,11.9,39.6,15.0,15.9,20.4,15.9,17.0,15.6,16.6,15.3,20.4,8.5,12.75,6.96,7.8,15.0,89.7,72.0,15.0,36.0,7.8,10.08,13.2,10.08,6.72,15.0,17.85,70.8,15.6,30.0,19.8,15.0,61.2,15.0,2.1,15.0,10.2,13.2,15.3,39.6,16.5,10.5,16.6,7.8,2.5,20.4,24.96,19.8,8.5,33.2,20.0,25.2,20.4,4.95,72.0,8.5,33.2,17.0,15.3,18.0,10.0,1.25,17.0,2.5,20.8,15.0,15.6,17.7,17.7,67.5,19.8,13.0,47.6,16.5,99.6,14.85,66.0,10.2,8.5,16.5],\"xaxis\":\"x\",\"yaxis\":\"y\",\"type\":\"histogram\"},{\"alignmentgroup\":\"True\",\"bingroup\":\"x\",\"hovertemplate\":\"Major Category=Garden<br>OrderValue=%{x}<br>count=%{y}<extra></extra>\",\"legendgroup\":\"Garden\",\"marker\":{\"color\":\"#00cc96\",\"pattern\":{\"shape\":\"\"}},\"name\":\"Garden\",\"offsetgroup\":\"Garden\",\"orientation\":\"v\",\"showlegend\":true,\"x\":[7.46,2.51,3.95,3.29,15.9,19.8,6.96,8.29,13.2,7.46,3.95,15.0,5.79,52.11,2.46,3.29,20.65,1.95,7.95,1.25,7.38,15.0,7.46,4.95,3.9,10.5,0.83,1.63,7.5,2.9,13.2,1.65,4.25,17.85,3.29,2.5,12.46,1.45,10.2,16.5,25.0,3.3,2.51,8.29,34.74,0.84,4.24,22.5,15.9,8.5,79.56,35.7,2.95,2.95,15.0,16.52,5.79,13.2,34.8,4.13,15.0,17.7,2.51,4.95,4.95,13.2,5.04,3.75,1.66,7.8,14.85,19.8,33.0,35.7,10.5,144.0,10.5,15.0,20.8,15.0,19.8,17.7,30.0,15.3,14.75,17.7,15.0,14.85,20.4,15.0,19.8,10.2,68.0,8.4,19.8,23.6,12.5,16.5,7.8,30.0,17.7,4.68,7.65,15.0,63.0,19.5,19.5,14.85,10.2,15.6,15.6,108.0,26.4,10.08,13.2,15.0,19.8,9.9,30.0,5.04,44.55,9.36,10.5,17.7,10.2,16.5,30.0,14.3,24.9,16.6,39.6,10.08,25.2,16.6,15.0,14.85,12.6,35.7,30.0,8.2,0.36,0.42,4.68,25.2,30.6,18.0,5.04,13.5,20.8,7.8,19.5,30.0,5.04,4.68,39.6,16.5,15.9,53.1,20.8,17.85,15.0,19.5,10.2,19.8,13.2,31.6,15.0,15.3,12.5,66.0,13.2,29.7],\"xaxis\":\"x\",\"yaxis\":\"y\",\"type\":\"histogram\"},{\"alignmentgroup\":\"True\",\"bingroup\":\"x\",\"hovertemplate\":\"Major Category=Household<br>OrderValue=%{x}<br>count=%{y}<extra></extra>\",\"legendgroup\":\"Household\",\"marker\":{\"color\":\"#ab63fa\",\"pattern\":{\"shape\":\"\"}},\"name\":\"Household\",\"offsetgroup\":\"Household\",\"orientation\":\"v\",\"showlegend\":true,\"x\":[44.28,3.38,0.55,25.5,30.0,25.5,2.95,2.46,9.9,6.3,9.78,15.0,20.8,2.9,11.8,17.7,3.3,59.4,1.7,14.96,8.5,8.85,17.4,20.8,10.5,4.95,10.2,10.79,7.44,22.14,6.3,3.75,9.9,10.5,20.8,15.0,9.36,4.13,11.8,0.83,3.16,1.66,4.98,6.64,1.1,16.5,1.63,2.46,15.8,1.52,19.8,4.16,2.55,4.16,13.52,2.1,19.84,39.6,12.5,1.7,1.68,20.8,4.96,1.74,0.55,5.81,12.5,69.44,2.55,5.04,10.08,4.15,17.7,8.5,50.4,34.0,4.68,17.7,10.5,37.44,19.8,19.8,22.5,15.9,17.7,15.0,23.4,4.68,30.6,20.4,12.48,35.4,10.2,30.0,30.6,53.1,12.5,6.64,15.0,18.0,10.5,10.2,10.5,19.8,15.6,17.4,12.48,17.0,36.0,8.25,15.0,20.8,35.4,18.0,9.96,44.75,49.5,5.04,10.0,16.5,20.8,19.8,10.2,10.0,67.5,16.6,16.6,18.0,5.04,72.0,46.8,17.7,15.9,27.0,16.6,41.6,11.8,11.7,45.0,15.0,20.0,30.0,12.6,12.5,53.1,19.5],\"xaxis\":\"x\",\"yaxis\":\"y\",\"type\":\"histogram\"}],                        {\"template\":{\"data\":{\"histogram2dcontour\":[{\"type\":\"histogram2dcontour\",\"colorbar\":{\"outlinewidth\":0,\"ticks\":\"\"},\"colorscale\":[[0.0,\"#0d0887\"],[0.1111111111111111,\"#46039f\"],[0.2222222222222222,\"#7201a8\"],[0.3333333333333333,\"#9c179e\"],[0.4444444444444444,\"#bd3786\"],[0.5555555555555556,\"#d8576b\"],[0.6666666666666666,\"#ed7953\"],[0.7777777777777778,\"#fb9f3a\"],[0.8888888888888888,\"#fdca26\"],[1.0,\"#f0f921\"]]}],\"choropleth\":[{\"type\":\"choropleth\",\"colorbar\":{\"outlinewidth\":0,\"ticks\":\"\"}}],\"histogram2d\":[{\"type\":\"histogram2d\",\"colorbar\":{\"outlinewidth\":0,\"ticks\":\"\"},\"colorscale\":[[0.0,\"#0d0887\"],[0.1111111111111111,\"#46039f\"],[0.2222222222222222,\"#7201a8\"],[0.3333333333333333,\"#9c179e\"],[0.4444444444444444,\"#bd3786\"],[0.5555555555555556,\"#d8576b\"],[0.6666666666666666,\"#ed7953\"],[0.7777777777777778,\"#fb9f3a\"],[0.8888888888888888,\"#fdca26\"],[1.0,\"#f0f921\"]]}],\"heatmap\":[{\"type\":\"heatmap\",\"colorbar\":{\"outlinewidth\":0,\"ticks\":\"\"},\"colorscale\":[[0.0,\"#0d0887\"],[0.1111111111111111,\"#46039f\"],[0.2222222222222222,\"#7201a8\"],[0.3333333333333333,\"#9c179e\"],[0.4444444444444444,\"#bd3786\"],[0.5555555555555556,\"#d8576b\"],[0.6666666666666666,\"#ed7953\"],[0.7777777777777778,\"#fb9f3a\"],[0.8888888888888888,\"#fdca26\"],[1.0,\"#f0f921\"]]}],\"heatmapgl\":[{\"type\":\"heatmapgl\",\"colorbar\":{\"outlinewidth\":0,\"ticks\":\"\"},\"colorscale\":[[0.0,\"#0d0887\"],[0.1111111111111111,\"#46039f\"],[0.2222222222222222,\"#7201a8\"],[0.3333333333333333,\"#9c179e\"],[0.4444444444444444,\"#bd3786\"],[0.5555555555555556,\"#d8576b\"],[0.6666666666666666,\"#ed7953\"],[0.7777777777777778,\"#fb9f3a\"],[0.8888888888888888,\"#fdca26\"],[1.0,\"#f0f921\"]]}],\"contourcarpet\":[{\"type\":\"contourcarpet\",\"colorbar\":{\"outlinewidth\":0,\"ticks\":\"\"}}],\"contour\":[{\"type\":\"contour\",\"colorbar\":{\"outlinewidth\":0,\"ticks\":\"\"},\"colorscale\":[[0.0,\"#0d0887\"],[0.1111111111111111,\"#46039f\"],[0.2222222222222222,\"#7201a8\"],[0.3333333333333333,\"#9c179e\"],[0.4444444444444444,\"#bd3786\"],[0.5555555555555556,\"#d8576b\"],[0.6666666666666666,\"#ed7953\"],[0.7777777777777778,\"#fb9f3a\"],[0.8888888888888888,\"#fdca26\"],[1.0,\"#f0f921\"]]}],\"surface\":[{\"type\":\"surface\",\"colorbar\":{\"outlinewidth\":0,\"ticks\":\"\"},\"colorscale\":[[0.0,\"#0d0887\"],[0.1111111111111111,\"#46039f\"],[0.2222222222222222,\"#7201a8\"],[0.3333333333333333,\"#9c179e\"],[0.4444444444444444,\"#bd3786\"],[0.5555555555555556,\"#d8576b\"],[0.6666666666666666,\"#ed7953\"],[0.7777777777777778,\"#fb9f3a\"],[0.8888888888888888,\"#fdca26\"],[1.0,\"#f0f921\"]]}],\"mesh3d\":[{\"type\":\"mesh3d\",\"colorbar\":{\"outlinewidth\":0,\"ticks\":\"\"}}],\"scatter\":[{\"marker\":{\"line\":{\"color\":\"#283442\"}},\"type\":\"scatter\"}],\"parcoords\":[{\"type\":\"parcoords\",\"line\":{\"colorbar\":{\"outlinewidth\":0,\"ticks\":\"\"}}}],\"scatterpolargl\":[{\"type\":\"scatterpolargl\",\"marker\":{\"colorbar\":{\"outlinewidth\":0,\"ticks\":\"\"}}}],\"bar\":[{\"error_x\":{\"color\":\"#f2f5fa\"},\"error_y\":{\"color\":\"#f2f5fa\"},\"marker\":{\"line\":{\"color\":\"rgb(17,17,17)\",\"width\":0.5},\"pattern\":{\"fillmode\":\"overlay\",\"size\":10,\"solidity\":0.2}},\"type\":\"bar\"}],\"scattergeo\":[{\"type\":\"scattergeo\",\"marker\":{\"colorbar\":{\"outlinewidth\":0,\"ticks\":\"\"}}}],\"scatterpolar\":[{\"type\":\"scatterpolar\",\"marker\":{\"colorbar\":{\"outlinewidth\":0,\"ticks\":\"\"}}}],\"histogram\":[{\"marker\":{\"pattern\":{\"fillmode\":\"overlay\",\"size\":10,\"solidity\":0.2}},\"type\":\"histogram\"}],\"scattergl\":[{\"marker\":{\"line\":{\"color\":\"#283442\"}},\"type\":\"scattergl\"}],\"scatter3d\":[{\"type\":\"scatter3d\",\"line\":{\"colorbar\":{\"outlinewidth\":0,\"ticks\":\"\"}},\"marker\":{\"colorbar\":{\"outlinewidth\":0,\"ticks\":\"\"}}}],\"scattermapbox\":[{\"type\":\"scattermapbox\",\"marker\":{\"colorbar\":{\"outlinewidth\":0,\"ticks\":\"\"}}}],\"scatterternary\":[{\"type\":\"scatterternary\",\"marker\":{\"colorbar\":{\"outlinewidth\":0,\"ticks\":\"\"}}}],\"scattercarpet\":[{\"type\":\"scattercarpet\",\"marker\":{\"colorbar\":{\"outlinewidth\":0,\"ticks\":\"\"}}}],\"carpet\":[{\"aaxis\":{\"endlinecolor\":\"#A2B1C6\",\"gridcolor\":\"#506784\",\"linecolor\":\"#506784\",\"minorgridcolor\":\"#506784\",\"startlinecolor\":\"#A2B1C6\"},\"baxis\":{\"endlinecolor\":\"#A2B1C6\",\"gridcolor\":\"#506784\",\"linecolor\":\"#506784\",\"minorgridcolor\":\"#506784\",\"startlinecolor\":\"#A2B1C6\"},\"type\":\"carpet\"}],\"table\":[{\"cells\":{\"fill\":{\"color\":\"#506784\"},\"line\":{\"color\":\"rgb(17,17,17)\"}},\"header\":{\"fill\":{\"color\":\"#2a3f5f\"},\"line\":{\"color\":\"rgb(17,17,17)\"}},\"type\":\"table\"}],\"barpolar\":[{\"marker\":{\"line\":{\"color\":\"rgb(17,17,17)\",\"width\":0.5},\"pattern\":{\"fillmode\":\"overlay\",\"size\":10,\"solidity\":0.2}},\"type\":\"barpolar\"}],\"pie\":[{\"automargin\":true,\"type\":\"pie\"}]},\"layout\":{\"autotypenumbers\":\"strict\",\"colorway\":[\"#636efa\",\"#EF553B\",\"#00cc96\",\"#ab63fa\",\"#FFA15A\",\"#19d3f3\",\"#FF6692\",\"#B6E880\",\"#FF97FF\",\"#FECB52\"],\"font\":{\"color\":\"#f2f5fa\"},\"hovermode\":\"closest\",\"hoverlabel\":{\"align\":\"left\"},\"paper_bgcolor\":\"rgb(17,17,17)\",\"plot_bgcolor\":\"rgb(17,17,17)\",\"polar\":{\"bgcolor\":\"rgb(17,17,17)\",\"angularaxis\":{\"gridcolor\":\"#506784\",\"linecolor\":\"#506784\",\"ticks\":\"\"},\"radialaxis\":{\"gridcolor\":\"#506784\",\"linecolor\":\"#506784\",\"ticks\":\"\"}},\"ternary\":{\"bgcolor\":\"rgb(17,17,17)\",\"aaxis\":{\"gridcolor\":\"#506784\",\"linecolor\":\"#506784\",\"ticks\":\"\"},\"baxis\":{\"gridcolor\":\"#506784\",\"linecolor\":\"#506784\",\"ticks\":\"\"},\"caxis\":{\"gridcolor\":\"#506784\",\"linecolor\":\"#506784\",\"ticks\":\"\"}},\"coloraxis\":{\"colorbar\":{\"outlinewidth\":0,\"ticks\":\"\"}},\"colorscale\":{\"sequential\":[[0.0,\"#0d0887\"],[0.1111111111111111,\"#46039f\"],[0.2222222222222222,\"#7201a8\"],[0.3333333333333333,\"#9c179e\"],[0.4444444444444444,\"#bd3786\"],[0.5555555555555556,\"#d8576b\"],[0.6666666666666666,\"#ed7953\"],[0.7777777777777778,\"#fb9f3a\"],[0.8888888888888888,\"#fdca26\"],[1.0,\"#f0f921\"]],\"sequentialminus\":[[0.0,\"#0d0887\"],[0.1111111111111111,\"#46039f\"],[0.2222222222222222,\"#7201a8\"],[0.3333333333333333,\"#9c179e\"],[0.4444444444444444,\"#bd3786\"],[0.5555555555555556,\"#d8576b\"],[0.6666666666666666,\"#ed7953\"],[0.7777777777777778,\"#fb9f3a\"],[0.8888888888888888,\"#fdca26\"],[1.0,\"#f0f921\"]],\"diverging\":[[0,\"#8e0152\"],[0.1,\"#c51b7d\"],[0.2,\"#de77ae\"],[0.3,\"#f1b6da\"],[0.4,\"#fde0ef\"],[0.5,\"#f7f7f7\"],[0.6,\"#e6f5d0\"],[0.7,\"#b8e186\"],[0.8,\"#7fbc41\"],[0.9,\"#4d9221\"],[1,\"#276419\"]]},\"xaxis\":{\"gridcolor\":\"#283442\",\"linecolor\":\"#506784\",\"ticks\":\"\",\"title\":{\"standoff\":15},\"zerolinecolor\":\"#283442\",\"automargin\":true,\"zerolinewidth\":2},\"yaxis\":{\"gridcolor\":\"#283442\",\"linecolor\":\"#506784\",\"ticks\":\"\",\"title\":{\"standoff\":15},\"zerolinecolor\":\"#283442\",\"automargin\":true,\"zerolinewidth\":2},\"scene\":{\"xaxis\":{\"backgroundcolor\":\"rgb(17,17,17)\",\"gridcolor\":\"#506784\",\"linecolor\":\"#506784\",\"showbackground\":true,\"ticks\":\"\",\"zerolinecolor\":\"#C8D4E3\",\"gridwidth\":2},\"yaxis\":{\"backgroundcolor\":\"rgb(17,17,17)\",\"gridcolor\":\"#506784\",\"linecolor\":\"#506784\",\"showbackground\":true,\"ticks\":\"\",\"zerolinecolor\":\"#C8D4E3\",\"gridwidth\":2},\"zaxis\":{\"backgroundcolor\":\"rgb(17,17,17)\",\"gridcolor\":\"#506784\",\"linecolor\":\"#506784\",\"showbackground\":true,\"ticks\":\"\",\"zerolinecolor\":\"#C8D4E3\",\"gridwidth\":2}},\"shapedefaults\":{\"line\":{\"color\":\"#f2f5fa\"}},\"annotationdefaults\":{\"arrowcolor\":\"#f2f5fa\",\"arrowhead\":0,\"arrowwidth\":1},\"geo\":{\"bgcolor\":\"rgb(17,17,17)\",\"landcolor\":\"rgb(17,17,17)\",\"subunitcolor\":\"#506784\",\"showland\":true,\"showlakes\":true,\"lakecolor\":\"rgb(17,17,17)\"},\"title\":{\"x\":0.05},\"updatemenudefaults\":{\"bgcolor\":\"#506784\",\"borderwidth\":0},\"sliderdefaults\":{\"bgcolor\":\"#C8D4E3\",\"borderwidth\":1,\"bordercolor\":\"rgb(17,17,17)\",\"tickwidth\":0},\"mapbox\":{\"style\":\"dark\"}}},\"xaxis\":{\"anchor\":\"y\",\"domain\":[0.0,1.0],\"title\":{\"text\":\"OrderValue\"}},\"yaxis\":{\"anchor\":\"x\",\"domain\":[0.0,1.0],\"title\":{\"text\":\"count\"}},\"legend\":{\"title\":{\"text\":\"Major Category\"},\"tracegroupgap\":0},\"margin\":{\"t\":60},\"barmode\":\"relative\"},                        {\"responsive\": true}                    ).then(function(){\n",
              "                            \n",
              "var gd = document.getElementById('abdc79e8-e023-4ee2-abe4-90e04faea71e');\n",
              "var x = new MutationObserver(function (mutations, observer) {{\n",
              "        var display = window.getComputedStyle(gd).display;\n",
              "        if (!display || display === 'none') {{\n",
              "            console.log([gd, 'removed!']);\n",
              "            Plotly.purge(gd);\n",
              "            observer.disconnect();\n",
              "        }}\n",
              "}});\n",
              "\n",
              "// Listen for the removal of the full notebook cells\n",
              "var notebookContainer = gd.closest('#notebook-container');\n",
              "if (notebookContainer) {{\n",
              "    x.observe(notebookContainer, {childList: true});\n",
              "}}\n",
              "\n",
              "// Listen for the clearing of the current output cell\n",
              "var outputEl = gd.closest('.output');\n",
              "if (outputEl) {{\n",
              "    x.observe(outputEl, {childList: true});\n",
              "}}\n",
              "\n",
              "                        })                };                });            </script>        </div>"
            ]
          },
          "metadata": {},
          "output_type": "display_data"
        }
      ],
      "source": [
        "fig = px.histogram(data_frame=df, x = \"OrderValue\", color=\"Major Category\")\n",
        "fig.show()"
      ]
    },
    {
      "cell_type": "code",
      "execution_count": null,
      "metadata": {
        "id": "FF-pRS01_fy6",
        "outputId": "e4aad0e6-42bb-4b9b-8fe3-a58362f8b8c2"
      },
      "outputs": [
        {
          "data": {
            "application/vnd.plotly.v1+json": {
              "config": {
                "plotlyServerURL": "https://plot.ly"
              },
              "data": [
                {
                  "alignmentgroup": "True",
                  "hovertemplate": "Hour=%{x}<br>OrderValue=%{y}<extra></extra>",
                  "legendgroup": "",
                  "marker": {
                    "color": "#636efa",
                    "pattern": {
                      "shape": ""
                    }
                  },
                  "name": "",
                  "offsetgroup": "",
                  "orientation": "v",
                  "showlegend": false,
                  "textposition": "auto",
                  "type": "bar",
                  "x": [
                    12,
                    14,
                    12,
                    9,
                    13,
                    9,
                    12,
                    12,
                    13,
                    13,
                    9,
                    15,
                    12,
                    13,
                    14,
                    9,
                    10,
                    15,
                    10,
                    13,
                    11,
                    10,
                    10,
                    9,
                    10,
                    9,
                    8,
                    15,
                    15,
                    10,
                    13,
                    11,
                    9,
                    12,
                    13,
                    14,
                    13,
                    14,
                    10,
                    15,
                    8,
                    10,
                    15,
                    13,
                    13,
                    11,
                    10,
                    15,
                    11,
                    8
                  ],
                  "xaxis": "x",
                  "y": [
                    17.7,
                    39.6,
                    169.5,
                    16.5,
                    208.8,
                    67.5,
                    15.9,
                    14.85,
                    90,
                    15.9,
                    312,
                    399.36,
                    19.8,
                    30.6,
                    27,
                    68,
                    139.2,
                    36.48,
                    158.4,
                    633.6,
                    52.02,
                    510,
                    13,
                    51.84,
                    16.6,
                    41.6,
                    237.6,
                    69.6,
                    53.1,
                    69.12,
                    136,
                    271.2,
                    20.8,
                    18.24,
                    120,
                    147.5,
                    47.6,
                    16.5,
                    51.84,
                    237.6,
                    124.8,
                    488.16,
                    23.4,
                    222,
                    180,
                    44.4,
                    108,
                    178.2,
                    139.2,
                    179.28
                  ],
                  "yaxis": "y"
                }
              ],
              "layout": {
                "barmode": "relative",
                "legend": {
                  "tracegroupgap": 0
                },
                "margin": {
                  "t": 60
                },
                "template": {
                  "data": {
                    "bar": [
                      {
                        "error_x": {
                          "color": "#f2f5fa"
                        },
                        "error_y": {
                          "color": "#f2f5fa"
                        },
                        "marker": {
                          "line": {
                            "color": "rgb(17,17,17)",
                            "width": 0.5
                          },
                          "pattern": {
                            "fillmode": "overlay",
                            "size": 10,
                            "solidity": 0.2
                          }
                        },
                        "type": "bar"
                      }
                    ],
                    "barpolar": [
                      {
                        "marker": {
                          "line": {
                            "color": "rgb(17,17,17)",
                            "width": 0.5
                          },
                          "pattern": {
                            "fillmode": "overlay",
                            "size": 10,
                            "solidity": 0.2
                          }
                        },
                        "type": "barpolar"
                      }
                    ],
                    "carpet": [
                      {
                        "aaxis": {
                          "endlinecolor": "#A2B1C6",
                          "gridcolor": "#506784",
                          "linecolor": "#506784",
                          "minorgridcolor": "#506784",
                          "startlinecolor": "#A2B1C6"
                        },
                        "baxis": {
                          "endlinecolor": "#A2B1C6",
                          "gridcolor": "#506784",
                          "linecolor": "#506784",
                          "minorgridcolor": "#506784",
                          "startlinecolor": "#A2B1C6"
                        },
                        "type": "carpet"
                      }
                    ],
                    "choropleth": [
                      {
                        "colorbar": {
                          "outlinewidth": 0,
                          "ticks": ""
                        },
                        "type": "choropleth"
                      }
                    ],
                    "contour": [
                      {
                        "colorbar": {
                          "outlinewidth": 0,
                          "ticks": ""
                        },
                        "colorscale": [
                          [
                            0,
                            "#0d0887"
                          ],
                          [
                            0.1111111111111111,
                            "#46039f"
                          ],
                          [
                            0.2222222222222222,
                            "#7201a8"
                          ],
                          [
                            0.3333333333333333,
                            "#9c179e"
                          ],
                          [
                            0.4444444444444444,
                            "#bd3786"
                          ],
                          [
                            0.5555555555555556,
                            "#d8576b"
                          ],
                          [
                            0.6666666666666666,
                            "#ed7953"
                          ],
                          [
                            0.7777777777777778,
                            "#fb9f3a"
                          ],
                          [
                            0.8888888888888888,
                            "#fdca26"
                          ],
                          [
                            1,
                            "#f0f921"
                          ]
                        ],
                        "type": "contour"
                      }
                    ],
                    "contourcarpet": [
                      {
                        "colorbar": {
                          "outlinewidth": 0,
                          "ticks": ""
                        },
                        "type": "contourcarpet"
                      }
                    ],
                    "heatmap": [
                      {
                        "colorbar": {
                          "outlinewidth": 0,
                          "ticks": ""
                        },
                        "colorscale": [
                          [
                            0,
                            "#0d0887"
                          ],
                          [
                            0.1111111111111111,
                            "#46039f"
                          ],
                          [
                            0.2222222222222222,
                            "#7201a8"
                          ],
                          [
                            0.3333333333333333,
                            "#9c179e"
                          ],
                          [
                            0.4444444444444444,
                            "#bd3786"
                          ],
                          [
                            0.5555555555555556,
                            "#d8576b"
                          ],
                          [
                            0.6666666666666666,
                            "#ed7953"
                          ],
                          [
                            0.7777777777777778,
                            "#fb9f3a"
                          ],
                          [
                            0.8888888888888888,
                            "#fdca26"
                          ],
                          [
                            1,
                            "#f0f921"
                          ]
                        ],
                        "type": "heatmap"
                      }
                    ],
                    "heatmapgl": [
                      {
                        "colorbar": {
                          "outlinewidth": 0,
                          "ticks": ""
                        },
                        "colorscale": [
                          [
                            0,
                            "#0d0887"
                          ],
                          [
                            0.1111111111111111,
                            "#46039f"
                          ],
                          [
                            0.2222222222222222,
                            "#7201a8"
                          ],
                          [
                            0.3333333333333333,
                            "#9c179e"
                          ],
                          [
                            0.4444444444444444,
                            "#bd3786"
                          ],
                          [
                            0.5555555555555556,
                            "#d8576b"
                          ],
                          [
                            0.6666666666666666,
                            "#ed7953"
                          ],
                          [
                            0.7777777777777778,
                            "#fb9f3a"
                          ],
                          [
                            0.8888888888888888,
                            "#fdca26"
                          ],
                          [
                            1,
                            "#f0f921"
                          ]
                        ],
                        "type": "heatmapgl"
                      }
                    ],
                    "histogram": [
                      {
                        "marker": {
                          "pattern": {
                            "fillmode": "overlay",
                            "size": 10,
                            "solidity": 0.2
                          }
                        },
                        "type": "histogram"
                      }
                    ],
                    "histogram2d": [
                      {
                        "colorbar": {
                          "outlinewidth": 0,
                          "ticks": ""
                        },
                        "colorscale": [
                          [
                            0,
                            "#0d0887"
                          ],
                          [
                            0.1111111111111111,
                            "#46039f"
                          ],
                          [
                            0.2222222222222222,
                            "#7201a8"
                          ],
                          [
                            0.3333333333333333,
                            "#9c179e"
                          ],
                          [
                            0.4444444444444444,
                            "#bd3786"
                          ],
                          [
                            0.5555555555555556,
                            "#d8576b"
                          ],
                          [
                            0.6666666666666666,
                            "#ed7953"
                          ],
                          [
                            0.7777777777777778,
                            "#fb9f3a"
                          ],
                          [
                            0.8888888888888888,
                            "#fdca26"
                          ],
                          [
                            1,
                            "#f0f921"
                          ]
                        ],
                        "type": "histogram2d"
                      }
                    ],
                    "histogram2dcontour": [
                      {
                        "colorbar": {
                          "outlinewidth": 0,
                          "ticks": ""
                        },
                        "colorscale": [
                          [
                            0,
                            "#0d0887"
                          ],
                          [
                            0.1111111111111111,
                            "#46039f"
                          ],
                          [
                            0.2222222222222222,
                            "#7201a8"
                          ],
                          [
                            0.3333333333333333,
                            "#9c179e"
                          ],
                          [
                            0.4444444444444444,
                            "#bd3786"
                          ],
                          [
                            0.5555555555555556,
                            "#d8576b"
                          ],
                          [
                            0.6666666666666666,
                            "#ed7953"
                          ],
                          [
                            0.7777777777777778,
                            "#fb9f3a"
                          ],
                          [
                            0.8888888888888888,
                            "#fdca26"
                          ],
                          [
                            1,
                            "#f0f921"
                          ]
                        ],
                        "type": "histogram2dcontour"
                      }
                    ],
                    "mesh3d": [
                      {
                        "colorbar": {
                          "outlinewidth": 0,
                          "ticks": ""
                        },
                        "type": "mesh3d"
                      }
                    ],
                    "parcoords": [
                      {
                        "line": {
                          "colorbar": {
                            "outlinewidth": 0,
                            "ticks": ""
                          }
                        },
                        "type": "parcoords"
                      }
                    ],
                    "pie": [
                      {
                        "automargin": true,
                        "type": "pie"
                      }
                    ],
                    "scatter": [
                      {
                        "marker": {
                          "line": {
                            "color": "#283442"
                          }
                        },
                        "type": "scatter"
                      }
                    ],
                    "scatter3d": [
                      {
                        "line": {
                          "colorbar": {
                            "outlinewidth": 0,
                            "ticks": ""
                          }
                        },
                        "marker": {
                          "colorbar": {
                            "outlinewidth": 0,
                            "ticks": ""
                          }
                        },
                        "type": "scatter3d"
                      }
                    ],
                    "scattercarpet": [
                      {
                        "marker": {
                          "colorbar": {
                            "outlinewidth": 0,
                            "ticks": ""
                          }
                        },
                        "type": "scattercarpet"
                      }
                    ],
                    "scattergeo": [
                      {
                        "marker": {
                          "colorbar": {
                            "outlinewidth": 0,
                            "ticks": ""
                          }
                        },
                        "type": "scattergeo"
                      }
                    ],
                    "scattergl": [
                      {
                        "marker": {
                          "line": {
                            "color": "#283442"
                          }
                        },
                        "type": "scattergl"
                      }
                    ],
                    "scattermapbox": [
                      {
                        "marker": {
                          "colorbar": {
                            "outlinewidth": 0,
                            "ticks": ""
                          }
                        },
                        "type": "scattermapbox"
                      }
                    ],
                    "scatterpolar": [
                      {
                        "marker": {
                          "colorbar": {
                            "outlinewidth": 0,
                            "ticks": ""
                          }
                        },
                        "type": "scatterpolar"
                      }
                    ],
                    "scatterpolargl": [
                      {
                        "marker": {
                          "colorbar": {
                            "outlinewidth": 0,
                            "ticks": ""
                          }
                        },
                        "type": "scatterpolargl"
                      }
                    ],
                    "scatterternary": [
                      {
                        "marker": {
                          "colorbar": {
                            "outlinewidth": 0,
                            "ticks": ""
                          }
                        },
                        "type": "scatterternary"
                      }
                    ],
                    "surface": [
                      {
                        "colorbar": {
                          "outlinewidth": 0,
                          "ticks": ""
                        },
                        "colorscale": [
                          [
                            0,
                            "#0d0887"
                          ],
                          [
                            0.1111111111111111,
                            "#46039f"
                          ],
                          [
                            0.2222222222222222,
                            "#7201a8"
                          ],
                          [
                            0.3333333333333333,
                            "#9c179e"
                          ],
                          [
                            0.4444444444444444,
                            "#bd3786"
                          ],
                          [
                            0.5555555555555556,
                            "#d8576b"
                          ],
                          [
                            0.6666666666666666,
                            "#ed7953"
                          ],
                          [
                            0.7777777777777778,
                            "#fb9f3a"
                          ],
                          [
                            0.8888888888888888,
                            "#fdca26"
                          ],
                          [
                            1,
                            "#f0f921"
                          ]
                        ],
                        "type": "surface"
                      }
                    ],
                    "table": [
                      {
                        "cells": {
                          "fill": {
                            "color": "#506784"
                          },
                          "line": {
                            "color": "rgb(17,17,17)"
                          }
                        },
                        "header": {
                          "fill": {
                            "color": "#2a3f5f"
                          },
                          "line": {
                            "color": "rgb(17,17,17)"
                          }
                        },
                        "type": "table"
                      }
                    ]
                  },
                  "layout": {
                    "annotationdefaults": {
                      "arrowcolor": "#f2f5fa",
                      "arrowhead": 0,
                      "arrowwidth": 1
                    },
                    "autotypenumbers": "strict",
                    "coloraxis": {
                      "colorbar": {
                        "outlinewidth": 0,
                        "ticks": ""
                      }
                    },
                    "colorscale": {
                      "diverging": [
                        [
                          0,
                          "#8e0152"
                        ],
                        [
                          0.1,
                          "#c51b7d"
                        ],
                        [
                          0.2,
                          "#de77ae"
                        ],
                        [
                          0.3,
                          "#f1b6da"
                        ],
                        [
                          0.4,
                          "#fde0ef"
                        ],
                        [
                          0.5,
                          "#f7f7f7"
                        ],
                        [
                          0.6,
                          "#e6f5d0"
                        ],
                        [
                          0.7,
                          "#b8e186"
                        ],
                        [
                          0.8,
                          "#7fbc41"
                        ],
                        [
                          0.9,
                          "#4d9221"
                        ],
                        [
                          1,
                          "#276419"
                        ]
                      ],
                      "sequential": [
                        [
                          0,
                          "#0d0887"
                        ],
                        [
                          0.1111111111111111,
                          "#46039f"
                        ],
                        [
                          0.2222222222222222,
                          "#7201a8"
                        ],
                        [
                          0.3333333333333333,
                          "#9c179e"
                        ],
                        [
                          0.4444444444444444,
                          "#bd3786"
                        ],
                        [
                          0.5555555555555556,
                          "#d8576b"
                        ],
                        [
                          0.6666666666666666,
                          "#ed7953"
                        ],
                        [
                          0.7777777777777778,
                          "#fb9f3a"
                        ],
                        [
                          0.8888888888888888,
                          "#fdca26"
                        ],
                        [
                          1,
                          "#f0f921"
                        ]
                      ],
                      "sequentialminus": [
                        [
                          0,
                          "#0d0887"
                        ],
                        [
                          0.1111111111111111,
                          "#46039f"
                        ],
                        [
                          0.2222222222222222,
                          "#7201a8"
                        ],
                        [
                          0.3333333333333333,
                          "#9c179e"
                        ],
                        [
                          0.4444444444444444,
                          "#bd3786"
                        ],
                        [
                          0.5555555555555556,
                          "#d8576b"
                        ],
                        [
                          0.6666666666666666,
                          "#ed7953"
                        ],
                        [
                          0.7777777777777778,
                          "#fb9f3a"
                        ],
                        [
                          0.8888888888888888,
                          "#fdca26"
                        ],
                        [
                          1,
                          "#f0f921"
                        ]
                      ]
                    },
                    "colorway": [
                      "#636efa",
                      "#EF553B",
                      "#00cc96",
                      "#ab63fa",
                      "#FFA15A",
                      "#19d3f3",
                      "#FF6692",
                      "#B6E880",
                      "#FF97FF",
                      "#FECB52"
                    ],
                    "font": {
                      "color": "#f2f5fa"
                    },
                    "geo": {
                      "bgcolor": "rgb(17,17,17)",
                      "lakecolor": "rgb(17,17,17)",
                      "landcolor": "rgb(17,17,17)",
                      "showlakes": true,
                      "showland": true,
                      "subunitcolor": "#506784"
                    },
                    "hoverlabel": {
                      "align": "left"
                    },
                    "hovermode": "closest",
                    "mapbox": {
                      "style": "dark"
                    },
                    "paper_bgcolor": "rgb(17,17,17)",
                    "plot_bgcolor": "rgb(17,17,17)",
                    "polar": {
                      "angularaxis": {
                        "gridcolor": "#506784",
                        "linecolor": "#506784",
                        "ticks": ""
                      },
                      "bgcolor": "rgb(17,17,17)",
                      "radialaxis": {
                        "gridcolor": "#506784",
                        "linecolor": "#506784",
                        "ticks": ""
                      }
                    },
                    "scene": {
                      "xaxis": {
                        "backgroundcolor": "rgb(17,17,17)",
                        "gridcolor": "#506784",
                        "gridwidth": 2,
                        "linecolor": "#506784",
                        "showbackground": true,
                        "ticks": "",
                        "zerolinecolor": "#C8D4E3"
                      },
                      "yaxis": {
                        "backgroundcolor": "rgb(17,17,17)",
                        "gridcolor": "#506784",
                        "gridwidth": 2,
                        "linecolor": "#506784",
                        "showbackground": true,
                        "ticks": "",
                        "zerolinecolor": "#C8D4E3"
                      },
                      "zaxis": {
                        "backgroundcolor": "rgb(17,17,17)",
                        "gridcolor": "#506784",
                        "gridwidth": 2,
                        "linecolor": "#506784",
                        "showbackground": true,
                        "ticks": "",
                        "zerolinecolor": "#C8D4E3"
                      }
                    },
                    "shapedefaults": {
                      "line": {
                        "color": "#f2f5fa"
                      }
                    },
                    "sliderdefaults": {
                      "bgcolor": "#C8D4E3",
                      "bordercolor": "rgb(17,17,17)",
                      "borderwidth": 1,
                      "tickwidth": 0
                    },
                    "ternary": {
                      "aaxis": {
                        "gridcolor": "#506784",
                        "linecolor": "#506784",
                        "ticks": ""
                      },
                      "baxis": {
                        "gridcolor": "#506784",
                        "linecolor": "#506784",
                        "ticks": ""
                      },
                      "bgcolor": "rgb(17,17,17)",
                      "caxis": {
                        "gridcolor": "#506784",
                        "linecolor": "#506784",
                        "ticks": ""
                      }
                    },
                    "title": {
                      "x": 0.05
                    },
                    "updatemenudefaults": {
                      "bgcolor": "#506784",
                      "borderwidth": 0
                    },
                    "xaxis": {
                      "automargin": true,
                      "gridcolor": "#283442",
                      "linecolor": "#506784",
                      "ticks": "",
                      "title": {
                        "standoff": 15
                      },
                      "zerolinecolor": "#283442",
                      "zerolinewidth": 2
                    },
                    "yaxis": {
                      "automargin": true,
                      "gridcolor": "#283442",
                      "linecolor": "#506784",
                      "ticks": "",
                      "title": {
                        "standoff": 15
                      },
                      "zerolinecolor": "#283442",
                      "zerolinewidth": 2
                    }
                  }
                },
                "xaxis": {
                  "anchor": "y",
                  "domain": [
                    0,
                    1
                  ],
                  "title": {
                    "text": "Hour"
                  }
                },
                "yaxis": {
                  "anchor": "x",
                  "domain": [
                    0,
                    1
                  ],
                  "title": {
                    "text": "OrderValue"
                  }
                }
              }
            },
            "text/html": [
              "<div>                            <div id=\"5aa8bced-e4a4-4d9c-a7e6-f0a09c54eb32\" class=\"plotly-graph-div\" style=\"height:525px; width:100%;\"></div>            <script type=\"text/javascript\">                require([\"plotly\"], function(Plotly) {                    window.PLOTLYENV=window.PLOTLYENV || {};                                    if (document.getElementById(\"5aa8bced-e4a4-4d9c-a7e6-f0a09c54eb32\")) {                    Plotly.newPlot(                        \"5aa8bced-e4a4-4d9c-a7e6-f0a09c54eb32\",                        [{\"alignmentgroup\":\"True\",\"hovertemplate\":\"Hour=%{x}<br>OrderValue=%{y}<extra></extra>\",\"legendgroup\":\"\",\"marker\":{\"color\":\"#636efa\",\"pattern\":{\"shape\":\"\"}},\"name\":\"\",\"offsetgroup\":\"\",\"orientation\":\"v\",\"showlegend\":false,\"textposition\":\"auto\",\"x\":[12,14,12,9,13,9,12,12,13,13,9,15,12,13,14,9,10,15,10,13,11,10,10,9,10,9,8,15,15,10,13,11,9,12,13,14,13,14,10,15,8,10,15,13,13,11,10,15,11,8],\"xaxis\":\"x\",\"y\":[17.7,39.6,169.5,16.5,208.8,67.5,15.9,14.85,90.0,15.9,312.0,399.36,19.8,30.6,27.0,68.0,139.2,36.48,158.4,633.6,52.02,510.0,13.0,51.84,16.6,41.6,237.6,69.6,53.1,69.12,136.0,271.2,20.8,18.24,120.0,147.5,47.6,16.5,51.84,237.6,124.8,488.16,23.4,222.0,180.0,44.4,108.0,178.2,139.2,179.28],\"yaxis\":\"y\",\"type\":\"bar\"}],                        {\"template\":{\"data\":{\"histogram2dcontour\":[{\"type\":\"histogram2dcontour\",\"colorbar\":{\"outlinewidth\":0,\"ticks\":\"\"},\"colorscale\":[[0.0,\"#0d0887\"],[0.1111111111111111,\"#46039f\"],[0.2222222222222222,\"#7201a8\"],[0.3333333333333333,\"#9c179e\"],[0.4444444444444444,\"#bd3786\"],[0.5555555555555556,\"#d8576b\"],[0.6666666666666666,\"#ed7953\"],[0.7777777777777778,\"#fb9f3a\"],[0.8888888888888888,\"#fdca26\"],[1.0,\"#f0f921\"]]}],\"choropleth\":[{\"type\":\"choropleth\",\"colorbar\":{\"outlinewidth\":0,\"ticks\":\"\"}}],\"histogram2d\":[{\"type\":\"histogram2d\",\"colorbar\":{\"outlinewidth\":0,\"ticks\":\"\"},\"colorscale\":[[0.0,\"#0d0887\"],[0.1111111111111111,\"#46039f\"],[0.2222222222222222,\"#7201a8\"],[0.3333333333333333,\"#9c179e\"],[0.4444444444444444,\"#bd3786\"],[0.5555555555555556,\"#d8576b\"],[0.6666666666666666,\"#ed7953\"],[0.7777777777777778,\"#fb9f3a\"],[0.8888888888888888,\"#fdca26\"],[1.0,\"#f0f921\"]]}],\"heatmap\":[{\"type\":\"heatmap\",\"colorbar\":{\"outlinewidth\":0,\"ticks\":\"\"},\"colorscale\":[[0.0,\"#0d0887\"],[0.1111111111111111,\"#46039f\"],[0.2222222222222222,\"#7201a8\"],[0.3333333333333333,\"#9c179e\"],[0.4444444444444444,\"#bd3786\"],[0.5555555555555556,\"#d8576b\"],[0.6666666666666666,\"#ed7953\"],[0.7777777777777778,\"#fb9f3a\"],[0.8888888888888888,\"#fdca26\"],[1.0,\"#f0f921\"]]}],\"heatmapgl\":[{\"type\":\"heatmapgl\",\"colorbar\":{\"outlinewidth\":0,\"ticks\":\"\"},\"colorscale\":[[0.0,\"#0d0887\"],[0.1111111111111111,\"#46039f\"],[0.2222222222222222,\"#7201a8\"],[0.3333333333333333,\"#9c179e\"],[0.4444444444444444,\"#bd3786\"],[0.5555555555555556,\"#d8576b\"],[0.6666666666666666,\"#ed7953\"],[0.7777777777777778,\"#fb9f3a\"],[0.8888888888888888,\"#fdca26\"],[1.0,\"#f0f921\"]]}],\"contourcarpet\":[{\"type\":\"contourcarpet\",\"colorbar\":{\"outlinewidth\":0,\"ticks\":\"\"}}],\"contour\":[{\"type\":\"contour\",\"colorbar\":{\"outlinewidth\":0,\"ticks\":\"\"},\"colorscale\":[[0.0,\"#0d0887\"],[0.1111111111111111,\"#46039f\"],[0.2222222222222222,\"#7201a8\"],[0.3333333333333333,\"#9c179e\"],[0.4444444444444444,\"#bd3786\"],[0.5555555555555556,\"#d8576b\"],[0.6666666666666666,\"#ed7953\"],[0.7777777777777778,\"#fb9f3a\"],[0.8888888888888888,\"#fdca26\"],[1.0,\"#f0f921\"]]}],\"surface\":[{\"type\":\"surface\",\"colorbar\":{\"outlinewidth\":0,\"ticks\":\"\"},\"colorscale\":[[0.0,\"#0d0887\"],[0.1111111111111111,\"#46039f\"],[0.2222222222222222,\"#7201a8\"],[0.3333333333333333,\"#9c179e\"],[0.4444444444444444,\"#bd3786\"],[0.5555555555555556,\"#d8576b\"],[0.6666666666666666,\"#ed7953\"],[0.7777777777777778,\"#fb9f3a\"],[0.8888888888888888,\"#fdca26\"],[1.0,\"#f0f921\"]]}],\"mesh3d\":[{\"type\":\"mesh3d\",\"colorbar\":{\"outlinewidth\":0,\"ticks\":\"\"}}],\"scatter\":[{\"marker\":{\"line\":{\"color\":\"#283442\"}},\"type\":\"scatter\"}],\"parcoords\":[{\"type\":\"parcoords\",\"line\":{\"colorbar\":{\"outlinewidth\":0,\"ticks\":\"\"}}}],\"scatterpolargl\":[{\"type\":\"scatterpolargl\",\"marker\":{\"colorbar\":{\"outlinewidth\":0,\"ticks\":\"\"}}}],\"bar\":[{\"error_x\":{\"color\":\"#f2f5fa\"},\"error_y\":{\"color\":\"#f2f5fa\"},\"marker\":{\"line\":{\"color\":\"rgb(17,17,17)\",\"width\":0.5},\"pattern\":{\"fillmode\":\"overlay\",\"size\":10,\"solidity\":0.2}},\"type\":\"bar\"}],\"scattergeo\":[{\"type\":\"scattergeo\",\"marker\":{\"colorbar\":{\"outlinewidth\":0,\"ticks\":\"\"}}}],\"scatterpolar\":[{\"type\":\"scatterpolar\",\"marker\":{\"colorbar\":{\"outlinewidth\":0,\"ticks\":\"\"}}}],\"histogram\":[{\"marker\":{\"pattern\":{\"fillmode\":\"overlay\",\"size\":10,\"solidity\":0.2}},\"type\":\"histogram\"}],\"scattergl\":[{\"marker\":{\"line\":{\"color\":\"#283442\"}},\"type\":\"scattergl\"}],\"scatter3d\":[{\"type\":\"scatter3d\",\"line\":{\"colorbar\":{\"outlinewidth\":0,\"ticks\":\"\"}},\"marker\":{\"colorbar\":{\"outlinewidth\":0,\"ticks\":\"\"}}}],\"scattermapbox\":[{\"type\":\"scattermapbox\",\"marker\":{\"colorbar\":{\"outlinewidth\":0,\"ticks\":\"\"}}}],\"scatterternary\":[{\"type\":\"scatterternary\",\"marker\":{\"colorbar\":{\"outlinewidth\":0,\"ticks\":\"\"}}}],\"scattercarpet\":[{\"type\":\"scattercarpet\",\"marker\":{\"colorbar\":{\"outlinewidth\":0,\"ticks\":\"\"}}}],\"carpet\":[{\"aaxis\":{\"endlinecolor\":\"#A2B1C6\",\"gridcolor\":\"#506784\",\"linecolor\":\"#506784\",\"minorgridcolor\":\"#506784\",\"startlinecolor\":\"#A2B1C6\"},\"baxis\":{\"endlinecolor\":\"#A2B1C6\",\"gridcolor\":\"#506784\",\"linecolor\":\"#506784\",\"minorgridcolor\":\"#506784\",\"startlinecolor\":\"#A2B1C6\"},\"type\":\"carpet\"}],\"table\":[{\"cells\":{\"fill\":{\"color\":\"#506784\"},\"line\":{\"color\":\"rgb(17,17,17)\"}},\"header\":{\"fill\":{\"color\":\"#2a3f5f\"},\"line\":{\"color\":\"rgb(17,17,17)\"}},\"type\":\"table\"}],\"barpolar\":[{\"marker\":{\"line\":{\"color\":\"rgb(17,17,17)\",\"width\":0.5},\"pattern\":{\"fillmode\":\"overlay\",\"size\":10,\"solidity\":0.2}},\"type\":\"barpolar\"}],\"pie\":[{\"automargin\":true,\"type\":\"pie\"}]},\"layout\":{\"autotypenumbers\":\"strict\",\"colorway\":[\"#636efa\",\"#EF553B\",\"#00cc96\",\"#ab63fa\",\"#FFA15A\",\"#19d3f3\",\"#FF6692\",\"#B6E880\",\"#FF97FF\",\"#FECB52\"],\"font\":{\"color\":\"#f2f5fa\"},\"hovermode\":\"closest\",\"hoverlabel\":{\"align\":\"left\"},\"paper_bgcolor\":\"rgb(17,17,17)\",\"plot_bgcolor\":\"rgb(17,17,17)\",\"polar\":{\"bgcolor\":\"rgb(17,17,17)\",\"angularaxis\":{\"gridcolor\":\"#506784\",\"linecolor\":\"#506784\",\"ticks\":\"\"},\"radialaxis\":{\"gridcolor\":\"#506784\",\"linecolor\":\"#506784\",\"ticks\":\"\"}},\"ternary\":{\"bgcolor\":\"rgb(17,17,17)\",\"aaxis\":{\"gridcolor\":\"#506784\",\"linecolor\":\"#506784\",\"ticks\":\"\"},\"baxis\":{\"gridcolor\":\"#506784\",\"linecolor\":\"#506784\",\"ticks\":\"\"},\"caxis\":{\"gridcolor\":\"#506784\",\"linecolor\":\"#506784\",\"ticks\":\"\"}},\"coloraxis\":{\"colorbar\":{\"outlinewidth\":0,\"ticks\":\"\"}},\"colorscale\":{\"sequential\":[[0.0,\"#0d0887\"],[0.1111111111111111,\"#46039f\"],[0.2222222222222222,\"#7201a8\"],[0.3333333333333333,\"#9c179e\"],[0.4444444444444444,\"#bd3786\"],[0.5555555555555556,\"#d8576b\"],[0.6666666666666666,\"#ed7953\"],[0.7777777777777778,\"#fb9f3a\"],[0.8888888888888888,\"#fdca26\"],[1.0,\"#f0f921\"]],\"sequentialminus\":[[0.0,\"#0d0887\"],[0.1111111111111111,\"#46039f\"],[0.2222222222222222,\"#7201a8\"],[0.3333333333333333,\"#9c179e\"],[0.4444444444444444,\"#bd3786\"],[0.5555555555555556,\"#d8576b\"],[0.6666666666666666,\"#ed7953\"],[0.7777777777777778,\"#fb9f3a\"],[0.8888888888888888,\"#fdca26\"],[1.0,\"#f0f921\"]],\"diverging\":[[0,\"#8e0152\"],[0.1,\"#c51b7d\"],[0.2,\"#de77ae\"],[0.3,\"#f1b6da\"],[0.4,\"#fde0ef\"],[0.5,\"#f7f7f7\"],[0.6,\"#e6f5d0\"],[0.7,\"#b8e186\"],[0.8,\"#7fbc41\"],[0.9,\"#4d9221\"],[1,\"#276419\"]]},\"xaxis\":{\"gridcolor\":\"#283442\",\"linecolor\":\"#506784\",\"ticks\":\"\",\"title\":{\"standoff\":15},\"zerolinecolor\":\"#283442\",\"automargin\":true,\"zerolinewidth\":2},\"yaxis\":{\"gridcolor\":\"#283442\",\"linecolor\":\"#506784\",\"ticks\":\"\",\"title\":{\"standoff\":15},\"zerolinecolor\":\"#283442\",\"automargin\":true,\"zerolinewidth\":2},\"scene\":{\"xaxis\":{\"backgroundcolor\":\"rgb(17,17,17)\",\"gridcolor\":\"#506784\",\"linecolor\":\"#506784\",\"showbackground\":true,\"ticks\":\"\",\"zerolinecolor\":\"#C8D4E3\",\"gridwidth\":2},\"yaxis\":{\"backgroundcolor\":\"rgb(17,17,17)\",\"gridcolor\":\"#506784\",\"linecolor\":\"#506784\",\"showbackground\":true,\"ticks\":\"\",\"zerolinecolor\":\"#C8D4E3\",\"gridwidth\":2},\"zaxis\":{\"backgroundcolor\":\"rgb(17,17,17)\",\"gridcolor\":\"#506784\",\"linecolor\":\"#506784\",\"showbackground\":true,\"ticks\":\"\",\"zerolinecolor\":\"#C8D4E3\",\"gridwidth\":2}},\"shapedefaults\":{\"line\":{\"color\":\"#f2f5fa\"}},\"annotationdefaults\":{\"arrowcolor\":\"#f2f5fa\",\"arrowhead\":0,\"arrowwidth\":1},\"geo\":{\"bgcolor\":\"rgb(17,17,17)\",\"landcolor\":\"rgb(17,17,17)\",\"subunitcolor\":\"#506784\",\"showland\":true,\"showlakes\":true,\"lakecolor\":\"rgb(17,17,17)\"},\"title\":{\"x\":0.05},\"updatemenudefaults\":{\"bgcolor\":\"#506784\",\"borderwidth\":0},\"sliderdefaults\":{\"bgcolor\":\"#C8D4E3\",\"borderwidth\":1,\"bordercolor\":\"rgb(17,17,17)\",\"tickwidth\":0},\"mapbox\":{\"style\":\"dark\"}}},\"xaxis\":{\"anchor\":\"y\",\"domain\":[0.0,1.0],\"title\":{\"text\":\"Hour\"}},\"yaxis\":{\"anchor\":\"x\",\"domain\":[0.0,1.0],\"title\":{\"text\":\"OrderValue\"}},\"legend\":{\"tracegroupgap\":0},\"margin\":{\"t\":60},\"barmode\":\"relative\"},                        {\"responsive\": true}                    ).then(function(){\n",
              "                            \n",
              "var gd = document.getElementById('5aa8bced-e4a4-4d9c-a7e6-f0a09c54eb32');\n",
              "var x = new MutationObserver(function (mutations, observer) {{\n",
              "        var display = window.getComputedStyle(gd).display;\n",
              "        if (!display || display === 'none') {{\n",
              "            console.log([gd, 'removed!']);\n",
              "            Plotly.purge(gd);\n",
              "            observer.disconnect();\n",
              "        }}\n",
              "}});\n",
              "\n",
              "// Listen for the removal of the full notebook cells\n",
              "var notebookContainer = gd.closest('#notebook-container');\n",
              "if (notebookContainer) {{\n",
              "    x.observe(notebookContainer, {childList: true});\n",
              "}}\n",
              "\n",
              "// Listen for the clearing of the current output cell\n",
              "var outputEl = gd.closest('.output');\n",
              "if (outputEl) {{\n",
              "    x.observe(outputEl, {childList: true});\n",
              "}}\n",
              "\n",
              "                        })                };                });            </script>        </div>"
            ]
          },
          "metadata": {},
          "output_type": "display_data"
        }
      ],
      "source": [
        "average_order_value = australia_df.groupby(\"Hour\").agg({\n",
        "    \"OrderValue\" : \"mean\"\n",
        "}).reset_index()\n",
        "\n",
        "fig = px.bar(data_frame=australia_df, x = \"Hour\", y = \"OrderValue\")\n",
        "fig.show()"
      ]
    }
  ],
  "metadata": {
    "colab": {
      "provenance": [],
      "include_colab_link": true
    },
    "kernelspec": {
      "display_name": "Python 3",
      "name": "python3"
    },
    "language_info": {
      "codemirror_mode": {
        "name": "ipython",
        "version": 3
      },
      "file_extension": ".py",
      "mimetype": "text/x-python",
      "name": "python",
      "nbconvert_exporter": "python",
      "pygments_lexer": "ipython3",
      "version": "3.9.15"
    }
  },
  "nbformat": 4,
  "nbformat_minor": 0
}